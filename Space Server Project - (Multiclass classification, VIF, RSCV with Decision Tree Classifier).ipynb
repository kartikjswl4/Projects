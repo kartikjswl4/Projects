{
 "cells": [
  {
   "cell_type": "markdown",
   "id": "c8fc8678",
   "metadata": {},
   "source": [
    "# Space Server Project\n"
   ]
  },
  {
   "cell_type": "markdown",
   "id": "ea6218b2",
   "metadata": {},
   "source": [
    "Problem Statement:\n",
    "Context -\n",
    "This is the Sloan Digital Sky Survey based dataset which offers public data of space observations. The insights gained from this dataset are very useful and can force anyone to think out of the box. \n",
    "\n",
    "Content -\n",
    "The data consists of 10,000 observations of space taken by the SDSS. Every observation is described by 17 feature columns and 1 class column which identifies it to be either a star, galaxy or quasar.\n",
    "\n",
    "Feature Description -\n",
    "The table results from a query which joins two tables (actually views): \"PhotoObj\" which contains photometric data and \"SpecObj\" which contains spectral data.\n",
    "To ease your start with the data you can read the feature descriptions below:\n",
    "View \"PhotoObj\"\n",
    "\n",
    "1) objid = Object Identifier\n",
    "\n",
    "2) ra = J2000 Right Ascension (r-band)\n",
    "\n",
    "3) dec = J2000 Declination (r-band)\n",
    "\n",
    "Right ascension (abbreviated RA) is the angular distance measured eastward along the celestial equator from the Sun at the March equinox to the hour circle of the point above the earth in question.\n",
    "When paired with declination (abbreviated dec), these astronomical coordinates specify the direction of a point on the celestial sphere (traditionally called in English the skies or the sky) in the equatorial coordinate system.\n",
    "Source: https://en.wikipedia.org/wiki/Right_ascension\n",
    "\n",
    "4) u = better of DeV/Exp magnitude fit\n",
    "\n",
    "5) g = better of DeV/Exp magnitude fit\n",
    "\n",
    "6) r = better of DeV/Exp magnitude fit\n",
    "\n",
    "7) i = better of DeV/Exp magnitude fit\n",
    "\n",
    "8) z = better of DeV/Exp magnitude fit\n",
    "\n",
    "The Thuan-Gunn astronomic magnitude system. u, g, r, i, z represent the response of the 5 bands of the telescope.\n",
    "Further education: https://www.astro.umd.edu/~ssm/ASTR620/mags.html\n",
    "\n",
    "9) run = Run Number\n",
    "\n",
    "10) rereun = Rerun Number\n",
    "\n",
    "11) camcol = Camera column\n",
    "\n",
    "12) field = Field number\n",
    "\n",
    "Run, rerun, camcol and field are features which describe a field within an image taken by the SDSS. A field is basically a part of the entire image corresponding to 2048 by 1489 pixels. A field can be identified by:\n",
    "run number, which identifies the specific scan,\n",
    "the camera column, or \"camcol,\" a number from 1 to 6, identifying the scanline within the run, and\n",
    "the field number. \n",
    "The field number typically starts at 11 (after an initial rampup time), and can be as large as 800 for particularly long runs.\n",
    "An additional number, rerun, specifies how the image was processed.\n",
    "View \"SpecObj\"\n",
    "\n",
    "13) specobjid = Object Identifier\n",
    "\n",
    "14) class = object class (galaxy, star or quasar object)\n",
    "\n",
    "The class identifies an object to be either a galaxy, star or quasar. This will be the response variable which you will be trying to predict.\n",
    "\n",
    "15) redshift = Final Redshift\n",
    "\n",
    "16) plate = plate number\n",
    "\n",
    "17) mjd = MJD of observation\n",
    "\n",
    "18) fiberid = fiber ID\n",
    "\n",
    "In physics, redshift happens when light or other electromagnetic radiation from an object is increased in wavelength, or shifted to the red end of the spectrum.\n",
    "\n",
    "Each spectroscopic exposure employs a large, thin, circular metal plate that positions optical fibers via holes drilled at the locations of the images in the telescope focal plane. These fibers then feed into the spectrographs. Each plate has a unique serial number, which is called plate in views such as SpecObj in the CAS.\n",
    "\n",
    "Modified Julian Date, used to indicate the date that a given piece of SDSS data (image or spectrum) was taken.\n",
    "\n",
    "The SDSS spectrograph uses optical fibers to direct the light at the focal plane from individual objects to the slithead. Each object is assigned a corresponding fiberID.\n",
    "\n",
    "Further information on SDSS images and their attributes:\n",
    "\n",
    "http://www.sdss3.org/dr9/imaging/imaging_basics.php\n",
    "\n",
    "http://www.sdss3.org/dr8/glossary.php\n",
    "\n",
    "Inspiration -\n",
    "The dataset offers plenty of information about space to explore. Also the class column is the perfect target for classification practices!\n",
    "\n",
    "\n",
    "\n",
    "Use the link given below to download the dataset. \n",
    "\n",
    "Downlaod Files:\n",
    "https://raw.githubusercontent.com/dsrscientist/dataset1/master/Skyserver.csv"
   ]
  },
  {
   "cell_type": "code",
   "execution_count": 1,
   "id": "72f826d4",
   "metadata": {},
   "outputs": [],
   "source": [
    "import pandas as pd\n",
    "import numpy as np\n",
    "import seaborn as sns\n",
    "import matplotlib.pyplot as plt\n",
    "%matplotlib inline\n",
    "import warnings\n",
    "warnings.filterwarnings('ignore')"
   ]
  },
  {
   "cell_type": "code",
   "execution_count": 2,
   "id": "9046cac8",
   "metadata": {},
   "outputs": [],
   "source": [
    "df = pd.read_csv(r'Z:\\ML Datasets\\Space.csv')"
   ]
  },
  {
   "cell_type": "code",
   "execution_count": 3,
   "id": "569bb97f",
   "metadata": {},
   "outputs": [
    {
     "data": {
      "text/html": [
       "<div>\n",
       "<style scoped>\n",
       "    .dataframe tbody tr th:only-of-type {\n",
       "        vertical-align: middle;\n",
       "    }\n",
       "\n",
       "    .dataframe tbody tr th {\n",
       "        vertical-align: top;\n",
       "    }\n",
       "\n",
       "    .dataframe thead th {\n",
       "        text-align: right;\n",
       "    }\n",
       "</style>\n",
       "<table border=\"1\" class=\"dataframe\">\n",
       "  <thead>\n",
       "    <tr style=\"text-align: right;\">\n",
       "      <th></th>\n",
       "      <th>objid</th>\n",
       "      <th>ra</th>\n",
       "      <th>dec</th>\n",
       "      <th>u</th>\n",
       "      <th>g</th>\n",
       "      <th>r</th>\n",
       "      <th>i</th>\n",
       "      <th>z</th>\n",
       "      <th>run</th>\n",
       "      <th>rerun</th>\n",
       "      <th>camcol</th>\n",
       "      <th>field</th>\n",
       "      <th>specobjid</th>\n",
       "      <th>class</th>\n",
       "      <th>redshift</th>\n",
       "      <th>plate</th>\n",
       "      <th>mjd</th>\n",
       "      <th>fiberid</th>\n",
       "    </tr>\n",
       "  </thead>\n",
       "  <tbody>\n",
       "    <tr>\n",
       "      <th>0</th>\n",
       "      <td>1.237650e+18</td>\n",
       "      <td>183.531326</td>\n",
       "      <td>0.089693</td>\n",
       "      <td>19.47406</td>\n",
       "      <td>17.04240</td>\n",
       "      <td>15.94699</td>\n",
       "      <td>15.50342</td>\n",
       "      <td>15.22531</td>\n",
       "      <td>752</td>\n",
       "      <td>301</td>\n",
       "      <td>4</td>\n",
       "      <td>267</td>\n",
       "      <td>3.722360e+18</td>\n",
       "      <td>STAR</td>\n",
       "      <td>-0.000009</td>\n",
       "      <td>3306</td>\n",
       "      <td>54922</td>\n",
       "      <td>491</td>\n",
       "    </tr>\n",
       "    <tr>\n",
       "      <th>1</th>\n",
       "      <td>1.237650e+18</td>\n",
       "      <td>183.598370</td>\n",
       "      <td>0.135285</td>\n",
       "      <td>18.66280</td>\n",
       "      <td>17.21449</td>\n",
       "      <td>16.67637</td>\n",
       "      <td>16.48922</td>\n",
       "      <td>16.39150</td>\n",
       "      <td>752</td>\n",
       "      <td>301</td>\n",
       "      <td>4</td>\n",
       "      <td>267</td>\n",
       "      <td>3.638140e+17</td>\n",
       "      <td>STAR</td>\n",
       "      <td>-0.000055</td>\n",
       "      <td>323</td>\n",
       "      <td>51615</td>\n",
       "      <td>541</td>\n",
       "    </tr>\n",
       "    <tr>\n",
       "      <th>2</th>\n",
       "      <td>1.237650e+18</td>\n",
       "      <td>183.680207</td>\n",
       "      <td>0.126185</td>\n",
       "      <td>19.38298</td>\n",
       "      <td>18.19169</td>\n",
       "      <td>17.47428</td>\n",
       "      <td>17.08732</td>\n",
       "      <td>16.80125</td>\n",
       "      <td>752</td>\n",
       "      <td>301</td>\n",
       "      <td>4</td>\n",
       "      <td>268</td>\n",
       "      <td>3.232740e+17</td>\n",
       "      <td>GALAXY</td>\n",
       "      <td>0.123111</td>\n",
       "      <td>287</td>\n",
       "      <td>52023</td>\n",
       "      <td>513</td>\n",
       "    </tr>\n",
       "    <tr>\n",
       "      <th>3</th>\n",
       "      <td>1.237650e+18</td>\n",
       "      <td>183.870529</td>\n",
       "      <td>0.049911</td>\n",
       "      <td>17.76536</td>\n",
       "      <td>16.60272</td>\n",
       "      <td>16.16116</td>\n",
       "      <td>15.98233</td>\n",
       "      <td>15.90438</td>\n",
       "      <td>752</td>\n",
       "      <td>301</td>\n",
       "      <td>4</td>\n",
       "      <td>269</td>\n",
       "      <td>3.722370e+18</td>\n",
       "      <td>STAR</td>\n",
       "      <td>-0.000111</td>\n",
       "      <td>3306</td>\n",
       "      <td>54922</td>\n",
       "      <td>510</td>\n",
       "    </tr>\n",
       "    <tr>\n",
       "      <th>4</th>\n",
       "      <td>1.237650e+18</td>\n",
       "      <td>183.883288</td>\n",
       "      <td>0.102557</td>\n",
       "      <td>17.55025</td>\n",
       "      <td>16.26342</td>\n",
       "      <td>16.43869</td>\n",
       "      <td>16.55492</td>\n",
       "      <td>16.61326</td>\n",
       "      <td>752</td>\n",
       "      <td>301</td>\n",
       "      <td>4</td>\n",
       "      <td>269</td>\n",
       "      <td>3.722370e+18</td>\n",
       "      <td>STAR</td>\n",
       "      <td>0.000590</td>\n",
       "      <td>3306</td>\n",
       "      <td>54922</td>\n",
       "      <td>512</td>\n",
       "    </tr>\n",
       "    <tr>\n",
       "      <th>...</th>\n",
       "      <td>...</td>\n",
       "      <td>...</td>\n",
       "      <td>...</td>\n",
       "      <td>...</td>\n",
       "      <td>...</td>\n",
       "      <td>...</td>\n",
       "      <td>...</td>\n",
       "      <td>...</td>\n",
       "      <td>...</td>\n",
       "      <td>...</td>\n",
       "      <td>...</td>\n",
       "      <td>...</td>\n",
       "      <td>...</td>\n",
       "      <td>...</td>\n",
       "      <td>...</td>\n",
       "      <td>...</td>\n",
       "      <td>...</td>\n",
       "      <td>...</td>\n",
       "    </tr>\n",
       "    <tr>\n",
       "      <th>9995</th>\n",
       "      <td>1.237650e+18</td>\n",
       "      <td>131.316413</td>\n",
       "      <td>51.539547</td>\n",
       "      <td>18.81777</td>\n",
       "      <td>17.47053</td>\n",
       "      <td>16.91508</td>\n",
       "      <td>16.68305</td>\n",
       "      <td>16.50570</td>\n",
       "      <td>1345</td>\n",
       "      <td>301</td>\n",
       "      <td>3</td>\n",
       "      <td>161</td>\n",
       "      <td>5.033450e+17</td>\n",
       "      <td>GALAXY</td>\n",
       "      <td>0.027583</td>\n",
       "      <td>447</td>\n",
       "      <td>51877</td>\n",
       "      <td>246</td>\n",
       "    </tr>\n",
       "    <tr>\n",
       "      <th>9996</th>\n",
       "      <td>1.237650e+18</td>\n",
       "      <td>131.306083</td>\n",
       "      <td>51.671341</td>\n",
       "      <td>18.27255</td>\n",
       "      <td>17.43849</td>\n",
       "      <td>17.07692</td>\n",
       "      <td>16.71661</td>\n",
       "      <td>16.69897</td>\n",
       "      <td>1345</td>\n",
       "      <td>301</td>\n",
       "      <td>3</td>\n",
       "      <td>162</td>\n",
       "      <td>5.033400e+17</td>\n",
       "      <td>GALAXY</td>\n",
       "      <td>0.117772</td>\n",
       "      <td>447</td>\n",
       "      <td>51877</td>\n",
       "      <td>228</td>\n",
       "    </tr>\n",
       "    <tr>\n",
       "      <th>9997</th>\n",
       "      <td>1.237650e+18</td>\n",
       "      <td>131.552562</td>\n",
       "      <td>51.666986</td>\n",
       "      <td>18.75818</td>\n",
       "      <td>17.77784</td>\n",
       "      <td>17.51872</td>\n",
       "      <td>17.43302</td>\n",
       "      <td>17.42048</td>\n",
       "      <td>1345</td>\n",
       "      <td>301</td>\n",
       "      <td>3</td>\n",
       "      <td>162</td>\n",
       "      <td>8.222620e+18</td>\n",
       "      <td>STAR</td>\n",
       "      <td>-0.000402</td>\n",
       "      <td>7303</td>\n",
       "      <td>57013</td>\n",
       "      <td>622</td>\n",
       "    </tr>\n",
       "    <tr>\n",
       "      <th>9998</th>\n",
       "      <td>1.237650e+18</td>\n",
       "      <td>131.477151</td>\n",
       "      <td>51.753068</td>\n",
       "      <td>18.88287</td>\n",
       "      <td>17.91068</td>\n",
       "      <td>17.53152</td>\n",
       "      <td>17.36284</td>\n",
       "      <td>17.13988</td>\n",
       "      <td>1345</td>\n",
       "      <td>301</td>\n",
       "      <td>3</td>\n",
       "      <td>163</td>\n",
       "      <td>5.033400e+17</td>\n",
       "      <td>GALAXY</td>\n",
       "      <td>0.014019</td>\n",
       "      <td>447</td>\n",
       "      <td>51877</td>\n",
       "      <td>229</td>\n",
       "    </tr>\n",
       "    <tr>\n",
       "      <th>9999</th>\n",
       "      <td>1.237650e+18</td>\n",
       "      <td>131.665012</td>\n",
       "      <td>51.805307</td>\n",
       "      <td>19.27586</td>\n",
       "      <td>17.37829</td>\n",
       "      <td>16.30542</td>\n",
       "      <td>15.83548</td>\n",
       "      <td>15.50588</td>\n",
       "      <td>1345</td>\n",
       "      <td>301</td>\n",
       "      <td>3</td>\n",
       "      <td>163</td>\n",
       "      <td>5.033410e+17</td>\n",
       "      <td>GALAXY</td>\n",
       "      <td>0.118417</td>\n",
       "      <td>447</td>\n",
       "      <td>51877</td>\n",
       "      <td>233</td>\n",
       "    </tr>\n",
       "  </tbody>\n",
       "</table>\n",
       "<p>10000 rows × 18 columns</p>\n",
       "</div>"
      ],
      "text/plain": [
       "             objid          ra        dec         u         g         r  \\\n",
       "0     1.237650e+18  183.531326   0.089693  19.47406  17.04240  15.94699   \n",
       "1     1.237650e+18  183.598370   0.135285  18.66280  17.21449  16.67637   \n",
       "2     1.237650e+18  183.680207   0.126185  19.38298  18.19169  17.47428   \n",
       "3     1.237650e+18  183.870529   0.049911  17.76536  16.60272  16.16116   \n",
       "4     1.237650e+18  183.883288   0.102557  17.55025  16.26342  16.43869   \n",
       "...            ...         ...        ...       ...       ...       ...   \n",
       "9995  1.237650e+18  131.316413  51.539547  18.81777  17.47053  16.91508   \n",
       "9996  1.237650e+18  131.306083  51.671341  18.27255  17.43849  17.07692   \n",
       "9997  1.237650e+18  131.552562  51.666986  18.75818  17.77784  17.51872   \n",
       "9998  1.237650e+18  131.477151  51.753068  18.88287  17.91068  17.53152   \n",
       "9999  1.237650e+18  131.665012  51.805307  19.27586  17.37829  16.30542   \n",
       "\n",
       "             i         z   run  rerun  camcol  field     specobjid   class  \\\n",
       "0     15.50342  15.22531   752    301       4    267  3.722360e+18    STAR   \n",
       "1     16.48922  16.39150   752    301       4    267  3.638140e+17    STAR   \n",
       "2     17.08732  16.80125   752    301       4    268  3.232740e+17  GALAXY   \n",
       "3     15.98233  15.90438   752    301       4    269  3.722370e+18    STAR   \n",
       "4     16.55492  16.61326   752    301       4    269  3.722370e+18    STAR   \n",
       "...        ...       ...   ...    ...     ...    ...           ...     ...   \n",
       "9995  16.68305  16.50570  1345    301       3    161  5.033450e+17  GALAXY   \n",
       "9996  16.71661  16.69897  1345    301       3    162  5.033400e+17  GALAXY   \n",
       "9997  17.43302  17.42048  1345    301       3    162  8.222620e+18    STAR   \n",
       "9998  17.36284  17.13988  1345    301       3    163  5.033400e+17  GALAXY   \n",
       "9999  15.83548  15.50588  1345    301       3    163  5.033410e+17  GALAXY   \n",
       "\n",
       "      redshift  plate    mjd  fiberid  \n",
       "0    -0.000009   3306  54922      491  \n",
       "1    -0.000055    323  51615      541  \n",
       "2     0.123111    287  52023      513  \n",
       "3    -0.000111   3306  54922      510  \n",
       "4     0.000590   3306  54922      512  \n",
       "...        ...    ...    ...      ...  \n",
       "9995  0.027583    447  51877      246  \n",
       "9996  0.117772    447  51877      228  \n",
       "9997 -0.000402   7303  57013      622  \n",
       "9998  0.014019    447  51877      229  \n",
       "9999  0.118417    447  51877      233  \n",
       "\n",
       "[10000 rows x 18 columns]"
      ]
     },
     "execution_count": 3,
     "metadata": {},
     "output_type": "execute_result"
    }
   ],
   "source": [
    "df"
   ]
  },
  {
   "cell_type": "code",
   "execution_count": 4,
   "id": "48d7029b",
   "metadata": {},
   "outputs": [
    {
     "name": "stdout",
     "output_type": "stream",
     "text": [
      "<class 'pandas.core.frame.DataFrame'>\n",
      "RangeIndex: 10000 entries, 0 to 9999\n",
      "Data columns (total 18 columns):\n",
      " #   Column     Non-Null Count  Dtype  \n",
      "---  ------     --------------  -----  \n",
      " 0   objid      10000 non-null  float64\n",
      " 1   ra         10000 non-null  float64\n",
      " 2   dec        10000 non-null  float64\n",
      " 3   u          10000 non-null  float64\n",
      " 4   g          10000 non-null  float64\n",
      " 5   r          10000 non-null  float64\n",
      " 6   i          10000 non-null  float64\n",
      " 7   z          10000 non-null  float64\n",
      " 8   run        10000 non-null  int64  \n",
      " 9   rerun      10000 non-null  int64  \n",
      " 10  camcol     10000 non-null  int64  \n",
      " 11  field      10000 non-null  int64  \n",
      " 12  specobjid  10000 non-null  float64\n",
      " 13  class      10000 non-null  object \n",
      " 14  redshift   10000 non-null  float64\n",
      " 15  plate      10000 non-null  int64  \n",
      " 16  mjd        10000 non-null  int64  \n",
      " 17  fiberid    10000 non-null  int64  \n",
      "dtypes: float64(10), int64(7), object(1)\n",
      "memory usage: 1.4+ MB\n"
     ]
    }
   ],
   "source": [
    "df.info()"
   ]
  },
  {
   "cell_type": "code",
   "execution_count": 5,
   "id": "94a2db29",
   "metadata": {
    "scrolled": false
   },
   "outputs": [
    {
     "data": {
      "text/html": [
       "<div>\n",
       "<style scoped>\n",
       "    .dataframe tbody tr th:only-of-type {\n",
       "        vertical-align: middle;\n",
       "    }\n",
       "\n",
       "    .dataframe tbody tr th {\n",
       "        vertical-align: top;\n",
       "    }\n",
       "\n",
       "    .dataframe thead th {\n",
       "        text-align: right;\n",
       "    }\n",
       "</style>\n",
       "<table border=\"1\" class=\"dataframe\">\n",
       "  <thead>\n",
       "    <tr style=\"text-align: right;\">\n",
       "      <th></th>\n",
       "      <th>objid</th>\n",
       "      <th>ra</th>\n",
       "      <th>dec</th>\n",
       "      <th>u</th>\n",
       "      <th>g</th>\n",
       "      <th>r</th>\n",
       "      <th>i</th>\n",
       "      <th>z</th>\n",
       "      <th>run</th>\n",
       "      <th>rerun</th>\n",
       "      <th>camcol</th>\n",
       "      <th>field</th>\n",
       "      <th>specobjid</th>\n",
       "      <th>class</th>\n",
       "      <th>redshift</th>\n",
       "      <th>plate</th>\n",
       "      <th>mjd</th>\n",
       "      <th>fiberid</th>\n",
       "    </tr>\n",
       "  </thead>\n",
       "  <tbody>\n",
       "    <tr>\n",
       "      <th>0</th>\n",
       "      <td>1.237650e+18</td>\n",
       "      <td>183.531326</td>\n",
       "      <td>0.089693</td>\n",
       "      <td>19.47406</td>\n",
       "      <td>17.04240</td>\n",
       "      <td>15.94699</td>\n",
       "      <td>15.50342</td>\n",
       "      <td>15.22531</td>\n",
       "      <td>752</td>\n",
       "      <td>301</td>\n",
       "      <td>4</td>\n",
       "      <td>267</td>\n",
       "      <td>3.722360e+18</td>\n",
       "      <td>2</td>\n",
       "      <td>-0.000009</td>\n",
       "      <td>3306</td>\n",
       "      <td>54922</td>\n",
       "      <td>491</td>\n",
       "    </tr>\n",
       "    <tr>\n",
       "      <th>1</th>\n",
       "      <td>1.237650e+18</td>\n",
       "      <td>183.598370</td>\n",
       "      <td>0.135285</td>\n",
       "      <td>18.66280</td>\n",
       "      <td>17.21449</td>\n",
       "      <td>16.67637</td>\n",
       "      <td>16.48922</td>\n",
       "      <td>16.39150</td>\n",
       "      <td>752</td>\n",
       "      <td>301</td>\n",
       "      <td>4</td>\n",
       "      <td>267</td>\n",
       "      <td>3.638140e+17</td>\n",
       "      <td>2</td>\n",
       "      <td>-0.000055</td>\n",
       "      <td>323</td>\n",
       "      <td>51615</td>\n",
       "      <td>541</td>\n",
       "    </tr>\n",
       "    <tr>\n",
       "      <th>2</th>\n",
       "      <td>1.237650e+18</td>\n",
       "      <td>183.680207</td>\n",
       "      <td>0.126185</td>\n",
       "      <td>19.38298</td>\n",
       "      <td>18.19169</td>\n",
       "      <td>17.47428</td>\n",
       "      <td>17.08732</td>\n",
       "      <td>16.80125</td>\n",
       "      <td>752</td>\n",
       "      <td>301</td>\n",
       "      <td>4</td>\n",
       "      <td>268</td>\n",
       "      <td>3.232740e+17</td>\n",
       "      <td>0</td>\n",
       "      <td>0.123111</td>\n",
       "      <td>287</td>\n",
       "      <td>52023</td>\n",
       "      <td>513</td>\n",
       "    </tr>\n",
       "    <tr>\n",
       "      <th>3</th>\n",
       "      <td>1.237650e+18</td>\n",
       "      <td>183.870529</td>\n",
       "      <td>0.049911</td>\n",
       "      <td>17.76536</td>\n",
       "      <td>16.60272</td>\n",
       "      <td>16.16116</td>\n",
       "      <td>15.98233</td>\n",
       "      <td>15.90438</td>\n",
       "      <td>752</td>\n",
       "      <td>301</td>\n",
       "      <td>4</td>\n",
       "      <td>269</td>\n",
       "      <td>3.722370e+18</td>\n",
       "      <td>2</td>\n",
       "      <td>-0.000111</td>\n",
       "      <td>3306</td>\n",
       "      <td>54922</td>\n",
       "      <td>510</td>\n",
       "    </tr>\n",
       "    <tr>\n",
       "      <th>4</th>\n",
       "      <td>1.237650e+18</td>\n",
       "      <td>183.883288</td>\n",
       "      <td>0.102557</td>\n",
       "      <td>17.55025</td>\n",
       "      <td>16.26342</td>\n",
       "      <td>16.43869</td>\n",
       "      <td>16.55492</td>\n",
       "      <td>16.61326</td>\n",
       "      <td>752</td>\n",
       "      <td>301</td>\n",
       "      <td>4</td>\n",
       "      <td>269</td>\n",
       "      <td>3.722370e+18</td>\n",
       "      <td>2</td>\n",
       "      <td>0.000590</td>\n",
       "      <td>3306</td>\n",
       "      <td>54922</td>\n",
       "      <td>512</td>\n",
       "    </tr>\n",
       "    <tr>\n",
       "      <th>...</th>\n",
       "      <td>...</td>\n",
       "      <td>...</td>\n",
       "      <td>...</td>\n",
       "      <td>...</td>\n",
       "      <td>...</td>\n",
       "      <td>...</td>\n",
       "      <td>...</td>\n",
       "      <td>...</td>\n",
       "      <td>...</td>\n",
       "      <td>...</td>\n",
       "      <td>...</td>\n",
       "      <td>...</td>\n",
       "      <td>...</td>\n",
       "      <td>...</td>\n",
       "      <td>...</td>\n",
       "      <td>...</td>\n",
       "      <td>...</td>\n",
       "      <td>...</td>\n",
       "    </tr>\n",
       "    <tr>\n",
       "      <th>9995</th>\n",
       "      <td>1.237650e+18</td>\n",
       "      <td>131.316413</td>\n",
       "      <td>51.539547</td>\n",
       "      <td>18.81777</td>\n",
       "      <td>17.47053</td>\n",
       "      <td>16.91508</td>\n",
       "      <td>16.68305</td>\n",
       "      <td>16.50570</td>\n",
       "      <td>1345</td>\n",
       "      <td>301</td>\n",
       "      <td>3</td>\n",
       "      <td>161</td>\n",
       "      <td>5.033450e+17</td>\n",
       "      <td>0</td>\n",
       "      <td>0.027583</td>\n",
       "      <td>447</td>\n",
       "      <td>51877</td>\n",
       "      <td>246</td>\n",
       "    </tr>\n",
       "    <tr>\n",
       "      <th>9996</th>\n",
       "      <td>1.237650e+18</td>\n",
       "      <td>131.306083</td>\n",
       "      <td>51.671341</td>\n",
       "      <td>18.27255</td>\n",
       "      <td>17.43849</td>\n",
       "      <td>17.07692</td>\n",
       "      <td>16.71661</td>\n",
       "      <td>16.69897</td>\n",
       "      <td>1345</td>\n",
       "      <td>301</td>\n",
       "      <td>3</td>\n",
       "      <td>162</td>\n",
       "      <td>5.033400e+17</td>\n",
       "      <td>0</td>\n",
       "      <td>0.117772</td>\n",
       "      <td>447</td>\n",
       "      <td>51877</td>\n",
       "      <td>228</td>\n",
       "    </tr>\n",
       "    <tr>\n",
       "      <th>9997</th>\n",
       "      <td>1.237650e+18</td>\n",
       "      <td>131.552562</td>\n",
       "      <td>51.666986</td>\n",
       "      <td>18.75818</td>\n",
       "      <td>17.77784</td>\n",
       "      <td>17.51872</td>\n",
       "      <td>17.43302</td>\n",
       "      <td>17.42048</td>\n",
       "      <td>1345</td>\n",
       "      <td>301</td>\n",
       "      <td>3</td>\n",
       "      <td>162</td>\n",
       "      <td>8.222620e+18</td>\n",
       "      <td>2</td>\n",
       "      <td>-0.000402</td>\n",
       "      <td>7303</td>\n",
       "      <td>57013</td>\n",
       "      <td>622</td>\n",
       "    </tr>\n",
       "    <tr>\n",
       "      <th>9998</th>\n",
       "      <td>1.237650e+18</td>\n",
       "      <td>131.477151</td>\n",
       "      <td>51.753068</td>\n",
       "      <td>18.88287</td>\n",
       "      <td>17.91068</td>\n",
       "      <td>17.53152</td>\n",
       "      <td>17.36284</td>\n",
       "      <td>17.13988</td>\n",
       "      <td>1345</td>\n",
       "      <td>301</td>\n",
       "      <td>3</td>\n",
       "      <td>163</td>\n",
       "      <td>5.033400e+17</td>\n",
       "      <td>0</td>\n",
       "      <td>0.014019</td>\n",
       "      <td>447</td>\n",
       "      <td>51877</td>\n",
       "      <td>229</td>\n",
       "    </tr>\n",
       "    <tr>\n",
       "      <th>9999</th>\n",
       "      <td>1.237650e+18</td>\n",
       "      <td>131.665012</td>\n",
       "      <td>51.805307</td>\n",
       "      <td>19.27586</td>\n",
       "      <td>17.37829</td>\n",
       "      <td>16.30542</td>\n",
       "      <td>15.83548</td>\n",
       "      <td>15.50588</td>\n",
       "      <td>1345</td>\n",
       "      <td>301</td>\n",
       "      <td>3</td>\n",
       "      <td>163</td>\n",
       "      <td>5.033410e+17</td>\n",
       "      <td>0</td>\n",
       "      <td>0.118417</td>\n",
       "      <td>447</td>\n",
       "      <td>51877</td>\n",
       "      <td>233</td>\n",
       "    </tr>\n",
       "  </tbody>\n",
       "</table>\n",
       "<p>10000 rows × 18 columns</p>\n",
       "</div>"
      ],
      "text/plain": [
       "             objid          ra        dec         u         g         r  \\\n",
       "0     1.237650e+18  183.531326   0.089693  19.47406  17.04240  15.94699   \n",
       "1     1.237650e+18  183.598370   0.135285  18.66280  17.21449  16.67637   \n",
       "2     1.237650e+18  183.680207   0.126185  19.38298  18.19169  17.47428   \n",
       "3     1.237650e+18  183.870529   0.049911  17.76536  16.60272  16.16116   \n",
       "4     1.237650e+18  183.883288   0.102557  17.55025  16.26342  16.43869   \n",
       "...            ...         ...        ...       ...       ...       ...   \n",
       "9995  1.237650e+18  131.316413  51.539547  18.81777  17.47053  16.91508   \n",
       "9996  1.237650e+18  131.306083  51.671341  18.27255  17.43849  17.07692   \n",
       "9997  1.237650e+18  131.552562  51.666986  18.75818  17.77784  17.51872   \n",
       "9998  1.237650e+18  131.477151  51.753068  18.88287  17.91068  17.53152   \n",
       "9999  1.237650e+18  131.665012  51.805307  19.27586  17.37829  16.30542   \n",
       "\n",
       "             i         z   run  rerun  camcol  field     specobjid  class  \\\n",
       "0     15.50342  15.22531   752    301       4    267  3.722360e+18      2   \n",
       "1     16.48922  16.39150   752    301       4    267  3.638140e+17      2   \n",
       "2     17.08732  16.80125   752    301       4    268  3.232740e+17      0   \n",
       "3     15.98233  15.90438   752    301       4    269  3.722370e+18      2   \n",
       "4     16.55492  16.61326   752    301       4    269  3.722370e+18      2   \n",
       "...        ...       ...   ...    ...     ...    ...           ...    ...   \n",
       "9995  16.68305  16.50570  1345    301       3    161  5.033450e+17      0   \n",
       "9996  16.71661  16.69897  1345    301       3    162  5.033400e+17      0   \n",
       "9997  17.43302  17.42048  1345    301       3    162  8.222620e+18      2   \n",
       "9998  17.36284  17.13988  1345    301       3    163  5.033400e+17      0   \n",
       "9999  15.83548  15.50588  1345    301       3    163  5.033410e+17      0   \n",
       "\n",
       "      redshift  plate    mjd  fiberid  \n",
       "0    -0.000009   3306  54922      491  \n",
       "1    -0.000055    323  51615      541  \n",
       "2     0.123111    287  52023      513  \n",
       "3    -0.000111   3306  54922      510  \n",
       "4     0.000590   3306  54922      512  \n",
       "...        ...    ...    ...      ...  \n",
       "9995  0.027583    447  51877      246  \n",
       "9996  0.117772    447  51877      228  \n",
       "9997 -0.000402   7303  57013      622  \n",
       "9998  0.014019    447  51877      229  \n",
       "9999  0.118417    447  51877      233  \n",
       "\n",
       "[10000 rows x 18 columns]"
      ]
     },
     "execution_count": 5,
     "metadata": {},
     "output_type": "execute_result"
    }
   ],
   "source": [
    "from sklearn.preprocessing import LabelEncoder\n",
    "le = LabelEncoder()\n",
    "df['class'] = le.fit_transform(df['class'])\n",
    "df"
   ]
  },
  {
   "cell_type": "code",
   "execution_count": 6,
   "id": "03118d77",
   "metadata": {
    "scrolled": true
   },
   "outputs": [
    {
     "data": {
      "text/plain": [
       "['objid',\n",
       " 'ra',\n",
       " 'dec',\n",
       " 'u',\n",
       " 'g',\n",
       " 'r',\n",
       " 'i',\n",
       " 'z',\n",
       " 'run',\n",
       " 'rerun',\n",
       " 'camcol',\n",
       " 'field',\n",
       " 'specobjid',\n",
       " 'fiberid',\n",
       " 'redshift',\n",
       " 'plate',\n",
       " 'mjd',\n",
       " 'class']"
      ]
     },
     "execution_count": 6,
     "metadata": {},
     "output_type": "execute_result"
    }
   ],
   "source": [
    "#moving target column class to the last position\n",
    "\n",
    "titles = list(df.columns)\n",
    "titles[13], titles[17] = titles[17], titles[13]\n",
    "titles"
   ]
  },
  {
   "cell_type": "code",
   "execution_count": 7,
   "id": "8c2d00ce",
   "metadata": {},
   "outputs": [
    {
     "data": {
      "text/html": [
       "<div>\n",
       "<style scoped>\n",
       "    .dataframe tbody tr th:only-of-type {\n",
       "        vertical-align: middle;\n",
       "    }\n",
       "\n",
       "    .dataframe tbody tr th {\n",
       "        vertical-align: top;\n",
       "    }\n",
       "\n",
       "    .dataframe thead th {\n",
       "        text-align: right;\n",
       "    }\n",
       "</style>\n",
       "<table border=\"1\" class=\"dataframe\">\n",
       "  <thead>\n",
       "    <tr style=\"text-align: right;\">\n",
       "      <th></th>\n",
       "      <th>objid</th>\n",
       "      <th>ra</th>\n",
       "      <th>dec</th>\n",
       "      <th>u</th>\n",
       "      <th>g</th>\n",
       "      <th>r</th>\n",
       "      <th>i</th>\n",
       "      <th>z</th>\n",
       "      <th>run</th>\n",
       "      <th>rerun</th>\n",
       "      <th>camcol</th>\n",
       "      <th>field</th>\n",
       "      <th>specobjid</th>\n",
       "      <th>fiberid</th>\n",
       "      <th>redshift</th>\n",
       "      <th>plate</th>\n",
       "      <th>mjd</th>\n",
       "      <th>class</th>\n",
       "    </tr>\n",
       "  </thead>\n",
       "  <tbody>\n",
       "    <tr>\n",
       "      <th>0</th>\n",
       "      <td>1.237650e+18</td>\n",
       "      <td>183.531326</td>\n",
       "      <td>0.089693</td>\n",
       "      <td>19.47406</td>\n",
       "      <td>17.0424</td>\n",
       "      <td>15.94699</td>\n",
       "      <td>15.50342</td>\n",
       "      <td>15.22531</td>\n",
       "      <td>752</td>\n",
       "      <td>301</td>\n",
       "      <td>4</td>\n",
       "      <td>267</td>\n",
       "      <td>3.722360e+18</td>\n",
       "      <td>491</td>\n",
       "      <td>-0.000009</td>\n",
       "      <td>3306</td>\n",
       "      <td>54922</td>\n",
       "      <td>2</td>\n",
       "    </tr>\n",
       "  </tbody>\n",
       "</table>\n",
       "</div>"
      ],
      "text/plain": [
       "          objid          ra       dec         u        g         r         i  \\\n",
       "0  1.237650e+18  183.531326  0.089693  19.47406  17.0424  15.94699  15.50342   \n",
       "\n",
       "          z  run  rerun  camcol  field     specobjid  fiberid  redshift  \\\n",
       "0  15.22531  752    301       4    267  3.722360e+18      491 -0.000009   \n",
       "\n",
       "   plate    mjd  class  \n",
       "0   3306  54922      2  "
      ]
     },
     "execution_count": 7,
     "metadata": {},
     "output_type": "execute_result"
    }
   ],
   "source": [
    "df = df[titles]\n",
    "df.head(1)"
   ]
  },
  {
   "cell_type": "markdown",
   "id": "a750d7f2",
   "metadata": {},
   "source": [
    "# EDA"
   ]
  },
  {
   "cell_type": "code",
   "execution_count": 8,
   "id": "0658445a",
   "metadata": {},
   "outputs": [
    {
     "data": {
      "text/plain": [
       "objid            1\n",
       "ra           10000\n",
       "dec          10000\n",
       "u             9730\n",
       "g             9817\n",
       "r             9852\n",
       "i             9890\n",
       "z             9896\n",
       "run             23\n",
       "rerun            1\n",
       "camcol           6\n",
       "field          703\n",
       "specobjid     6349\n",
       "fiberid        892\n",
       "redshift      9637\n",
       "plate          487\n",
       "mjd            355\n",
       "class            3\n",
       "dtype: int64"
      ]
     },
     "execution_count": 8,
     "metadata": {},
     "output_type": "execute_result"
    }
   ],
   "source": [
    "df.nunique()"
   ]
  },
  {
   "cell_type": "code",
   "execution_count": 9,
   "id": "26e083af",
   "metadata": {},
   "outputs": [
    {
     "data": {
      "text/plain": [
       "<AxesSubplot:xlabel='objid', ylabel='class'>"
      ]
     },
     "execution_count": 9,
     "metadata": {},
     "output_type": "execute_result"
    },
    {
     "data": {
      "image/png": "[encoded data removed]",
      "text/plain": [
       "<Figure size 432x288 with 1 Axes>"
      ]
     },
     "metadata": {
      "needs_background": "light"
     },
     "output_type": "display_data"
    }
   ],
   "source": [
    "sns.scatterplot(data = df, x = 'objid', y = 'class')"
   ]
  },
  {
   "cell_type": "code",
   "execution_count": 10,
   "id": "ebe00e37",
   "metadata": {},
   "outputs": [
    {
     "data": {
      "text/plain": [
       "<AxesSubplot:xlabel='ra', ylabel='class'>"
      ]
     },
     "execution_count": 10,
     "metadata": {},
     "output_type": "execute_result"
    },
    {
     "data": {
      "image/png": "[encoded data removed]",
      "text/plain": [
       "<Figure size 432x288 with 1 Axes>"
      ]
     },
     "metadata": {
      "needs_background": "light"
     },
     "output_type": "display_data"
    }
   ],
   "source": [
    "sns.scatterplot(data = df, x = 'ra', y = 'class')"
   ]
  },
  {
   "cell_type": "code",
   "execution_count": 11,
   "id": "c24bd309",
   "metadata": {},
   "outputs": [
    {
     "data": {
      "text/plain": [
       "<AxesSubplot:xlabel='dec', ylabel='class'>"
      ]
     },
     "execution_count": 11,
     "metadata": {},
     "output_type": "execute_result"
    },
    {
     "data": {
      "image/png": "[encoded data removed]",
      "text/plain": [
       "<Figure size 432x288 with 1 Axes>"
      ]
     },
     "metadata": {
      "needs_background": "light"
     },
     "output_type": "display_data"
    }
   ],
   "source": [
    "sns.scatterplot(data = df, x = 'dec', y = 'class')"
   ]
  },
  {
   "cell_type": "code",
   "execution_count": 12,
   "id": "53ec3ef9",
   "metadata": {},
   "outputs": [
    {
     "data": {
      "text/plain": [
       "<AxesSubplot:xlabel='u', ylabel='class'>"
      ]
     },
     "execution_count": 12,
     "metadata": {},
     "output_type": "execute_result"
    },
    {
     "data": {
      "image/png": "[encoded data removed]",
      "text/plain": [
       "<Figure size 432x288 with 1 Axes>"
      ]
     },
     "metadata": {
      "needs_background": "light"
     },
     "output_type": "display_data"
    }
   ],
   "source": [
    "sns.scatterplot(data = df, x = 'u', y = 'class')"
   ]
  },
  {
   "cell_type": "code",
   "execution_count": 13,
   "id": "dad98b42",
   "metadata": {},
   "outputs": [
    {
     "data": {
      "text/plain": [
       "<AxesSubplot:xlabel='g', ylabel='class'>"
      ]
     },
     "execution_count": 13,
     "metadata": {},
     "output_type": "execute_result"
    },
    {
     "data": {
      "image/png": "[encoded data removed]",
      "text/plain": [
       "<Figure size 432x288 with 1 Axes>"
      ]
     },
     "metadata": {
      "needs_background": "light"
     },
     "output_type": "display_data"
    }
   ],
   "source": [
    "sns.scatterplot(data = df, x = 'g', y = 'class')"
   ]
  },
  {
   "cell_type": "code",
   "execution_count": 14,
   "id": "4a9d40ed",
   "metadata": {},
   "outputs": [
    {
     "data": {
      "text/plain": [
       "<AxesSubplot:xlabel='r', ylabel='class'>"
      ]
     },
     "execution_count": 14,
     "metadata": {},
     "output_type": "execute_result"
    },
    {
     "data": {
      "image/png": "[encoded data removed]",
      "text/plain": [
       "<Figure size 432x288 with 1 Axes>"
      ]
     },
     "metadata": {
      "needs_background": "light"
     },
     "output_type": "display_data"
    }
   ],
   "source": [
    "sns.scatterplot(data = df, x = 'r', y = 'class')"
   ]
  },
  {
   "cell_type": "code",
   "execution_count": 15,
   "id": "50fbb981",
   "metadata": {},
   "outputs": [
    {
     "data": {
      "text/plain": [
       "<AxesSubplot:xlabel='i', ylabel='class'>"
      ]
     },
     "execution_count": 15,
     "metadata": {},
     "output_type": "execute_result"
    },
    {
     "data": {
      "image/png": "[encoded data removed]",
      "text/plain": [
       "<Figure size 432x288 with 1 Axes>"
      ]
     },
     "metadata": {
      "needs_background": "light"
     },
     "output_type": "display_data"
    }
   ],
   "source": [
    "sns.scatterplot(data = df, x = 'i', y = 'class')"
   ]
  },
  {
   "cell_type": "code",
   "execution_count": 16,
   "id": "c24977d1",
   "metadata": {},
   "outputs": [
    {
     "data": {
      "text/plain": [
       "<AxesSubplot:xlabel='z', ylabel='class'>"
      ]
     },
     "execution_count": 16,
     "metadata": {},
     "output_type": "execute_result"
    },
    {
     "data": {
      "image/png": "[encoded data removed]",
      "text/plain": [
       "<Figure size 432x288 with 1 Axes>"
      ]
     },
     "metadata": {
      "needs_background": "light"
     },
     "output_type": "display_data"
    }
   ],
   "source": [
    "sns.scatterplot(data = df, x = 'z', y = 'class')"
   ]
  },
  {
   "cell_type": "code",
   "execution_count": 17,
   "id": "fc203e90",
   "metadata": {},
   "outputs": [
    {
     "data": {
      "text/plain": [
       "<AxesSubplot:xlabel='run', ylabel='count'>"
      ]
     },
     "execution_count": 17,
     "metadata": {},
     "output_type": "execute_result"
    },
    {
     "data": {
      "image/png": "[encoded data removed]",
      "text/plain": [
       "<Figure size 1008x360 with 1 Axes>"
      ]
     },
     "metadata": {
      "needs_background": "light"
     },
     "output_type": "display_data"
    }
   ],
   "source": [
    "plt.figure(figsize = (14,5))\n",
    "sns.countplot(data = df, x = 'run')"
   ]
  },
  {
   "cell_type": "code",
   "execution_count": 18,
   "id": "e8261dee",
   "metadata": {},
   "outputs": [
    {
     "data": {
      "text/plain": [
       "<AxesSubplot:xlabel='rerun', ylabel='class'>"
      ]
     },
     "execution_count": 18,
     "metadata": {},
     "output_type": "execute_result"
    },
    {
     "data": {
      "image/png": "[encoded data removed]",
      "text/plain": [
       "<Figure size 432x288 with 1 Axes>"
      ]
     },
     "metadata": {
      "needs_background": "light"
     },
     "output_type": "display_data"
    }
   ],
   "source": [
    "sns.scatterplot(data = df, x = 'rerun', y = 'class')"
   ]
  },
  {
   "cell_type": "code",
   "execution_count": 19,
   "id": "fb39ba47",
   "metadata": {},
   "outputs": [
    {
     "data": {
      "text/plain": [
       "<AxesSubplot:xlabel='camcol', ylabel='count'>"
      ]
     },
     "execution_count": 19,
     "metadata": {},
     "output_type": "execute_result"
    },
    {
     "data": {
      "image/png": "[encoded data removed]",
      "text/plain": [
       "<Figure size 432x288 with 1 Axes>"
      ]
     },
     "metadata": {
      "needs_background": "light"
     },
     "output_type": "display_data"
    }
   ],
   "source": [
    "sns.countplot(data = df, x = 'camcol')"
   ]
  },
  {
   "cell_type": "code",
   "execution_count": 20,
   "id": "3c437426",
   "metadata": {},
   "outputs": [
    {
     "data": {
      "text/plain": [
       "<AxesSubplot:xlabel='field', ylabel='class'>"
      ]
     },
     "execution_count": 20,
     "metadata": {},
     "output_type": "execute_result"
    },
    {
     "data": {
      "image/png": "[encoded data removed]",
      "text/plain": [
       "<Figure size 432x288 with 1 Axes>"
      ]
     },
     "metadata": {
      "needs_background": "light"
     },
     "output_type": "display_data"
    }
   ],
   "source": [
    "sns.scatterplot(data = df, x = 'field', y = 'class')"
   ]
  },
  {
   "cell_type": "code",
   "execution_count": 21,
   "id": "3fbd3850",
   "metadata": {},
   "outputs": [
    {
     "data": {
      "text/plain": [
       "<AxesSubplot:xlabel='specobjid', ylabel='class'>"
      ]
     },
     "execution_count": 21,
     "metadata": {},
     "output_type": "execute_result"
    },
    {
     "data": {
      "image/png": "[encoded data removed]",
      "text/plain": [
       "<Figure size 432x288 with 1 Axes>"
      ]
     },
     "metadata": {
      "needs_background": "light"
     },
     "output_type": "display_data"
    }
   ],
   "source": [
    "sns.scatterplot(data = df, x = 'specobjid', y = 'class')"
   ]
  },
  {
   "cell_type": "code",
   "execution_count": 22,
   "id": "ebc63db4",
   "metadata": {},
   "outputs": [
    {
     "data": {
      "text/plain": [
       "<AxesSubplot:xlabel='fiberid', ylabel='class'>"
      ]
     },
     "execution_count": 22,
     "metadata": {},
     "output_type": "execute_result"
    },
    {
     "data": {
      "image/png": "[encoded data removed]",
      "text/plain": [
       "<Figure size 432x288 with 1 Axes>"
      ]
     },
     "metadata": {
      "needs_background": "light"
     },
     "output_type": "display_data"
    }
   ],
   "source": [
    "sns.scatterplot(data = df, x = 'fiberid', y = 'class')"
   ]
  },
  {
   "cell_type": "code",
   "execution_count": 23,
   "id": "5ea41ac4",
   "metadata": {},
   "outputs": [
    {
     "data": {
      "text/plain": [
       "<AxesSubplot:xlabel='redshift', ylabel='class'>"
      ]
     },
     "execution_count": 23,
     "metadata": {},
     "output_type": "execute_result"
    },
    {
     "data": {
      "image/png": "[encoded data removed]",
      "text/plain": [
       "<Figure size 432x288 with 1 Axes>"
      ]
     },
     "metadata": {
      "needs_background": "light"
     },
     "output_type": "display_data"
    }
   ],
   "source": [
    "sns.scatterplot(data = df, x = 'redshift', y = 'class')"
   ]
  },
  {
   "cell_type": "code",
   "execution_count": 24,
   "id": "2eec9702",
   "metadata": {},
   "outputs": [
    {
     "data": {
      "text/plain": [
       "<AxesSubplot:xlabel='plate', ylabel='class'>"
      ]
     },
     "execution_count": 24,
     "metadata": {},
     "output_type": "execute_result"
    },
    {
     "data": {
      "image/png": "[encoded data removed]",
      "text/plain": [
       "<Figure size 432x288 with 1 Axes>"
      ]
     },
     "metadata": {
      "needs_background": "light"
     },
     "output_type": "display_data"
    }
   ],
   "source": [
    "sns.scatterplot(data = df, x = 'plate', y = 'class')"
   ]
  },
  {
   "cell_type": "code",
   "execution_count": 25,
   "id": "1c0467b3",
   "metadata": {},
   "outputs": [
    {
     "data": {
      "text/plain": [
       "<AxesSubplot:xlabel='mjd', ylabel='class'>"
      ]
     },
     "execution_count": 25,
     "metadata": {},
     "output_type": "execute_result"
    },
    {
     "data": {
      "image/png": "[encoded data removed]",
      "text/plain": [
       "<Figure size 432x288 with 1 Axes>"
      ]
     },
     "metadata": {
      "needs_background": "light"
     },
     "output_type": "display_data"
    }
   ],
   "source": [
    "sns.scatterplot(data = df, x = 'mjd', y = 'class')"
   ]
  },
  {
   "cell_type": "markdown",
   "id": "144ce444",
   "metadata": {},
   "source": [
    "# Correlation "
   ]
  },
  {
   "cell_type": "code",
   "execution_count": 26,
   "id": "9c9d681b",
   "metadata": {
    "scrolled": false
   },
   "outputs": [
    {
     "data": {
      "text/html": [
       "<div>\n",
       "<style scoped>\n",
       "    .dataframe tbody tr th:only-of-type {\n",
       "        vertical-align: middle;\n",
       "    }\n",
       "\n",
       "    .dataframe tbody tr th {\n",
       "        vertical-align: top;\n",
       "    }\n",
       "\n",
       "    .dataframe thead th {\n",
       "        text-align: right;\n",
       "    }\n",
       "</style>\n",
       "<table border=\"1\" class=\"dataframe\">\n",
       "  <thead>\n",
       "    <tr style=\"text-align: right;\">\n",
       "      <th></th>\n",
       "      <th>objid</th>\n",
       "      <th>ra</th>\n",
       "      <th>dec</th>\n",
       "      <th>u</th>\n",
       "      <th>g</th>\n",
       "      <th>r</th>\n",
       "      <th>i</th>\n",
       "      <th>z</th>\n",
       "      <th>run</th>\n",
       "      <th>rerun</th>\n",
       "      <th>camcol</th>\n",
       "      <th>field</th>\n",
       "      <th>specobjid</th>\n",
       "      <th>fiberid</th>\n",
       "      <th>redshift</th>\n",
       "      <th>plate</th>\n",
       "      <th>mjd</th>\n",
       "      <th>class</th>\n",
       "    </tr>\n",
       "  </thead>\n",
       "  <tbody>\n",
       "    <tr>\n",
       "      <th>objid</th>\n",
       "      <td>NaN</td>\n",
       "      <td>NaN</td>\n",
       "      <td>NaN</td>\n",
       "      <td>NaN</td>\n",
       "      <td>NaN</td>\n",
       "      <td>NaN</td>\n",
       "      <td>NaN</td>\n",
       "      <td>NaN</td>\n",
       "      <td>NaN</td>\n",
       "      <td>NaN</td>\n",
       "      <td>NaN</td>\n",
       "      <td>NaN</td>\n",
       "      <td>NaN</td>\n",
       "      <td>NaN</td>\n",
       "      <td>NaN</td>\n",
       "      <td>NaN</td>\n",
       "      <td>NaN</td>\n",
       "      <td>NaN</td>\n",
       "    </tr>\n",
       "    <tr>\n",
       "      <th>ra</th>\n",
       "      <td>NaN</td>\n",
       "      <td>1.000000</td>\n",
       "      <td>0.003596</td>\n",
       "      <td>0.031238</td>\n",
       "      <td>0.043909</td>\n",
       "      <td>0.047103</td>\n",
       "      <td>0.045731</td>\n",
       "      <td>0.042950</td>\n",
       "      <td>-0.092741</td>\n",
       "      <td>NaN</td>\n",
       "      <td>-0.006294</td>\n",
       "      <td>0.594700</td>\n",
       "      <td>-0.095327</td>\n",
       "      <td>0.057485</td>\n",
       "      <td>0.030307</td>\n",
       "      <td>-0.095329</td>\n",
       "      <td>-0.086887</td>\n",
       "      <td>-0.043219</td>\n",
       "    </tr>\n",
       "    <tr>\n",
       "      <th>dec</th>\n",
       "      <td>NaN</td>\n",
       "      <td>0.003596</td>\n",
       "      <td>1.000000</td>\n",
       "      <td>0.035279</td>\n",
       "      <td>0.061875</td>\n",
       "      <td>0.063404</td>\n",
       "      <td>0.058292</td>\n",
       "      <td>0.056870</td>\n",
       "      <td>0.778385</td>\n",
       "      <td>NaN</td>\n",
       "      <td>0.114614</td>\n",
       "      <td>-0.131471</td>\n",
       "      <td>0.088345</td>\n",
       "      <td>0.155012</td>\n",
       "      <td>0.067021</td>\n",
       "      <td>0.088342</td>\n",
       "      <td>0.066147</td>\n",
       "      <td>-0.058918</td>\n",
       "    </tr>\n",
       "    <tr>\n",
       "      <th>u</th>\n",
       "      <td>NaN</td>\n",
       "      <td>0.031238</td>\n",
       "      <td>0.035279</td>\n",
       "      <td>1.000000</td>\n",
       "      <td>0.849232</td>\n",
       "      <td>0.692379</td>\n",
       "      <td>0.602630</td>\n",
       "      <td>0.551483</td>\n",
       "      <td>0.038229</td>\n",
       "      <td>NaN</td>\n",
       "      <td>0.009945</td>\n",
       "      <td>0.008548</td>\n",
       "      <td>-0.129429</td>\n",
       "      <td>0.011301</td>\n",
       "      <td>0.163741</td>\n",
       "      <td>-0.129430</td>\n",
       "      <td>-0.168793</td>\n",
       "      <td>-0.269044</td>\n",
       "    </tr>\n",
       "    <tr>\n",
       "      <th>g</th>\n",
       "      <td>NaN</td>\n",
       "      <td>0.043909</td>\n",
       "      <td>0.061875</td>\n",
       "      <td>0.849232</td>\n",
       "      <td>1.000000</td>\n",
       "      <td>0.958106</td>\n",
       "      <td>0.907419</td>\n",
       "      <td>0.879622</td>\n",
       "      <td>0.058446</td>\n",
       "      <td>NaN</td>\n",
       "      <td>0.010223</td>\n",
       "      <td>0.014651</td>\n",
       "      <td>-0.054979</td>\n",
       "      <td>0.047187</td>\n",
       "      <td>0.407576</td>\n",
       "      <td>-0.054981</td>\n",
       "      <td>-0.092772</td>\n",
       "      <td>-0.099212</td>\n",
       "    </tr>\n",
       "    <tr>\n",
       "      <th>r</th>\n",
       "      <td>NaN</td>\n",
       "      <td>0.047103</td>\n",
       "      <td>0.063404</td>\n",
       "      <td>0.692379</td>\n",
       "      <td>0.958106</td>\n",
       "      <td>1.000000</td>\n",
       "      <td>0.977672</td>\n",
       "      <td>0.969197</td>\n",
       "      <td>0.057261</td>\n",
       "      <td>NaN</td>\n",
       "      <td>0.010747</td>\n",
       "      <td>0.017133</td>\n",
       "      <td>0.019788</td>\n",
       "      <td>0.061081</td>\n",
       "      <td>0.441080</td>\n",
       "      <td>0.019787</td>\n",
       "      <td>-0.009345</td>\n",
       "      <td>0.049628</td>\n",
       "    </tr>\n",
       "    <tr>\n",
       "      <th>i</th>\n",
       "      <td>NaN</td>\n",
       "      <td>0.045731</td>\n",
       "      <td>0.058292</td>\n",
       "      <td>0.602630</td>\n",
       "      <td>0.907419</td>\n",
       "      <td>0.977672</td>\n",
       "      <td>1.000000</td>\n",
       "      <td>0.981507</td>\n",
       "      <td>0.049765</td>\n",
       "      <td>NaN</td>\n",
       "      <td>0.013461</td>\n",
       "      <td>0.019781</td>\n",
       "      <td>0.072960</td>\n",
       "      <td>0.069977</td>\n",
       "      <td>0.431450</td>\n",
       "      <td>0.072958</td>\n",
       "      <td>0.050896</td>\n",
       "      <td>0.146791</td>\n",
       "    </tr>\n",
       "    <tr>\n",
       "      <th>z</th>\n",
       "      <td>NaN</td>\n",
       "      <td>0.042950</td>\n",
       "      <td>0.056870</td>\n",
       "      <td>0.551483</td>\n",
       "      <td>0.879622</td>\n",
       "      <td>0.969197</td>\n",
       "      <td>0.981507</td>\n",
       "      <td>1.000000</td>\n",
       "      <td>0.048252</td>\n",
       "      <td>NaN</td>\n",
       "      <td>0.010930</td>\n",
       "      <td>0.018248</td>\n",
       "      <td>0.112398</td>\n",
       "      <td>0.067980</td>\n",
       "      <td>0.424034</td>\n",
       "      <td>0.112397</td>\n",
       "      <td>0.095658</td>\n",
       "      <td>0.215758</td>\n",
       "    </tr>\n",
       "    <tr>\n",
       "      <th>run</th>\n",
       "      <td>NaN</td>\n",
       "      <td>-0.092741</td>\n",
       "      <td>0.778385</td>\n",
       "      <td>0.038229</td>\n",
       "      <td>0.058446</td>\n",
       "      <td>0.057261</td>\n",
       "      <td>0.049765</td>\n",
       "      <td>0.048252</td>\n",
       "      <td>1.000000</td>\n",
       "      <td>NaN</td>\n",
       "      <td>0.151814</td>\n",
       "      <td>-0.463898</td>\n",
       "      <td>0.093604</td>\n",
       "      <td>0.138566</td>\n",
       "      <td>0.059056</td>\n",
       "      <td>0.093601</td>\n",
       "      <td>0.070354</td>\n",
       "      <td>-0.078162</td>\n",
       "    </tr>\n",
       "    <tr>\n",
       "      <th>rerun</th>\n",
       "      <td>NaN</td>\n",
       "      <td>NaN</td>\n",
       "      <td>NaN</td>\n",
       "      <td>NaN</td>\n",
       "      <td>NaN</td>\n",
       "      <td>NaN</td>\n",
       "      <td>NaN</td>\n",
       "      <td>NaN</td>\n",
       "      <td>NaN</td>\n",
       "      <td>NaN</td>\n",
       "      <td>NaN</td>\n",
       "      <td>NaN</td>\n",
       "      <td>NaN</td>\n",
       "      <td>NaN</td>\n",
       "      <td>NaN</td>\n",
       "      <td>NaN</td>\n",
       "      <td>NaN</td>\n",
       "      <td>NaN</td>\n",
       "    </tr>\n",
       "    <tr>\n",
       "      <th>camcol</th>\n",
       "      <td>NaN</td>\n",
       "      <td>-0.006294</td>\n",
       "      <td>0.114614</td>\n",
       "      <td>0.009945</td>\n",
       "      <td>0.010223</td>\n",
       "      <td>0.010747</td>\n",
       "      <td>0.013461</td>\n",
       "      <td>0.010930</td>\n",
       "      <td>0.151814</td>\n",
       "      <td>NaN</td>\n",
       "      <td>1.000000</td>\n",
       "      <td>-0.067921</td>\n",
       "      <td>0.040809</td>\n",
       "      <td>0.535629</td>\n",
       "      <td>0.006834</td>\n",
       "      <td>0.040795</td>\n",
       "      <td>0.026284</td>\n",
       "      <td>-0.006186</td>\n",
       "    </tr>\n",
       "    <tr>\n",
       "      <th>field</th>\n",
       "      <td>NaN</td>\n",
       "      <td>0.594700</td>\n",
       "      <td>-0.131471</td>\n",
       "      <td>0.008548</td>\n",
       "      <td>0.014651</td>\n",
       "      <td>0.017133</td>\n",
       "      <td>0.019781</td>\n",
       "      <td>0.018248</td>\n",
       "      <td>-0.463898</td>\n",
       "      <td>NaN</td>\n",
       "      <td>-0.067921</td>\n",
       "      <td>1.000000</td>\n",
       "      <td>-0.093724</td>\n",
       "      <td>-0.040493</td>\n",
       "      <td>0.015414</td>\n",
       "      <td>-0.093723</td>\n",
       "      <td>-0.086558</td>\n",
       "      <td>0.007713</td>\n",
       "    </tr>\n",
       "    <tr>\n",
       "      <th>specobjid</th>\n",
       "      <td>NaN</td>\n",
       "      <td>-0.095327</td>\n",
       "      <td>0.088345</td>\n",
       "      <td>-0.129429</td>\n",
       "      <td>-0.054979</td>\n",
       "      <td>0.019788</td>\n",
       "      <td>0.072960</td>\n",
       "      <td>0.112398</td>\n",
       "      <td>0.093604</td>\n",
       "      <td>NaN</td>\n",
       "      <td>0.040809</td>\n",
       "      <td>-0.093724</td>\n",
       "      <td>1.000000</td>\n",
       "      <td>0.229837</td>\n",
       "      <td>-0.038090</td>\n",
       "      <td>1.000000</td>\n",
       "      <td>0.966880</td>\n",
       "      <td>0.585493</td>\n",
       "    </tr>\n",
       "    <tr>\n",
       "      <th>fiberid</th>\n",
       "      <td>NaN</td>\n",
       "      <td>0.057485</td>\n",
       "      <td>0.155012</td>\n",
       "      <td>0.011301</td>\n",
       "      <td>0.047187</td>\n",
       "      <td>0.061081</td>\n",
       "      <td>0.069977</td>\n",
       "      <td>0.067980</td>\n",
       "      <td>0.138566</td>\n",
       "      <td>NaN</td>\n",
       "      <td>0.535629</td>\n",
       "      <td>-0.040493</td>\n",
       "      <td>0.229837</td>\n",
       "      <td>1.000000</td>\n",
       "      <td>0.046532</td>\n",
       "      <td>0.229811</td>\n",
       "      <td>0.190328</td>\n",
       "      <td>0.053593</td>\n",
       "    </tr>\n",
       "    <tr>\n",
       "      <th>redshift</th>\n",
       "      <td>NaN</td>\n",
       "      <td>0.030307</td>\n",
       "      <td>0.067021</td>\n",
       "      <td>0.163741</td>\n",
       "      <td>0.407576</td>\n",
       "      <td>0.441080</td>\n",
       "      <td>0.431450</td>\n",
       "      <td>0.424034</td>\n",
       "      <td>0.059056</td>\n",
       "      <td>NaN</td>\n",
       "      <td>0.006834</td>\n",
       "      <td>0.015414</td>\n",
       "      <td>-0.038090</td>\n",
       "      <td>0.046532</td>\n",
       "      <td>1.000000</td>\n",
       "      <td>-0.038091</td>\n",
       "      <td>-0.057957</td>\n",
       "      <td>-0.075510</td>\n",
       "    </tr>\n",
       "    <tr>\n",
       "      <th>plate</th>\n",
       "      <td>NaN</td>\n",
       "      <td>-0.095329</td>\n",
       "      <td>0.088342</td>\n",
       "      <td>-0.129430</td>\n",
       "      <td>-0.054981</td>\n",
       "      <td>0.019787</td>\n",
       "      <td>0.072958</td>\n",
       "      <td>0.112397</td>\n",
       "      <td>0.093601</td>\n",
       "      <td>NaN</td>\n",
       "      <td>0.040795</td>\n",
       "      <td>-0.093723</td>\n",
       "      <td>1.000000</td>\n",
       "      <td>0.229811</td>\n",
       "      <td>-0.038091</td>\n",
       "      <td>1.000000</td>\n",
       "      <td>0.966881</td>\n",
       "      <td>0.585495</td>\n",
       "    </tr>\n",
       "    <tr>\n",
       "      <th>mjd</th>\n",
       "      <td>NaN</td>\n",
       "      <td>-0.086887</td>\n",
       "      <td>0.066147</td>\n",
       "      <td>-0.168793</td>\n",
       "      <td>-0.092772</td>\n",
       "      <td>-0.009345</td>\n",
       "      <td>0.050896</td>\n",
       "      <td>0.095658</td>\n",
       "      <td>0.070354</td>\n",
       "      <td>NaN</td>\n",
       "      <td>0.026284</td>\n",
       "      <td>-0.086558</td>\n",
       "      <td>0.966880</td>\n",
       "      <td>0.190328</td>\n",
       "      <td>-0.057957</td>\n",
       "      <td>0.966881</td>\n",
       "      <td>1.000000</td>\n",
       "      <td>0.648768</td>\n",
       "    </tr>\n",
       "    <tr>\n",
       "      <th>class</th>\n",
       "      <td>NaN</td>\n",
       "      <td>-0.043219</td>\n",
       "      <td>-0.058918</td>\n",
       "      <td>-0.269044</td>\n",
       "      <td>-0.099212</td>\n",
       "      <td>0.049628</td>\n",
       "      <td>0.146791</td>\n",
       "      <td>0.215758</td>\n",
       "      <td>-0.078162</td>\n",
       "      <td>NaN</td>\n",
       "      <td>-0.006186</td>\n",
       "      <td>0.007713</td>\n",
       "      <td>0.585493</td>\n",
       "      <td>0.053593</td>\n",
       "      <td>-0.075510</td>\n",
       "      <td>0.585495</td>\n",
       "      <td>0.648768</td>\n",
       "      <td>1.000000</td>\n",
       "    </tr>\n",
       "  </tbody>\n",
       "</table>\n",
       "</div>"
      ],
      "text/plain": [
       "           objid        ra       dec         u         g         r         i  \\\n",
       "objid        NaN       NaN       NaN       NaN       NaN       NaN       NaN   \n",
       "ra           NaN  1.000000  0.003596  0.031238  0.043909  0.047103  0.045731   \n",
       "dec          NaN  0.003596  1.000000  0.035279  0.061875  0.063404  0.058292   \n",
       "u            NaN  0.031238  0.035279  1.000000  0.849232  0.692379  0.602630   \n",
       "g            NaN  0.043909  0.061875  0.849232  1.000000  0.958106  0.907419   \n",
       "r            NaN  0.047103  0.063404  0.692379  0.958106  1.000000  0.977672   \n",
       "i            NaN  0.045731  0.058292  0.602630  0.907419  0.977672  1.000000   \n",
       "z            NaN  0.042950  0.056870  0.551483  0.879622  0.969197  0.981507   \n",
       "run          NaN -0.092741  0.778385  0.038229  0.058446  0.057261  0.049765   \n",
       "rerun        NaN       NaN       NaN       NaN       NaN       NaN       NaN   \n",
       "camcol       NaN -0.006294  0.114614  0.009945  0.010223  0.010747  0.013461   \n",
       "field        NaN  0.594700 -0.131471  0.008548  0.014651  0.017133  0.019781   \n",
       "specobjid    NaN -0.095327  0.088345 -0.129429 -0.054979  0.019788  0.072960   \n",
       "fiberid      NaN  0.057485  0.155012  0.011301  0.047187  0.061081  0.069977   \n",
       "redshift     NaN  0.030307  0.067021  0.163741  0.407576  0.441080  0.431450   \n",
       "plate        NaN -0.095329  0.088342 -0.129430 -0.054981  0.019787  0.072958   \n",
       "mjd          NaN -0.086887  0.066147 -0.168793 -0.092772 -0.009345  0.050896   \n",
       "class        NaN -0.043219 -0.058918 -0.269044 -0.099212  0.049628  0.146791   \n",
       "\n",
       "                  z       run  rerun    camcol     field  specobjid   fiberid  \\\n",
       "objid           NaN       NaN    NaN       NaN       NaN        NaN       NaN   \n",
       "ra         0.042950 -0.092741    NaN -0.006294  0.594700  -0.095327  0.057485   \n",
       "dec        0.056870  0.778385    NaN  0.114614 -0.131471   0.088345  0.155012   \n",
       "u          0.551483  0.038229    NaN  0.009945  0.008548  -0.129429  0.011301   \n",
       "g          0.879622  0.058446    NaN  0.010223  0.014651  -0.054979  0.047187   \n",
       "r          0.969197  0.057261    NaN  0.010747  0.017133   0.019788  0.061081   \n",
       "i          0.981507  0.049765    NaN  0.013461  0.019781   0.072960  0.069977   \n",
       "z          1.000000  0.048252    NaN  0.010930  0.018248   0.112398  0.067980   \n",
       "run        0.048252  1.000000    NaN  0.151814 -0.463898   0.093604  0.138566   \n",
       "rerun           NaN       NaN    NaN       NaN       NaN        NaN       NaN   \n",
       "camcol     0.010930  0.151814    NaN  1.000000 -0.067921   0.040809  0.535629   \n",
       "field      0.018248 -0.463898    NaN -0.067921  1.000000  -0.093724 -0.040493   \n",
       "specobjid  0.112398  0.093604    NaN  0.040809 -0.093724   1.000000  0.229837   \n",
       "fiberid    0.067980  0.138566    NaN  0.535629 -0.040493   0.229837  1.000000   \n",
       "redshift   0.424034  0.059056    NaN  0.006834  0.015414  -0.038090  0.046532   \n",
       "plate      0.112397  0.093601    NaN  0.040795 -0.093723   1.000000  0.229811   \n",
       "mjd        0.095658  0.070354    NaN  0.026284 -0.086558   0.966880  0.190328   \n",
       "class      0.215758 -0.078162    NaN -0.006186  0.007713   0.585493  0.053593   \n",
       "\n",
       "           redshift     plate       mjd     class  \n",
       "objid           NaN       NaN       NaN       NaN  \n",
       "ra         0.030307 -0.095329 -0.086887 -0.043219  \n",
       "dec        0.067021  0.088342  0.066147 -0.058918  \n",
       "u          0.163741 -0.129430 -0.168793 -0.269044  \n",
       "g          0.407576 -0.054981 -0.092772 -0.099212  \n",
       "r          0.441080  0.019787 -0.009345  0.049628  \n",
       "i          0.431450  0.072958  0.050896  0.146791  \n",
       "z          0.424034  0.112397  0.095658  0.215758  \n",
       "run        0.059056  0.093601  0.070354 -0.078162  \n",
       "rerun           NaN       NaN       NaN       NaN  \n",
       "camcol     0.006834  0.040795  0.026284 -0.006186  \n",
       "field      0.015414 -0.093723 -0.086558  0.007713  \n",
       "specobjid -0.038090  1.000000  0.966880  0.585493  \n",
       "fiberid    0.046532  0.229811  0.190328  0.053593  \n",
       "redshift   1.000000 -0.038091 -0.057957 -0.075510  \n",
       "plate     -0.038091  1.000000  0.966881  0.585495  \n",
       "mjd       -0.057957  0.966881  1.000000  0.648768  \n",
       "class     -0.075510  0.585495  0.648768  1.000000  "
      ]
     },
     "execution_count": 26,
     "metadata": {},
     "output_type": "execute_result"
    }
   ],
   "source": [
    "df.corr()"
   ]
  },
  {
   "cell_type": "code",
   "execution_count": 27,
   "id": "2340a1af",
   "metadata": {},
   "outputs": [
    {
     "data": {
      "text/plain": [
       "<AxesSubplot:>"
      ]
     },
     "execution_count": 27,
     "metadata": {},
     "output_type": "execute_result"
    },
    {
     "data": {
      "image/png": "[encoded data removed]",
      "text/plain": [
       "<Figure size 1080x504 with 2 Axes>"
      ]
     },
     "metadata": {
      "needs_background": "light"
     },
     "output_type": "display_data"
    }
   ],
   "source": [
    "plt.figure(figsize=(15,7))\n",
    "sns.heatmap(df.corr(), annot = True, linecolor = 'black', linewidth = 0.5)"
   ]
  },
  {
   "cell_type": "raw",
   "id": "55be2bde",
   "metadata": {},
   "source": [
    "From the above heatmap we can see that there is a multicolinearity between plate & mjd, i & z and g & r.\n",
    "We can see that -\n",
    "mjd is contributing 0.65 and plate is 0.59.\n",
    "z is contributing 0.22 and i is 0.15.\n",
    "r is contributing 0.05 and g is -0.09.\n",
    "\n",
    "We must remove the ones that are contributing less than the other."
   ]
  },
  {
   "cell_type": "code",
   "execution_count": 28,
   "id": "67e9fc0d",
   "metadata": {},
   "outputs": [],
   "source": [
    "#Calculating VIF\n",
    "\n",
    "from statsmodels.stats.outliers_influence import variance_inflation_factor"
   ]
  },
  {
   "cell_type": "code",
   "execution_count": 29,
   "id": "246e41a0",
   "metadata": {},
   "outputs": [],
   "source": [
    "#drop target column before calculating VIF on independent features\n",
    "x = df.drop([\"class\"], axis =1)"
   ]
  },
  {
   "cell_type": "code",
   "execution_count": 30,
   "id": "97ecf98c",
   "metadata": {},
   "outputs": [
    {
     "name": "stdout",
     "output_type": "stream",
     "text": [
      "      VIF factor   features\n",
      "0   0.000000e+00      objid\n",
      "1   1.009171e+00         ra\n",
      "2   1.007866e+00        dec\n",
      "3   1.017037e+00          u\n",
      "4   1.003032e+00          g\n",
      "5   1.000392e+00          r\n",
      "6   1.005352e+00          i\n",
      "7   1.012795e+00          z\n",
      "8   1.008839e+00        run\n",
      "9   0.000000e+00      rerun\n",
      "10  1.001668e+00     camcol\n",
      "11  1.008862e+00      field\n",
      "12  8.824861e+01  specobjid\n",
      "13  1.055771e+00    fiberid\n",
      "14  1.001453e+00   redshift\n",
      "15  1.330981e+09      plate\n",
      "16  1.535078e+01        mjd\n",
      "None\n"
     ]
    }
   ],
   "source": [
    "def vif_calc():\n",
    "    vif = pd.DataFrame()\n",
    "    vif[\"VIF factor\"] = [variance_inflation_factor(x.values,i) for i in range(x.shape[1])]\n",
    "    vif[\"features\"] = x.columns\n",
    "    print(vif)\n",
    "    \n",
    "print(vif_calc())"
   ]
  },
  {
   "cell_type": "code",
   "execution_count": 31,
   "id": "1b6a796f",
   "metadata": {},
   "outputs": [
    {
     "data": {
      "text/html": [
       "<div>\n",
       "<style scoped>\n",
       "    .dataframe tbody tr th:only-of-type {\n",
       "        vertical-align: middle;\n",
       "    }\n",
       "\n",
       "    .dataframe tbody tr th {\n",
       "        vertical-align: top;\n",
       "    }\n",
       "\n",
       "    .dataframe thead th {\n",
       "        text-align: right;\n",
       "    }\n",
       "</style>\n",
       "<table border=\"1\" class=\"dataframe\">\n",
       "  <thead>\n",
       "    <tr style=\"text-align: right;\">\n",
       "      <th></th>\n",
       "      <th>objid</th>\n",
       "      <th>ra</th>\n",
       "      <th>dec</th>\n",
       "      <th>u</th>\n",
       "      <th>r</th>\n",
       "      <th>z</th>\n",
       "      <th>run</th>\n",
       "      <th>rerun</th>\n",
       "      <th>camcol</th>\n",
       "      <th>field</th>\n",
       "      <th>specobjid</th>\n",
       "      <th>fiberid</th>\n",
       "      <th>redshift</th>\n",
       "      <th>mjd</th>\n",
       "      <th>class</th>\n",
       "    </tr>\n",
       "  </thead>\n",
       "  <tbody>\n",
       "    <tr>\n",
       "      <th>0</th>\n",
       "      <td>1.237650e+18</td>\n",
       "      <td>183.531326</td>\n",
       "      <td>0.089693</td>\n",
       "      <td>19.47406</td>\n",
       "      <td>15.94699</td>\n",
       "      <td>15.22531</td>\n",
       "      <td>752</td>\n",
       "      <td>301</td>\n",
       "      <td>4</td>\n",
       "      <td>267</td>\n",
       "      <td>3.722360e+18</td>\n",
       "      <td>491</td>\n",
       "      <td>-0.000009</td>\n",
       "      <td>54922</td>\n",
       "      <td>2</td>\n",
       "    </tr>\n",
       "    <tr>\n",
       "      <th>1</th>\n",
       "      <td>1.237650e+18</td>\n",
       "      <td>183.598370</td>\n",
       "      <td>0.135285</td>\n",
       "      <td>18.66280</td>\n",
       "      <td>16.67637</td>\n",
       "      <td>16.39150</td>\n",
       "      <td>752</td>\n",
       "      <td>301</td>\n",
       "      <td>4</td>\n",
       "      <td>267</td>\n",
       "      <td>3.638140e+17</td>\n",
       "      <td>541</td>\n",
       "      <td>-0.000055</td>\n",
       "      <td>51615</td>\n",
       "      <td>2</td>\n",
       "    </tr>\n",
       "    <tr>\n",
       "      <th>2</th>\n",
       "      <td>1.237650e+18</td>\n",
       "      <td>183.680207</td>\n",
       "      <td>0.126185</td>\n",
       "      <td>19.38298</td>\n",
       "      <td>17.47428</td>\n",
       "      <td>16.80125</td>\n",
       "      <td>752</td>\n",
       "      <td>301</td>\n",
       "      <td>4</td>\n",
       "      <td>268</td>\n",
       "      <td>3.232740e+17</td>\n",
       "      <td>513</td>\n",
       "      <td>0.123111</td>\n",
       "      <td>52023</td>\n",
       "      <td>0</td>\n",
       "    </tr>\n",
       "    <tr>\n",
       "      <th>3</th>\n",
       "      <td>1.237650e+18</td>\n",
       "      <td>183.870529</td>\n",
       "      <td>0.049911</td>\n",
       "      <td>17.76536</td>\n",
       "      <td>16.16116</td>\n",
       "      <td>15.90438</td>\n",
       "      <td>752</td>\n",
       "      <td>301</td>\n",
       "      <td>4</td>\n",
       "      <td>269</td>\n",
       "      <td>3.722370e+18</td>\n",
       "      <td>510</td>\n",
       "      <td>-0.000111</td>\n",
       "      <td>54922</td>\n",
       "      <td>2</td>\n",
       "    </tr>\n",
       "    <tr>\n",
       "      <th>4</th>\n",
       "      <td>1.237650e+18</td>\n",
       "      <td>183.883288</td>\n",
       "      <td>0.102557</td>\n",
       "      <td>17.55025</td>\n",
       "      <td>16.43869</td>\n",
       "      <td>16.61326</td>\n",
       "      <td>752</td>\n",
       "      <td>301</td>\n",
       "      <td>4</td>\n",
       "      <td>269</td>\n",
       "      <td>3.722370e+18</td>\n",
       "      <td>512</td>\n",
       "      <td>0.000590</td>\n",
       "      <td>54922</td>\n",
       "      <td>2</td>\n",
       "    </tr>\n",
       "    <tr>\n",
       "      <th>...</th>\n",
       "      <td>...</td>\n",
       "      <td>...</td>\n",
       "      <td>...</td>\n",
       "      <td>...</td>\n",
       "      <td>...</td>\n",
       "      <td>...</td>\n",
       "      <td>...</td>\n",
       "      <td>...</td>\n",
       "      <td>...</td>\n",
       "      <td>...</td>\n",
       "      <td>...</td>\n",
       "      <td>...</td>\n",
       "      <td>...</td>\n",
       "      <td>...</td>\n",
       "      <td>...</td>\n",
       "    </tr>\n",
       "    <tr>\n",
       "      <th>9995</th>\n",
       "      <td>1.237650e+18</td>\n",
       "      <td>131.316413</td>\n",
       "      <td>51.539547</td>\n",
       "      <td>18.81777</td>\n",
       "      <td>16.91508</td>\n",
       "      <td>16.50570</td>\n",
       "      <td>1345</td>\n",
       "      <td>301</td>\n",
       "      <td>3</td>\n",
       "      <td>161</td>\n",
       "      <td>5.033450e+17</td>\n",
       "      <td>246</td>\n",
       "      <td>0.027583</td>\n",
       "      <td>51877</td>\n",
       "      <td>0</td>\n",
       "    </tr>\n",
       "    <tr>\n",
       "      <th>9996</th>\n",
       "      <td>1.237650e+18</td>\n",
       "      <td>131.306083</td>\n",
       "      <td>51.671341</td>\n",
       "      <td>18.27255</td>\n",
       "      <td>17.07692</td>\n",
       "      <td>16.69897</td>\n",
       "      <td>1345</td>\n",
       "      <td>301</td>\n",
       "      <td>3</td>\n",
       "      <td>162</td>\n",
       "      <td>5.033400e+17</td>\n",
       "      <td>228</td>\n",
       "      <td>0.117772</td>\n",
       "      <td>51877</td>\n",
       "      <td>0</td>\n",
       "    </tr>\n",
       "    <tr>\n",
       "      <th>9997</th>\n",
       "      <td>1.237650e+18</td>\n",
       "      <td>131.552562</td>\n",
       "      <td>51.666986</td>\n",
       "      <td>18.75818</td>\n",
       "      <td>17.51872</td>\n",
       "      <td>17.42048</td>\n",
       "      <td>1345</td>\n",
       "      <td>301</td>\n",
       "      <td>3</td>\n",
       "      <td>162</td>\n",
       "      <td>8.222620e+18</td>\n",
       "      <td>622</td>\n",
       "      <td>-0.000402</td>\n",
       "      <td>57013</td>\n",
       "      <td>2</td>\n",
       "    </tr>\n",
       "    <tr>\n",
       "      <th>9998</th>\n",
       "      <td>1.237650e+18</td>\n",
       "      <td>131.477151</td>\n",
       "      <td>51.753068</td>\n",
       "      <td>18.88287</td>\n",
       "      <td>17.53152</td>\n",
       "      <td>17.13988</td>\n",
       "      <td>1345</td>\n",
       "      <td>301</td>\n",
       "      <td>3</td>\n",
       "      <td>163</td>\n",
       "      <td>5.033400e+17</td>\n",
       "      <td>229</td>\n",
       "      <td>0.014019</td>\n",
       "      <td>51877</td>\n",
       "      <td>0</td>\n",
       "    </tr>\n",
       "    <tr>\n",
       "      <th>9999</th>\n",
       "      <td>1.237650e+18</td>\n",
       "      <td>131.665012</td>\n",
       "      <td>51.805307</td>\n",
       "      <td>19.27586</td>\n",
       "      <td>16.30542</td>\n",
       "      <td>15.50588</td>\n",
       "      <td>1345</td>\n",
       "      <td>301</td>\n",
       "      <td>3</td>\n",
       "      <td>163</td>\n",
       "      <td>5.033410e+17</td>\n",
       "      <td>233</td>\n",
       "      <td>0.118417</td>\n",
       "      <td>51877</td>\n",
       "      <td>0</td>\n",
       "    </tr>\n",
       "  </tbody>\n",
       "</table>\n",
       "<p>10000 rows × 15 columns</p>\n",
       "</div>"
      ],
      "text/plain": [
       "             objid          ra        dec         u         r         z   run  \\\n",
       "0     1.237650e+18  183.531326   0.089693  19.47406  15.94699  15.22531   752   \n",
       "1     1.237650e+18  183.598370   0.135285  18.66280  16.67637  16.39150   752   \n",
       "2     1.237650e+18  183.680207   0.126185  19.38298  17.47428  16.80125   752   \n",
       "3     1.237650e+18  183.870529   0.049911  17.76536  16.16116  15.90438   752   \n",
       "4     1.237650e+18  183.883288   0.102557  17.55025  16.43869  16.61326   752   \n",
       "...            ...         ...        ...       ...       ...       ...   ...   \n",
       "9995  1.237650e+18  131.316413  51.539547  18.81777  16.91508  16.50570  1345   \n",
       "9996  1.237650e+18  131.306083  51.671341  18.27255  17.07692  16.69897  1345   \n",
       "9997  1.237650e+18  131.552562  51.666986  18.75818  17.51872  17.42048  1345   \n",
       "9998  1.237650e+18  131.477151  51.753068  18.88287  17.53152  17.13988  1345   \n",
       "9999  1.237650e+18  131.665012  51.805307  19.27586  16.30542  15.50588  1345   \n",
       "\n",
       "      rerun  camcol  field     specobjid  fiberid  redshift    mjd  class  \n",
       "0       301       4    267  3.722360e+18      491 -0.000009  54922      2  \n",
       "1       301       4    267  3.638140e+17      541 -0.000055  51615      2  \n",
       "2       301       4    268  3.232740e+17      513  0.123111  52023      0  \n",
       "3       301       4    269  3.722370e+18      510 -0.000111  54922      2  \n",
       "4       301       4    269  3.722370e+18      512  0.000590  54922      2  \n",
       "...     ...     ...    ...           ...      ...       ...    ...    ...  \n",
       "9995    301       3    161  5.033450e+17      246  0.027583  51877      0  \n",
       "9996    301       3    162  5.033400e+17      228  0.117772  51877      0  \n",
       "9997    301       3    162  8.222620e+18      622 -0.000402  57013      2  \n",
       "9998    301       3    163  5.033400e+17      229  0.014019  51877      0  \n",
       "9999    301       3    163  5.033410e+17      233  0.118417  51877      0  \n",
       "\n",
       "[10000 rows x 15 columns]"
      ]
     },
     "execution_count": 31,
     "metadata": {},
     "output_type": "execute_result"
    }
   ],
   "source": [
    "#dropping columns which are contributing less to the target column\n",
    "\n",
    "df1 = df.drop(['plate', 'i', 'g'], axis = 1)\n",
    "df1"
   ]
  },
  {
   "cell_type": "code",
   "execution_count": 32,
   "id": "37216a1e",
   "metadata": {},
   "outputs": [
    {
     "data": {
      "text/plain": [
       "objid          AxesSubplot(0.125,0.821923;0.0945122x0.0580769)\n",
       "ra           AxesSubplot(0.238415,0.821923;0.0945122x0.0580...\n",
       "dec          AxesSubplot(0.351829,0.821923;0.0945122x0.0580...\n",
       "u            AxesSubplot(0.465244,0.821923;0.0945122x0.0580...\n",
       "g            AxesSubplot(0.578659,0.821923;0.0945122x0.0580...\n",
       "r            AxesSubplot(0.692073,0.821923;0.0945122x0.0580...\n",
       "i            AxesSubplot(0.805488,0.821923;0.0945122x0.0580...\n",
       "z              AxesSubplot(0.125,0.752231;0.0945122x0.0580769)\n",
       "run          AxesSubplot(0.238415,0.752231;0.0945122x0.0580...\n",
       "rerun        AxesSubplot(0.351829,0.752231;0.0945122x0.0580...\n",
       "camcol       AxesSubplot(0.465244,0.752231;0.0945122x0.0580...\n",
       "field        AxesSubplot(0.578659,0.752231;0.0945122x0.0580...\n",
       "specobjid    AxesSubplot(0.692073,0.752231;0.0945122x0.0580...\n",
       "fiberid      AxesSubplot(0.805488,0.752231;0.0945122x0.0580...\n",
       "redshift       AxesSubplot(0.125,0.682538;0.0945122x0.0580769)\n",
       "plate        AxesSubplot(0.238415,0.682538;0.0945122x0.0580...\n",
       "mjd          AxesSubplot(0.351829,0.682538;0.0945122x0.0580...\n",
       "class        AxesSubplot(0.465244,0.682538;0.0945122x0.0580...\n",
       "dtype: object"
      ]
     },
     "execution_count": 32,
     "metadata": {},
     "output_type": "execute_result"
    },
    {
     "data": {
      "image/png": "[encoded data removed]",
      "text/plain": [
       "<Figure size 1440x3600 with 77 Axes>"
      ]
     },
     "metadata": {
      "needs_background": "light"
     },
     "output_type": "display_data"
    }
   ],
   "source": [
    "#Checking outliers\n",
    "\n",
    "df.plot(kind='box', subplots=True, layout=(11,7),figsize=(20,50))"
   ]
  },
  {
   "cell_type": "code",
   "execution_count": 33,
   "id": "6abcae36",
   "metadata": {},
   "outputs": [],
   "source": [
    "from scipy.stats import zscore"
   ]
  },
  {
   "cell_type": "code",
   "execution_count": 34,
   "id": "f30c9be0",
   "metadata": {},
   "outputs": [],
   "source": [
    "z = pd.DataFrame(zscore(df1))\n",
    "z.fillna(0, inplace=True)\n",
    "z = np.abs(z < 3).all(axis=1)\n",
    "df2 = df1[z]\n",
    "\n",
    "#Our dataframe columns has non-unique value i.e the column full of categorial value of 1 (objid & rerun).\n",
    "#Zscore turns these columns into NaN values. np.abs just turns it to True.\n",
    "#The reason is we have to fillna before \"np.abs()\" -- replacing NAN with 0s. "
   ]
  },
  {
   "cell_type": "code",
   "execution_count": 35,
   "id": "3720d52e",
   "metadata": {},
   "outputs": [
    {
     "data": {
      "text/html": [
       "<div>\n",
       "<style scoped>\n",
       "    .dataframe tbody tr th:only-of-type {\n",
       "        vertical-align: middle;\n",
       "    }\n",
       "\n",
       "    .dataframe tbody tr th {\n",
       "        vertical-align: top;\n",
       "    }\n",
       "\n",
       "    .dataframe thead th {\n",
       "        text-align: right;\n",
       "    }\n",
       "</style>\n",
       "<table border=\"1\" class=\"dataframe\">\n",
       "  <thead>\n",
       "    <tr style=\"text-align: right;\">\n",
       "      <th></th>\n",
       "      <th>objid</th>\n",
       "      <th>ra</th>\n",
       "      <th>dec</th>\n",
       "      <th>u</th>\n",
       "      <th>r</th>\n",
       "      <th>z</th>\n",
       "      <th>run</th>\n",
       "      <th>rerun</th>\n",
       "      <th>camcol</th>\n",
       "      <th>field</th>\n",
       "      <th>specobjid</th>\n",
       "      <th>fiberid</th>\n",
       "      <th>redshift</th>\n",
       "      <th>mjd</th>\n",
       "      <th>class</th>\n",
       "    </tr>\n",
       "  </thead>\n",
       "  <tbody>\n",
       "    <tr>\n",
       "      <th>0</th>\n",
       "      <td>1.237650e+18</td>\n",
       "      <td>183.531326</td>\n",
       "      <td>0.089693</td>\n",
       "      <td>19.47406</td>\n",
       "      <td>15.94699</td>\n",
       "      <td>15.22531</td>\n",
       "      <td>752</td>\n",
       "      <td>301</td>\n",
       "      <td>4</td>\n",
       "      <td>267</td>\n",
       "      <td>3.722360e+18</td>\n",
       "      <td>491</td>\n",
       "      <td>-0.000009</td>\n",
       "      <td>54922</td>\n",
       "      <td>2</td>\n",
       "    </tr>\n",
       "    <tr>\n",
       "      <th>1</th>\n",
       "      <td>1.237650e+18</td>\n",
       "      <td>183.598370</td>\n",
       "      <td>0.135285</td>\n",
       "      <td>18.66280</td>\n",
       "      <td>16.67637</td>\n",
       "      <td>16.39150</td>\n",
       "      <td>752</td>\n",
       "      <td>301</td>\n",
       "      <td>4</td>\n",
       "      <td>267</td>\n",
       "      <td>3.638140e+17</td>\n",
       "      <td>541</td>\n",
       "      <td>-0.000055</td>\n",
       "      <td>51615</td>\n",
       "      <td>2</td>\n",
       "    </tr>\n",
       "    <tr>\n",
       "      <th>2</th>\n",
       "      <td>1.237650e+18</td>\n",
       "      <td>183.680207</td>\n",
       "      <td>0.126185</td>\n",
       "      <td>19.38298</td>\n",
       "      <td>17.47428</td>\n",
       "      <td>16.80125</td>\n",
       "      <td>752</td>\n",
       "      <td>301</td>\n",
       "      <td>4</td>\n",
       "      <td>268</td>\n",
       "      <td>3.232740e+17</td>\n",
       "      <td>513</td>\n",
       "      <td>0.123111</td>\n",
       "      <td>52023</td>\n",
       "      <td>0</td>\n",
       "    </tr>\n",
       "    <tr>\n",
       "      <th>3</th>\n",
       "      <td>1.237650e+18</td>\n",
       "      <td>183.870529</td>\n",
       "      <td>0.049911</td>\n",
       "      <td>17.76536</td>\n",
       "      <td>16.16116</td>\n",
       "      <td>15.90438</td>\n",
       "      <td>752</td>\n",
       "      <td>301</td>\n",
       "      <td>4</td>\n",
       "      <td>269</td>\n",
       "      <td>3.722370e+18</td>\n",
       "      <td>510</td>\n",
       "      <td>-0.000111</td>\n",
       "      <td>54922</td>\n",
       "      <td>2</td>\n",
       "    </tr>\n",
       "    <tr>\n",
       "      <th>4</th>\n",
       "      <td>1.237650e+18</td>\n",
       "      <td>183.883288</td>\n",
       "      <td>0.102557</td>\n",
       "      <td>17.55025</td>\n",
       "      <td>16.43869</td>\n",
       "      <td>16.61326</td>\n",
       "      <td>752</td>\n",
       "      <td>301</td>\n",
       "      <td>4</td>\n",
       "      <td>269</td>\n",
       "      <td>3.722370e+18</td>\n",
       "      <td>512</td>\n",
       "      <td>0.000590</td>\n",
       "      <td>54922</td>\n",
       "      <td>2</td>\n",
       "    </tr>\n",
       "    <tr>\n",
       "      <th>...</th>\n",
       "      <td>...</td>\n",
       "      <td>...</td>\n",
       "      <td>...</td>\n",
       "      <td>...</td>\n",
       "      <td>...</td>\n",
       "      <td>...</td>\n",
       "      <td>...</td>\n",
       "      <td>...</td>\n",
       "      <td>...</td>\n",
       "      <td>...</td>\n",
       "      <td>...</td>\n",
       "      <td>...</td>\n",
       "      <td>...</td>\n",
       "      <td>...</td>\n",
       "      <td>...</td>\n",
       "    </tr>\n",
       "    <tr>\n",
       "      <th>9993</th>\n",
       "      <td>1.237650e+18</td>\n",
       "      <td>131.398915</td>\n",
       "      <td>51.533706</td>\n",
       "      <td>17.79613</td>\n",
       "      <td>15.15955</td>\n",
       "      <td>14.33840</td>\n",
       "      <td>1345</td>\n",
       "      <td>301</td>\n",
       "      <td>3</td>\n",
       "      <td>161</td>\n",
       "      <td>5.033460e+17</td>\n",
       "      <td>249</td>\n",
       "      <td>0.055515</td>\n",
       "      <td>51877</td>\n",
       "      <td>0</td>\n",
       "    </tr>\n",
       "    <tr>\n",
       "      <th>9995</th>\n",
       "      <td>1.237650e+18</td>\n",
       "      <td>131.316413</td>\n",
       "      <td>51.539547</td>\n",
       "      <td>18.81777</td>\n",
       "      <td>16.91508</td>\n",
       "      <td>16.50570</td>\n",
       "      <td>1345</td>\n",
       "      <td>301</td>\n",
       "      <td>3</td>\n",
       "      <td>161</td>\n",
       "      <td>5.033450e+17</td>\n",
       "      <td>246</td>\n",
       "      <td>0.027583</td>\n",
       "      <td>51877</td>\n",
       "      <td>0</td>\n",
       "    </tr>\n",
       "    <tr>\n",
       "      <th>9996</th>\n",
       "      <td>1.237650e+18</td>\n",
       "      <td>131.306083</td>\n",
       "      <td>51.671341</td>\n",
       "      <td>18.27255</td>\n",
       "      <td>17.07692</td>\n",
       "      <td>16.69897</td>\n",
       "      <td>1345</td>\n",
       "      <td>301</td>\n",
       "      <td>3</td>\n",
       "      <td>162</td>\n",
       "      <td>5.033400e+17</td>\n",
       "      <td>228</td>\n",
       "      <td>0.117772</td>\n",
       "      <td>51877</td>\n",
       "      <td>0</td>\n",
       "    </tr>\n",
       "    <tr>\n",
       "      <th>9998</th>\n",
       "      <td>1.237650e+18</td>\n",
       "      <td>131.477151</td>\n",
       "      <td>51.753068</td>\n",
       "      <td>18.88287</td>\n",
       "      <td>17.53152</td>\n",
       "      <td>17.13988</td>\n",
       "      <td>1345</td>\n",
       "      <td>301</td>\n",
       "      <td>3</td>\n",
       "      <td>163</td>\n",
       "      <td>5.033400e+17</td>\n",
       "      <td>229</td>\n",
       "      <td>0.014019</td>\n",
       "      <td>51877</td>\n",
       "      <td>0</td>\n",
       "    </tr>\n",
       "    <tr>\n",
       "      <th>9999</th>\n",
       "      <td>1.237650e+18</td>\n",
       "      <td>131.665012</td>\n",
       "      <td>51.805307</td>\n",
       "      <td>19.27586</td>\n",
       "      <td>16.30542</td>\n",
       "      <td>15.50588</td>\n",
       "      <td>1345</td>\n",
       "      <td>301</td>\n",
       "      <td>3</td>\n",
       "      <td>163</td>\n",
       "      <td>5.033410e+17</td>\n",
       "      <td>233</td>\n",
       "      <td>0.118417</td>\n",
       "      <td>51877</td>\n",
       "      <td>0</td>\n",
       "    </tr>\n",
       "  </tbody>\n",
       "</table>\n",
       "<p>9170 rows × 15 columns</p>\n",
       "</div>"
      ],
      "text/plain": [
       "             objid          ra        dec         u         r         z   run  \\\n",
       "0     1.237650e+18  183.531326   0.089693  19.47406  15.94699  15.22531   752   \n",
       "1     1.237650e+18  183.598370   0.135285  18.66280  16.67637  16.39150   752   \n",
       "2     1.237650e+18  183.680207   0.126185  19.38298  17.47428  16.80125   752   \n",
       "3     1.237650e+18  183.870529   0.049911  17.76536  16.16116  15.90438   752   \n",
       "4     1.237650e+18  183.883288   0.102557  17.55025  16.43869  16.61326   752   \n",
       "...            ...         ...        ...       ...       ...       ...   ...   \n",
       "9993  1.237650e+18  131.398915  51.533706  17.79613  15.15955  14.33840  1345   \n",
       "9995  1.237650e+18  131.316413  51.539547  18.81777  16.91508  16.50570  1345   \n",
       "9996  1.237650e+18  131.306083  51.671341  18.27255  17.07692  16.69897  1345   \n",
       "9998  1.237650e+18  131.477151  51.753068  18.88287  17.53152  17.13988  1345   \n",
       "9999  1.237650e+18  131.665012  51.805307  19.27586  16.30542  15.50588  1345   \n",
       "\n",
       "      rerun  camcol  field     specobjid  fiberid  redshift    mjd  class  \n",
       "0       301       4    267  3.722360e+18      491 -0.000009  54922      2  \n",
       "1       301       4    267  3.638140e+17      541 -0.000055  51615      2  \n",
       "2       301       4    268  3.232740e+17      513  0.123111  52023      0  \n",
       "3       301       4    269  3.722370e+18      510 -0.000111  54922      2  \n",
       "4       301       4    269  3.722370e+18      512  0.000590  54922      2  \n",
       "...     ...     ...    ...           ...      ...       ...    ...    ...  \n",
       "9993    301       3    161  5.033460e+17      249  0.055515  51877      0  \n",
       "9995    301       3    161  5.033450e+17      246  0.027583  51877      0  \n",
       "9996    301       3    162  5.033400e+17      228  0.117772  51877      0  \n",
       "9998    301       3    163  5.033400e+17      229  0.014019  51877      0  \n",
       "9999    301       3    163  5.033410e+17      233  0.118417  51877      0  \n",
       "\n",
       "[9170 rows x 15 columns]"
      ]
     },
     "execution_count": 35,
     "metadata": {},
     "output_type": "execute_result"
    }
   ],
   "source": [
    "df2"
   ]
  },
  {
   "cell_type": "code",
   "execution_count": 36,
   "id": "8efac46f",
   "metadata": {},
   "outputs": [
    {
     "name": "stdout",
     "output_type": "stream",
     "text": [
      "(10000, 15)\n",
      "(9170, 15)\n"
     ]
    }
   ],
   "source": [
    "print(df1.shape)\n",
    "print(df2.shape)"
   ]
  },
  {
   "cell_type": "code",
   "execution_count": 37,
   "id": "f923f826",
   "metadata": {},
   "outputs": [
    {
     "name": "stdout",
     "output_type": "stream",
     "text": [
      "8.3\n"
     ]
    }
   ],
   "source": [
    "#Percentage of data loss\n",
    "\n",
    "loss = ((10000-9170)/10000)*100\n",
    "print(loss)"
   ]
  },
  {
   "cell_type": "code",
   "execution_count": 38,
   "id": "0b7d25de",
   "metadata": {},
   "outputs": [
    {
     "data": {
      "text/plain": [
       "objid        0.000000\n",
       "ra          -1.257904\n",
       "dec          1.245585\n",
       "u           -1.191982\n",
       "r           -0.274482\n",
       "z            0.069495\n",
       "run          0.500758\n",
       "rerun        0.000000\n",
       "camcol      -0.073781\n",
       "field        0.245002\n",
       "specobjid    1.291279\n",
       "fiberid      0.119180\n",
       "redshift     4.983859\n",
       "mjd          0.945830\n",
       "class        0.264014\n",
       "dtype: float64"
      ]
     },
     "execution_count": 38,
     "metadata": {},
     "output_type": "execute_result"
    }
   ],
   "source": [
    "df2.skew()"
   ]
  },
  {
   "cell_type": "code",
   "execution_count": 39,
   "id": "284737e2",
   "metadata": {},
   "outputs": [
    {
     "data": {
      "text/plain": [
       "<AxesSubplot:xlabel='ra', ylabel='Density'>"
      ]
     },
     "execution_count": 39,
     "metadata": {},
     "output_type": "execute_result"
    },
    {
     "data": {
      "image/png": "[encoded data removed]",
      "text/plain": [
       "<Figure size 432x288 with 1 Axes>"
      ]
     },
     "metadata": {
      "needs_background": "light"
     },
     "output_type": "display_data"
    }
   ],
   "source": [
    "sns.distplot(df['ra'])"
   ]
  },
  {
   "cell_type": "code",
   "execution_count": 40,
   "id": "e1b381f2",
   "metadata": {},
   "outputs": [
    {
     "data": {
      "text/plain": [
       "<AxesSubplot:xlabel='dec', ylabel='Density'>"
      ]
     },
     "execution_count": 40,
     "metadata": {},
     "output_type": "execute_result"
    },
    {
     "data": {
      "image/png": "[encoded data removed]",
      "text/plain": [
       "<Figure size 432x288 with 1 Axes>"
      ]
     },
     "metadata": {
      "needs_background": "light"
     },
     "output_type": "display_data"
    }
   ],
   "source": [
    "sns.distplot(df['dec'])"
   ]
  },
  {
   "cell_type": "code",
   "execution_count": 41,
   "id": "4280f105",
   "metadata": {},
   "outputs": [
    {
     "data": {
      "text/plain": [
       "<AxesSubplot:xlabel='u', ylabel='Density'>"
      ]
     },
     "execution_count": 41,
     "metadata": {},
     "output_type": "execute_result"
    },
    {
     "data": {
      "image/png": "[encoded data removed]",
      "text/plain": [
       "<Figure size 432x288 with 1 Axes>"
      ]
     },
     "metadata": {
      "needs_background": "light"
     },
     "output_type": "display_data"
    }
   ],
   "source": [
    "sns.distplot(df['u'])"
   ]
  },
  {
   "cell_type": "code",
   "execution_count": 42,
   "id": "6ca11754",
   "metadata": {},
   "outputs": [
    {
     "data": {
      "text/plain": [
       "<AxesSubplot:xlabel='r', ylabel='Density'>"
      ]
     },
     "execution_count": 42,
     "metadata": {},
     "output_type": "execute_result"
    },
    {
     "data": {
      "image/png": "[encoded data removed]",
      "text/plain": [
       "<Figure size 432x288 with 1 Axes>"
      ]
     },
     "metadata": {
      "needs_background": "light"
     },
     "output_type": "display_data"
    }
   ],
   "source": [
    "sns.distplot(df['r'])"
   ]
  },
  {
   "cell_type": "code",
   "execution_count": 43,
   "id": "9522a97c",
   "metadata": {},
   "outputs": [
    {
     "data": {
      "text/plain": [
       "<AxesSubplot:xlabel='z', ylabel='Density'>"
      ]
     },
     "execution_count": 43,
     "metadata": {},
     "output_type": "execute_result"
    },
    {
     "data": {
      "image/png": "[encoded data removed]",
      "text/plain": [
       "<Figure size 432x288 with 1 Axes>"
      ]
     },
     "metadata": {
      "needs_background": "light"
     },
     "output_type": "display_data"
    }
   ],
   "source": [
    "sns.distplot(df['z'])"
   ]
  },
  {
   "cell_type": "code",
   "execution_count": 44,
   "id": "97d51844",
   "metadata": {},
   "outputs": [
    {
     "data": {
      "text/plain": [
       "<AxesSubplot:xlabel='run', ylabel='Density'>"
      ]
     },
     "execution_count": 44,
     "metadata": {},
     "output_type": "execute_result"
    },
    {
     "data": {
      "image/png": "[encoded data removed]",
      "text/plain": [
       "<Figure size 432x288 with 1 Axes>"
      ]
     },
     "metadata": {
      "needs_background": "light"
     },
     "output_type": "display_data"
    }
   ],
   "source": [
    "sns.distplot(df['run'])"
   ]
  },
  {
   "cell_type": "code",
   "execution_count": 45,
   "id": "ea9363fa",
   "metadata": {},
   "outputs": [
    {
     "data": {
      "text/plain": [
       "<AxesSubplot:xlabel='rerun', ylabel='Density'>"
      ]
     },
     "execution_count": 45,
     "metadata": {},
     "output_type": "execute_result"
    },
    {
     "data": {
      "image/png": "[encoded data removed]",
      "text/plain": [
       "<Figure size 432x288 with 1 Axes>"
      ]
     },
     "metadata": {
      "needs_background": "light"
     },
     "output_type": "display_data"
    }
   ],
   "source": [
    "sns.distplot(df['rerun'])"
   ]
  },
  {
   "cell_type": "code",
   "execution_count": 46,
   "id": "2a58a054",
   "metadata": {},
   "outputs": [
    {
     "data": {
      "text/plain": [
       "<AxesSubplot:xlabel='camcol', ylabel='Density'>"
      ]
     },
     "execution_count": 46,
     "metadata": {},
     "output_type": "execute_result"
    },
    {
     "data": {
      "image/png": "[encoded data removed]",
      "text/plain": [
       "<Figure size 432x288 with 1 Axes>"
      ]
     },
     "metadata": {
      "needs_background": "light"
     },
     "output_type": "display_data"
    }
   ],
   "source": [
    "sns.distplot(df['camcol'])"
   ]
  },
  {
   "cell_type": "code",
   "execution_count": 47,
   "id": "12f4375b",
   "metadata": {},
   "outputs": [
    {
     "data": {
      "text/plain": [
       "<AxesSubplot:xlabel='field', ylabel='Density'>"
      ]
     },
     "execution_count": 47,
     "metadata": {},
     "output_type": "execute_result"
    },
    {
     "data": {
      "image/png": "[encoded data removed]",
      "text/plain": [
       "<Figure size 432x288 with 1 Axes>"
      ]
     },
     "metadata": {
      "needs_background": "light"
     },
     "output_type": "display_data"
    }
   ],
   "source": [
    "sns.distplot(df['field'])"
   ]
  },
  {
   "cell_type": "code",
   "execution_count": 48,
   "id": "a8aaed03",
   "metadata": {},
   "outputs": [
    {
     "data": {
      "text/plain": [
       "<AxesSubplot:xlabel='specobjid', ylabel='Density'>"
      ]
     },
     "execution_count": 48,
     "metadata": {},
     "output_type": "execute_result"
    },
    {
     "data": {
      "image/png": "[encoded data removed]",
      "text/plain": [
       "<Figure size 432x288 with 1 Axes>"
      ]
     },
     "metadata": {
      "needs_background": "light"
     },
     "output_type": "display_data"
    }
   ],
   "source": [
    "sns.distplot(df['specobjid'])"
   ]
  },
  {
   "cell_type": "code",
   "execution_count": 49,
   "id": "5ca5ac40",
   "metadata": {},
   "outputs": [
    {
     "data": {
      "text/plain": [
       "<AxesSubplot:xlabel='fiberid', ylabel='Density'>"
      ]
     },
     "execution_count": 49,
     "metadata": {},
     "output_type": "execute_result"
    },
    {
     "data": {
      "image/png": "[encoded data removed]",
      "text/plain": [
       "<Figure size 432x288 with 1 Axes>"
      ]
     },
     "metadata": {
      "needs_background": "light"
     },
     "output_type": "display_data"
    }
   ],
   "source": [
    "sns.distplot(df['fiberid'])"
   ]
  },
  {
   "cell_type": "code",
   "execution_count": 50,
   "id": "b0f0bd64",
   "metadata": {},
   "outputs": [
    {
     "data": {
      "text/plain": [
       "<AxesSubplot:xlabel='redshift', ylabel='Density'>"
      ]
     },
     "execution_count": 50,
     "metadata": {},
     "output_type": "execute_result"
    },
    {
     "data": {
      "image/png": "[encoded data removed]",
      "text/plain": [
       "<Figure size 432x288 with 1 Axes>"
      ]
     },
     "metadata": {
      "needs_background": "light"
     },
     "output_type": "display_data"
    }
   ],
   "source": [
    "sns.distplot(df['redshift'])"
   ]
  },
  {
   "cell_type": "code",
   "execution_count": 51,
   "id": "ef622603",
   "metadata": {},
   "outputs": [
    {
     "data": {
      "text/plain": [
       "<AxesSubplot:xlabel='mjd', ylabel='Density'>"
      ]
     },
     "execution_count": 51,
     "metadata": {},
     "output_type": "execute_result"
    },
    {
     "data": {
      "image/png": "[encoded data removed]",
      "text/plain": [
       "<Figure size 432x288 with 1 Axes>"
      ]
     },
     "metadata": {
      "needs_background": "light"
     },
     "output_type": "display_data"
    }
   ],
   "source": [
    "sns.distplot(df['mjd'])"
   ]
  },
  {
   "cell_type": "code",
   "execution_count": 52,
   "id": "c0de562a",
   "metadata": {},
   "outputs": [
    {
     "data": {
      "text/html": [
       "<div>\n",
       "<style scoped>\n",
       "    .dataframe tbody tr th:only-of-type {\n",
       "        vertical-align: middle;\n",
       "    }\n",
       "\n",
       "    .dataframe tbody tr th {\n",
       "        vertical-align: top;\n",
       "    }\n",
       "\n",
       "    .dataframe thead th {\n",
       "        text-align: right;\n",
       "    }\n",
       "</style>\n",
       "<table border=\"1\" class=\"dataframe\">\n",
       "  <thead>\n",
       "    <tr style=\"text-align: right;\">\n",
       "      <th></th>\n",
       "      <th>objid</th>\n",
       "      <th>ra</th>\n",
       "      <th>dec</th>\n",
       "      <th>u</th>\n",
       "      <th>r</th>\n",
       "      <th>z</th>\n",
       "      <th>run</th>\n",
       "      <th>rerun</th>\n",
       "      <th>camcol</th>\n",
       "      <th>field</th>\n",
       "      <th>specobjid</th>\n",
       "      <th>fiberid</th>\n",
       "      <th>redshift</th>\n",
       "      <th>mjd</th>\n",
       "      <th>class</th>\n",
       "    </tr>\n",
       "  </thead>\n",
       "  <tbody>\n",
       "    <tr>\n",
       "      <th>count</th>\n",
       "      <td>9.170000e+03</td>\n",
       "      <td>9170.000000</td>\n",
       "      <td>9170.000000</td>\n",
       "      <td>9170.000000</td>\n",
       "      <td>9170.000000</td>\n",
       "      <td>9170.000000</td>\n",
       "      <td>9170.000000</td>\n",
       "      <td>9170.0</td>\n",
       "      <td>9170.000000</td>\n",
       "      <td>9170.000000</td>\n",
       "      <td>9.170000e+03</td>\n",
       "      <td>9170.000000</td>\n",
       "      <td>9170.000000</td>\n",
       "      <td>9170.000000</td>\n",
       "      <td>9170.000000</td>\n",
       "    </tr>\n",
       "    <tr>\n",
       "      <th>mean</th>\n",
       "      <td>1.237650e+18</td>\n",
       "      <td>176.084230</td>\n",
       "      <td>14.356497</td>\n",
       "      <td>18.597697</td>\n",
       "      <td>16.738023</td>\n",
       "      <td>16.299777</td>\n",
       "      <td>972.108397</td>\n",
       "      <td>301.0</td>\n",
       "      <td>3.617448</td>\n",
       "      <td>306.398037</td>\n",
       "      <td>1.346542e+18</td>\n",
       "      <td>339.769575</td>\n",
       "      <td>0.076126</td>\n",
       "      <td>52772.261941</td>\n",
       "      <td>0.869029</td>\n",
       "    </tr>\n",
       "    <tr>\n",
       "      <th>std</th>\n",
       "      <td>1.536084e+05</td>\n",
       "      <td>47.767008</td>\n",
       "      <td>24.903555</td>\n",
       "      <td>0.838911</td>\n",
       "      <td>0.997071</td>\n",
       "      <td>1.121098</td>\n",
       "      <td>270.365494</td>\n",
       "      <td>0.0</td>\n",
       "      <td>1.675561</td>\n",
       "      <td>162.194914</td>\n",
       "      <td>1.464961e+18</td>\n",
       "      <td>191.691759</td>\n",
       "      <td>0.167996</td>\n",
       "      <td>1298.666829</td>\n",
       "      <td>0.967444</td>\n",
       "    </tr>\n",
       "    <tr>\n",
       "      <th>min</th>\n",
       "      <td>1.237650e+18</td>\n",
       "      <td>8.235100</td>\n",
       "      <td>-5.382632</td>\n",
       "      <td>12.988970</td>\n",
       "      <td>12.431600</td>\n",
       "      <td>11.610410</td>\n",
       "      <td>308.000000</td>\n",
       "      <td>301.0</td>\n",
       "      <td>1.000000</td>\n",
       "      <td>11.000000</td>\n",
       "      <td>2.995780e+17</td>\n",
       "      <td>1.000000</td>\n",
       "      <td>-0.004136</td>\n",
       "      <td>51578.000000</td>\n",
       "      <td>0.000000</td>\n",
       "    </tr>\n",
       "    <tr>\n",
       "      <th>25%</th>\n",
       "      <td>1.237650e+18</td>\n",
       "      <td>159.138086</td>\n",
       "      <td>-0.559778</td>\n",
       "      <td>18.141115</td>\n",
       "      <td>16.124003</td>\n",
       "      <td>15.560000</td>\n",
       "      <td>752.000000</td>\n",
       "      <td>301.0</td>\n",
       "      <td>2.000000</td>\n",
       "      <td>193.000000</td>\n",
       "      <td>3.367532e+17</td>\n",
       "      <td>182.000000</td>\n",
       "      <td>0.000080</td>\n",
       "      <td>51899.000000</td>\n",
       "      <td>0.000000</td>\n",
       "    </tr>\n",
       "    <tr>\n",
       "      <th>50%</th>\n",
       "      <td>1.237650e+18</td>\n",
       "      <td>180.383852</td>\n",
       "      <td>0.389098</td>\n",
       "      <td>18.832075</td>\n",
       "      <td>16.790390</td>\n",
       "      <td>16.295750</td>\n",
       "      <td>756.000000</td>\n",
       "      <td>301.0</td>\n",
       "      <td>4.000000</td>\n",
       "      <td>300.000000</td>\n",
       "      <td>4.897865e+17</td>\n",
       "      <td>340.500000</td>\n",
       "      <td>0.041932</td>\n",
       "      <td>51990.000000</td>\n",
       "      <td>0.000000</td>\n",
       "    </tr>\n",
       "    <tr>\n",
       "      <th>75%</th>\n",
       "      <td>1.237650e+18</td>\n",
       "      <td>202.242396</td>\n",
       "      <td>14.648653</td>\n",
       "      <td>19.249465</td>\n",
       "      <td>17.425072</td>\n",
       "      <td>17.015242</td>\n",
       "      <td>1331.000000</td>\n",
       "      <td>301.0</td>\n",
       "      <td>5.000000</td>\n",
       "      <td>418.000000</td>\n",
       "      <td>2.880090e+18</td>\n",
       "      <td>496.750000</td>\n",
       "      <td>0.086705</td>\n",
       "      <td>54208.000000</td>\n",
       "      <td>2.000000</td>\n",
       "    </tr>\n",
       "    <tr>\n",
       "      <th>max</th>\n",
       "      <td>1.237650e+18</td>\n",
       "      <td>260.884382</td>\n",
       "      <td>68.542265</td>\n",
       "      <td>19.599900</td>\n",
       "      <td>19.590280</td>\n",
       "      <td>20.021230</td>\n",
       "      <td>1412.000000</td>\n",
       "      <td>301.0</td>\n",
       "      <td>6.000000</td>\n",
       "      <td>768.000000</td>\n",
       "      <td>7.685640e+18</td>\n",
       "      <td>970.000000</td>\n",
       "      <td>1.309529</td>\n",
       "      <td>56717.000000</td>\n",
       "      <td>2.000000</td>\n",
       "    </tr>\n",
       "  </tbody>\n",
       "</table>\n",
       "</div>"
      ],
      "text/plain": [
       "              objid           ra          dec            u            r  \\\n",
       "count  9.170000e+03  9170.000000  9170.000000  9170.000000  9170.000000   \n",
       "mean   1.237650e+18   176.084230    14.356497    18.597697    16.738023   \n",
       "std    1.536084e+05    47.767008    24.903555     0.838911     0.997071   \n",
       "min    1.237650e+18     8.235100    -5.382632    12.988970    12.431600   \n",
       "25%    1.237650e+18   159.138086    -0.559778    18.141115    16.124003   \n",
       "50%    1.237650e+18   180.383852     0.389098    18.832075    16.790390   \n",
       "75%    1.237650e+18   202.242396    14.648653    19.249465    17.425072   \n",
       "max    1.237650e+18   260.884382    68.542265    19.599900    19.590280   \n",
       "\n",
       "                 z          run   rerun       camcol        field  \\\n",
       "count  9170.000000  9170.000000  9170.0  9170.000000  9170.000000   \n",
       "mean     16.299777   972.108397   301.0     3.617448   306.398037   \n",
       "std       1.121098   270.365494     0.0     1.675561   162.194914   \n",
       "min      11.610410   308.000000   301.0     1.000000    11.000000   \n",
       "25%      15.560000   752.000000   301.0     2.000000   193.000000   \n",
       "50%      16.295750   756.000000   301.0     4.000000   300.000000   \n",
       "75%      17.015242  1331.000000   301.0     5.000000   418.000000   \n",
       "max      20.021230  1412.000000   301.0     6.000000   768.000000   \n",
       "\n",
       "          specobjid      fiberid     redshift           mjd        class  \n",
       "count  9.170000e+03  9170.000000  9170.000000   9170.000000  9170.000000  \n",
       "mean   1.346542e+18   339.769575     0.076126  52772.261941     0.869029  \n",
       "std    1.464961e+18   191.691759     0.167996   1298.666829     0.967444  \n",
       "min    2.995780e+17     1.000000    -0.004136  51578.000000     0.000000  \n",
       "25%    3.367532e+17   182.000000     0.000080  51899.000000     0.000000  \n",
       "50%    4.897865e+17   340.500000     0.041932  51990.000000     0.000000  \n",
       "75%    2.880090e+18   496.750000     0.086705  54208.000000     2.000000  \n",
       "max    7.685640e+18   970.000000     1.309529  56717.000000     2.000000  "
      ]
     },
     "execution_count": 52,
     "metadata": {},
     "output_type": "execute_result"
    }
   ],
   "source": [
    "df2.describe()"
   ]
  },
  {
   "cell_type": "code",
   "execution_count": 53,
   "id": "1ab907fc",
   "metadata": {},
   "outputs": [],
   "source": [
    "X = df2.drop(['class'], axis = 1)\n",
    "Y = df2['class']"
   ]
  },
  {
   "cell_type": "code",
   "execution_count": 54,
   "id": "c404d559",
   "metadata": {},
   "outputs": [
    {
     "data": {
      "text/plain": [
       "array([[ 3.22781235e+119,  6.10227184e-002, -2.82300808e-001, ...,\n",
       "         8.00448296e-001, -1.02009900e+000,  8.32667268e-016],\n",
       "       [ 3.22781235e+119,  6.26733185e-002, -2.70212051e-001, ...,\n",
       "         1.02039295e+000, -1.02149716e+000, -4.99600361e-016],\n",
       "       [ 3.22781235e+119,  6.46886924e-002, -2.72592636e-001, ...,\n",
       "         8.97960117e-001,  1.19075869e+000, -3.33066907e-016],\n",
       "       ...,\n",
       "       [ 3.22781235e+119, -1.08620157e+000,  1.36098506e+000, ...,\n",
       "        -4.89942615e-001,  1.13758433e+000, -3.88578059e-016],\n",
       "       [ 3.22781235e+119, -1.08290854e+000,  1.36189555e+000, ...,\n",
       "        -4.84420872e-001, -6.21237635e-001, -3.88578059e-016],\n",
       "       [ 3.22781235e+119, -1.07928863e+000,  1.36247692e+000, ...,\n",
       "        -4.62400735e-001,  1.14414230e+000, -3.88578059e-016]])"
      ]
     },
     "execution_count": 54,
     "metadata": {},
     "output_type": "execute_result"
    }
   ],
   "source": [
    "#transforming data to remobve skewness\n",
    "\n",
    "from sklearn.preprocessing import power_transform\n",
    "X = power_transform(X, method = 'yeo-johnson')\n",
    "X"
   ]
  },
  {
   "cell_type": "code",
   "execution_count": 55,
   "id": "8ebc6677",
   "metadata": {},
   "outputs": [
    {
     "data": {
      "text/plain": [
       "array([[ 0.        ,  0.15591309, -0.57291345, ..., -0.45321882,\n",
       "         1.65543251,  1.16909335],\n",
       "       [ 0.        ,  0.15731675, -0.57108261, ..., -0.4534923 ,\n",
       "        -0.89116394,  1.16909335],\n",
       "       [ 0.        ,  0.15903009, -0.57144804, ...,  0.27969816,\n",
       "        -0.57697847, -0.89832272],\n",
       "       ...,\n",
       "       [ 0.        , -0.93747947,  1.49845591, ...,  0.24791585,\n",
       "        -0.68940758, -0.89832272],\n",
       "       [ 0.        , -0.93389796,  1.50173784, ..., -0.36971271,\n",
       "        -0.68940758, -0.89832272],\n",
       "       [ 0.        , -0.92996488,  1.50383564, ...,  0.25175604,\n",
       "        -0.68940758, -0.89832272]])"
      ]
     },
     "execution_count": 55,
     "metadata": {},
     "output_type": "execute_result"
    }
   ],
   "source": [
    "from sklearn.preprocessing import StandardScaler\n",
    "sc = StandardScaler()\n",
    "X = sc.fit_transform(df2)\n",
    "X"
   ]
  },
  {
   "cell_type": "code",
   "execution_count": 56,
   "id": "f2f3a0b4",
   "metadata": {},
   "outputs": [],
   "source": [
    "X = pd.DataFrame(X)"
   ]
  },
  {
   "cell_type": "markdown",
   "id": "28329d72",
   "metadata": {},
   "source": [
    "# Train test split"
   ]
  },
  {
   "cell_type": "code",
   "execution_count": 57,
   "id": "905d9472",
   "metadata": {},
   "outputs": [],
   "source": [
    "from sklearn.model_selection import train_test_split"
   ]
  },
  {
   "cell_type": "code",
   "execution_count": 58,
   "id": "e37a7f0e",
   "metadata": {},
   "outputs": [],
   "source": [
    "from sklearn.model_selection import train_test_split\n",
    "X_train, X_test, Y_train, Y_test = train_test_split(X, Y, test_size=0.2, random_state=42)"
   ]
  },
  {
   "cell_type": "code",
   "execution_count": 59,
   "id": "b1b1afd3",
   "metadata": {},
   "outputs": [],
   "source": [
    "from sklearn.metrics import confusion_matrix, classification_report, accuracy_score\n",
    "from sklearn.model_selection import cross_val_score"
   ]
  },
  {
   "cell_type": "code",
   "execution_count": 60,
   "id": "6e439a08",
   "metadata": {},
   "outputs": [
    {
     "name": "stdout",
     "output_type": "stream",
     "text": [
      "[[988   0   0]\n",
      " [  0  84   0]\n",
      " [  0   1 761]]\n",
      "              precision    recall  f1-score   support\n",
      "\n",
      "           0       1.00      1.00      1.00       988\n",
      "           1       0.99      1.00      0.99        84\n",
      "           2       1.00      1.00      1.00       762\n",
      "\n",
      "    accuracy                           1.00      1834\n",
      "   macro avg       1.00      1.00      1.00      1834\n",
      "weighted avg       1.00      1.00      1.00      1834\n",
      "\n",
      "0.9994547437295529\n"
     ]
    },
    {
     "data": {
      "text/plain": [
       "0.9997818974918211"
      ]
     },
     "execution_count": 60,
     "metadata": {},
     "output_type": "execute_result"
    }
   ],
   "source": [
    "#Logistic Regression\n",
    "\n",
    "from sklearn.linear_model import LogisticRegression\n",
    "lr = LogisticRegression(random_state=0, multi_class='multinomial')\n",
    "lr.fit(X_train, Y_train)\n",
    "pred = lr.predict(X_test)\n",
    "\n",
    "print(confusion_matrix(Y_test, pred))\n",
    "print(classification_report(Y_test, pred))\n",
    "print(accuracy_score(Y_test, pred))\n",
    "cvs = cross_val_score(lr, X, Y, cv=5)\n",
    "cvs.mean()"
   ]
  },
  {
   "cell_type": "code",
   "execution_count": 61,
   "id": "e6d21ae9",
   "metadata": {},
   "outputs": [
    {
     "name": "stdout",
     "output_type": "stream",
     "text": [
      "[[988   0   0]\n",
      " [  0  84   0]\n",
      " [  0   0 762]]\n",
      "              precision    recall  f1-score   support\n",
      "\n",
      "           0       1.00      1.00      1.00       988\n",
      "           1       1.00      1.00      1.00        84\n",
      "           2       1.00      1.00      1.00       762\n",
      "\n",
      "    accuracy                           1.00      1834\n",
      "   macro avg       1.00      1.00      1.00      1834\n",
      "weighted avg       1.00      1.00      1.00      1834\n",
      "\n",
      "1.0\n"
     ]
    },
    {
     "data": {
      "text/plain": [
       "1.0"
      ]
     },
     "execution_count": 61,
     "metadata": {},
     "output_type": "execute_result"
    }
   ],
   "source": [
    "#DescisonTree\n",
    "\n",
    "from sklearn.tree import DecisionTreeClassifier\n",
    "dt = DecisionTreeClassifier()\n",
    "dt.fit(X_train,Y_train)\n",
    "pred = dt.predict(X_test)\n",
    "\n",
    "print(confusion_matrix(Y_test, pred))\n",
    "print(classification_report(Y_test, pred))\n",
    "print(accuracy_score(Y_test, pred))\n",
    "cvs = cross_val_score(dt, X, Y, cv=5)\n",
    "cvs.mean()"
   ]
  },
  {
   "cell_type": "code",
   "execution_count": 62,
   "id": "10cb60ff",
   "metadata": {},
   "outputs": [
    {
     "name": "stdout",
     "output_type": "stream",
     "text": [
      "[[988   0   0]\n",
      " [  0  84   0]\n",
      " [  0   0 762]]\n",
      "              precision    recall  f1-score   support\n",
      "\n",
      "           0       1.00      1.00      1.00       988\n",
      "           1       1.00      1.00      1.00        84\n",
      "           2       1.00      1.00      1.00       762\n",
      "\n",
      "    accuracy                           1.00      1834\n",
      "   macro avg       1.00      1.00      1.00      1834\n",
      "weighted avg       1.00      1.00      1.00      1834\n",
      "\n",
      "1.0\n"
     ]
    },
    {
     "data": {
      "text/plain": [
       "0.9998909487459106"
      ]
     },
     "execution_count": 62,
     "metadata": {},
     "output_type": "execute_result"
    }
   ],
   "source": [
    "#RandomForest\n",
    "\n",
    "from sklearn.ensemble import RandomForestClassifier\n",
    "rf = RandomForestClassifier()\n",
    "rf.fit(X_train,Y_train)\n",
    "pred = rf.predict(X_test)\n",
    "\n",
    "print(confusion_matrix(Y_test, pred))\n",
    "print(classification_report(Y_test, pred))\n",
    "print(accuracy_score(Y_test, pred))\n",
    "cvs = cross_val_score(rf, X, Y, cv=5)\n",
    "cvs.mean()"
   ]
  },
  {
   "cell_type": "code",
   "execution_count": 63,
   "id": "8ac84a2f",
   "metadata": {},
   "outputs": [
    {
     "name": "stdout",
     "output_type": "stream",
     "text": [
      "[[986   2   0]\n",
      " [  0  84   0]\n",
      " [  0   0 762]]\n",
      "              precision    recall  f1-score   support\n",
      "\n",
      "           0       1.00      1.00      1.00       988\n",
      "           1       0.98      1.00      0.99        84\n",
      "           2       1.00      1.00      1.00       762\n",
      "\n",
      "    accuracy                           1.00      1834\n",
      "   macro avg       0.99      1.00      1.00      1834\n",
      "weighted avg       1.00      1.00      1.00      1834\n",
      "\n",
      "0.9989094874591058\n"
     ]
    },
    {
     "data": {
      "text/plain": [
       "0.9992366412213741"
      ]
     },
     "execution_count": 63,
     "metadata": {},
     "output_type": "execute_result"
    }
   ],
   "source": [
    "#SVC\n",
    "\n",
    "from sklearn.svm import SVC\n",
    "svc = SVC()\n",
    "svc.fit(X_train, Y_train)\n",
    "pred = svc.predict(X_test)\n",
    "\n",
    "print(confusion_matrix(Y_test, pred))\n",
    "print(classification_report(Y_test, pred))\n",
    "print(accuracy_score(Y_test, pred))\n",
    "cvs = cross_val_score(svc, X, Y, cv=5)\n",
    "cvs.mean()"
   ]
  },
  {
   "cell_type": "code",
   "execution_count": 64,
   "id": "55063bc8",
   "metadata": {},
   "outputs": [
    {
     "name": "stdout",
     "output_type": "stream",
     "text": [
      "[[980   3   5]\n",
      " [ 11  73   0]\n",
      " [  1   0 761]]\n",
      "              precision    recall  f1-score   support\n",
      "\n",
      "           0       0.99      0.99      0.99       988\n",
      "           1       0.96      0.87      0.91        84\n",
      "           2       0.99      1.00      1.00       762\n",
      "\n",
      "    accuracy                           0.99      1834\n",
      "   macro avg       0.98      0.95      0.97      1834\n",
      "weighted avg       0.99      0.99      0.99      1834\n",
      "\n",
      "0.9890948745910578\n"
     ]
    },
    {
     "data": {
      "text/plain": [
       "0.9865866957470011"
      ]
     },
     "execution_count": 64,
     "metadata": {},
     "output_type": "execute_result"
    }
   ],
   "source": [
    "# KNN\n",
    "\n",
    "from sklearn.neighbors import KNeighborsClassifier\n",
    "knn = KNeighborsClassifier()\n",
    "knn.fit(X_train, Y_train)\n",
    "pred = knn.predict(X_test)\n",
    "\n",
    "print(confusion_matrix(Y_test, pred))\n",
    "print(classification_report(Y_test, pred))\n",
    "print(accuracy_score(Y_test, pred))\n",
    "cvs = cross_val_score(knn, X, Y, cv=5)\n",
    "cvs.mean()"
   ]
  },
  {
   "cell_type": "code",
   "execution_count": 65,
   "id": "dca321d1",
   "metadata": {},
   "outputs": [
    {
     "name": "stdout",
     "output_type": "stream",
     "text": [
      "[[988   0   0]\n",
      " [  0  84   0]\n",
      " [  0   0 762]]\n",
      "              precision    recall  f1-score   support\n",
      "\n",
      "           0       1.00      1.00      1.00       988\n",
      "           1       1.00      1.00      1.00        84\n",
      "           2       1.00      1.00      1.00       762\n",
      "\n",
      "    accuracy                           1.00      1834\n",
      "   macro avg       1.00      1.00      1.00      1834\n",
      "weighted avg       1.00      1.00      1.00      1834\n",
      "\n",
      "1.0\n"
     ]
    },
    {
     "data": {
      "text/plain": [
       "1.0"
      ]
     },
     "execution_count": 65,
     "metadata": {},
     "output_type": "execute_result"
    }
   ],
   "source": [
    "#Naive Bayes\n",
    "\n",
    "from sklearn.naive_bayes import GaussianNB\n",
    "nb = GaussianNB()\n",
    "nb.fit(X_train, Y_train)\n",
    "pred = nb.predict(X_test)\n",
    "\n",
    "print(confusion_matrix(Y_test, pred))\n",
    "print(classification_report(Y_test, pred))\n",
    "print(accuracy_score(Y_test, pred))\n",
    "cvs = cross_val_score(nb, X, Y, cv=5)\n",
    "cvs.mean()"
   ]
  },
  {
   "cell_type": "markdown",
   "id": "4cb7253b",
   "metadata": {},
   "source": [
    "# Hyperparameter Tuning "
   ]
  },
  {
   "cell_type": "code",
   "execution_count": 66,
   "id": "2e27dab7",
   "metadata": {},
   "outputs": [
    {
     "data": {
      "text/plain": [
       "{'criterion': ['gini', 'entropy', 'log_loss'],\n",
       " 'splitter': ['best', 'random'],\n",
       " 'max_depth': range(1, 9900, 300),\n",
       " 'min_samples_split': range(1, 9000, 300),\n",
       " 'min_samples_leaf': range(1, 9000, 300),\n",
       " 'max_features': ['auto', 'sqrt', 'log2']}"
      ]
     },
     "execution_count": 66,
     "metadata": {},
     "output_type": "execute_result"
    }
   ],
   "source": [
    "from sklearn.model_selection import RandomizedSearchCV\n",
    "\n",
    "criterion = ['gini', 'entropy', 'log_loss']\n",
    "splitter = ['best', 'random']\n",
    "max_depth = range(1, 9900, 300)\n",
    "min_samples_split = range(1, 9000, 300)\n",
    "min_samples_leaf = range(1, 9000, 300)\n",
    "max_features = ['auto', 'sqrt', 'log2']\n",
    "\n",
    "random_grid = {'criterion' : criterion,\n",
    "               'splitter' : splitter,\n",
    "               'max_depth' : max_depth,\n",
    "               'min_samples_split' : min_samples_split,\n",
    "               'min_samples_leaf' : min_samples_leaf,\n",
    "               'max_features' : max_features}\n",
    "\n",
    "random_grid"
   ]
  },
  {
   "cell_type": "code",
   "execution_count": 67,
   "id": "44f87406",
   "metadata": {},
   "outputs": [
    {
     "name": "stdout",
     "output_type": "stream",
     "text": [
      "Fitting 10 folds for each of 10 candidates, totalling 100 fits\n"
     ]
    },
    {
     "data": {
      "text/html": [
       "<style>#sk-container-id-1 {color: black;background-color: white;}#sk-container-id-1 pre{padding: 0;}#sk-container-id-1 div.sk-toggleable {background-color: white;}#sk-container-id-1 label.sk-toggleable__label {cursor: pointer;display: block;width: 100%;margin-bottom: 0;padding: 0.3em;box-sizing: border-box;text-align: center;}#sk-container-id-1 label.sk-toggleable__label-arrow:before {content: \"▸\";float: left;margin-right: 0.25em;color: #696969;}#sk-container-id-1 label.sk-toggleable__label-arrow:hover:before {color: black;}#sk-container-id-1 div.sk-estimator:hover label.sk-toggleable__label-arrow:before {color: black;}#sk-container-id-1 div.sk-toggleable__content {max-height: 0;max-width: 0;overflow: hidden;text-align: left;background-color: #f0f8ff;}#sk-container-id-1 div.sk-toggleable__content pre {margin: 0.2em;color: black;border-radius: 0.25em;background-color: #f0f8ff;}#sk-container-id-1 input.sk-toggleable__control:checked~div.sk-toggleable__content {max-height: 200px;max-width: 100%;overflow: auto;}#sk-container-id-1 input.sk-toggleable__control:checked~label.sk-toggleable__label-arrow:before {content: \"▾\";}#sk-container-id-1 div.sk-estimator input.sk-toggleable__control:checked~label.sk-toggleable__label {background-color: #d4ebff;}#sk-container-id-1 div.sk-label input.sk-toggleable__control:checked~label.sk-toggleable__label {background-color: #d4ebff;}#sk-container-id-1 input.sk-hidden--visually {border: 0;clip: rect(1px 1px 1px 1px);clip: rect(1px, 1px, 1px, 1px);height: 1px;margin: -1px;overflow: hidden;padding: 0;position: absolute;width: 1px;}#sk-container-id-1 div.sk-estimator {font-family: monospace;background-color: #f0f8ff;border: 1px dotted black;border-radius: 0.25em;box-sizing: border-box;margin-bottom: 0.5em;}#sk-container-id-1 div.sk-estimator:hover {background-color: #d4ebff;}#sk-container-id-1 div.sk-parallel-item::after {content: \"\";width: 100%;border-bottom: 1px solid gray;flex-grow: 1;}#sk-container-id-1 div.sk-label:hover label.sk-toggleable__label {background-color: #d4ebff;}#sk-container-id-1 div.sk-serial::before {content: \"\";position: absolute;border-left: 1px solid gray;box-sizing: border-box;top: 0;bottom: 0;left: 50%;z-index: 0;}#sk-container-id-1 div.sk-serial {display: flex;flex-direction: column;align-items: center;background-color: white;padding-right: 0.2em;padding-left: 0.2em;position: relative;}#sk-container-id-1 div.sk-item {position: relative;z-index: 1;}#sk-container-id-1 div.sk-parallel {display: flex;align-items: stretch;justify-content: center;background-color: white;position: relative;}#sk-container-id-1 div.sk-item::before, #sk-container-id-1 div.sk-parallel-item::before {content: \"\";position: absolute;border-left: 1px solid gray;box-sizing: border-box;top: 0;bottom: 0;left: 50%;z-index: -1;}#sk-container-id-1 div.sk-parallel-item {display: flex;flex-direction: column;z-index: 1;position: relative;background-color: white;}#sk-container-id-1 div.sk-parallel-item:first-child::after {align-self: flex-end;width: 50%;}#sk-container-id-1 div.sk-parallel-item:last-child::after {align-self: flex-start;width: 50%;}#sk-container-id-1 div.sk-parallel-item:only-child::after {width: 0;}#sk-container-id-1 div.sk-dashed-wrapped {border: 1px dashed gray;margin: 0 0.4em 0.5em 0.4em;box-sizing: border-box;padding-bottom: 0.4em;background-color: white;}#sk-container-id-1 div.sk-label label {font-family: monospace;font-weight: bold;display: inline-block;line-height: 1.2em;}#sk-container-id-1 div.sk-label-container {text-align: center;}#sk-container-id-1 div.sk-container {/* jupyter's `normalize.less` sets `[hidden] { display: none; }` but bootstrap.min.css set `[hidden] { display: none !important; }` so we also need the `!important` here to be able to override the default hidden behavior on the sphinx rendered scikit-learn.org. See: https://github.com/scikit-learn/scikit-learn/issues/21755 */display: inline-block !important;position: relative;}#sk-container-id-1 div.sk-text-repr-fallback {display: none;}</style><div id=\"sk-container-id-1\" class=\"sk-top-container\"><div class=\"sk-text-repr-fallback\"><pre>RandomizedSearchCV(cv=10, estimator=DecisionTreeClassifier(), n_jobs=-1,\n",
       "                   param_distributions={&#x27;criterion&#x27;: [&#x27;gini&#x27;, &#x27;entropy&#x27;,\n",
       "                                                      &#x27;log_loss&#x27;],\n",
       "                                        &#x27;max_depth&#x27;: range(1, 9900, 300),\n",
       "                                        &#x27;max_features&#x27;: [&#x27;auto&#x27;, &#x27;sqrt&#x27;,\n",
       "                                                         &#x27;log2&#x27;],\n",
       "                                        &#x27;min_samples_leaf&#x27;: range(1, 9000, 300),\n",
       "                                        &#x27;min_samples_split&#x27;: range(1, 9000, 300),\n",
       "                                        &#x27;splitter&#x27;: [&#x27;best&#x27;, &#x27;random&#x27;]},\n",
       "                   random_state=25, verbose=2)</pre><b>In a Jupyter environment, please rerun this cell to show the HTML representation or trust the notebook. <br />On GitHub, the HTML representation is unable to render, please try loading this page with nbviewer.org.</b></div><div class=\"sk-container\" hidden><div class=\"sk-item sk-dashed-wrapped\"><div class=\"sk-label-container\"><div class=\"sk-label sk-toggleable\"><input class=\"sk-toggleable__control sk-hidden--visually\" id=\"sk-estimator-id-1\" type=\"checkbox\" ><label for=\"sk-estimator-id-1\" class=\"sk-toggleable__label sk-toggleable__label-arrow\">RandomizedSearchCV</label><div class=\"sk-toggleable__content\"><pre>RandomizedSearchCV(cv=10, estimator=DecisionTreeClassifier(), n_jobs=-1,\n",
       "                   param_distributions={&#x27;criterion&#x27;: [&#x27;gini&#x27;, &#x27;entropy&#x27;,\n",
       "                                                      &#x27;log_loss&#x27;],\n",
       "                                        &#x27;max_depth&#x27;: range(1, 9900, 300),\n",
       "                                        &#x27;max_features&#x27;: [&#x27;auto&#x27;, &#x27;sqrt&#x27;,\n",
       "                                                         &#x27;log2&#x27;],\n",
       "                                        &#x27;min_samples_leaf&#x27;: range(1, 9000, 300),\n",
       "                                        &#x27;min_samples_split&#x27;: range(1, 9000, 300),\n",
       "                                        &#x27;splitter&#x27;: [&#x27;best&#x27;, &#x27;random&#x27;]},\n",
       "                   random_state=25, verbose=2)</pre></div></div></div><div class=\"sk-parallel\"><div class=\"sk-parallel-item\"><div class=\"sk-item\"><div class=\"sk-label-container\"><div class=\"sk-label sk-toggleable\"><input class=\"sk-toggleable__control sk-hidden--visually\" id=\"sk-estimator-id-2\" type=\"checkbox\" ><label for=\"sk-estimator-id-2\" class=\"sk-toggleable__label sk-toggleable__label-arrow\">estimator: DecisionTreeClassifier</label><div class=\"sk-toggleable__content\"><pre>DecisionTreeClassifier()</pre></div></div></div><div class=\"sk-serial\"><div class=\"sk-item\"><div class=\"sk-estimator sk-toggleable\"><input class=\"sk-toggleable__control sk-hidden--visually\" id=\"sk-estimator-id-3\" type=\"checkbox\" ><label for=\"sk-estimator-id-3\" class=\"sk-toggleable__label sk-toggleable__label-arrow\">DecisionTreeClassifier</label><div class=\"sk-toggleable__content\"><pre>DecisionTreeClassifier()</pre></div></div></div></div></div></div></div></div></div></div>"
      ],
      "text/plain": [
       "RandomizedSearchCV(cv=10, estimator=DecisionTreeClassifier(), n_jobs=-1,\n",
       "                   param_distributions={'criterion': ['gini', 'entropy',\n",
       "                                                      'log_loss'],\n",
       "                                        'max_depth': range(1, 9900, 300),\n",
       "                                        'max_features': ['auto', 'sqrt',\n",
       "                                                         'log2'],\n",
       "                                        'min_samples_leaf': range(1, 9000, 300),\n",
       "                                        'min_samples_split': range(1, 9000, 300),\n",
       "                                        'splitter': ['best', 'random']},\n",
       "                   random_state=25, verbose=2)"
      ]
     },
     "execution_count": 67,
     "metadata": {},
     "output_type": "execute_result"
    }
   ],
   "source": [
    "dt = DecisionTreeClassifier()\n",
    "rscv = RandomizedSearchCV(estimator = dt,\n",
    "                         param_distributions = random_grid,\n",
    "                         cv = 10,\n",
    "                         random_state = 25,\n",
    "                         verbose = 2,\n",
    "                         n_jobs = -1)\n",
    "\n",
    "rscv.fit(X_train, Y_train)\n",
    "rscv"
   ]
  },
  {
   "cell_type": "code",
   "execution_count": 68,
   "id": "a583dc88",
   "metadata": {},
   "outputs": [
    {
     "data": {
      "text/plain": [
       "{'splitter': 'random',\n",
       " 'min_samples_split': 2401,\n",
       " 'min_samples_leaf': 1,\n",
       " 'max_features': 'sqrt',\n",
       " 'max_depth': 6601,\n",
       " 'criterion': 'log_loss'}"
      ]
     },
     "execution_count": 68,
     "metadata": {},
     "output_type": "execute_result"
    }
   ],
   "source": [
    "rscv.best_params_"
   ]
  },
  {
   "cell_type": "code",
   "execution_count": 69,
   "id": "0701b5d7",
   "metadata": {},
   "outputs": [
    {
     "data": {
      "text/html": [
       "<style>#sk-container-id-2 {color: black;background-color: white;}#sk-container-id-2 pre{padding: 0;}#sk-container-id-2 div.sk-toggleable {background-color: white;}#sk-container-id-2 label.sk-toggleable__label {cursor: pointer;display: block;width: 100%;margin-bottom: 0;padding: 0.3em;box-sizing: border-box;text-align: center;}#sk-container-id-2 label.sk-toggleable__label-arrow:before {content: \"▸\";float: left;margin-right: 0.25em;color: #696969;}#sk-container-id-2 label.sk-toggleable__label-arrow:hover:before {color: black;}#sk-container-id-2 div.sk-estimator:hover label.sk-toggleable__label-arrow:before {color: black;}#sk-container-id-2 div.sk-toggleable__content {max-height: 0;max-width: 0;overflow: hidden;text-align: left;background-color: #f0f8ff;}#sk-container-id-2 div.sk-toggleable__content pre {margin: 0.2em;color: black;border-radius: 0.25em;background-color: #f0f8ff;}#sk-container-id-2 input.sk-toggleable__control:checked~div.sk-toggleable__content {max-height: 200px;max-width: 100%;overflow: auto;}#sk-container-id-2 input.sk-toggleable__control:checked~label.sk-toggleable__label-arrow:before {content: \"▾\";}#sk-container-id-2 div.sk-estimator input.sk-toggleable__control:checked~label.sk-toggleable__label {background-color: #d4ebff;}#sk-container-id-2 div.sk-label input.sk-toggleable__control:checked~label.sk-toggleable__label {background-color: #d4ebff;}#sk-container-id-2 input.sk-hidden--visually {border: 0;clip: rect(1px 1px 1px 1px);clip: rect(1px, 1px, 1px, 1px);height: 1px;margin: -1px;overflow: hidden;padding: 0;position: absolute;width: 1px;}#sk-container-id-2 div.sk-estimator {font-family: monospace;background-color: #f0f8ff;border: 1px dotted black;border-radius: 0.25em;box-sizing: border-box;margin-bottom: 0.5em;}#sk-container-id-2 div.sk-estimator:hover {background-color: #d4ebff;}#sk-container-id-2 div.sk-parallel-item::after {content: \"\";width: 100%;border-bottom: 1px solid gray;flex-grow: 1;}#sk-container-id-2 div.sk-label:hover label.sk-toggleable__label {background-color: #d4ebff;}#sk-container-id-2 div.sk-serial::before {content: \"\";position: absolute;border-left: 1px solid gray;box-sizing: border-box;top: 0;bottom: 0;left: 50%;z-index: 0;}#sk-container-id-2 div.sk-serial {display: flex;flex-direction: column;align-items: center;background-color: white;padding-right: 0.2em;padding-left: 0.2em;position: relative;}#sk-container-id-2 div.sk-item {position: relative;z-index: 1;}#sk-container-id-2 div.sk-parallel {display: flex;align-items: stretch;justify-content: center;background-color: white;position: relative;}#sk-container-id-2 div.sk-item::before, #sk-container-id-2 div.sk-parallel-item::before {content: \"\";position: absolute;border-left: 1px solid gray;box-sizing: border-box;top: 0;bottom: 0;left: 50%;z-index: -1;}#sk-container-id-2 div.sk-parallel-item {display: flex;flex-direction: column;z-index: 1;position: relative;background-color: white;}#sk-container-id-2 div.sk-parallel-item:first-child::after {align-self: flex-end;width: 50%;}#sk-container-id-2 div.sk-parallel-item:last-child::after {align-self: flex-start;width: 50%;}#sk-container-id-2 div.sk-parallel-item:only-child::after {width: 0;}#sk-container-id-2 div.sk-dashed-wrapped {border: 1px dashed gray;margin: 0 0.4em 0.5em 0.4em;box-sizing: border-box;padding-bottom: 0.4em;background-color: white;}#sk-container-id-2 div.sk-label label {font-family: monospace;font-weight: bold;display: inline-block;line-height: 1.2em;}#sk-container-id-2 div.sk-label-container {text-align: center;}#sk-container-id-2 div.sk-container {/* jupyter's `normalize.less` sets `[hidden] { display: none; }` but bootstrap.min.css set `[hidden] { display: none !important; }` so we also need the `!important` here to be able to override the default hidden behavior on the sphinx rendered scikit-learn.org. See: https://github.com/scikit-learn/scikit-learn/issues/21755 */display: inline-block !important;position: relative;}#sk-container-id-2 div.sk-text-repr-fallback {display: none;}</style><div id=\"sk-container-id-2\" class=\"sk-top-container\"><div class=\"sk-text-repr-fallback\"><pre>DecisionTreeClassifier(criterion=&#x27;log_loss&#x27;, max_depth=6601,\n",
       "                       max_features=&#x27;sqrt&#x27;, min_samples_split=2401,\n",
       "                       splitter=&#x27;random&#x27;)</pre><b>In a Jupyter environment, please rerun this cell to show the HTML representation or trust the notebook. <br />On GitHub, the HTML representation is unable to render, please try loading this page with nbviewer.org.</b></div><div class=\"sk-container\" hidden><div class=\"sk-item\"><div class=\"sk-estimator sk-toggleable\"><input class=\"sk-toggleable__control sk-hidden--visually\" id=\"sk-estimator-id-4\" type=\"checkbox\" checked><label for=\"sk-estimator-id-4\" class=\"sk-toggleable__label sk-toggleable__label-arrow\">DecisionTreeClassifier</label><div class=\"sk-toggleable__content\"><pre>DecisionTreeClassifier(criterion=&#x27;log_loss&#x27;, max_depth=6601,\n",
       "                       max_features=&#x27;sqrt&#x27;, min_samples_split=2401,\n",
       "                       splitter=&#x27;random&#x27;)</pre></div></div></div></div></div>"
      ],
      "text/plain": [
       "DecisionTreeClassifier(criterion='log_loss', max_depth=6601,\n",
       "                       max_features='sqrt', min_samples_split=2401,\n",
       "                       splitter='random')"
      ]
     },
     "execution_count": 69,
     "metadata": {},
     "output_type": "execute_result"
    }
   ],
   "source": [
    "rscv.best_estimator_"
   ]
  },
  {
   "cell_type": "code",
   "execution_count": 70,
   "id": "3ad02c04",
   "metadata": {},
   "outputs": [
    {
     "name": "stdout",
     "output_type": "stream",
     "text": [
      "[[988   0   0]\n",
      " [ 84   0   0]\n",
      " [  0   0 762]]\n",
      "              precision    recall  f1-score   support\n",
      "\n",
      "           0       0.92      1.00      0.96       988\n",
      "           1       0.00      0.00      0.00        84\n",
      "           2       1.00      1.00      1.00       762\n",
      "\n",
      "    accuracy                           0.95      1834\n",
      "   macro avg       0.64      0.67      0.65      1834\n",
      "weighted avg       0.91      0.95      0.93      1834\n",
      "\n",
      "0.9541984732824428\n",
      "Fitting 10 folds for each of 10 candidates, totalling 100 fits\n",
      "Fitting 10 folds for each of 10 candidates, totalling 100 fits\n",
      "Fitting 10 folds for each of 10 candidates, totalling 100 fits\n",
      "Fitting 10 folds for each of 10 candidates, totalling 100 fits\n",
      "Fitting 10 folds for each of 10 candidates, totalling 100 fits\n",
      "Fitting 10 folds for each of 10 candidates, totalling 100 fits\n",
      "Fitting 10 folds for each of 10 candidates, totalling 100 fits\n",
      "Fitting 10 folds for each of 10 candidates, totalling 100 fits\n",
      "Fitting 10 folds for each of 10 candidates, totalling 100 fits\n",
      "Fitting 10 folds for each of 10 candidates, totalling 100 fits\n"
     ]
    },
    {
     "data": {
      "text/plain": [
       "0.8695747001090511"
      ]
     },
     "execution_count": 70,
     "metadata": {},
     "output_type": "execute_result"
    }
   ],
   "source": [
    "best_rscv = rscv.best_estimator_\n",
    "pred_rscv = best_rscv.predict(X_test)\n",
    "\n",
    "print(confusion_matrix(Y_test, pred_rscv))\n",
    "print(classification_report(Y_test, pred_rscv))\n",
    "print(accuracy_score(Y_test, pred_rscv))\n",
    "cvs = cross_val_score(rscv, X, Y, cv=10)\n",
    "cvs.mean()"
   ]
  },
  {
   "cell_type": "code",
   "execution_count": 71,
   "id": "cbb5577b",
   "metadata": {},
   "outputs": [],
   "source": [
    "import pickle\n",
    "filename = 'Space Server Project.pkl'\n",
    "pickle.dump(dt, open(filename, 'wb'))"
   ]
  }
 ],
 "metadata": {
  "kernelspec": {
   "display_name": "Python 3 (ipykernel)",
   "language": "python",
   "name": "python3"
  },
  "language_info": {
   "codemirror_mode": {
    "name": "ipython",
    "version": 3
   },
   "file_extension": ".py",
   "mimetype": "text/x-python",
   "name": "python",
   "nbconvert_exporter": "python",
   "pygments_lexer": "ipython3",
   "version": "3.9.12"
  }
 },
 "nbformat": 4,
 "nbformat_minor": 5
}
