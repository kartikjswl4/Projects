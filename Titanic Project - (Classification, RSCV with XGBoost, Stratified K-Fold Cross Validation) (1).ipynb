{
 "cells": [
  {
   "cell_type": "markdown",
   "id": "9116c2d6",
   "metadata": {},
   "source": [
    "# Titanic Project\n"
   ]
  },
  {
   "cell_type": "markdown",
   "id": "fb39ee42",
   "metadata": {},
   "source": [
    "Problem Statement:\n",
    "The Titanic Problem is based on the sinking of the ‘Unsinkable’ ship Titanic in early 1912. It gives you information about multiple people like their ages, sexes, sibling counts, embarkment points, and whether or not they survived the disaster.\n",
    "\n",
    "Based on these features, you have to predict if an arbitrary passenger on Titanic would survive the sinking or not. \n",
    "\n",
    "Note: You can find the dataset in the link below.\n",
    "Downlaod Files:\n",
    "https://github.com/dsrscientist/dataset1/blob/master/titanic_train.csv"
   ]
  },
  {
   "cell_type": "code",
   "execution_count": 1,
   "id": "9f251272",
   "metadata": {},
   "outputs": [],
   "source": [
    "import pandas as pd\n",
    "import numpy as np\n",
    "import seaborn as sns\n",
    "import matplotlib.pyplot as plt\n",
    "%matplotlib inline\n",
    "import warnings\n",
    "warnings.filterwarnings('ignore')"
   ]
  },
  {
   "cell_type": "code",
   "execution_count": 2,
   "id": "249decf9",
   "metadata": {},
   "outputs": [],
   "source": [
    "df = pd.read_csv('Z:\\ML Datasets\\Titanic.csv')"
   ]
  },
  {
   "cell_type": "code",
   "execution_count": 3,
   "id": "68755e30",
   "metadata": {},
   "outputs": [
    {
     "data": {
      "text/html": [
       "<div>\n",
       "<style scoped>\n",
       "    .dataframe tbody tr th:only-of-type {\n",
       "        vertical-align: middle;\n",
       "    }\n",
       "\n",
       "    .dataframe tbody tr th {\n",
       "        vertical-align: top;\n",
       "    }\n",
       "\n",
       "    .dataframe thead th {\n",
       "        text-align: right;\n",
       "    }\n",
       "</style>\n",
       "<table border=\"1\" class=\"dataframe\">\n",
       "  <thead>\n",
       "    <tr style=\"text-align: right;\">\n",
       "      <th></th>\n",
       "      <th>PassengerId</th>\n",
       "      <th>Survived</th>\n",
       "      <th>Pclass</th>\n",
       "      <th>Name</th>\n",
       "      <th>Sex</th>\n",
       "      <th>Age</th>\n",
       "      <th>SibSp</th>\n",
       "      <th>Parch</th>\n",
       "      <th>Ticket</th>\n",
       "      <th>Fare</th>\n",
       "      <th>Cabin</th>\n",
       "      <th>Embarked</th>\n",
       "    </tr>\n",
       "  </thead>\n",
       "  <tbody>\n",
       "    <tr>\n",
       "      <th>0</th>\n",
       "      <td>1</td>\n",
       "      <td>0</td>\n",
       "      <td>3</td>\n",
       "      <td>Braund, Mr. Owen Harris</td>\n",
       "      <td>male</td>\n",
       "      <td>22.0</td>\n",
       "      <td>1</td>\n",
       "      <td>0</td>\n",
       "      <td>A/5 21171</td>\n",
       "      <td>7.2500</td>\n",
       "      <td>NaN</td>\n",
       "      <td>S</td>\n",
       "    </tr>\n",
       "    <tr>\n",
       "      <th>1</th>\n",
       "      <td>2</td>\n",
       "      <td>1</td>\n",
       "      <td>1</td>\n",
       "      <td>Cumings, Mrs. John Bradley (Florence Briggs Th...</td>\n",
       "      <td>female</td>\n",
       "      <td>38.0</td>\n",
       "      <td>1</td>\n",
       "      <td>0</td>\n",
       "      <td>PC 17599</td>\n",
       "      <td>71.2833</td>\n",
       "      <td>C85</td>\n",
       "      <td>C</td>\n",
       "    </tr>\n",
       "    <tr>\n",
       "      <th>2</th>\n",
       "      <td>3</td>\n",
       "      <td>1</td>\n",
       "      <td>3</td>\n",
       "      <td>Heikkinen, Miss. Laina</td>\n",
       "      <td>female</td>\n",
       "      <td>26.0</td>\n",
       "      <td>0</td>\n",
       "      <td>0</td>\n",
       "      <td>STON/O2. 3101282</td>\n",
       "      <td>7.9250</td>\n",
       "      <td>NaN</td>\n",
       "      <td>S</td>\n",
       "    </tr>\n",
       "    <tr>\n",
       "      <th>3</th>\n",
       "      <td>4</td>\n",
       "      <td>1</td>\n",
       "      <td>1</td>\n",
       "      <td>Futrelle, Mrs. Jacques Heath (Lily May Peel)</td>\n",
       "      <td>female</td>\n",
       "      <td>35.0</td>\n",
       "      <td>1</td>\n",
       "      <td>0</td>\n",
       "      <td>113803</td>\n",
       "      <td>53.1000</td>\n",
       "      <td>C123</td>\n",
       "      <td>S</td>\n",
       "    </tr>\n",
       "    <tr>\n",
       "      <th>4</th>\n",
       "      <td>5</td>\n",
       "      <td>0</td>\n",
       "      <td>3</td>\n",
       "      <td>Allen, Mr. William Henry</td>\n",
       "      <td>male</td>\n",
       "      <td>35.0</td>\n",
       "      <td>0</td>\n",
       "      <td>0</td>\n",
       "      <td>373450</td>\n",
       "      <td>8.0500</td>\n",
       "      <td>NaN</td>\n",
       "      <td>S</td>\n",
       "    </tr>\n",
       "    <tr>\n",
       "      <th>...</th>\n",
       "      <td>...</td>\n",
       "      <td>...</td>\n",
       "      <td>...</td>\n",
       "      <td>...</td>\n",
       "      <td>...</td>\n",
       "      <td>...</td>\n",
       "      <td>...</td>\n",
       "      <td>...</td>\n",
       "      <td>...</td>\n",
       "      <td>...</td>\n",
       "      <td>...</td>\n",
       "      <td>...</td>\n",
       "    </tr>\n",
       "    <tr>\n",
       "      <th>886</th>\n",
       "      <td>887</td>\n",
       "      <td>0</td>\n",
       "      <td>2</td>\n",
       "      <td>Montvila, Rev. Juozas</td>\n",
       "      <td>male</td>\n",
       "      <td>27.0</td>\n",
       "      <td>0</td>\n",
       "      <td>0</td>\n",
       "      <td>211536</td>\n",
       "      <td>13.0000</td>\n",
       "      <td>NaN</td>\n",
       "      <td>S</td>\n",
       "    </tr>\n",
       "    <tr>\n",
       "      <th>887</th>\n",
       "      <td>888</td>\n",
       "      <td>1</td>\n",
       "      <td>1</td>\n",
       "      <td>Graham, Miss. Margaret Edith</td>\n",
       "      <td>female</td>\n",
       "      <td>19.0</td>\n",
       "      <td>0</td>\n",
       "      <td>0</td>\n",
       "      <td>112053</td>\n",
       "      <td>30.0000</td>\n",
       "      <td>B42</td>\n",
       "      <td>S</td>\n",
       "    </tr>\n",
       "    <tr>\n",
       "      <th>888</th>\n",
       "      <td>889</td>\n",
       "      <td>0</td>\n",
       "      <td>3</td>\n",
       "      <td>Johnston, Miss. Catherine Helen \"Carrie\"</td>\n",
       "      <td>female</td>\n",
       "      <td>NaN</td>\n",
       "      <td>1</td>\n",
       "      <td>2</td>\n",
       "      <td>W./C. 6607</td>\n",
       "      <td>23.4500</td>\n",
       "      <td>NaN</td>\n",
       "      <td>S</td>\n",
       "    </tr>\n",
       "    <tr>\n",
       "      <th>889</th>\n",
       "      <td>890</td>\n",
       "      <td>1</td>\n",
       "      <td>1</td>\n",
       "      <td>Behr, Mr. Karl Howell</td>\n",
       "      <td>male</td>\n",
       "      <td>26.0</td>\n",
       "      <td>0</td>\n",
       "      <td>0</td>\n",
       "      <td>111369</td>\n",
       "      <td>30.0000</td>\n",
       "      <td>C148</td>\n",
       "      <td>C</td>\n",
       "    </tr>\n",
       "    <tr>\n",
       "      <th>890</th>\n",
       "      <td>891</td>\n",
       "      <td>0</td>\n",
       "      <td>3</td>\n",
       "      <td>Dooley, Mr. Patrick</td>\n",
       "      <td>male</td>\n",
       "      <td>32.0</td>\n",
       "      <td>0</td>\n",
       "      <td>0</td>\n",
       "      <td>370376</td>\n",
       "      <td>7.7500</td>\n",
       "      <td>NaN</td>\n",
       "      <td>Q</td>\n",
       "    </tr>\n",
       "  </tbody>\n",
       "</table>\n",
       "<p>891 rows × 12 columns</p>\n",
       "</div>"
      ],
      "text/plain": [
       "     PassengerId  Survived  Pclass  \\\n",
       "0              1         0       3   \n",
       "1              2         1       1   \n",
       "2              3         1       3   \n",
       "3              4         1       1   \n",
       "4              5         0       3   \n",
       "..           ...       ...     ...   \n",
       "886          887         0       2   \n",
       "887          888         1       1   \n",
       "888          889         0       3   \n",
       "889          890         1       1   \n",
       "890          891         0       3   \n",
       "\n",
       "                                                  Name     Sex   Age  SibSp  \\\n",
       "0                              Braund, Mr. Owen Harris    male  22.0      1   \n",
       "1    Cumings, Mrs. John Bradley (Florence Briggs Th...  female  38.0      1   \n",
       "2                               Heikkinen, Miss. Laina  female  26.0      0   \n",
       "3         Futrelle, Mrs. Jacques Heath (Lily May Peel)  female  35.0      1   \n",
       "4                             Allen, Mr. William Henry    male  35.0      0   \n",
       "..                                                 ...     ...   ...    ...   \n",
       "886                              Montvila, Rev. Juozas    male  27.0      0   \n",
       "887                       Graham, Miss. Margaret Edith  female  19.0      0   \n",
       "888           Johnston, Miss. Catherine Helen \"Carrie\"  female   NaN      1   \n",
       "889                              Behr, Mr. Karl Howell    male  26.0      0   \n",
       "890                                Dooley, Mr. Patrick    male  32.0      0   \n",
       "\n",
       "     Parch            Ticket     Fare Cabin Embarked  \n",
       "0        0         A/5 21171   7.2500   NaN        S  \n",
       "1        0          PC 17599  71.2833   C85        C  \n",
       "2        0  STON/O2. 3101282   7.9250   NaN        S  \n",
       "3        0            113803  53.1000  C123        S  \n",
       "4        0            373450   8.0500   NaN        S  \n",
       "..     ...               ...      ...   ...      ...  \n",
       "886      0            211536  13.0000   NaN        S  \n",
       "887      0            112053  30.0000   B42        S  \n",
       "888      2        W./C. 6607  23.4500   NaN        S  \n",
       "889      0            111369  30.0000  C148        C  \n",
       "890      0            370376   7.7500   NaN        Q  \n",
       "\n",
       "[891 rows x 12 columns]"
      ]
     },
     "execution_count": 3,
     "metadata": {},
     "output_type": "execute_result"
    }
   ],
   "source": [
    "df"
   ]
  },
  {
   "cell_type": "code",
   "execution_count": 4,
   "id": "667e2a1f",
   "metadata": {},
   "outputs": [
    {
     "name": "stdout",
     "output_type": "stream",
     "text": [
      "<class 'pandas.core.frame.DataFrame'>\n",
      "RangeIndex: 891 entries, 0 to 890\n",
      "Data columns (total 12 columns):\n",
      " #   Column       Non-Null Count  Dtype  \n",
      "---  ------       --------------  -----  \n",
      " 0   PassengerId  891 non-null    int64  \n",
      " 1   Survived     891 non-null    int64  \n",
      " 2   Pclass       891 non-null    int64  \n",
      " 3   Name         891 non-null    object \n",
      " 4   Sex          891 non-null    object \n",
      " 5   Age          714 non-null    float64\n",
      " 6   SibSp        891 non-null    int64  \n",
      " 7   Parch        891 non-null    int64  \n",
      " 8   Ticket       891 non-null    object \n",
      " 9   Fare         891 non-null    float64\n",
      " 10  Cabin        204 non-null    object \n",
      " 11  Embarked     889 non-null    object \n",
      "dtypes: float64(2), int64(5), object(5)\n",
      "memory usage: 83.7+ KB\n"
     ]
    }
   ],
   "source": [
    "df.info()"
   ]
  },
  {
   "cell_type": "code",
   "execution_count": 5,
   "id": "890f0495",
   "metadata": {},
   "outputs": [
    {
     "data": {
      "text/plain": [
       "PassengerId      0\n",
       "Survived         0\n",
       "Pclass           0\n",
       "Name             0\n",
       "Sex              0\n",
       "Age            177\n",
       "SibSp            0\n",
       "Parch            0\n",
       "Ticket           0\n",
       "Fare             0\n",
       "Cabin          687\n",
       "Embarked         2\n",
       "dtype: int64"
      ]
     },
     "execution_count": 5,
     "metadata": {},
     "output_type": "execute_result"
    }
   ],
   "source": [
    "df.isnull().sum()"
   ]
  },
  {
   "cell_type": "code",
   "execution_count": 6,
   "id": "505ef22b",
   "metadata": {},
   "outputs": [
    {
     "data": {
      "text/plain": [
       "PassengerId     0.000000\n",
       "Survived        0.000000\n",
       "Pclass          0.000000\n",
       "Name            0.000000\n",
       "Sex             0.000000\n",
       "Age            19.865320\n",
       "SibSp           0.000000\n",
       "Parch           0.000000\n",
       "Ticket          0.000000\n",
       "Fare            0.000000\n",
       "Cabin          77.104377\n",
       "Embarked        0.224467\n",
       "dtype: float64"
      ]
     },
     "execution_count": 6,
     "metadata": {},
     "output_type": "execute_result"
    }
   ],
   "source": [
    "df.isnull().sum()/len(df)*100"
   ]
  },
  {
   "cell_type": "code",
   "execution_count": 7,
   "id": "f050faec",
   "metadata": {},
   "outputs": [
    {
     "data": {
      "text/plain": [
       "PassengerId    0\n",
       "Survived       0\n",
       "Pclass         0\n",
       "Name           0\n",
       "Sex            0\n",
       "Age            0\n",
       "SibSp          0\n",
       "Parch          0\n",
       "Ticket         0\n",
       "Fare           0\n",
       "Embarked       0\n",
       "dtype: int64"
      ]
     },
     "execution_count": 7,
     "metadata": {},
     "output_type": "execute_result"
    }
   ],
   "source": [
    "df = df.drop(['Cabin'], axis = 1)\n",
    "df['Embarked']  = df['Embarked'].fillna(df['Embarked'].mode()[0]) \n",
    "df['Age']  = df['Age'].fillna(df['Age'].mean())\n",
    "\n",
    "df.isnull().sum()"
   ]
  },
  {
   "cell_type": "code",
   "execution_count": 8,
   "id": "18f5ec62",
   "metadata": {},
   "outputs": [
    {
     "data": {
      "text/plain": [
       "PassengerId    891\n",
       "Survived         2\n",
       "Pclass           3\n",
       "Name           891\n",
       "Sex              2\n",
       "Age             89\n",
       "SibSp            7\n",
       "Parch            7\n",
       "Ticket         681\n",
       "Fare           248\n",
       "Embarked         3\n",
       "dtype: int64"
      ]
     },
     "execution_count": 8,
     "metadata": {},
     "output_type": "execute_result"
    }
   ],
   "source": [
    "df.nunique()"
   ]
  },
  {
   "cell_type": "markdown",
   "id": "409882fd",
   "metadata": {},
   "source": [
    "# EDA"
   ]
  },
  {
   "cell_type": "code",
   "execution_count": 9,
   "id": "7647df3e",
   "metadata": {},
   "outputs": [
    {
     "data": {
      "text/plain": [
       "<AxesSubplot:xlabel='PassengerId', ylabel='Survived'>"
      ]
     },
     "execution_count": 9,
     "metadata": {},
     "output_type": "execute_result"
    },
    {
     "data": {
      "image/png": "[encoded data removed]",
      "text/plain": [
       "<Figure size 432x288 with 1 Axes>"
      ]
     },
     "metadata": {
      "needs_background": "light"
     },
     "output_type": "display_data"
    }
   ],
   "source": [
    "sns.scatterplot(data = df, x = 'PassengerId', y = 'Survived')"
   ]
  },
  {
   "cell_type": "code",
   "execution_count": 10,
   "id": "78cb6a76",
   "metadata": {},
   "outputs": [
    {
     "data": {
      "text/plain": [
       "<AxesSubplot:xlabel='Pclass', ylabel='Survived'>"
      ]
     },
     "execution_count": 10,
     "metadata": {},
     "output_type": "execute_result"
    },
    {
     "data": {
      "image/png": "[encoded data removed]",
      "text/plain": [
       "<Figure size 432x288 with 1 Axes>"
      ]
     },
     "metadata": {
      "needs_background": "light"
     },
     "output_type": "display_data"
    }
   ],
   "source": [
    "sns.barplot(data = df, x = 'Pclass', y = 'Survived', hue = 'Sex')"
   ]
  },
  {
   "cell_type": "code",
   "execution_count": 11,
   "id": "2a868049",
   "metadata": {},
   "outputs": [
    {
     "data": {
      "text/plain": [
       "<AxesSubplot:xlabel='Sex', ylabel='count'>"
      ]
     },
     "execution_count": 11,
     "metadata": {},
     "output_type": "execute_result"
    },
    {
     "data": {
      "image/png": "[encoded data removed]",
      "text/plain": [
       "<Figure size 432x288 with 1 Axes>"
      ]
     },
     "metadata": {
      "needs_background": "light"
     },
     "output_type": "display_data"
    }
   ],
   "source": [
    "sns.countplot(df['Sex'])"
   ]
  },
  {
   "cell_type": "code",
   "execution_count": 12,
   "id": "977011a7",
   "metadata": {},
   "outputs": [
    {
     "data": {
      "text/plain": [
       "<AxesSubplot:xlabel='Age', ylabel='Survived'>"
      ]
     },
     "execution_count": 12,
     "metadata": {},
     "output_type": "execute_result"
    },
    {
     "data": {
      "image/png": "[encoded data removed]",
      "text/plain": [
       "<Figure size 432x288 with 1 Axes>"
      ]
     },
     "metadata": {
      "needs_background": "light"
     },
     "output_type": "display_data"
    }
   ],
   "source": [
    "sns.scatterplot(data = df, x = 'Age', y = 'Survived', hue = 'Sex')"
   ]
  },
  {
   "cell_type": "code",
   "execution_count": 13,
   "id": "15140b87",
   "metadata": {},
   "outputs": [
    {
     "data": {
      "text/plain": [
       "<AxesSubplot:xlabel='Survived', ylabel='count'>"
      ]
     },
     "execution_count": 13,
     "metadata": {},
     "output_type": "execute_result"
    },
    {
     "data": {
      "image/png": "[encoded data removed]",
      "text/plain": [
       "<Figure size 432x288 with 1 Axes>"
      ]
     },
     "metadata": {
      "needs_background": "light"
     },
     "output_type": "display_data"
    }
   ],
   "source": [
    "sns.countplot(df['Survived'])"
   ]
  },
  {
   "cell_type": "code",
   "execution_count": 14,
   "id": "3ad3a667",
   "metadata": {},
   "outputs": [
    {
     "data": {
      "text/plain": [
       "<AxesSubplot:xlabel='Fare', ylabel='Survived'>"
      ]
     },
     "execution_count": 14,
     "metadata": {},
     "output_type": "execute_result"
    },
    {
     "data": {
      "image/png": "[encoded data removed]",
      "text/plain": [
       "<Figure size 432x288 with 1 Axes>"
      ]
     },
     "metadata": {
      "needs_background": "light"
     },
     "output_type": "display_data"
    }
   ],
   "source": [
    "sns.scatterplot(data = df, x = 'Fare', y = 'Survived', hue = 'Sex')"
   ]
  },
  {
   "cell_type": "code",
   "execution_count": 15,
   "id": "e469ad98",
   "metadata": {},
   "outputs": [
    {
     "data": {
      "text/plain": [
       "<AxesSubplot:xlabel='Embarked', ylabel='count'>"
      ]
     },
     "execution_count": 15,
     "metadata": {},
     "output_type": "execute_result"
    },
    {
     "data": {
      "image/png": "[encoded data removed]",
      "text/plain": [
       "<Figure size 432x288 with 1 Axes>"
      ]
     },
     "metadata": {
      "needs_background": "light"
     },
     "output_type": "display_data"
    }
   ],
   "source": [
    "sns.countplot(df['Embarked'])"
   ]
  },
  {
   "cell_type": "code",
   "execution_count": 16,
   "id": "634dcb15",
   "metadata": {},
   "outputs": [
    {
     "data": {
      "text/html": [
       "<div>\n",
       "<style scoped>\n",
       "    .dataframe tbody tr th:only-of-type {\n",
       "        vertical-align: middle;\n",
       "    }\n",
       "\n",
       "    .dataframe tbody tr th {\n",
       "        vertical-align: top;\n",
       "    }\n",
       "\n",
       "    .dataframe thead th {\n",
       "        text-align: right;\n",
       "    }\n",
       "</style>\n",
       "<table border=\"1\" class=\"dataframe\">\n",
       "  <thead>\n",
       "    <tr style=\"text-align: right;\">\n",
       "      <th></th>\n",
       "      <th>PassengerId</th>\n",
       "      <th>Survived</th>\n",
       "      <th>Pclass</th>\n",
       "      <th>Name</th>\n",
       "      <th>Sex</th>\n",
       "      <th>Age</th>\n",
       "      <th>SibSp</th>\n",
       "      <th>Parch</th>\n",
       "      <th>Ticket</th>\n",
       "      <th>Fare</th>\n",
       "      <th>Embarked</th>\n",
       "    </tr>\n",
       "  </thead>\n",
       "  <tbody>\n",
       "    <tr>\n",
       "      <th>0</th>\n",
       "      <td>0</td>\n",
       "      <td>0</td>\n",
       "      <td>2</td>\n",
       "      <td>108</td>\n",
       "      <td>1</td>\n",
       "      <td>28</td>\n",
       "      <td>1</td>\n",
       "      <td>0</td>\n",
       "      <td>523</td>\n",
       "      <td>18</td>\n",
       "      <td>2</td>\n",
       "    </tr>\n",
       "    <tr>\n",
       "      <th>1</th>\n",
       "      <td>1</td>\n",
       "      <td>1</td>\n",
       "      <td>0</td>\n",
       "      <td>190</td>\n",
       "      <td>0</td>\n",
       "      <td>52</td>\n",
       "      <td>1</td>\n",
       "      <td>0</td>\n",
       "      <td>596</td>\n",
       "      <td>207</td>\n",
       "      <td>0</td>\n",
       "    </tr>\n",
       "    <tr>\n",
       "      <th>2</th>\n",
       "      <td>2</td>\n",
       "      <td>1</td>\n",
       "      <td>2</td>\n",
       "      <td>353</td>\n",
       "      <td>0</td>\n",
       "      <td>34</td>\n",
       "      <td>0</td>\n",
       "      <td>0</td>\n",
       "      <td>669</td>\n",
       "      <td>41</td>\n",
       "      <td>2</td>\n",
       "    </tr>\n",
       "    <tr>\n",
       "      <th>3</th>\n",
       "      <td>3</td>\n",
       "      <td>1</td>\n",
       "      <td>0</td>\n",
       "      <td>272</td>\n",
       "      <td>0</td>\n",
       "      <td>48</td>\n",
       "      <td>1</td>\n",
       "      <td>0</td>\n",
       "      <td>49</td>\n",
       "      <td>189</td>\n",
       "      <td>2</td>\n",
       "    </tr>\n",
       "    <tr>\n",
       "      <th>4</th>\n",
       "      <td>4</td>\n",
       "      <td>0</td>\n",
       "      <td>2</td>\n",
       "      <td>15</td>\n",
       "      <td>1</td>\n",
       "      <td>48</td>\n",
       "      <td>0</td>\n",
       "      <td>0</td>\n",
       "      <td>472</td>\n",
       "      <td>43</td>\n",
       "      <td>2</td>\n",
       "    </tr>\n",
       "    <tr>\n",
       "      <th>...</th>\n",
       "      <td>...</td>\n",
       "      <td>...</td>\n",
       "      <td>...</td>\n",
       "      <td>...</td>\n",
       "      <td>...</td>\n",
       "      <td>...</td>\n",
       "      <td>...</td>\n",
       "      <td>...</td>\n",
       "      <td>...</td>\n",
       "      <td>...</td>\n",
       "      <td>...</td>\n",
       "    </tr>\n",
       "    <tr>\n",
       "      <th>886</th>\n",
       "      <td>886</td>\n",
       "      <td>0</td>\n",
       "      <td>1</td>\n",
       "      <td>548</td>\n",
       "      <td>1</td>\n",
       "      <td>35</td>\n",
       "      <td>0</td>\n",
       "      <td>0</td>\n",
       "      <td>101</td>\n",
       "      <td>85</td>\n",
       "      <td>2</td>\n",
       "    </tr>\n",
       "    <tr>\n",
       "      <th>887</th>\n",
       "      <td>887</td>\n",
       "      <td>1</td>\n",
       "      <td>0</td>\n",
       "      <td>303</td>\n",
       "      <td>0</td>\n",
       "      <td>24</td>\n",
       "      <td>0</td>\n",
       "      <td>0</td>\n",
       "      <td>14</td>\n",
       "      <td>153</td>\n",
       "      <td>2</td>\n",
       "    </tr>\n",
       "    <tr>\n",
       "      <th>888</th>\n",
       "      <td>888</td>\n",
       "      <td>0</td>\n",
       "      <td>2</td>\n",
       "      <td>413</td>\n",
       "      <td>0</td>\n",
       "      <td>39</td>\n",
       "      <td>1</td>\n",
       "      <td>2</td>\n",
       "      <td>675</td>\n",
       "      <td>131</td>\n",
       "      <td>2</td>\n",
       "    </tr>\n",
       "    <tr>\n",
       "      <th>889</th>\n",
       "      <td>889</td>\n",
       "      <td>1</td>\n",
       "      <td>0</td>\n",
       "      <td>81</td>\n",
       "      <td>1</td>\n",
       "      <td>34</td>\n",
       "      <td>0</td>\n",
       "      <td>0</td>\n",
       "      <td>8</td>\n",
       "      <td>153</td>\n",
       "      <td>0</td>\n",
       "    </tr>\n",
       "    <tr>\n",
       "      <th>890</th>\n",
       "      <td>890</td>\n",
       "      <td>0</td>\n",
       "      <td>2</td>\n",
       "      <td>220</td>\n",
       "      <td>1</td>\n",
       "      <td>43</td>\n",
       "      <td>0</td>\n",
       "      <td>0</td>\n",
       "      <td>466</td>\n",
       "      <td>30</td>\n",
       "      <td>1</td>\n",
       "    </tr>\n",
       "  </tbody>\n",
       "</table>\n",
       "<p>891 rows × 11 columns</p>\n",
       "</div>"
      ],
      "text/plain": [
       "     PassengerId  Survived  Pclass  Name  Sex  Age  SibSp  Parch  Ticket  \\\n",
       "0              0         0       2   108    1   28      1      0     523   \n",
       "1              1         1       0   190    0   52      1      0     596   \n",
       "2              2         1       2   353    0   34      0      0     669   \n",
       "3              3         1       0   272    0   48      1      0      49   \n",
       "4              4         0       2    15    1   48      0      0     472   \n",
       "..           ...       ...     ...   ...  ...  ...    ...    ...     ...   \n",
       "886          886         0       1   548    1   35      0      0     101   \n",
       "887          887         1       0   303    0   24      0      0      14   \n",
       "888          888         0       2   413    0   39      1      2     675   \n",
       "889          889         1       0    81    1   34      0      0       8   \n",
       "890          890         0       2   220    1   43      0      0     466   \n",
       "\n",
       "     Fare  Embarked  \n",
       "0      18         2  \n",
       "1     207         0  \n",
       "2      41         2  \n",
       "3     189         2  \n",
       "4      43         2  \n",
       "..    ...       ...  \n",
       "886    85         2  \n",
       "887   153         2  \n",
       "888   131         2  \n",
       "889   153         0  \n",
       "890    30         1  \n",
       "\n",
       "[891 rows x 11 columns]"
      ]
     },
     "execution_count": 16,
     "metadata": {},
     "output_type": "execute_result"
    }
   ],
   "source": [
    "from sklearn.preprocessing import LabelEncoder\n",
    "le = LabelEncoder()\n",
    "df = df.apply(le.fit_transform)\n",
    "df"
   ]
  },
  {
   "cell_type": "code",
   "execution_count": 17,
   "id": "85db052c",
   "metadata": {},
   "outputs": [
    {
     "data": {
      "text/html": [
       "<div>\n",
       "<style scoped>\n",
       "    .dataframe tbody tr th:only-of-type {\n",
       "        vertical-align: middle;\n",
       "    }\n",
       "\n",
       "    .dataframe tbody tr th {\n",
       "        vertical-align: top;\n",
       "    }\n",
       "\n",
       "    .dataframe thead th {\n",
       "        text-align: right;\n",
       "    }\n",
       "</style>\n",
       "<table border=\"1\" class=\"dataframe\">\n",
       "  <thead>\n",
       "    <tr style=\"text-align: right;\">\n",
       "      <th></th>\n",
       "      <th>Survived</th>\n",
       "      <th>Pclass</th>\n",
       "      <th>Sex</th>\n",
       "      <th>Age</th>\n",
       "      <th>SibSp</th>\n",
       "      <th>Parch</th>\n",
       "      <th>Fare</th>\n",
       "      <th>Embarked</th>\n",
       "    </tr>\n",
       "  </thead>\n",
       "  <tbody>\n",
       "    <tr>\n",
       "      <th>0</th>\n",
       "      <td>0</td>\n",
       "      <td>2</td>\n",
       "      <td>1</td>\n",
       "      <td>28</td>\n",
       "      <td>1</td>\n",
       "      <td>0</td>\n",
       "      <td>18</td>\n",
       "      <td>2</td>\n",
       "    </tr>\n",
       "    <tr>\n",
       "      <th>1</th>\n",
       "      <td>1</td>\n",
       "      <td>0</td>\n",
       "      <td>0</td>\n",
       "      <td>52</td>\n",
       "      <td>1</td>\n",
       "      <td>0</td>\n",
       "      <td>207</td>\n",
       "      <td>0</td>\n",
       "    </tr>\n",
       "    <tr>\n",
       "      <th>2</th>\n",
       "      <td>1</td>\n",
       "      <td>2</td>\n",
       "      <td>0</td>\n",
       "      <td>34</td>\n",
       "      <td>0</td>\n",
       "      <td>0</td>\n",
       "      <td>41</td>\n",
       "      <td>2</td>\n",
       "    </tr>\n",
       "    <tr>\n",
       "      <th>3</th>\n",
       "      <td>1</td>\n",
       "      <td>0</td>\n",
       "      <td>0</td>\n",
       "      <td>48</td>\n",
       "      <td>1</td>\n",
       "      <td>0</td>\n",
       "      <td>189</td>\n",
       "      <td>2</td>\n",
       "    </tr>\n",
       "    <tr>\n",
       "      <th>4</th>\n",
       "      <td>0</td>\n",
       "      <td>2</td>\n",
       "      <td>1</td>\n",
       "      <td>48</td>\n",
       "      <td>0</td>\n",
       "      <td>0</td>\n",
       "      <td>43</td>\n",
       "      <td>2</td>\n",
       "    </tr>\n",
       "    <tr>\n",
       "      <th>...</th>\n",
       "      <td>...</td>\n",
       "      <td>...</td>\n",
       "      <td>...</td>\n",
       "      <td>...</td>\n",
       "      <td>...</td>\n",
       "      <td>...</td>\n",
       "      <td>...</td>\n",
       "      <td>...</td>\n",
       "    </tr>\n",
       "    <tr>\n",
       "      <th>886</th>\n",
       "      <td>0</td>\n",
       "      <td>1</td>\n",
       "      <td>1</td>\n",
       "      <td>35</td>\n",
       "      <td>0</td>\n",
       "      <td>0</td>\n",
       "      <td>85</td>\n",
       "      <td>2</td>\n",
       "    </tr>\n",
       "    <tr>\n",
       "      <th>887</th>\n",
       "      <td>1</td>\n",
       "      <td>0</td>\n",
       "      <td>0</td>\n",
       "      <td>24</td>\n",
       "      <td>0</td>\n",
       "      <td>0</td>\n",
       "      <td>153</td>\n",
       "      <td>2</td>\n",
       "    </tr>\n",
       "    <tr>\n",
       "      <th>888</th>\n",
       "      <td>0</td>\n",
       "      <td>2</td>\n",
       "      <td>0</td>\n",
       "      <td>39</td>\n",
       "      <td>1</td>\n",
       "      <td>2</td>\n",
       "      <td>131</td>\n",
       "      <td>2</td>\n",
       "    </tr>\n",
       "    <tr>\n",
       "      <th>889</th>\n",
       "      <td>1</td>\n",
       "      <td>0</td>\n",
       "      <td>1</td>\n",
       "      <td>34</td>\n",
       "      <td>0</td>\n",
       "      <td>0</td>\n",
       "      <td>153</td>\n",
       "      <td>0</td>\n",
       "    </tr>\n",
       "    <tr>\n",
       "      <th>890</th>\n",
       "      <td>0</td>\n",
       "      <td>2</td>\n",
       "      <td>1</td>\n",
       "      <td>43</td>\n",
       "      <td>0</td>\n",
       "      <td>0</td>\n",
       "      <td>30</td>\n",
       "      <td>1</td>\n",
       "    </tr>\n",
       "  </tbody>\n",
       "</table>\n",
       "<p>891 rows × 8 columns</p>\n",
       "</div>"
      ],
      "text/plain": [
       "     Survived  Pclass  Sex  Age  SibSp  Parch  Fare  Embarked\n",
       "0           0       2    1   28      1      0    18         2\n",
       "1           1       0    0   52      1      0   207         0\n",
       "2           1       2    0   34      0      0    41         2\n",
       "3           1       0    0   48      1      0   189         2\n",
       "4           0       2    1   48      0      0    43         2\n",
       "..        ...     ...  ...  ...    ...    ...   ...       ...\n",
       "886         0       1    1   35      0      0    85         2\n",
       "887         1       0    0   24      0      0   153         2\n",
       "888         0       2    0   39      1      2   131         2\n",
       "889         1       0    1   34      0      0   153         0\n",
       "890         0       2    1   43      0      0    30         1\n",
       "\n",
       "[891 rows x 8 columns]"
      ]
     },
     "execution_count": 17,
     "metadata": {},
     "output_type": "execute_result"
    }
   ],
   "source": [
    "df = df.drop(['PassengerId', 'Name', 'Ticket'], axis = 1)\n",
    "df"
   ]
  },
  {
   "cell_type": "markdown",
   "id": "8f6667b9",
   "metadata": {},
   "source": [
    "# Correlation"
   ]
  },
  {
   "cell_type": "code",
   "execution_count": 18,
   "id": "608a5f47",
   "metadata": {},
   "outputs": [
    {
     "data": {
      "text/plain": [
       "Survived    0.277210\n",
       "Pclass     -0.008649\n",
       "Sex         0.141292\n",
       "Age         0.368382\n",
       "SibSp       1.541341\n",
       "Parch       1.513825\n",
       "Fare        1.038914\n",
       "Embarked    1.026508\n",
       "dtype: float64"
      ]
     },
     "execution_count": 18,
     "metadata": {},
     "output_type": "execute_result"
    }
   ],
   "source": [
    "df.corr().sum()"
   ]
  },
  {
   "cell_type": "code",
   "execution_count": 19,
   "id": "1268f55d",
   "metadata": {},
   "outputs": [
    {
     "data": {
      "text/plain": [
       "<AxesSubplot:>"
      ]
     },
     "execution_count": 19,
     "metadata": {},
     "output_type": "execute_result"
    },
    {
     "data": {
      "image/png": "[encoded data removed]",
      "text/plain": [
       "<Figure size 1296x504 with 2 Axes>"
      ]
     },
     "metadata": {
      "needs_background": "light"
     },
     "output_type": "display_data"
    }
   ],
   "source": [
    "plt.figure(figsize=(18,7))\n",
    "sns.heatmap(df.corr(), annot = True, linecolor = 'black' , cmap = 'RdYlGn')"
   ]
  },
  {
   "cell_type": "code",
   "execution_count": 20,
   "id": "f73396eb",
   "metadata": {},
   "outputs": [
    {
     "data": {
      "text/plain": [
       "Survived       AxesSubplot(0.125,0.536818;0.168478x0.343182)\n",
       "Pclass      AxesSubplot(0.327174,0.536818;0.168478x0.343182)\n",
       "Sex         AxesSubplot(0.529348,0.536818;0.168478x0.343182)\n",
       "Age         AxesSubplot(0.731522,0.536818;0.168478x0.343182)\n",
       "SibSp             AxesSubplot(0.125,0.125;0.168478x0.343182)\n",
       "Parch          AxesSubplot(0.327174,0.125;0.168478x0.343182)\n",
       "Fare           AxesSubplot(0.529348,0.125;0.168478x0.343182)\n",
       "Embarked       AxesSubplot(0.731522,0.125;0.168478x0.343182)\n",
       "dtype: object"
      ]
     },
     "execution_count": 20,
     "metadata": {},
     "output_type": "execute_result"
    },
    {
     "data": {
      "image/png": "[encoded data removed]",
      "text/plain": [
       "<Figure size 1008x720 with 8 Axes>"
      ]
     },
     "metadata": {
      "needs_background": "light"
     },
     "output_type": "display_data"
    }
   ],
   "source": [
    "df.plot(kind = 'box', subplots = True, layout=(2,4), figsize = (14,10))"
   ]
  },
  {
   "cell_type": "markdown",
   "id": "27b9e49e",
   "metadata": {},
   "source": [
    "# Removing outliers using zscore\n"
   ]
  },
  {
   "cell_type": "code",
   "execution_count": 21,
   "id": "6ed1d625",
   "metadata": {},
   "outputs": [
    {
     "data": {
      "text/plain": [
       "((891, 8), (846, 8))"
      ]
     },
     "execution_count": 21,
     "metadata": {},
     "output_type": "execute_result"
    }
   ],
   "source": [
    "from scipy.stats import zscore\n",
    "z = np.abs(zscore(df))\n",
    "df1 = df[(z<3).all(axis=1)]\n",
    "df.shape, df1.shape"
   ]
  },
  {
   "cell_type": "code",
   "execution_count": 22,
   "id": "edc95ce9",
   "metadata": {},
   "outputs": [
    {
     "data": {
      "text/plain": [
       "5.05050505050505"
      ]
     },
     "execution_count": 22,
     "metadata": {},
     "output_type": "execute_result"
    }
   ],
   "source": [
    "#Percentage of data loss\n",
    "\n",
    "loss = ((891 - 846)/891)*100\n",
    "loss"
   ]
  },
  {
   "cell_type": "markdown",
   "id": "54e2d7d2",
   "metadata": {},
   "source": [
    "# Skewness"
   ]
  },
  {
   "cell_type": "code",
   "execution_count": 23,
   "id": "39f7f703",
   "metadata": {},
   "outputs": [
    {
     "data": {
      "text/plain": [
       "Survived    0.426139\n",
       "Pclass     -0.558458\n",
       "Sex        -0.647065\n",
       "Age         0.411739\n",
       "SibSp       2.018553\n",
       "Parch       2.044444\n",
       "Fare        0.466345\n",
       "Embarked   -1.212376\n",
       "dtype: float64"
      ]
     },
     "execution_count": 23,
     "metadata": {},
     "output_type": "execute_result"
    }
   ],
   "source": [
    "df1.skew()"
   ]
  },
  {
   "cell_type": "code",
   "execution_count": 24,
   "id": "53616f25",
   "metadata": {},
   "outputs": [
    {
     "data": {
      "image/png": "[encoded data removed]",
      "text/plain": [
       "<Figure size 1296x504 with 8 Axes>"
      ]
     },
     "metadata": {
      "needs_background": "light"
     },
     "output_type": "display_data"
    }
   ],
   "source": [
    "plt.figure(figsize=(18,7))\n",
    "for i, column in enumerate(df1.columns, 1):\n",
    "    plt.subplot(2,4,i)\n",
    "    sns.distplot(df1[column])"
   ]
  },
  {
   "cell_type": "code",
   "execution_count": 25,
   "id": "cf2beaf8",
   "metadata": {},
   "outputs": [
    {
     "data": {
      "text/html": [
       "<div>\n",
       "<style scoped>\n",
       "    .dataframe tbody tr th:only-of-type {\n",
       "        vertical-align: middle;\n",
       "    }\n",
       "\n",
       "    .dataframe tbody tr th {\n",
       "        vertical-align: top;\n",
       "    }\n",
       "\n",
       "    .dataframe thead th {\n",
       "        text-align: right;\n",
       "    }\n",
       "</style>\n",
       "<table border=\"1\" class=\"dataframe\">\n",
       "  <thead>\n",
       "    <tr style=\"text-align: right;\">\n",
       "      <th></th>\n",
       "      <th>Survived</th>\n",
       "      <th>Pclass</th>\n",
       "      <th>Sex</th>\n",
       "      <th>Age</th>\n",
       "      <th>SibSp</th>\n",
       "      <th>Parch</th>\n",
       "      <th>Fare</th>\n",
       "      <th>Embarked</th>\n",
       "    </tr>\n",
       "  </thead>\n",
       "  <tbody>\n",
       "    <tr>\n",
       "      <th>count</th>\n",
       "      <td>846.000000</td>\n",
       "      <td>846.000000</td>\n",
       "      <td>846.000000</td>\n",
       "      <td>846.000000</td>\n",
       "      <td>846.000000</td>\n",
       "      <td>846.000000</td>\n",
       "      <td>846.000000</td>\n",
       "      <td>846.000000</td>\n",
       "    </tr>\n",
       "    <tr>\n",
       "      <th>mean</th>\n",
       "      <td>0.395981</td>\n",
       "      <td>1.276596</td>\n",
       "      <td>0.653664</td>\n",
       "      <td>39.771868</td>\n",
       "      <td>0.355792</td>\n",
       "      <td>0.268322</td>\n",
       "      <td>102.153664</td>\n",
       "      <td>1.520095</td>\n",
       "    </tr>\n",
       "    <tr>\n",
       "      <th>std</th>\n",
       "      <td>0.489350</td>\n",
       "      <td>0.842142</td>\n",
       "      <td>0.476083</td>\n",
       "      <td>16.303808</td>\n",
       "      <td>0.637958</td>\n",
       "      <td>0.579830</td>\n",
       "      <td>70.118581</td>\n",
       "      <td>0.803217</td>\n",
       "    </tr>\n",
       "    <tr>\n",
       "      <th>min</th>\n",
       "      <td>0.000000</td>\n",
       "      <td>0.000000</td>\n",
       "      <td>0.000000</td>\n",
       "      <td>0.000000</td>\n",
       "      <td>0.000000</td>\n",
       "      <td>0.000000</td>\n",
       "      <td>0.000000</td>\n",
       "      <td>0.000000</td>\n",
       "    </tr>\n",
       "    <tr>\n",
       "      <th>25%</th>\n",
       "      <td>0.000000</td>\n",
       "      <td>0.000000</td>\n",
       "      <td>0.000000</td>\n",
       "      <td>29.000000</td>\n",
       "      <td>0.000000</td>\n",
       "      <td>0.000000</td>\n",
       "      <td>40.000000</td>\n",
       "      <td>1.000000</td>\n",
       "    </tr>\n",
       "    <tr>\n",
       "      <th>50%</th>\n",
       "      <td>0.000000</td>\n",
       "      <td>2.000000</td>\n",
       "      <td>1.000000</td>\n",
       "      <td>39.000000</td>\n",
       "      <td>0.000000</td>\n",
       "      <td>0.000000</td>\n",
       "      <td>85.000000</td>\n",
       "      <td>2.000000</td>\n",
       "    </tr>\n",
       "    <tr>\n",
       "      <th>75%</th>\n",
       "      <td>1.000000</td>\n",
       "      <td>2.000000</td>\n",
       "      <td>1.000000</td>\n",
       "      <td>48.000000</td>\n",
       "      <td>1.000000</td>\n",
       "      <td>0.000000</td>\n",
       "      <td>149.750000</td>\n",
       "      <td>2.000000</td>\n",
       "    </tr>\n",
       "    <tr>\n",
       "      <th>max</th>\n",
       "      <td>1.000000</td>\n",
       "      <td>2.000000</td>\n",
       "      <td>1.000000</td>\n",
       "      <td>88.000000</td>\n",
       "      <td>3.000000</td>\n",
       "      <td>2.000000</td>\n",
       "      <td>247.000000</td>\n",
       "      <td>2.000000</td>\n",
       "    </tr>\n",
       "  </tbody>\n",
       "</table>\n",
       "</div>"
      ],
      "text/plain": [
       "         Survived      Pclass         Sex         Age       SibSp       Parch  \\\n",
       "count  846.000000  846.000000  846.000000  846.000000  846.000000  846.000000   \n",
       "mean     0.395981    1.276596    0.653664   39.771868    0.355792    0.268322   \n",
       "std      0.489350    0.842142    0.476083   16.303808    0.637958    0.579830   \n",
       "min      0.000000    0.000000    0.000000    0.000000    0.000000    0.000000   \n",
       "25%      0.000000    0.000000    0.000000   29.000000    0.000000    0.000000   \n",
       "50%      0.000000    2.000000    1.000000   39.000000    0.000000    0.000000   \n",
       "75%      1.000000    2.000000    1.000000   48.000000    1.000000    0.000000   \n",
       "max      1.000000    2.000000    1.000000   88.000000    3.000000    2.000000   \n",
       "\n",
       "             Fare    Embarked  \n",
       "count  846.000000  846.000000  \n",
       "mean   102.153664    1.520095  \n",
       "std     70.118581    0.803217  \n",
       "min      0.000000    0.000000  \n",
       "25%     40.000000    1.000000  \n",
       "50%     85.000000    2.000000  \n",
       "75%    149.750000    2.000000  \n",
       "max    247.000000    2.000000  "
      ]
     },
     "execution_count": 25,
     "metadata": {},
     "output_type": "execute_result"
    }
   ],
   "source": [
    "df1.describe()"
   ]
  },
  {
   "cell_type": "code",
   "execution_count": 26,
   "id": "664f2e4a",
   "metadata": {},
   "outputs": [],
   "source": [
    "X = df1.drop(['Survived'], axis = 1)\n",
    "Y = df1['Survived']"
   ]
  },
  {
   "cell_type": "code",
   "execution_count": 27,
   "id": "49db1798",
   "metadata": {},
   "outputs": [
    {
     "data": {
      "text/plain": [
       "array([[ 0.88521268,  0.7278992 , -0.69026547, ..., -0.49776095,\n",
       "        -1.38818253,  0.62138773],\n",
       "       [-1.45416411, -1.37381659,  0.76716925, ..., -0.49776095,\n",
       "         1.33041341, -1.74999188],\n",
       "       [ 0.88521268, -1.37381659, -0.30553222, ..., -0.49776095,\n",
       "        -0.79791981,  0.62138773],\n",
       "       ...,\n",
       "       [ 0.88521268, -1.37381659,  0.00328101, ...,  2.0373313 ,\n",
       "         0.55527323,  0.62138773],\n",
       "       [-1.45416411,  0.7278992 , -0.30553222, ..., -0.49776095,\n",
       "         0.79967696, -1.74999188],\n",
       "       [ 0.88521268,  0.7278992 ,  0.24381203, ..., -0.49776095,\n",
       "        -1.05024185, -1.17963484]])"
      ]
     },
     "execution_count": 27,
     "metadata": {},
     "output_type": "execute_result"
    }
   ],
   "source": [
    "#Transformimng data to remove skewness\n",
    "\n",
    "from sklearn.preprocessing import power_transform\n",
    "X = power_transform(X, method = 'yeo-johnson')\n",
    "X"
   ]
  },
  {
   "cell_type": "code",
   "execution_count": 28,
   "id": "3ee380aa",
   "metadata": {},
   "outputs": [
    {
     "data": {
      "text/plain": [
       "array([[ 0.88521268,  0.7278992 , -0.69026547, ..., -0.49776095,\n",
       "        -1.38818253,  0.62138773],\n",
       "       [-1.45416411, -1.37381659,  0.76716925, ..., -0.49776095,\n",
       "         1.33041341, -1.74999188],\n",
       "       [ 0.88521268, -1.37381659, -0.30553222, ..., -0.49776095,\n",
       "        -0.79791981,  0.62138773],\n",
       "       ...,\n",
       "       [ 0.88521268, -1.37381659,  0.00328101, ...,  2.0373313 ,\n",
       "         0.55527323,  0.62138773],\n",
       "       [-1.45416411,  0.7278992 , -0.30553222, ..., -0.49776095,\n",
       "         0.79967696, -1.74999188],\n",
       "       [ 0.88521268,  0.7278992 ,  0.24381203, ..., -0.49776095,\n",
       "        -1.05024185, -1.17963484]])"
      ]
     },
     "execution_count": 28,
     "metadata": {},
     "output_type": "execute_result"
    }
   ],
   "source": [
    "#Standardizing data\n",
    "\n",
    "from sklearn.preprocessing import StandardScaler\n",
    "sc = StandardScaler()\n",
    "X = sc.fit_transform(X)\n",
    "X"
   ]
  },
  {
   "cell_type": "code",
   "execution_count": 29,
   "id": "cda602cf",
   "metadata": {},
   "outputs": [],
   "source": [
    "X = pd.DataFrame(X)"
   ]
  },
  {
   "cell_type": "code",
   "execution_count": 30,
   "id": "b46ad770",
   "metadata": {},
   "outputs": [
    {
     "data": {
      "text/plain": [
       "0    511\n",
       "1    335\n",
       "Name: Survived, dtype: int64"
      ]
     },
     "execution_count": 30,
     "metadata": {},
     "output_type": "execute_result"
    }
   ],
   "source": [
    "Y.value_counts()"
   ]
  },
  {
   "cell_type": "code",
   "execution_count": 31,
   "id": "7f3662d6",
   "metadata": {},
   "outputs": [
    {
     "data": {
      "text/plain": [
       "0    511\n",
       "1    511\n",
       "Name: Survived, dtype: int64"
      ]
     },
     "execution_count": 31,
     "metadata": {},
     "output_type": "execute_result"
    }
   ],
   "source": [
    "from imblearn.over_sampling import RandomOverSampler\n",
    "ros = RandomOverSampler()\n",
    "X, Y = ros.fit_resample(X,Y)\n",
    "Y.value_counts()"
   ]
  },
  {
   "cell_type": "markdown",
   "id": "d60e05ff",
   "metadata": {},
   "source": [
    "# Train test split"
   ]
  },
  {
   "cell_type": "code",
   "execution_count": 32,
   "id": "e0191f96",
   "metadata": {},
   "outputs": [],
   "source": [
    "from sklearn.model_selection import train_test_split\n",
    "X_train, X_test, Y_train, Y_test =  train_test_split(X, Y, test_size = 0.2, random_state = 43)"
   ]
  },
  {
   "cell_type": "code",
   "execution_count": 33,
   "id": "b4a9ae3a",
   "metadata": {},
   "outputs": [],
   "source": [
    "from sklearn.metrics import confusion_matrix, classification_report, accuracy_score\n",
    "from sklearn.model_selection import cross_val_score"
   ]
  },
  {
   "cell_type": "markdown",
   "id": "b1055405",
   "metadata": {},
   "source": [
    "# 1. Logistic Regression\n"
   ]
  },
  {
   "cell_type": "code",
   "execution_count": 34,
   "id": "f4121b9a",
   "metadata": {},
   "outputs": [
    {
     "name": "stdout",
     "output_type": "stream",
     "text": [
      "[[89 21]\n",
      " [17 78]]\n",
      "              precision    recall  f1-score   support\n",
      "\n",
      "           0       0.84      0.81      0.82       110\n",
      "           1       0.79      0.82      0.80        95\n",
      "\n",
      "    accuracy                           0.81       205\n",
      "   macro avg       0.81      0.82      0.81       205\n",
      "weighted avg       0.82      0.81      0.81       205\n",
      "\n",
      "0.8146341463414634\n"
     ]
    },
    {
     "data": {
      "text/plain": [
       "0.7896365375418462"
      ]
     },
     "execution_count": 34,
     "metadata": {},
     "output_type": "execute_result"
    }
   ],
   "source": [
    "#Logistic Regression\n",
    "\n",
    "from sklearn.linear_model import LogisticRegression\n",
    "lr = LogisticRegression()\n",
    "lr.fit(X_train, Y_train)\n",
    "pred = lr.predict(X_test)\n",
    "\n",
    "print(confusion_matrix(Y_test, pred))\n",
    "print(classification_report(Y_test, pred))\n",
    "print(accuracy_score(Y_test, pred))\n",
    "cvs = cross_val_score(lr, X, Y, cv=None)\n",
    "cvs.mean()"
   ]
  },
  {
   "cell_type": "markdown",
   "id": "c536906d",
   "metadata": {},
   "source": [
    "# 2. Descison Tree Classifier\n"
   ]
  },
  {
   "cell_type": "code",
   "execution_count": 35,
   "id": "cdb033bb",
   "metadata": {},
   "outputs": [
    {
     "name": "stdout",
     "output_type": "stream",
     "text": [
      "[[93 17]\n",
      " [13 82]]\n",
      "              precision    recall  f1-score   support\n",
      "\n",
      "           0       0.88      0.85      0.86       110\n",
      "           1       0.83      0.86      0.85        95\n",
      "\n",
      "    accuracy                           0.85       205\n",
      "   macro avg       0.85      0.85      0.85       205\n",
      "weighted avg       0.85      0.85      0.85       205\n",
      "\n",
      "0.8536585365853658\n"
     ]
    },
    {
     "data": {
      "text/plain": [
       "0.8386322333811573"
      ]
     },
     "execution_count": 35,
     "metadata": {},
     "output_type": "execute_result"
    }
   ],
   "source": [
    "#Descison Tree Classifier\n",
    "\n",
    "from sklearn.tree import DecisionTreeClassifier\n",
    "dt = DecisionTreeClassifier()\n",
    "dt.fit(X_train,Y_train)\n",
    "pred = dt.predict(X_test)\n",
    "\n",
    "print(confusion_matrix(Y_test, pred))\n",
    "print(classification_report(Y_test, pred))\n",
    "print(accuracy_score(Y_test, pred))\n",
    "cvs = cross_val_score(dt, X, Y, cv=None)\n",
    "cvs.mean()\n"
   ]
  },
  {
   "cell_type": "markdown",
   "id": "2e153a6e",
   "metadata": {},
   "source": [
    "# 3. Random Forest Classifier"
   ]
  },
  {
   "cell_type": "code",
   "execution_count": 36,
   "id": "d3bdcc4f",
   "metadata": {},
   "outputs": [
    {
     "name": "stdout",
     "output_type": "stream",
     "text": [
      "[[91 19]\n",
      " [10 85]]\n",
      "              precision    recall  f1-score   support\n",
      "\n",
      "           0       0.90      0.83      0.86       110\n",
      "           1       0.82      0.89      0.85        95\n",
      "\n",
      "    accuracy                           0.86       205\n",
      "   macro avg       0.86      0.86      0.86       205\n",
      "weighted avg       0.86      0.86      0.86       205\n",
      "\n",
      "0.8585365853658536\n"
     ]
    },
    {
     "data": {
      "text/plain": [
       "0.8474318507890961"
      ]
     },
     "execution_count": 36,
     "metadata": {},
     "output_type": "execute_result"
    }
   ],
   "source": [
    "#Random Forest Classifier\n",
    "\n",
    "from sklearn.ensemble import RandomForestClassifier\n",
    "rf = RandomForestClassifier()\n",
    "rf.fit(X_train,Y_train)\n",
    "pred = rf.predict(X_test)\n",
    "\n",
    "print(confusion_matrix(Y_test, pred))\n",
    "print(classification_report(Y_test, pred))\n",
    "print(accuracy_score(Y_test, pred))\n",
    "cvs = cross_val_score(rf, X, Y, cv=None)\n",
    "cvs.mean()"
   ]
  },
  {
   "cell_type": "markdown",
   "id": "ee633020",
   "metadata": {},
   "source": [
    "# 4. Support Vector Classifier\n"
   ]
  },
  {
   "cell_type": "code",
   "execution_count": 37,
   "id": "c86b869a",
   "metadata": {},
   "outputs": [
    {
     "name": "stdout",
     "output_type": "stream",
     "text": [
      "[[85 25]\n",
      " [16 79]]\n",
      "              precision    recall  f1-score   support\n",
      "\n",
      "           0       0.84      0.77      0.81       110\n",
      "           1       0.76      0.83      0.79        95\n",
      "\n",
      "    accuracy                           0.80       205\n",
      "   macro avg       0.80      0.80      0.80       205\n",
      "weighted avg       0.80      0.80      0.80       205\n",
      "\n",
      "0.8\n"
     ]
    },
    {
     "data": {
      "text/plain": [
       "0.7965184122429461"
      ]
     },
     "execution_count": 37,
     "metadata": {},
     "output_type": "execute_result"
    }
   ],
   "source": [
    "#Support Vector Classifier\n",
    "\n",
    "from sklearn.svm import SVC\n",
    "svc = SVC()\n",
    "svc.fit(X_train,Y_train)\n",
    "pred = svc.predict(X_test)\n",
    "\n",
    "print(confusion_matrix(Y_test, pred))\n",
    "print(classification_report(Y_test, pred))\n",
    "print(accuracy_score(Y_test, pred))\n",
    "cvs = cross_val_score(svc, X, Y, cv=None)\n",
    "cvs.mean()\n"
   ]
  },
  {
   "cell_type": "markdown",
   "id": "f84357c7",
   "metadata": {},
   "source": [
    "# 5. KNN Classifier\n"
   ]
  },
  {
   "cell_type": "code",
   "execution_count": 38,
   "id": "ab2c58fb",
   "metadata": {},
   "outputs": [
    {
     "name": "stdout",
     "output_type": "stream",
     "text": [
      "[[89 21]\n",
      " [16 79]]\n",
      "              precision    recall  f1-score   support\n",
      "\n",
      "           0       0.85      0.81      0.83       110\n",
      "           1       0.79      0.83      0.81        95\n",
      "\n",
      "    accuracy                           0.82       205\n",
      "   macro avg       0.82      0.82      0.82       205\n",
      "weighted avg       0.82      0.82      0.82       205\n",
      "\n",
      "0.8195121951219512\n"
     ]
    },
    {
     "data": {
      "text/plain": [
       "0.8121999043519847"
      ]
     },
     "execution_count": 38,
     "metadata": {},
     "output_type": "execute_result"
    }
   ],
   "source": [
    "# KNN Classifier\n",
    "\n",
    "from sklearn.neighbors import KNeighborsClassifier\n",
    "knn = KNeighborsClassifier()\n",
    "knn.fit(X_train, Y_train)\n",
    "pred = knn.predict(X_test)\n",
    "\n",
    "print(confusion_matrix(Y_test, pred))\n",
    "print(classification_report(Y_test, pred))\n",
    "print(accuracy_score(Y_test, pred))\n",
    "cvs = cross_val_score(knn, X, Y, cv=None)\n",
    "cvs.mean()\n"
   ]
  },
  {
   "cell_type": "markdown",
   "id": "a26fbbe2",
   "metadata": {},
   "source": [
    "# 6. Gradient Boosting Classifier\n"
   ]
  },
  {
   "cell_type": "code",
   "execution_count": 39,
   "id": "b46b7d9f",
   "metadata": {},
   "outputs": [
    {
     "name": "stdout",
     "output_type": "stream",
     "text": [
      "[[92 18]\n",
      " [13 82]]\n",
      "              precision    recall  f1-score   support\n",
      "\n",
      "           0       0.88      0.84      0.86       110\n",
      "           1       0.82      0.86      0.84        95\n",
      "\n",
      "    accuracy                           0.85       205\n",
      "   macro avg       0.85      0.85      0.85       205\n",
      "weighted avg       0.85      0.85      0.85       205\n",
      "\n",
      "0.848780487804878\n"
     ]
    },
    {
     "data": {
      "text/plain": [
       "0.8385891917742707"
      ]
     },
     "execution_count": 39,
     "metadata": {},
     "output_type": "execute_result"
    }
   ],
   "source": [
    "# GBClassifier\n",
    "\n",
    "from sklearn.ensemble import GradientBoostingClassifier\n",
    "gb = GradientBoostingClassifier()\n",
    "gb.fit(X_train,Y_train)\n",
    "pred = gb.predict(X_test)\n",
    "\n",
    "print(confusion_matrix(Y_test, pred))\n",
    "print(classification_report(Y_test, pred))\n",
    "print(accuracy_score(Y_test, pred))\n",
    "cvs = cross_val_score(gb, X, Y, cv=None)\n",
    "cvs.mean()"
   ]
  },
  {
   "cell_type": "markdown",
   "id": "6f9d7330",
   "metadata": {},
   "source": [
    "# 7. XGBoost Classifier\n"
   ]
  },
  {
   "cell_type": "code",
   "execution_count": 40,
   "id": "76cce142",
   "metadata": {},
   "outputs": [
    {
     "name": "stdout",
     "output_type": "stream",
     "text": [
      "[04:36:06] WARNING: ..\\src\\learner.cc:1115: Starting in XGBoost 1.3.0, the default evaluation metric used with the objective 'binary:logistic' was changed from 'error' to 'logloss'. Explicitly set eval_metric if you'd like to restore the old behavior.\n",
      "[[92 18]\n",
      " [13 82]]\n",
      "              precision    recall  f1-score   support\n",
      "\n",
      "           0       0.88      0.84      0.86       110\n",
      "           1       0.82      0.86      0.84        95\n",
      "\n",
      "    accuracy                           0.85       205\n",
      "   macro avg       0.85      0.85      0.85       205\n",
      "weighted avg       0.85      0.85      0.85       205\n",
      "\n",
      "0.848780487804878\n",
      "[04:36:06] WARNING: ..\\src\\learner.cc:1115: Starting in XGBoost 1.3.0, the default evaluation metric used with the objective 'binary:logistic' was changed from 'error' to 'logloss'. Explicitly set eval_metric if you'd like to restore the old behavior.\n",
      "[04:36:06] WARNING: ..\\src\\learner.cc:1115: Starting in XGBoost 1.3.0, the default evaluation metric used with the objective 'binary:logistic' was changed from 'error' to 'logloss'. Explicitly set eval_metric if you'd like to restore the old behavior.\n",
      "[04:36:06] WARNING: ..\\src\\learner.cc:1115: Starting in XGBoost 1.3.0, the default evaluation metric used with the objective 'binary:logistic' was changed from 'error' to 'logloss'. Explicitly set eval_metric if you'd like to restore the old behavior.\n",
      "[04:36:06] WARNING: ..\\src\\learner.cc:1115: Starting in XGBoost 1.3.0, the default evaluation metric used with the objective 'binary:logistic' was changed from 'error' to 'logloss'. Explicitly set eval_metric if you'd like to restore the old behavior.\n",
      "[04:36:06] WARNING: ..\\src\\learner.cc:1115: Starting in XGBoost 1.3.0, the default evaluation metric used with the objective 'binary:logistic' was changed from 'error' to 'logloss'. Explicitly set eval_metric if you'd like to restore the old behavior.\n"
     ]
    },
    {
     "data": {
      "text/plain": [
       "0.8337063605930177"
      ]
     },
     "execution_count": 40,
     "metadata": {},
     "output_type": "execute_result"
    }
   ],
   "source": [
    "# XGBoost Classifier\n",
    "\n",
    "from xgboost import XGBClassifier\n",
    "xgb = XGBClassifier()\n",
    "xgb.fit(X_train,Y_train)\n",
    "pred = xgb.predict(X_test)\n",
    "\n",
    "print(confusion_matrix(Y_test, pred))\n",
    "print(classification_report(Y_test, pred))\n",
    "print(accuracy_score(Y_test, pred))\n",
    "cvs = cross_val_score(xgb, X, Y, cv=None)\n",
    "cvs.mean()"
   ]
  },
  {
   "cell_type": "markdown",
   "id": "08caa8b2",
   "metadata": {},
   "source": [
    "# 8. AdaBoost classifier\n"
   ]
  },
  {
   "cell_type": "code",
   "execution_count": 41,
   "id": "ecc24821",
   "metadata": {},
   "outputs": [
    {
     "name": "stdout",
     "output_type": "stream",
     "text": [
      "[[85 25]\n",
      " [13 82]]\n",
      "              precision    recall  f1-score   support\n",
      "\n",
      "           0       0.87      0.77      0.82       110\n",
      "           1       0.77      0.86      0.81        95\n",
      "\n",
      "    accuracy                           0.81       205\n",
      "   macro avg       0.82      0.82      0.81       205\n",
      "weighted avg       0.82      0.81      0.81       205\n",
      "\n",
      "0.8146341463414634\n"
     ]
    },
    {
     "data": {
      "text/plain": [
       "0.808283118125299"
      ]
     },
     "execution_count": 41,
     "metadata": {},
     "output_type": "execute_result"
    }
   ],
   "source": [
    "# AdaBoost classifier\n",
    "\n",
    "from sklearn.ensemble import AdaBoostClassifier\n",
    "adb = AdaBoostClassifier()\n",
    "adb.fit(X_train,Y_train)\n",
    "pred = adb.predict(X_test)\n",
    "\n",
    "print(confusion_matrix(Y_test, pred))\n",
    "print(classification_report(Y_test, pred))\n",
    "print(accuracy_score(Y_test, pred))\n",
    "cvs = cross_val_score(adb, X, Y, cv=None)\n",
    "cvs.mean()"
   ]
  },
  {
   "cell_type": "markdown",
   "id": "4bd25230",
   "metadata": {},
   "source": [
    "# 9. Naive Bayes Classifier\n"
   ]
  },
  {
   "cell_type": "code",
   "execution_count": 42,
   "id": "4a7edb90",
   "metadata": {},
   "outputs": [
    {
     "name": "stdout",
     "output_type": "stream",
     "text": [
      "[[78 32]\n",
      " [16 79]]\n",
      "              precision    recall  f1-score   support\n",
      "\n",
      "           0       0.83      0.71      0.76       110\n",
      "           1       0.71      0.83      0.77        95\n",
      "\n",
      "    accuracy                           0.77       205\n",
      "   macro avg       0.77      0.77      0.77       205\n",
      "weighted avg       0.78      0.77      0.77       205\n",
      "\n",
      "0.7658536585365854\n"
     ]
    },
    {
     "data": {
      "text/plain": [
       "0.7701243424198948"
      ]
     },
     "execution_count": 42,
     "metadata": {},
     "output_type": "execute_result"
    }
   ],
   "source": [
    "# GaussianNB Classifier\n",
    "\n",
    "from sklearn.naive_bayes import GaussianNB\n",
    "nb = GaussianNB()\n",
    "nb.fit(X_train,Y_train)\n",
    "pred = nb.predict(X_test)\n",
    "\n",
    "print(confusion_matrix(Y_test, pred))\n",
    "print(classification_report(Y_test, pred))\n",
    "print(accuracy_score(Y_test, pred))\n",
    "cvs = cross_val_score(nb, X, Y, cv=None)\n",
    "cvs.mean()"
   ]
  },
  {
   "cell_type": "markdown",
   "id": "81167c57",
   "metadata": {},
   "source": [
    "# Hyperparameter Tuning "
   ]
  },
  {
   "cell_type": "code",
   "execution_count": 43,
   "id": "ddf14b45",
   "metadata": {},
   "outputs": [],
   "source": [
    "from sklearn.model_selection import RandomizedSearchCV"
   ]
  },
  {
   "cell_type": "code",
   "execution_count": 44,
   "id": "ffdde945",
   "metadata": {},
   "outputs": [
    {
     "data": {
      "text/plain": [
       "{'n_estimators': range(1, 500, 35),\n",
       " 'criterion': ('gini', 'entropy', 'log_loss'),\n",
       " 'max_depth': [10, 25, 30, 43],\n",
       " 'min_samples_split': [10, 20, 30, 40],\n",
       " 'max_features': ('sqrt', 'log2')}"
      ]
     },
     "execution_count": 44,
     "metadata": {},
     "output_type": "execute_result"
    }
   ],
   "source": [
    "n_estimators = range(1,500,35)\n",
    "criterion = ('gini', 'entropy', 'log_loss')\n",
    "max_depth = [10, 25, 30, 43]\n",
    "min_samples_split = [10,20,30,40]\n",
    "max_features = ('sqrt', 'log2')\n",
    "\n",
    "random_grid = {'n_estimators' : n_estimators,\n",
    "               'criterion' : criterion,\n",
    "               'max_depth' : max_depth,\n",
    "               'min_samples_split' : min_samples_split,\n",
    "               'max_features' : max_features}\n",
    "random_grid"
   ]
  },
  {
   "cell_type": "code",
   "execution_count": 45,
   "id": "44ea7812",
   "metadata": {},
   "outputs": [
    {
     "name": "stdout",
     "output_type": "stream",
     "text": [
      "[04:36:24] WARNING: ..\\src\\learner.cc:576: \n",
      "Parameters: { \"criterion\", \"max_features\", \"min_samples_split\" } might not be used.\n",
      "\n",
      "  This could be a false alarm, with some parameters getting used by language bindings but\n",
      "  then being mistakenly passed down to XGBoost core, or some parameter actually being used\n",
      "  but getting flagged wrongly here. Please open an issue if you find any such cases.\n",
      "\n",
      "\n",
      "[04:36:24] WARNING: ..\\src\\learner.cc:1115: Starting in XGBoost 1.3.0, the default evaluation metric used with the objective 'binary:logistic' was changed from 'error' to 'logloss'. Explicitly set eval_metric if you'd like to restore the old behavior.\n"
     ]
    },
    {
     "data": {
      "text/html": [
       "<style>#sk-container-id-1 {color: black;background-color: white;}#sk-container-id-1 pre{padding: 0;}#sk-container-id-1 div.sk-toggleable {background-color: white;}#sk-container-id-1 label.sk-toggleable__label {cursor: pointer;display: block;width: 100%;margin-bottom: 0;padding: 0.3em;box-sizing: border-box;text-align: center;}#sk-container-id-1 label.sk-toggleable__label-arrow:before {content: \"▸\";float: left;margin-right: 0.25em;color: #696969;}#sk-container-id-1 label.sk-toggleable__label-arrow:hover:before {color: black;}#sk-container-id-1 div.sk-estimator:hover label.sk-toggleable__label-arrow:before {color: black;}#sk-container-id-1 div.sk-toggleable__content {max-height: 0;max-width: 0;overflow: hidden;text-align: left;background-color: #f0f8ff;}#sk-container-id-1 div.sk-toggleable__content pre {margin: 0.2em;color: black;border-radius: 0.25em;background-color: #f0f8ff;}#sk-container-id-1 input.sk-toggleable__control:checked~div.sk-toggleable__content {max-height: 200px;max-width: 100%;overflow: auto;}#sk-container-id-1 input.sk-toggleable__control:checked~label.sk-toggleable__label-arrow:before {content: \"▾\";}#sk-container-id-1 div.sk-estimator input.sk-toggleable__control:checked~label.sk-toggleable__label {background-color: #d4ebff;}#sk-container-id-1 div.sk-label input.sk-toggleable__control:checked~label.sk-toggleable__label {background-color: #d4ebff;}#sk-container-id-1 input.sk-hidden--visually {border: 0;clip: rect(1px 1px 1px 1px);clip: rect(1px, 1px, 1px, 1px);height: 1px;margin: -1px;overflow: hidden;padding: 0;position: absolute;width: 1px;}#sk-container-id-1 div.sk-estimator {font-family: monospace;background-color: #f0f8ff;border: 1px dotted black;border-radius: 0.25em;box-sizing: border-box;margin-bottom: 0.5em;}#sk-container-id-1 div.sk-estimator:hover {background-color: #d4ebff;}#sk-container-id-1 div.sk-parallel-item::after {content: \"\";width: 100%;border-bottom: 1px solid gray;flex-grow: 1;}#sk-container-id-1 div.sk-label:hover label.sk-toggleable__label {background-color: #d4ebff;}#sk-container-id-1 div.sk-serial::before {content: \"\";position: absolute;border-left: 1px solid gray;box-sizing: border-box;top: 0;bottom: 0;left: 50%;z-index: 0;}#sk-container-id-1 div.sk-serial {display: flex;flex-direction: column;align-items: center;background-color: white;padding-right: 0.2em;padding-left: 0.2em;position: relative;}#sk-container-id-1 div.sk-item {position: relative;z-index: 1;}#sk-container-id-1 div.sk-parallel {display: flex;align-items: stretch;justify-content: center;background-color: white;position: relative;}#sk-container-id-1 div.sk-item::before, #sk-container-id-1 div.sk-parallel-item::before {content: \"\";position: absolute;border-left: 1px solid gray;box-sizing: border-box;top: 0;bottom: 0;left: 50%;z-index: -1;}#sk-container-id-1 div.sk-parallel-item {display: flex;flex-direction: column;z-index: 1;position: relative;background-color: white;}#sk-container-id-1 div.sk-parallel-item:first-child::after {align-self: flex-end;width: 50%;}#sk-container-id-1 div.sk-parallel-item:last-child::after {align-self: flex-start;width: 50%;}#sk-container-id-1 div.sk-parallel-item:only-child::after {width: 0;}#sk-container-id-1 div.sk-dashed-wrapped {border: 1px dashed gray;margin: 0 0.4em 0.5em 0.4em;box-sizing: border-box;padding-bottom: 0.4em;background-color: white;}#sk-container-id-1 div.sk-label label {font-family: monospace;font-weight: bold;display: inline-block;line-height: 1.2em;}#sk-container-id-1 div.sk-label-container {text-align: center;}#sk-container-id-1 div.sk-container {/* jupyter's `normalize.less` sets `[hidden] { display: none; }` but bootstrap.min.css set `[hidden] { display: none !important; }` so we also need the `!important` here to be able to override the default hidden behavior on the sphinx rendered scikit-learn.org. See: https://github.com/scikit-learn/scikit-learn/issues/21755 */display: inline-block !important;position: relative;}#sk-container-id-1 div.sk-text-repr-fallback {display: none;}</style><div id=\"sk-container-id-1\" class=\"sk-top-container\"><div class=\"sk-text-repr-fallback\"><pre>RandomizedSearchCV(cv=5,\n",
       "                   estimator=XGBClassifier(base_score=None, booster=None,\n",
       "                                           colsample_bylevel=None,\n",
       "                                           colsample_bynode=None,\n",
       "                                           colsample_bytree=None,\n",
       "                                           enable_categorical=False, gamma=None,\n",
       "                                           gpu_id=None, importance_type=None,\n",
       "                                           interaction_constraints=None,\n",
       "                                           learning_rate=None,\n",
       "                                           max_delta_step=None, max_depth=None,\n",
       "                                           min_child_weight=None, missing=nan,\n",
       "                                           monotone_constraints...\n",
       "                                           predictor=None, random_state=None,\n",
       "                                           reg_alpha=None, reg_lambda=None,\n",
       "                                           scale_pos_weight=None,\n",
       "                                           subsample=None, tree_method=None,\n",
       "                                           validate_parameters=None,\n",
       "                                           verbosity=None),\n",
       "                   n_jobs=-1,\n",
       "                   param_distributions={&#x27;criterion&#x27;: (&#x27;gini&#x27;, &#x27;entropy&#x27;,\n",
       "                                                      &#x27;log_loss&#x27;),\n",
       "                                        &#x27;max_depth&#x27;: [10, 25, 30, 43],\n",
       "                                        &#x27;max_features&#x27;: (&#x27;sqrt&#x27;, &#x27;log2&#x27;),\n",
       "                                        &#x27;min_samples_split&#x27;: [10, 20, 30, 40],\n",
       "                                        &#x27;n_estimators&#x27;: range(1, 500, 35)})</pre><b>In a Jupyter environment, please rerun this cell to show the HTML representation or trust the notebook. <br />On GitHub, the HTML representation is unable to render, please try loading this page with nbviewer.org.</b></div><div class=\"sk-container\" hidden><div class=\"sk-item sk-dashed-wrapped\"><div class=\"sk-label-container\"><div class=\"sk-label sk-toggleable\"><input class=\"sk-toggleable__control sk-hidden--visually\" id=\"sk-estimator-id-1\" type=\"checkbox\" ><label for=\"sk-estimator-id-1\" class=\"sk-toggleable__label sk-toggleable__label-arrow\">RandomizedSearchCV</label><div class=\"sk-toggleable__content\"><pre>RandomizedSearchCV(cv=5,\n",
       "                   estimator=XGBClassifier(base_score=None, booster=None,\n",
       "                                           colsample_bylevel=None,\n",
       "                                           colsample_bynode=None,\n",
       "                                           colsample_bytree=None,\n",
       "                                           enable_categorical=False, gamma=None,\n",
       "                                           gpu_id=None, importance_type=None,\n",
       "                                           interaction_constraints=None,\n",
       "                                           learning_rate=None,\n",
       "                                           max_delta_step=None, max_depth=None,\n",
       "                                           min_child_weight=None, missing=nan,\n",
       "                                           monotone_constraints...\n",
       "                                           predictor=None, random_state=None,\n",
       "                                           reg_alpha=None, reg_lambda=None,\n",
       "                                           scale_pos_weight=None,\n",
       "                                           subsample=None, tree_method=None,\n",
       "                                           validate_parameters=None,\n",
       "                                           verbosity=None),\n",
       "                   n_jobs=-1,\n",
       "                   param_distributions={&#x27;criterion&#x27;: (&#x27;gini&#x27;, &#x27;entropy&#x27;,\n",
       "                                                      &#x27;log_loss&#x27;),\n",
       "                                        &#x27;max_depth&#x27;: [10, 25, 30, 43],\n",
       "                                        &#x27;max_features&#x27;: (&#x27;sqrt&#x27;, &#x27;log2&#x27;),\n",
       "                                        &#x27;min_samples_split&#x27;: [10, 20, 30, 40],\n",
       "                                        &#x27;n_estimators&#x27;: range(1, 500, 35)})</pre></div></div></div><div class=\"sk-parallel\"><div class=\"sk-parallel-item\"><div class=\"sk-item\"><div class=\"sk-label-container\"><div class=\"sk-label sk-toggleable\"><input class=\"sk-toggleable__control sk-hidden--visually\" id=\"sk-estimator-id-2\" type=\"checkbox\" ><label for=\"sk-estimator-id-2\" class=\"sk-toggleable__label sk-toggleable__label-arrow\">estimator: XGBClassifier</label><div class=\"sk-toggleable__content\"><pre>XGBClassifier(base_score=None, booster=None, colsample_bylevel=None,\n",
       "              colsample_bynode=None, colsample_bytree=None,\n",
       "              enable_categorical=False, gamma=None, gpu_id=None,\n",
       "              importance_type=None, interaction_constraints=None,\n",
       "              learning_rate=None, max_delta_step=None, max_depth=None,\n",
       "              min_child_weight=None, missing=nan, monotone_constraints=None,\n",
       "              n_estimators=100, n_jobs=None, num_parallel_tree=None,\n",
       "              predictor=None, random_state=None, reg_alpha=None,\n",
       "              reg_lambda=None, scale_pos_weight=None, subsample=None,\n",
       "              tree_method=None, validate_parameters=None, verbosity=None)</pre></div></div></div><div class=\"sk-serial\"><div class=\"sk-item\"><div class=\"sk-estimator sk-toggleable\"><input class=\"sk-toggleable__control sk-hidden--visually\" id=\"sk-estimator-id-3\" type=\"checkbox\" ><label for=\"sk-estimator-id-3\" class=\"sk-toggleable__label sk-toggleable__label-arrow\">XGBClassifier</label><div class=\"sk-toggleable__content\"><pre>XGBClassifier(base_score=None, booster=None, colsample_bylevel=None,\n",
       "              colsample_bynode=None, colsample_bytree=None,\n",
       "              enable_categorical=False, gamma=None, gpu_id=None,\n",
       "              importance_type=None, interaction_constraints=None,\n",
       "              learning_rate=None, max_delta_step=None, max_depth=None,\n",
       "              min_child_weight=None, missing=nan, monotone_constraints=None,\n",
       "              n_estimators=100, n_jobs=None, num_parallel_tree=None,\n",
       "              predictor=None, random_state=None, reg_alpha=None,\n",
       "              reg_lambda=None, scale_pos_weight=None, subsample=None,\n",
       "              tree_method=None, validate_parameters=None, verbosity=None)</pre></div></div></div></div></div></div></div></div></div></div>"
      ],
      "text/plain": [
       "RandomizedSearchCV(cv=5,\n",
       "                   estimator=XGBClassifier(base_score=None, booster=None,\n",
       "                                           colsample_bylevel=None,\n",
       "                                           colsample_bynode=None,\n",
       "                                           colsample_bytree=None,\n",
       "                                           enable_categorical=False, gamma=None,\n",
       "                                           gpu_id=None, importance_type=None,\n",
       "                                           interaction_constraints=None,\n",
       "                                           learning_rate=None,\n",
       "                                           max_delta_step=None, max_depth=None,\n",
       "                                           min_child_weight=None, missing=nan,\n",
       "                                           monotone_constraints...\n",
       "                                           predictor=None, random_state=None,\n",
       "                                           reg_alpha=None, reg_lambda=None,\n",
       "                                           scale_pos_weight=None,\n",
       "                                           subsample=None, tree_method=None,\n",
       "                                           validate_parameters=None,\n",
       "                                           verbosity=None),\n",
       "                   n_jobs=-1,\n",
       "                   param_distributions={'criterion': ('gini', 'entropy',\n",
       "                                                      'log_loss'),\n",
       "                                        'max_depth': [10, 25, 30, 43],\n",
       "                                        'max_features': ('sqrt', 'log2'),\n",
       "                                        'min_samples_split': [10, 20, 30, 40],\n",
       "                                        'n_estimators': range(1, 500, 35)})"
      ]
     },
     "execution_count": 45,
     "metadata": {},
     "output_type": "execute_result"
    }
   ],
   "source": [
    "xgb = XGBClassifier()\n",
    "rscv = RandomizedSearchCV(estimator = xgb,\n",
    "                        param_distributions = random_grid,\n",
    "                         n_iter = 10,\n",
    "                         cv = 5,\n",
    "                         n_jobs= -1)\n",
    "\n",
    "rscv.fit(X_train,Y_train)\n",
    "rscv"
   ]
  },
  {
   "cell_type": "code",
   "execution_count": 46,
   "id": "5805a106",
   "metadata": {},
   "outputs": [
    {
     "data": {
      "text/html": [
       "<style>#sk-container-id-2 {color: black;background-color: white;}#sk-container-id-2 pre{padding: 0;}#sk-container-id-2 div.sk-toggleable {background-color: white;}#sk-container-id-2 label.sk-toggleable__label {cursor: pointer;display: block;width: 100%;margin-bottom: 0;padding: 0.3em;box-sizing: border-box;text-align: center;}#sk-container-id-2 label.sk-toggleable__label-arrow:before {content: \"▸\";float: left;margin-right: 0.25em;color: #696969;}#sk-container-id-2 label.sk-toggleable__label-arrow:hover:before {color: black;}#sk-container-id-2 div.sk-estimator:hover label.sk-toggleable__label-arrow:before {color: black;}#sk-container-id-2 div.sk-toggleable__content {max-height: 0;max-width: 0;overflow: hidden;text-align: left;background-color: #f0f8ff;}#sk-container-id-2 div.sk-toggleable__content pre {margin: 0.2em;color: black;border-radius: 0.25em;background-color: #f0f8ff;}#sk-container-id-2 input.sk-toggleable__control:checked~div.sk-toggleable__content {max-height: 200px;max-width: 100%;overflow: auto;}#sk-container-id-2 input.sk-toggleable__control:checked~label.sk-toggleable__label-arrow:before {content: \"▾\";}#sk-container-id-2 div.sk-estimator input.sk-toggleable__control:checked~label.sk-toggleable__label {background-color: #d4ebff;}#sk-container-id-2 div.sk-label input.sk-toggleable__control:checked~label.sk-toggleable__label {background-color: #d4ebff;}#sk-container-id-2 input.sk-hidden--visually {border: 0;clip: rect(1px 1px 1px 1px);clip: rect(1px, 1px, 1px, 1px);height: 1px;margin: -1px;overflow: hidden;padding: 0;position: absolute;width: 1px;}#sk-container-id-2 div.sk-estimator {font-family: monospace;background-color: #f0f8ff;border: 1px dotted black;border-radius: 0.25em;box-sizing: border-box;margin-bottom: 0.5em;}#sk-container-id-2 div.sk-estimator:hover {background-color: #d4ebff;}#sk-container-id-2 div.sk-parallel-item::after {content: \"\";width: 100%;border-bottom: 1px solid gray;flex-grow: 1;}#sk-container-id-2 div.sk-label:hover label.sk-toggleable__label {background-color: #d4ebff;}#sk-container-id-2 div.sk-serial::before {content: \"\";position: absolute;border-left: 1px solid gray;box-sizing: border-box;top: 0;bottom: 0;left: 50%;z-index: 0;}#sk-container-id-2 div.sk-serial {display: flex;flex-direction: column;align-items: center;background-color: white;padding-right: 0.2em;padding-left: 0.2em;position: relative;}#sk-container-id-2 div.sk-item {position: relative;z-index: 1;}#sk-container-id-2 div.sk-parallel {display: flex;align-items: stretch;justify-content: center;background-color: white;position: relative;}#sk-container-id-2 div.sk-item::before, #sk-container-id-2 div.sk-parallel-item::before {content: \"\";position: absolute;border-left: 1px solid gray;box-sizing: border-box;top: 0;bottom: 0;left: 50%;z-index: -1;}#sk-container-id-2 div.sk-parallel-item {display: flex;flex-direction: column;z-index: 1;position: relative;background-color: white;}#sk-container-id-2 div.sk-parallel-item:first-child::after {align-self: flex-end;width: 50%;}#sk-container-id-2 div.sk-parallel-item:last-child::after {align-self: flex-start;width: 50%;}#sk-container-id-2 div.sk-parallel-item:only-child::after {width: 0;}#sk-container-id-2 div.sk-dashed-wrapped {border: 1px dashed gray;margin: 0 0.4em 0.5em 0.4em;box-sizing: border-box;padding-bottom: 0.4em;background-color: white;}#sk-container-id-2 div.sk-label label {font-family: monospace;font-weight: bold;display: inline-block;line-height: 1.2em;}#sk-container-id-2 div.sk-label-container {text-align: center;}#sk-container-id-2 div.sk-container {/* jupyter's `normalize.less` sets `[hidden] { display: none; }` but bootstrap.min.css set `[hidden] { display: none !important; }` so we also need the `!important` here to be able to override the default hidden behavior on the sphinx rendered scikit-learn.org. See: https://github.com/scikit-learn/scikit-learn/issues/21755 */display: inline-block !important;position: relative;}#sk-container-id-2 div.sk-text-repr-fallback {display: none;}</style><div id=\"sk-container-id-2\" class=\"sk-top-container\"><div class=\"sk-text-repr-fallback\"><pre>XGBClassifier(base_score=0.5, booster=&#x27;gbtree&#x27;, colsample_bylevel=1,\n",
       "              colsample_bynode=1, colsample_bytree=1, criterion=&#x27;log_loss&#x27;,\n",
       "              enable_categorical=False, gamma=0, gpu_id=-1,\n",
       "              importance_type=None, interaction_constraints=&#x27;&#x27;,\n",
       "              learning_rate=0.300000012, max_delta_step=0, max_depth=10,\n",
       "              max_features=&#x27;log2&#x27;, min_child_weight=1, min_samples_split=40,\n",
       "              missing=nan, monotone_constraints=&#x27;()&#x27;, n_estimators=351,\n",
       "              n_jobs=16, num_parallel_tree=1, predictor=&#x27;auto&#x27;, random_state=0,\n",
       "              reg_alpha=0, reg_lambda=1, scale_pos_weight=1, subsample=1,\n",
       "              tree_method=&#x27;exact&#x27;, validate_parameters=1, ...)</pre><b>In a Jupyter environment, please rerun this cell to show the HTML representation or trust the notebook. <br />On GitHub, the HTML representation is unable to render, please try loading this page with nbviewer.org.</b></div><div class=\"sk-container\" hidden><div class=\"sk-item\"><div class=\"sk-estimator sk-toggleable\"><input class=\"sk-toggleable__control sk-hidden--visually\" id=\"sk-estimator-id-4\" type=\"checkbox\" checked><label for=\"sk-estimator-id-4\" class=\"sk-toggleable__label sk-toggleable__label-arrow\">XGBClassifier</label><div class=\"sk-toggleable__content\"><pre>XGBClassifier(base_score=0.5, booster=&#x27;gbtree&#x27;, colsample_bylevel=1,\n",
       "              colsample_bynode=1, colsample_bytree=1, criterion=&#x27;log_loss&#x27;,\n",
       "              enable_categorical=False, gamma=0, gpu_id=-1,\n",
       "              importance_type=None, interaction_constraints=&#x27;&#x27;,\n",
       "              learning_rate=0.300000012, max_delta_step=0, max_depth=10,\n",
       "              max_features=&#x27;log2&#x27;, min_child_weight=1, min_samples_split=40,\n",
       "              missing=nan, monotone_constraints=&#x27;()&#x27;, n_estimators=351,\n",
       "              n_jobs=16, num_parallel_tree=1, predictor=&#x27;auto&#x27;, random_state=0,\n",
       "              reg_alpha=0, reg_lambda=1, scale_pos_weight=1, subsample=1,\n",
       "              tree_method=&#x27;exact&#x27;, validate_parameters=1, ...)</pre></div></div></div></div></div>"
      ],
      "text/plain": [
       "XGBClassifier(base_score=0.5, booster='gbtree', colsample_bylevel=1,\n",
       "              colsample_bynode=1, colsample_bytree=1, criterion='log_loss',\n",
       "              enable_categorical=False, gamma=0, gpu_id=-1,\n",
       "              importance_type=None, interaction_constraints='',\n",
       "              learning_rate=0.300000012, max_delta_step=0, max_depth=10,\n",
       "              max_features='log2', min_child_weight=1, min_samples_split=40,\n",
       "              missing=nan, monotone_constraints='()', n_estimators=351,\n",
       "              n_jobs=16, num_parallel_tree=1, predictor='auto', random_state=0,\n",
       "              reg_alpha=0, reg_lambda=1, scale_pos_weight=1, subsample=1,\n",
       "              tree_method='exact', validate_parameters=1, ...)"
      ]
     },
     "execution_count": 46,
     "metadata": {},
     "output_type": "execute_result"
    }
   ],
   "source": [
    "rscv.best_estimator_"
   ]
  },
  {
   "cell_type": "code",
   "execution_count": 47,
   "id": "d836e1fc",
   "metadata": {},
   "outputs": [
    {
     "name": "stdout",
     "output_type": "stream",
     "text": [
      "[[96 14]\n",
      " [13 82]]\n",
      "              precision    recall  f1-score   support\n",
      "\n",
      "           0       0.88      0.87      0.88       110\n",
      "           1       0.85      0.86      0.86        95\n",
      "\n",
      "    accuracy                           0.87       205\n",
      "   macro avg       0.87      0.87      0.87       205\n",
      "weighted avg       0.87      0.87      0.87       205\n",
      "\n",
      "0.8682926829268293\n",
      "[04:36:35] WARNING: ..\\src\\learner.cc:576: \n",
      "Parameters: { \"criterion\", \"max_features\", \"min_samples_split\" } might not be used.\n",
      "\n",
      "  This could be a false alarm, with some parameters getting used by language bindings but\n",
      "  then being mistakenly passed down to XGBoost core, or some parameter actually being used\n",
      "  but getting flagged wrongly here. Please open an issue if you find any such cases.\n",
      "\n",
      "\n",
      "[04:36:35] WARNING: ..\\src\\learner.cc:1115: Starting in XGBoost 1.3.0, the default evaluation metric used with the objective 'binary:logistic' was changed from 'error' to 'logloss'. Explicitly set eval_metric if you'd like to restore the old behavior.\n",
      "[04:36:45] WARNING: ..\\src\\learner.cc:576: \n",
      "Parameters: { \"criterion\", \"max_features\", \"min_samples_split\" } might not be used.\n",
      "\n",
      "  This could be a false alarm, with some parameters getting used by language bindings but\n",
      "  then being mistakenly passed down to XGBoost core, or some parameter actually being used\n",
      "  but getting flagged wrongly here. Please open an issue if you find any such cases.\n",
      "\n",
      "\n",
      "[04:36:45] WARNING: ..\\src\\learner.cc:1115: Starting in XGBoost 1.3.0, the default evaluation metric used with the objective 'binary:logistic' was changed from 'error' to 'logloss'. Explicitly set eval_metric if you'd like to restore the old behavior.\n",
      "[04:36:53] WARNING: ..\\src\\learner.cc:576: \n",
      "Parameters: { \"criterion\", \"max_features\", \"min_samples_split\" } might not be used.\n",
      "\n",
      "  This could be a false alarm, with some parameters getting used by language bindings but\n",
      "  then being mistakenly passed down to XGBoost core, or some parameter actually being used\n",
      "  but getting flagged wrongly here. Please open an issue if you find any such cases.\n",
      "\n",
      "\n",
      "[04:36:53] WARNING: ..\\src\\learner.cc:1115: Starting in XGBoost 1.3.0, the default evaluation metric used with the objective 'binary:logistic' was changed from 'error' to 'logloss'. Explicitly set eval_metric if you'd like to restore the old behavior.\n",
      "[04:37:05] WARNING: ..\\src\\learner.cc:576: \n",
      "Parameters: { \"criterion\", \"max_features\", \"min_samples_split\" } might not be used.\n",
      "\n",
      "  This could be a false alarm, with some parameters getting used by language bindings but\n",
      "  then being mistakenly passed down to XGBoost core, or some parameter actually being used\n",
      "  but getting flagged wrongly here. Please open an issue if you find any such cases.\n",
      "\n",
      "\n",
      "[04:37:05] WARNING: ..\\src\\learner.cc:1115: Starting in XGBoost 1.3.0, the default evaluation metric used with the objective 'binary:logistic' was changed from 'error' to 'logloss'. Explicitly set eval_metric if you'd like to restore the old behavior.\n",
      "[04:37:16] WARNING: ..\\src\\learner.cc:576: \n",
      "Parameters: { \"criterion\", \"max_features\", \"min_samples_split\" } might not be used.\n",
      "\n",
      "  This could be a false alarm, with some parameters getting used by language bindings but\n",
      "  then being mistakenly passed down to XGBoost core, or some parameter actually being used\n",
      "  but getting flagged wrongly here. Please open an issue if you find any such cases.\n",
      "\n",
      "\n",
      "[04:37:16] WARNING: ..\\src\\learner.cc:1115: Starting in XGBoost 1.3.0, the default evaluation metric used with the objective 'binary:logistic' was changed from 'error' to 'logloss'. Explicitly set eval_metric if you'd like to restore the old behavior.\n"
     ]
    },
    {
     "data": {
      "text/plain": [
       "0.8503299856527977"
      ]
     },
     "execution_count": 47,
     "metadata": {},
     "output_type": "execute_result"
    }
   ],
   "source": [
    "best_rscv = rscv.best_estimator_\n",
    "pred = best_rscv.predict(X_test)\n",
    "\n",
    "print(confusion_matrix(Y_test, pred))\n",
    "print(classification_report(Y_test, pred))\n",
    "print(accuracy_score(Y_test, pred))\n",
    "cvs = cross_val_score(rscv, X, Y, cv=None)\n",
    "cvs.mean()"
   ]
  },
  {
   "cell_type": "markdown",
   "id": "d9ca4ce0",
   "metadata": {},
   "source": [
    "# Stratified K-fold cross validation"
   ]
  },
  {
   "cell_type": "code",
   "execution_count": 48,
   "id": "15b00fad",
   "metadata": {},
   "outputs": [
    {
     "data": {
      "text/plain": [
       "<generator object _BaseKFold.split at 0x0000015559124CF0>"
      ]
     },
     "execution_count": 48,
     "metadata": {},
     "output_type": "execute_result"
    }
   ],
   "source": [
    "from sklearn.model_selection import StratifiedKFold\n",
    "skf = StratifiedKFold(n_splits = 10)\n",
    "skf.split(X,Y)\n",
    "\n",
    "#this gives train_index and test_index which is very important"
   ]
  },
  {
   "cell_type": "code",
   "execution_count": 49,
   "id": "1e599526",
   "metadata": {},
   "outputs": [
    {
     "name": "stdout",
     "output_type": "stream",
     "text": [
      "Train: [  91   92   93   94   95   96   97  100  102  103  104  105  106  107\n",
      "  108  109  110  111  112  113  115  117  120  121  122  123  125  126\n",
      "  128  129  130  131  134  135  136  138  139  140  141  142  143  144\n",
      "  145  146  147  148  149  150  151  152  153  154  155  156  157  158\n",
      "  159  160  161  162  163  164  165  166  167  168  169  170  171  172\n",
      "  173  174  175  176  177  178  179  180  181  182  183  184  185  186\n",
      "  187  188  189  190  191  192  193  194  195  196  197  198  199  200\n",
      "  201  202  203  204  205  206  207  208  209  210  211  212  213  214\n",
      "  215  216  217  218  219  220  221  222  223  224  225  226  227  228\n",
      "  229  230  231  232  233  234  235  236  237  238  239  240  241  242\n",
      "  243  244  245  246  247  248  249  250  251  252  253  254  255  256\n",
      "  257  258  259  260  261  262  263  264  265  266  267  268  269  270\n",
      "  271  272  273  274  275  276  277  278  279  280  281  282  283  284\n",
      "  285  286  287  288  289  290  291  292  293  294  295  296  297  298\n",
      "  299  300  301  302  303  304  305  306  307  308  309  310  311  312\n",
      "  313  314  315  316  317  318  319  320  321  322  323  324  325  326\n",
      "  327  328  329  330  331  332  333  334  335  336  337  338  339  340\n",
      "  341  342  343  344  345  346  347  348  349  350  351  352  353  354\n",
      "  355  356  357  358  359  360  361  362  363  364  365  366  367  368\n",
      "  369  370  371  372  373  374  375  376  377  378  379  380  381  382\n",
      "  383  384  385  386  387  388  389  390  391  392  393  394  395  396\n",
      "  397  398  399  400  401  402  403  404  405  406  407  408  409  410\n",
      "  411  412  413  414  415  416  417  418  419  420  421  422  423  424\n",
      "  425  426  427  428  429  430  431  432  433  434  435  436  437  438\n",
      "  439  440  441  442  443  444  445  446  447  448  449  450  451  452\n",
      "  453  454  455  456  457  458  459  460  461  462  463  464  465  466\n",
      "  467  468  469  470  471  472  473  474  475  476  477  478  479  480\n",
      "  481  482  483  484  485  486  487  488  489  490  491  492  493  494\n",
      "  495  496  497  498  499  500  501  502  503  504  505  506  507  508\n",
      "  509  510  511  512  513  514  515  516  517  518  519  520  521  522\n",
      "  523  524  525  526  527  528  529  530  531  532  533  534  535  536\n",
      "  537  538  539  540  541  542  543  544  545  546  547  548  549  550\n",
      "  551  552  553  554  555  556  557  558  559  560  561  562  563  564\n",
      "  565  566  567  568  569  570  571  572  573  574  575  576  577  578\n",
      "  579  580  581  582  583  584  585  586  587  588  589  590  591  592\n",
      "  593  594  595  596  597  598  599  600  601  602  603  604  605  606\n",
      "  607  608  609  610  611  612  613  614  615  616  617  618  619  620\n",
      "  621  622  623  624  625  626  627  628  629  630  631  632  633  634\n",
      "  635  636  637  638  639  640  641  642  643  644  645  646  647  648\n",
      "  649  650  651  652  653  654  655  656  657  658  659  660  661  662\n",
      "  663  664  665  666  667  668  669  670  671  672  673  674  675  676\n",
      "  677  678  679  680  681  682  683  684  685  686  687  688  689  690\n",
      "  691  692  693  694  695  696  697  698  699  700  701  702  703  704\n",
      "  705  706  707  708  709  710  711  712  713  714  715  716  717  718\n",
      "  719  720  721  722  723  724  725  726  727  728  729  730  731  732\n",
      "  733  734  735  736  737  738  739  740  741  742  743  744  745  746\n",
      "  747  748  749  750  751  752  753  754  755  756  757  758  759  760\n",
      "  761  762  763  764  765  766  767  768  769  770  771  772  773  774\n",
      "  775  776  777  778  779  780  781  782  783  784  785  786  787  788\n",
      "  789  790  791  792  793  794  795  796  797  798  799  800  801  802\n",
      "  803  804  805  806  807  808  809  810  811  812  813  814  815  816\n",
      "  817  818  819  820  821  822  823  824  825  826  827  828  829  830\n",
      "  831  832  833  834  835  836  837  838  839  840  841  842  843  844\n",
      "  845  846  847  848  849  850  851  852  853  854  855  856  857  858\n",
      "  859  860  861  862  863  864  865  866  867  868  869  870  871  872\n",
      "  873  874  875  876  877  878  879  880  881  882  883  884  885  886\n",
      "  887  888  889  890  891  892  893  894  895  896  897  898  899  900\n",
      "  901  902  903  904  905  906  907  908  909  910  911  912  913  914\n",
      "  915  916  917  918  919  920  921  922  923  924  925  926  927  928\n",
      "  929  930  931  932  933  934  935  936  937  938  939  940  941  942\n",
      "  943  944  945  946  947  948  949  950  951  952  953  954  955  956\n",
      "  957  958  959  960  961  962  963  964  965  966  967  968  969  970\n",
      "  971  972  973  974  975  976  977  978  979  980  981  982  983  984\n",
      "  985  986  987  988  989  990  991  992  993  994  995  996  997  998\n",
      "  999 1000 1001 1002 1003 1004 1005 1006 1007 1008 1009 1010 1011 1012\n",
      " 1013 1014 1015 1016 1017 1018 1019 1020 1021] Validation: [  0   1   2   3   4   5   6   7   8   9  10  11  12  13  14  15  16  17\n",
      "  18  19  20  21  22  23  24  25  26  27  28  29  30  31  32  33  34  35\n",
      "  36  37  38  39  40  41  42  43  44  45  46  47  48  49  50  51  52  53\n",
      "  54  55  56  57  58  59  60  61  62  63  64  65  66  67  68  69  70  71\n",
      "  72  73  74  75  76  77  78  79  80  81  82  83  84  85  86  87  88  89\n",
      "  90  98  99 101 114 116 118 119 124 127 132 133 137]\n",
      "Train: [   0    1    2    3    4    5    6    7    8    9   10   11   12   13\n",
      "   14   15   16   17   18   19   20   21   22   23   24   25   26   27\n",
      "   28   29   30   31   32   33   34   35   36   37   38   39   40   41\n",
      "   42   43   44   45   46   47   48   49   50   51   52   53   54   55\n",
      "   56   57   58   59   60   61   62   63   64   65   66   67   68   69\n",
      "   70   71   72   73   74   75   76   77   78   79   80   81   82   83\n",
      "   84   85   86   87   88   89   90   98   99  101  114  116  118  119\n",
      "  124  127  132  133  137  160  161  162  163  164  165  166  167  170\n",
      "  173  174  176  181  182  184  185  186  187  189  190  194  196  197\n",
      "  198  201  203  205  206  207  209  211  212  213  215  216  217  218\n",
      "  219  221  222  223  225  226  227  228  229  232  233  234  235  236\n",
      "  237  243  244  245  246  247  251  254  257  258  260  261  262  264\n",
      "  265  267  272  273  274  275  276  277  279  280  281  282  283  284\n",
      "  285  286  287  288  289  290  291  292  293  294  295  296  297  298\n",
      "  299  300  301  302  303  304  305  306  307  308  309  310  311  312\n",
      "  313  314  315  316  317  318  319  320  321  322  323  324  325  326\n",
      "  327  328  329  330  331  332  333  334  335  336  337  338  339  340\n",
      "  341  342  343  344  345  346  347  348  349  350  351  352  353  354\n",
      "  355  356  357  358  359  360  361  362  363  364  365  366  367  368\n",
      "  369  370  371  372  373  374  375  376  377  378  379  380  381  382\n",
      "  383  384  385  386  387  388  389  390  391  392  393  394  395  396\n",
      "  397  398  399  400  401  402  403  404  405  406  407  408  409  410\n",
      "  411  412  413  414  415  416  417  418  419  420  421  422  423  424\n",
      "  425  426  427  428  429  430  431  432  433  434  435  436  437  438\n",
      "  439  440  441  442  443  444  445  446  447  448  449  450  451  452\n",
      "  453  454  455  456  457  458  459  460  461  462  463  464  465  466\n",
      "  467  468  469  470  471  472  473  474  475  476  477  478  479  480\n",
      "  481  482  483  484  485  486  487  488  489  490  491  492  493  494\n",
      "  495  496  497  498  499  500  501  502  503  504  505  506  507  508\n",
      "  509  510  511  512  513  514  515  516  517  518  519  520  521  522\n",
      "  523  524  525  526  527  528  529  530  531  532  533  534  535  536\n",
      "  537  538  539  540  541  542  543  544  545  546  547  548  549  550\n",
      "  551  552  553  554  555  556  557  558  559  560  561  562  563  564\n",
      "  565  566  567  568  569  570  571  572  573  574  575  576  577  578\n",
      "  579  580  581  582  583  584  585  586  587  588  589  590  591  592\n",
      "  593  594  595  596  597  598  599  600  601  602  603  604  605  606\n",
      "  607  608  609  610  611  612  613  614  615  616  617  618  619  620\n",
      "  621  622  623  624  625  626  627  628  629  630  631  632  633  634\n",
      "  635  636  637  638  639  640  641  642  643  644  645  646  647  648\n",
      "  649  650  651  652  653  654  655  656  657  658  659  660  661  662\n",
      "  663  664  665  666  667  668  669  670  671  672  673  674  675  676\n",
      "  677  678  679  680  681  682  683  684  685  686  687  688  689  690\n",
      "  691  692  693  694  695  696  697  698  699  700  701  702  703  704\n",
      "  705  706  707  708  709  710  711  712  713  714  715  716  717  718\n",
      "  719  720  721  722  723  724  725  726  727  728  729  730  731  732\n",
      "  733  734  735  736  737  738  739  740  741  742  743  744  745  746\n",
      "  747  748  749  750  751  752  753  754  755  756  757  758  759  760\n",
      "  761  762  763  764  765  766  767  768  769  770  771  772  773  774\n",
      "  775  776  777  778  779  780  781  782  783  784  785  786  787  788\n",
      "  789  790  791  792  793  794  795  796  797  798  799  800  801  802\n",
      "  803  804  805  806  807  808  809  810  811  812  813  814  815  816\n",
      "  817  818  819  820  821  822  823  824  825  826  827  828  829  830\n",
      "  831  832  833  834  835  836  837  838  839  840  841  842  843  844\n",
      "  845  846  847  848  849  850  851  852  853  854  855  856  857  858\n",
      "  859  860  861  862  863  864  865  866  867  868  869  870  871  872\n",
      "  873  874  875  876  877  878  879  880  881  882  883  884  885  886\n",
      "  887  888  889  890  891  892  893  894  895  896  897  898  899  900\n",
      "  901  902  903  904  905  906  907  908  909  910  911  912  913  914\n",
      "  915  916  917  918  919  920  921  922  923  924  925  926  927  928\n",
      "  929  930  931  932  933  934  935  936  937  938  939  940  941  942\n",
      "  943  944  945  946  947  948  949  950  951  952  953  954  955  956\n",
      "  957  958  959  960  961  962  963  964  965  966  967  968  969  970\n",
      "  971  972  973  974  975  976  977  978  979  980  981  982  983  984\n",
      "  985  986  987  988  989  990  991  992  993  994  995  996  997  998\n",
      "  999 1000 1001 1002 1003 1004 1005 1006 1007 1008 1009 1010 1011 1012\n",
      " 1013 1014 1015 1016 1017 1018 1019 1020 1021] Validation: [ 91  92  93  94  95  96  97 100 102 103 104 105 106 107 108 109 110 111\n",
      " 112 113 115 117 120 121 122 123 125 126 128 129 130 131 134 135 136 138\n",
      " 139 140 141 142 143 144 145 146 147 148 149 150 151 152 153 154 155 156\n",
      " 157 158 159 168 169 171 172 175 177 178 179 180 183 188 191 192 193 195\n",
      " 199 200 202 204 208 210 214 220 224 230 231 238 239 240 241 242 248 249\n",
      " 250 252 253 255 256 259 263 266 268 269 270 271 278]\n",
      "Train: [   0    1    2    3    4    5    6    7    8    9   10   11   12   13\n",
      "   14   15   16   17   18   19   20   21   22   23   24   25   26   27\n",
      "   28   29   30   31   32   33   34   35   36   37   38   39   40   41\n",
      "   42   43   44   45   46   47   48   49   50   51   52   53   54   55\n",
      "   56   57   58   59   60   61   62   63   64   65   66   67   68   69\n",
      "   70   71   72   73   74   75   76   77   78   79   80   81   82   83\n",
      "   84   85   86   87   88   89   90   91   92   93   94   95   96   97\n",
      "   98   99  100  101  102  103  104  105  106  107  108  109  110  111\n",
      "  112  113  114  115  116  117  118  119  120  121  122  123  124  125\n",
      "  126  127  128  129  130  131  132  133  134  135  136  137  138  139\n",
      "  140  141  142  143  144  145  146  147  148  149  150  151  152  153\n",
      "  154  155  156  157  158  159  168  169  171  172  175  177  178  179\n",
      "  180  183  188  191  192  193  195  199  200  202  204  208  210  214\n",
      "  220  224  230  231  237  238  239  240  241  242  243  244  245  246\n",
      "  247  248  249  250  251  252  253  254  255  256  257  258  259  260\n",
      "  261  262  263  264  265  266  267  268  269  270  271  272  273  274\n",
      "  275  276  277  278  282  284  288  292  293  294  297  300  301  305\n",
      "  310  311  312  314  315  318  321  322  323  328  329  330  331  332\n",
      "  333  334  336  339  340  341  342  343  349  350  351  352  355  356\n",
      "  357  360  362  363  365  369  372  373  374  375  378  379  380  381\n",
      "  382  383  384  385  386  387  388  389  390  391  392  393  394  395\n",
      "  396  397  398  399  400  401  402  403  404  405  406  407  408  409\n",
      "  410  411  412  413  414  415  416  417  418  419  420  421  422  423\n",
      "  424  425  426  427  428  429  430  431  432  433  434  435  436  437\n",
      "  438  439  440  441  442  443  444  445  446  447  448  449  450  451\n",
      "  452  453  454  455  456  457  458  459  460  461  462  463  464  465\n",
      "  466  467  468  469  470  471  472  473  474  475  476  477  478  479\n",
      "  480  481  482  483  484  485  486  487  488  489  490  491  492  493\n",
      "  494  495  496  497  498  499  500  501  502  503  504  505  506  507\n",
      "  508  509  510  511  512  513  514  515  516  517  518  519  520  521\n",
      "  522  523  524  525  526  527  528  529  530  531  532  533  534  535\n",
      "  536  537  538  539  540  541  542  543  544  545  546  547  548  549\n",
      "  550  551  552  553  554  555  556  557  558  559  560  561  562  563\n",
      "  564  565  566  567  568  569  570  571  572  573  574  575  576  577\n",
      "  578  579  580  581  582  583  584  585  586  587  588  589  590  591\n",
      "  592  593  594  595  596  597  598  599  600  601  602  603  604  605\n",
      "  606  607  608  609  610  611  612  613  614  615  616  617  618  619\n",
      "  620  621  622  623  624  625  626  627  628  629  630  631  632  633\n",
      "  634  635  636  637  638  639  640  641  642  643  644  645  646  647\n",
      "  648  649  650  651  652  653  654  655  656  657  658  659  660  661\n",
      "  662  663  664  665  666  667  668  669  670  671  672  673  674  675\n",
      "  676  677  678  679  680  681  682  683  684  685  686  687  688  689\n",
      "  690  691  692  693  694  695  696  697  698  699  700  701  702  703\n",
      "  704  705  706  707  708  709  710  711  712  713  714  715  716  717\n",
      "  718  719  720  721  722  723  724  725  726  727  728  729  730  731\n",
      "  732  733  734  735  736  737  738  739  740  741  742  743  744  745\n",
      "  746  747  748  749  750  751  752  753  754  755  756  757  758  759\n",
      "  760  761  762  763  764  765  766  767  768  769  770  771  772  773\n",
      "  774  775  776  777  778  779  780  781  782  783  784  785  786  787\n",
      "  788  789  790  791  792  793  794  795  796  797  798  799  800  801\n",
      "  802  803  804  805  806  807  808  809  810  811  812  813  814  815\n",
      "  816  817  818  819  820  821  822  823  824  825  826  827  828  829\n",
      "  830  831  832  833  834  835  836  837  838  839  840  841  842  843\n",
      "  844  845  846  847  848  849  850  851  852  853  854  855  856  857\n",
      "  858  859  860  861  862  863  864  865  866  867  868  869  870  871\n",
      "  872  873  874  875  876  877  878  879  880  881  882  883  884  885\n",
      "  886  887  888  889  890  891  892  893  894  895  896  897  898  899\n",
      "  900  901  902  903  904  905  906  907  908  909  910  911  912  913\n",
      "  914  915  916  917  918  919  920  921  922  923  924  925  926  927\n",
      "  928  929  930  931  932  933  934  935  936  937  938  939  940  941\n",
      "  942  943  944  945  946  947  948  949  950  951  952  953  954  955\n",
      "  956  957  958  959  960  961  962  963  964  965  966  967  968  969\n",
      "  970  971  972  973  974  975  976  977  978  979  980  981  982  983\n",
      "  984  985  986  987  988  989  990  991  992  993  994  995  996  997\n",
      "  998  999 1000 1001 1002 1003 1004 1005 1006 1007 1008 1009 1010 1011\n",
      " 1012 1013 1014 1015 1016 1017 1018 1019 1020 1021] Validation: [160 161 162 163 164 165 166 167 170 173 174 176 181 182 184 185 186 187\n",
      " 189 190 194 196 197 198 201 203 205 206 207 209 211 212 213 215 216 217\n",
      " 218 219 221 222 223 225 226 227 228 229 232 233 234 235 236 279 280 281\n",
      " 283 285 286 287 289 290 291 295 296 298 299 302 303 304 306 307 308 309\n",
      " 313 316 317 319 320 324 325 326 327 335 337 338 344 345 346 347 348 353\n",
      " 354 358 359 361 364 366 367 368 370 371 376 377]\n",
      "Train: [   0    1    2    3    4    5    6    7    8    9   10   11   12   13\n",
      "   14   15   16   17   18   19   20   21   22   23   24   25   26   27\n",
      "   28   29   30   31   32   33   34   35   36   37   38   39   40   41\n",
      "   42   43   44   45   46   47   48   49   50   51   52   53   54   55\n",
      "   56   57   58   59   60   61   62   63   64   65   66   67   68   69\n",
      "   70   71   72   73   74   75   76   77   78   79   80   81   82   83\n",
      "   84   85   86   87   88   89   90   91   92   93   94   95   96   97\n",
      "   98   99  100  101  102  103  104  105  106  107  108  109  110  111\n",
      "  112  113  114  115  116  117  118  119  120  121  122  123  124  125\n",
      "  126  127  128  129  130  131  132  133  134  135  136  137  138  139\n",
      "  140  141  142  143  144  145  146  147  148  149  150  151  152  153\n",
      "  154  155  156  157  158  159  160  161  162  163  164  165  166  167\n",
      "  168  169  170  171  172  173  174  175  176  177  178  179  180  181\n",
      "  182  183  184  185  186  187  188  189  190  191  192  193  194  195\n",
      "  196  197  198  199  200  201  202  203  204  205  206  207  208  209\n",
      "  210  211  212  213  214  215  216  217  218  219  220  221  222  223\n",
      "  224  225  226  227  228  229  230  231  232  233  234  235  236  238\n",
      "  239  240  241  242  248  249  250  252  253  255  256  259  263  266\n",
      "  268  269  270  271  278  279  280  281  283  285  286  287  289  290\n",
      "  291  295  296  298  299  302  303  304  306  307  308  309  313  316\n",
      "  317  319  320  324  325  326  327  335  337  338  341  342  343  344\n",
      "  345  346  347  348  349  350  351  352  353  354  355  356  357  358\n",
      "  359  360  361  362  363  364  365  366  367  368  369  370  371  372\n",
      "  373  374  375  376  377  378  379  380  381  382  383  385  386  387\n",
      "  388  390  392  395  396  397  398  399  400  401  402  405  410  411\n",
      "  413  414  416  417  425  426  427  429  431  434  436  437  438  439\n",
      "  440  441  442  443  445  446  449  450  451  452  453  455  456  459\n",
      "  461  462  464  465  466  467  468  469  471  472  473  474  475  476\n",
      "  477  479  482  485  488  489  491  493  495  496  498  499  501  502\n",
      "  503  505  506  508  510  512  514  515  516  517  518  519  520  521\n",
      "  522  523  524  525  526  527  528  529  530  531  532  533  534  535\n",
      "  536  537  538  539  540  541  542  543  544  545  546  547  548  549\n",
      "  550  551  552  553  554  555  556  557  558  559  560  561  562  563\n",
      "  564  565  566  567  568  569  570  571  572  573  574  575  576  577\n",
      "  578  579  580  581  582  583  584  585  586  587  588  589  590  591\n",
      "  592  593  594  595  596  597  598  599  600  601  602  603  604  605\n",
      "  606  607  608  609  610  611  612  613  614  615  616  617  618  619\n",
      "  620  621  622  623  624  625  626  627  628  629  630  631  632  633\n",
      "  634  635  636  637  638  639  640  641  642  643  644  645  646  647\n",
      "  648  649  650  651  652  653  654  655  656  657  658  659  660  661\n",
      "  662  663  664  665  666  667  668  669  670  671  672  673  674  675\n",
      "  676  677  678  679  680  681  682  683  684  685  686  687  688  689\n",
      "  690  691  692  693  694  695  696  697  698  699  700  701  702  703\n",
      "  704  705  706  707  708  709  710  711  712  713  714  715  716  717\n",
      "  718  719  720  721  722  723  724  725  726  727  728  729  730  731\n",
      "  732  733  734  735  736  737  738  739  740  741  742  743  744  745\n",
      "  746  747  748  749  750  751  752  753  754  755  756  757  758  759\n",
      "  760  761  762  763  764  765  766  767  768  769  770  771  772  773\n",
      "  774  775  776  777  778  779  780  781  782  783  784  785  786  787\n",
      "  788  789  790  791  792  793  794  795  796  797  798  799  800  801\n",
      "  802  803  804  805  806  807  808  809  810  811  812  813  814  815\n",
      "  816  817  818  819  820  821  822  823  824  825  826  827  828  829\n",
      "  830  831  832  833  834  835  836  837  838  839  840  841  842  843\n",
      "  844  845  846  847  848  849  850  851  852  853  854  855  856  857\n",
      "  858  859  860  861  862  863  864  865  866  867  868  869  870  871\n",
      "  872  873  874  875  876  877  878  879  880  881  882  883  884  885\n",
      "  886  887  888  889  890  891  892  893  894  895  896  897  898  899\n",
      "  900  901  902  903  904  905  906  907  908  909  910  911  912  913\n",
      "  914  915  916  917  918  919  920  921  922  923  924  925  926  927\n",
      "  928  929  930  931  932  933  934  935  936  937  938  939  940  941\n",
      "  942  943  944  945  946  947  948  949  950  951  952  953  954  955\n",
      "  956  957  958  959  960  961  962  963  964  965  966  967  968  969\n",
      "  970  971  972  973  974  975  976  977  978  979  980  981  982  983\n",
      "  984  985  986  987  988  989  990  991  992  993  994  995  996  997\n",
      "  998  999 1000 1001 1002 1003 1004 1005 1006 1007 1008 1009 1010 1011\n",
      " 1012 1013 1014 1015 1016 1017 1018 1019 1020 1021] Validation: [237 243 244 245 246 247 251 254 257 258 260 261 262 264 265 267 272 273\n",
      " 274 275 276 277 282 284 288 292 293 294 297 300 301 305 310 311 312 314\n",
      " 315 318 321 322 323 328 329 330 331 332 333 334 336 339 340 384 389 391\n",
      " 393 394 403 404 406 407 408 409 412 415 418 419 420 421 422 423 424 428\n",
      " 430 432 433 435 444 447 448 454 457 458 460 463 470 478 480 481 483 484\n",
      " 486 487 490 492 494 497 500 504 507 509 511 513]\n",
      "Train: [   0    1    2    3    4    5    6    7    8    9   10   11   12   13\n",
      "   14   15   16   17   18   19   20   21   22   23   24   25   26   27\n",
      "   28   29   30   31   32   33   34   35   36   37   38   39   40   41\n",
      "   42   43   44   45   46   47   48   49   50   51   52   53   54   55\n",
      "   56   57   58   59   60   61   62   63   64   65   66   67   68   69\n",
      "   70   71   72   73   74   75   76   77   78   79   80   81   82   83\n",
      "   84   85   86   87   88   89   90   91   92   93   94   95   96   97\n",
      "   98   99  100  101  102  103  104  105  106  107  108  109  110  111\n",
      "  112  113  114  115  116  117  118  119  120  121  122  123  124  125\n",
      "  126  127  128  129  130  131  132  133  134  135  136  137  138  139\n",
      "  140  141  142  143  144  145  146  147  148  149  150  151  152  153\n",
      "  154  155  156  157  158  159  160  161  162  163  164  165  166  167\n",
      "  168  169  170  171  172  173  174  175  176  177  178  179  180  181\n",
      "  182  183  184  185  186  187  188  189  190  191  192  193  194  195\n",
      "  196  197  198  199  200  201  202  203  204  205  206  207  208  209\n",
      "  210  211  212  213  214  215  216  217  218  219  220  221  222  223\n",
      "  224  225  226  227  228  229  230  231  232  233  234  235  236  237\n",
      "  238  239  240  241  242  243  244  245  246  247  248  249  250  251\n",
      "  252  253  254  255  256  257  258  259  260  261  262  263  264  265\n",
      "  266  267  268  269  270  271  272  273  274  275  276  277  278  279\n",
      "  280  281  282  283  284  285  286  287  288  289  290  291  292  293\n",
      "  294  295  296  297  298  299  300  301  302  303  304  305  306  307\n",
      "  308  309  310  311  312  313  314  315  316  317  318  319  320  321\n",
      "  322  323  324  325  326  327  328  329  330  331  332  333  334  335\n",
      "  336  337  338  339  340  344  345  346  347  348  353  354  358  359\n",
      "  361  364  366  367  368  370  371  376  377  384  389  391  393  394\n",
      "  403  404  406  407  408  409  412  415  418  419  420  421  422  423\n",
      "  424  428  430  432  433  434  435  436  437  438  439  440  441  442\n",
      "  443  444  445  446  447  448  449  450  451  452  453  454  455  456\n",
      "  457  458  459  460  461  462  463  464  465  466  467  468  469  470\n",
      "  471  472  473  474  475  476  477  478  479  480  481  482  483  484\n",
      "  485  486  487  488  489  490  491  492  493  494  495  496  497  498\n",
      "  499  500  501  502  503  504  505  506  507  508  509  510  511  512\n",
      "  513  516  517  520  523  524  527  529  532  533  534  535  536  537\n",
      "  538  539  545  546  549  553  554  555  557  559  560  561  563  564\n",
      "  565  566  568  569  572  573  574  576  577  581  583  584  586  587\n",
      "  589  590  593  594  595  596  598  599  601  603  604  606  607  608\n",
      "  609  611  615  617  619  621  623  624  625  626  627  628  630  631\n",
      "  632  634  635  636  637  639  640  641  642  643  644  645  646  647\n",
      "  648  649  650  651  652  653  654  655  656  657  658  659  660  661\n",
      "  662  663  664  665  666  667  668  669  670  671  672  673  674  675\n",
      "  676  677  678  679  680  681  682  683  684  685  686  687  688  689\n",
      "  690  691  692  693  694  695  696  697  698  699  700  701  702  703\n",
      "  704  705  706  707  708  709  710  711  712  713  714  715  716  717\n",
      "  718  719  720  721  722  723  724  725  726  727  728  729  730  731\n",
      "  732  733  734  735  736  737  738  739  740  741  742  743  744  745\n",
      "  746  747  748  749  750  751  752  753  754  755  756  757  758  759\n",
      "  760  761  762  763  764  765  766  767  768  769  770  771  772  773\n",
      "  774  775  776  777  778  779  780  781  782  783  784  785  786  787\n",
      "  788  789  790  791  792  793  794  795  796  797  798  799  800  801\n",
      "  802  803  804  805  806  807  808  809  810  811  812  813  814  815\n",
      "  816  817  818  819  820  821  822  823  824  825  826  827  828  829\n",
      "  830  831  832  833  834  835  836  837  838  839  840  841  842  843\n",
      "  844  845  846  847  848  849  850  851  852  853  854  855  856  857\n",
      "  858  859  860  861  862  863  864  865  866  867  868  869  870  871\n",
      "  872  873  874  875  876  877  878  879  880  881  882  883  884  885\n",
      "  886  887  888  889  890  891  892  893  894  895  896  897  898  899\n",
      "  900  901  902  903  904  905  906  907  908  909  910  911  912  913\n",
      "  914  915  916  917  918  919  920  921  922  923  924  925  926  927\n",
      "  928  929  930  931  932  933  934  935  936  937  938  939  940  941\n",
      "  942  943  944  945  946  947  948  949  950  951  952  953  954  955\n",
      "  956  957  958  959  960  961  962  963  964  965  966  967  968  969\n",
      "  970  971  972  973  974  975  976  977  978  979  980  981  982  983\n",
      "  984  985  986  987  988  989  990  991  992  993  994  995  996  997\n",
      "  998  999 1000 1001 1002 1003 1004 1005 1006 1007 1008 1009 1010 1011\n",
      " 1012 1013 1014 1015 1016 1017 1018 1019 1020 1021] Validation: [341 342 343 349 350 351 352 355 356 357 360 362 363 365 369 372 373 374\n",
      " 375 378 379 380 381 382 383 385 386 387 388 390 392 395 396 397 398 399\n",
      " 400 401 402 405 410 411 413 414 416 417 425 426 427 429 431 514 515 518\n",
      " 519 521 522 525 526 528 530 531 540 541 542 543 544 547 548 550 551 552\n",
      " 556 558 562 567 570 571 575 578 579 580 582 585 588 591 592 597 600 602\n",
      " 605 610 612 613 614 616 618 620 622 629 633 638]\n",
      "Train: [   0    1    2    3    4    5    6    7    8    9   10   11   12   13\n",
      "   14   15   16   17   18   19   20   21   22   23   24   25   26   27\n",
      "   28   29   30   31   32   33   34   35   36   37   38   39   40   41\n",
      "   42   43   44   45   46   47   48   49   50   51   52   53   54   55\n",
      "   56   57   58   59   60   61   62   63   64   65   66   67   68   69\n",
      "   70   71   72   73   74   75   76   77   78   79   80   81   82   83\n",
      "   84   85   86   87   88   89   90   91   92   93   94   95   96   97\n",
      "   98   99  100  101  102  103  104  105  106  107  108  109  110  111\n",
      "  112  113  114  115  116  117  118  119  120  121  122  123  124  125\n",
      "  126  127  128  129  130  131  132  133  134  135  136  137  138  139\n",
      "  140  141  142  143  144  145  146  147  148  149  150  151  152  153\n",
      "  154  155  156  157  158  159  160  161  162  163  164  165  166  167\n",
      "  168  169  170  171  172  173  174  175  176  177  178  179  180  181\n",
      "  182  183  184  185  186  187  188  189  190  191  192  193  194  195\n",
      "  196  197  198  199  200  201  202  203  204  205  206  207  208  209\n",
      "  210  211  212  213  214  215  216  217  218  219  220  221  222  223\n",
      "  224  225  226  227  228  229  230  231  232  233  234  235  236  237\n",
      "  238  239  240  241  242  243  244  245  246  247  248  249  250  251\n",
      "  252  253  254  255  256  257  258  259  260  261  262  263  264  265\n",
      "  266  267  268  269  270  271  272  273  274  275  276  277  278  279\n",
      "  280  281  282  283  284  285  286  287  288  289  290  291  292  293\n",
      "  294  295  296  297  298  299  300  301  302  303  304  305  306  307\n",
      "  308  309  310  311  312  313  314  315  316  317  318  319  320  321\n",
      "  322  323  324  325  326  327  328  329  330  331  332  333  334  335\n",
      "  336  337  338  339  340  341  342  343  344  345  346  347  348  349\n",
      "  350  351  352  353  354  355  356  357  358  359  360  361  362  363\n",
      "  364  365  366  367  368  369  370  371  372  373  374  375  376  377\n",
      "  378  379  380  381  382  383  384  385  386  387  388  389  390  391\n",
      "  392  393  394  395  396  397  398  399  400  401  402  403  404  405\n",
      "  406  407  408  409  410  411  412  413  414  415  416  417  418  419\n",
      "  420  421  422  423  424  425  426  427  428  429  430  431  432  433\n",
      "  435  444  447  448  454  457  458  460  463  470  478  480  481  483\n",
      "  484  486  487  490  492  494  497  500  504  507  509  510  511  512\n",
      "  513  514  515  516  517  518  519  520  521  522  523  524  525  526\n",
      "  527  528  529  530  531  532  533  534  535  536  537  538  539  540\n",
      "  541  542  543  544  545  546  547  548  549  550  551  552  553  554\n",
      "  555  556  557  558  559  560  561  562  563  564  565  566  567  568\n",
      "  569  570  571  572  573  574  575  576  577  578  579  580  581  582\n",
      "  583  584  585  586  587  588  589  590  591  592  593  594  595  596\n",
      "  597  598  599  600  601  602  603  604  605  606  607  608  609  610\n",
      "  611  612  613  614  615  616  617  618  619  620  621  622  623  624\n",
      "  625  626  627  628  629  630  631  632  633  634  635  636  637  638\n",
      "  640  641  643  644  645  648  650  651  652  653  654  659  660  661\n",
      "  662  664  665  668  669  670  671  677  679  680  681  684  685  687\n",
      "  688  689  691  694  695  697  698  699  700  701  703  704  706  708\n",
      "  710  711  713  714  717  718  721  722  723  725  726  729  731  732\n",
      "  733  734  735  736  737  738  739  740  742  746  747  748  749  752\n",
      "  753  754  755  756  757  760  761  762  767  768  769  770  772  773\n",
      "  774  775  776  777  778  779  780  781  782  783  784  785  786  787\n",
      "  788  789  790  791  792  793  794  795  796  797  798  799  800  801\n",
      "  802  803  804  805  806  807  808  809  810  811  812  813  814  815\n",
      "  816  817  818  819  820  821  822  823  824  825  826  827  828  829\n",
      "  830  831  832  833  834  835  836  837  838  839  840  841  842  843\n",
      "  844  845  846  847  848  849  850  851  852  853  854  855  856  857\n",
      "  858  859  860  861  862  863  864  865  866  867  868  869  870  871\n",
      "  872  873  874  875  876  877  878  879  880  881  882  883  884  885\n",
      "  886  887  888  889  890  891  892  893  894  895  896  897  898  899\n",
      "  900  901  902  903  904  905  906  907  908  909  910  911  912  913\n",
      "  914  915  916  917  918  919  920  921  922  923  924  925  926  927\n",
      "  928  929  930  931  932  933  934  935  936  937  938  939  940  941\n",
      "  942  943  944  945  946  947  948  949  950  951  952  953  954  955\n",
      "  956  957  958  959  960  961  962  963  964  965  966  967  968  969\n",
      "  970  971  972  973  974  975  976  977  978  979  980  981  982  983\n",
      "  984  985  986  987  988  989  990  991  992  993  994  995  996  997\n",
      "  998  999 1000 1001 1002 1003 1004 1005 1006 1007 1008 1009 1010 1011\n",
      " 1012 1013 1014 1015 1016 1017 1018 1019 1020 1021] Validation: [434 436 437 438 439 440 441 442 443 445 446 449 450 451 452 453 455 456\n",
      " 459 461 462 464 465 466 467 468 469 471 472 473 474 475 476 477 479 482\n",
      " 485 488 489 491 493 495 496 498 499 501 502 503 505 506 508 639 642 646\n",
      " 647 649 655 656 657 658 663 666 667 672 673 674 675 676 678 682 683 686\n",
      " 690 692 693 696 702 705 707 709 712 715 716 719 720 724 727 728 730 741\n",
      " 743 744 745 750 751 758 759 763 764 765 766 771]\n",
      "Train: [   0    1    2    3    4    5    6    7    8    9   10   11   12   13\n",
      "   14   15   16   17   18   19   20   21   22   23   24   25   26   27\n",
      "   28   29   30   31   32   33   34   35   36   37   38   39   40   41\n",
      "   42   43   44   45   46   47   48   49   50   51   52   53   54   55\n",
      "   56   57   58   59   60   61   62   63   64   65   66   67   68   69\n",
      "   70   71   72   73   74   75   76   77   78   79   80   81   82   83\n",
      "   84   85   86   87   88   89   90   91   92   93   94   95   96   97\n",
      "   98   99  100  101  102  103  104  105  106  107  108  109  110  111\n",
      "  112  113  114  115  116  117  118  119  120  121  122  123  124  125\n",
      "  126  127  128  129  130  131  132  133  134  135  136  137  138  139\n",
      "  140  141  142  143  144  145  146  147  148  149  150  151  152  153\n",
      "  154  155  156  157  158  159  160  161  162  163  164  165  166  167\n",
      "  168  169  170  171  172  173  174  175  176  177  178  179  180  181\n",
      "  182  183  184  185  186  187  188  189  190  191  192  193  194  195\n",
      "  196  197  198  199  200  201  202  203  204  205  206  207  208  209\n",
      "  210  211  212  213  214  215  216  217  218  219  220  221  222  223\n",
      "  224  225  226  227  228  229  230  231  232  233  234  235  236  237\n",
      "  238  239  240  241  242  243  244  245  246  247  248  249  250  251\n",
      "  252  253  254  255  256  257  258  259  260  261  262  263  264  265\n",
      "  266  267  268  269  270  271  272  273  274  275  276  277  278  279\n",
      "  280  281  282  283  284  285  286  287  288  289  290  291  292  293\n",
      "  294  295  296  297  298  299  300  301  302  303  304  305  306  307\n",
      "  308  309  310  311  312  313  314  315  316  317  318  319  320  321\n",
      "  322  323  324  325  326  327  328  329  330  331  332  333  334  335\n",
      "  336  337  338  339  340  341  342  343  344  345  346  347  348  349\n",
      "  350  351  352  353  354  355  356  357  358  359  360  361  362  363\n",
      "  364  365  366  367  368  369  370  371  372  373  374  375  376  377\n",
      "  378  379  380  381  382  383  384  385  386  387  388  389  390  391\n",
      "  392  393  394  395  396  397  398  399  400  401  402  403  404  405\n",
      "  406  407  408  409  410  411  412  413  414  415  416  417  418  419\n",
      "  420  421  422  423  424  425  426  427  428  429  430  431  432  433\n",
      "  434  435  436  437  438  439  440  441  442  443  444  445  446  447\n",
      "  448  449  450  451  452  453  454  455  456  457  458  459  460  461\n",
      "  462  463  464  465  466  467  468  469  470  471  472  473  474  475\n",
      "  476  477  478  479  480  481  482  483  484  485  486  487  488  489\n",
      "  490  491  492  493  494  495  496  497  498  499  500  501  502  503\n",
      "  504  505  506  507  508  509  511  513  514  515  518  519  521  522\n",
      "  525  526  528  530  531  540  541  542  543  544  547  548  550  551\n",
      "  552  556  558  562  567  570  571  575  578  579  580  582  585  588\n",
      "  591  592  597  600  601  602  603  604  605  606  607  608  609  610\n",
      "  611  612  613  614  615  616  617  618  619  620  621  622  623  624\n",
      "  625  626  627  628  629  630  631  632  633  634  635  636  637  638\n",
      "  639  640  641  642  643  644  645  646  647  648  649  650  651  652\n",
      "  653  654  655  656  657  658  659  660  661  662  663  664  665  666\n",
      "  667  668  669  670  671  672  673  674  675  676  677  678  679  680\n",
      "  681  682  683  684  685  686  687  688  689  690  691  692  693  694\n",
      "  695  696  697  698  699  700  701  702  703  704  705  706  707  708\n",
      "  709  710  711  712  713  714  715  716  717  718  719  720  721  722\n",
      "  723  724  725  726  727  728  729  730  731  732  733  734  735  736\n",
      "  737  738  739  740  741  742  743  744  745  746  747  748  749  750\n",
      "  751  752  753  754  755  756  757  758  759  760  761  762  763  764\n",
      "  765  766  767  768  769  770  771  772  773  774  775  776  777  778\n",
      "  779  780  783  785  786  792  793  794  796  797  800  801  803  804\n",
      "  805  806  807  809  810  812  816  817  818  820  823  824  826  828\n",
      "  829  832  833  834  837  838  839  840  841  843  845  869  870  871\n",
      "  872  873  874  875  876  877  878  879  880  881  882  883  884  885\n",
      "  886  887  888  889  890  891  892  893  894  895  896  897  898  899\n",
      "  900  901  902  903  904  905  906  907  908  909  910  911  912  913\n",
      "  914  915  916  917  918  919  920  921  922  923  924  925  926  927\n",
      "  928  929  930  931  932  933  934  935  936  937  938  939  940  941\n",
      "  942  943  944  945  946  947  948  949  950  951  952  953  954  955\n",
      "  956  957  958  959  960  961  962  963  964  965  966  967  968  969\n",
      "  970  971  972  973  974  975  976  977  978  979  980  981  982  983\n",
      "  984  985  986  987  988  989  990  991  992  993  994  995  996  997\n",
      "  998  999 1000 1001 1002 1003 1004 1005 1006 1007 1008 1009 1010 1011\n",
      " 1012 1013 1014 1015 1016 1017 1018 1019 1020 1021] Validation: [510 512 516 517 520 523 524 527 529 532 533 534 535 536 537 538 539 545\n",
      " 546 549 553 554 555 557 559 560 561 563 564 565 566 568 569 572 573 574\n",
      " 576 577 581 583 584 586 587 589 590 593 594 595 596 598 599 781 782 784\n",
      " 787 788 789 790 791 795 798 799 802 808 811 813 814 815 819 821 822 825\n",
      " 827 830 831 835 836 842 844 846 847 848 849 850 851 852 853 854 855 856\n",
      " 857 858 859 860 861 862 863 864 865 866 867 868]\n",
      "Train: [   0    1    2    3    4    5    6    7    8    9   10   11   12   13\n",
      "   14   15   16   17   18   19   20   21   22   23   24   25   26   27\n",
      "   28   29   30   31   32   33   34   35   36   37   38   39   40   41\n",
      "   42   43   44   45   46   47   48   49   50   51   52   53   54   55\n",
      "   56   57   58   59   60   61   62   63   64   65   66   67   68   69\n",
      "   70   71   72   73   74   75   76   77   78   79   80   81   82   83\n",
      "   84   85   86   87   88   89   90   91   92   93   94   95   96   97\n",
      "   98   99  100  101  102  103  104  105  106  107  108  109  110  111\n",
      "  112  113  114  115  116  117  118  119  120  121  122  123  124  125\n",
      "  126  127  128  129  130  131  132  133  134  135  136  137  138  139\n",
      "  140  141  142  143  144  145  146  147  148  149  150  151  152  153\n",
      "  154  155  156  157  158  159  160  161  162  163  164  165  166  167\n",
      "  168  169  170  171  172  173  174  175  176  177  178  179  180  181\n",
      "  182  183  184  185  186  187  188  189  190  191  192  193  194  195\n",
      "  196  197  198  199  200  201  202  203  204  205  206  207  208  209\n",
      "  210  211  212  213  214  215  216  217  218  219  220  221  222  223\n",
      "  224  225  226  227  228  229  230  231  232  233  234  235  236  237\n",
      "  238  239  240  241  242  243  244  245  246  247  248  249  250  251\n",
      "  252  253  254  255  256  257  258  259  260  261  262  263  264  265\n",
      "  266  267  268  269  270  271  272  273  274  275  276  277  278  279\n",
      "  280  281  282  283  284  285  286  287  288  289  290  291  292  293\n",
      "  294  295  296  297  298  299  300  301  302  303  304  305  306  307\n",
      "  308  309  310  311  312  313  314  315  316  317  318  319  320  321\n",
      "  322  323  324  325  326  327  328  329  330  331  332  333  334  335\n",
      "  336  337  338  339  340  341  342  343  344  345  346  347  348  349\n",
      "  350  351  352  353  354  355  356  357  358  359  360  361  362  363\n",
      "  364  365  366  367  368  369  370  371  372  373  374  375  376  377\n",
      "  378  379  380  381  382  383  384  385  386  387  388  389  390  391\n",
      "  392  393  394  395  396  397  398  399  400  401  402  403  404  405\n",
      "  406  407  408  409  410  411  412  413  414  415  416  417  418  419\n",
      "  420  421  422  423  424  425  426  427  428  429  430  431  432  433\n",
      "  434  435  436  437  438  439  440  441  442  443  444  445  446  447\n",
      "  448  449  450  451  452  453  454  455  456  457  458  459  460  461\n",
      "  462  463  464  465  466  467  468  469  470  471  472  473  474  475\n",
      "  476  477  478  479  480  481  482  483  484  485  486  487  488  489\n",
      "  490  491  492  493  494  495  496  497  498  499  500  501  502  503\n",
      "  504  505  506  507  508  509  510  511  512  513  514  515  516  517\n",
      "  518  519  520  521  522  523  524  525  526  527  528  529  530  531\n",
      "  532  533  534  535  536  537  538  539  540  541  542  543  544  545\n",
      "  546  547  548  549  550  551  552  553  554  555  556  557  558  559\n",
      "  560  561  562  563  564  565  566  567  568  569  570  571  572  573\n",
      "  574  575  576  577  578  579  580  581  582  583  584  585  586  587\n",
      "  588  589  590  591  592  593  594  595  596  597  598  599  600  602\n",
      "  605  610  612  613  614  616  618  620  622  629  633  638  639  642\n",
      "  646  647  649  655  656  657  658  663  666  667  672  673  674  675\n",
      "  676  678  682  683  685  686  687  688  689  690  691  692  693  694\n",
      "  695  696  697  698  699  700  701  702  703  704  705  706  707  708\n",
      "  709  710  711  712  713  714  715  716  717  718  719  720  721  722\n",
      "  723  724  725  726  727  728  729  730  731  732  733  734  735  736\n",
      "  737  738  739  740  741  742  743  744  745  746  747  748  749  750\n",
      "  751  752  753  754  755  756  757  758  759  760  761  762  763  764\n",
      "  765  766  767  768  769  770  771  772  773  774  775  776  777  778\n",
      "  779  780  781  782  783  784  785  786  787  788  789  790  791  792\n",
      "  793  794  795  796  797  798  799  800  801  802  803  804  805  806\n",
      "  807  808  809  810  811  812  813  814  815  816  817  818  819  820\n",
      "  821  822  823  824  825  826  827  828  829  830  831  832  833  834\n",
      "  835  836  837  838  839  840  841  842  843  844  845  846  847  848\n",
      "  849  850  851  852  853  854  855  856  857  858  859  860  861  862\n",
      "  863  864  865  866  867  868  920  921  922  923  924  925  926  927\n",
      "  928  929  930  931  932  933  934  935  936  937  938  939  940  941\n",
      "  942  943  944  945  946  947  948  949  950  951  952  953  954  955\n",
      "  956  957  958  959  960  961  962  963  964  965  966  967  968  969\n",
      "  970  971  972  973  974  975  976  977  978  979  980  981  982  983\n",
      "  984  985  986  987  988  989  990  991  992  993  994  995  996  997\n",
      "  998  999 1000 1001 1002 1003 1004 1005 1006 1007 1008 1009 1010 1011\n",
      " 1012 1013 1014 1015 1016 1017 1018 1019 1020 1021] Validation: [601 603 604 606 607 608 609 611 615 617 619 621 623 624 625 626 627 628\n",
      " 630 631 632 634 635 636 637 640 641 643 644 645 648 650 651 652 653 654\n",
      " 659 660 661 662 664 665 668 669 670 671 677 679 680 681 684 869 870 871\n",
      " 872 873 874 875 876 877 878 879 880 881 882 883 884 885 886 887 888 889\n",
      " 890 891 892 893 894 895 896 897 898 899 900 901 902 903 904 905 906 907\n",
      " 908 909 910 911 912 913 914 915 916 917 918 919]\n",
      "Train: [   0    1    2    3    4    5    6    7    8    9   10   11   12   13\n",
      "   14   15   16   17   18   19   20   21   22   23   24   25   26   27\n",
      "   28   29   30   31   32   33   34   35   36   37   38   39   40   41\n",
      "   42   43   44   45   46   47   48   49   50   51   52   53   54   55\n",
      "   56   57   58   59   60   61   62   63   64   65   66   67   68   69\n",
      "   70   71   72   73   74   75   76   77   78   79   80   81   82   83\n",
      "   84   85   86   87   88   89   90   91   92   93   94   95   96   97\n",
      "   98   99  100  101  102  103  104  105  106  107  108  109  110  111\n",
      "  112  113  114  115  116  117  118  119  120  121  122  123  124  125\n",
      "  126  127  128  129  130  131  132  133  134  135  136  137  138  139\n",
      "  140  141  142  143  144  145  146  147  148  149  150  151  152  153\n",
      "  154  155  156  157  158  159  160  161  162  163  164  165  166  167\n",
      "  168  169  170  171  172  173  174  175  176  177  178  179  180  181\n",
      "  182  183  184  185  186  187  188  189  190  191  192  193  194  195\n",
      "  196  197  198  199  200  201  202  203  204  205  206  207  208  209\n",
      "  210  211  212  213  214  215  216  217  218  219  220  221  222  223\n",
      "  224  225  226  227  228  229  230  231  232  233  234  235  236  237\n",
      "  238  239  240  241  242  243  244  245  246  247  248  249  250  251\n",
      "  252  253  254  255  256  257  258  259  260  261  262  263  264  265\n",
      "  266  267  268  269  270  271  272  273  274  275  276  277  278  279\n",
      "  280  281  282  283  284  285  286  287  288  289  290  291  292  293\n",
      "  294  295  296  297  298  299  300  301  302  303  304  305  306  307\n",
      "  308  309  310  311  312  313  314  315  316  317  318  319  320  321\n",
      "  322  323  324  325  326  327  328  329  330  331  332  333  334  335\n",
      "  336  337  338  339  340  341  342  343  344  345  346  347  348  349\n",
      "  350  351  352  353  354  355  356  357  358  359  360  361  362  363\n",
      "  364  365  366  367  368  369  370  371  372  373  374  375  376  377\n",
      "  378  379  380  381  382  383  384  385  386  387  388  389  390  391\n",
      "  392  393  394  395  396  397  398  399  400  401  402  403  404  405\n",
      "  406  407  408  409  410  411  412  413  414  415  416  417  418  419\n",
      "  420  421  422  423  424  425  426  427  428  429  430  431  432  433\n",
      "  434  435  436  437  438  439  440  441  442  443  444  445  446  447\n",
      "  448  449  450  451  452  453  454  455  456  457  458  459  460  461\n",
      "  462  463  464  465  466  467  468  469  470  471  472  473  474  475\n",
      "  476  477  478  479  480  481  482  483  484  485  486  487  488  489\n",
      "  490  491  492  493  494  495  496  497  498  499  500  501  502  503\n",
      "  504  505  506  507  508  509  510  511  512  513  514  515  516  517\n",
      "  518  519  520  521  522  523  524  525  526  527  528  529  530  531\n",
      "  532  533  534  535  536  537  538  539  540  541  542  543  544  545\n",
      "  546  547  548  549  550  551  552  553  554  555  556  557  558  559\n",
      "  560  561  562  563  564  565  566  567  568  569  570  571  572  573\n",
      "  574  575  576  577  578  579  580  581  582  583  584  585  586  587\n",
      "  588  589  590  591  592  593  594  595  596  597  598  599  600  601\n",
      "  602  603  604  605  606  607  608  609  610  611  612  613  614  615\n",
      "  616  617  618  619  620  621  622  623  624  625  626  627  628  629\n",
      "  630  631  632  633  634  635  636  637  638  639  640  641  642  643\n",
      "  644  645  646  647  648  649  650  651  652  653  654  655  656  657\n",
      "  658  659  660  661  662  663  664  665  666  667  668  669  670  671\n",
      "  672  673  674  675  676  677  678  679  680  681  682  683  684  686\n",
      "  690  692  693  696  702  705  707  709  712  715  716  719  720  724\n",
      "  727  728  730  741  743  744  745  750  751  758  759  762  763  764\n",
      "  765  766  767  768  769  770  771  772  773  774  775  776  777  778\n",
      "  779  780  781  782  783  784  785  786  787  788  789  790  791  792\n",
      "  793  794  795  796  797  798  799  800  801  802  803  804  805  806\n",
      "  807  808  809  810  811  812  813  814  815  816  817  818  819  820\n",
      "  821  822  823  824  825  826  827  828  829  830  831  832  833  834\n",
      "  835  836  837  838  839  840  841  842  843  844  845  846  847  848\n",
      "  849  850  851  852  853  854  855  856  857  858  859  860  861  862\n",
      "  863  864  865  866  867  868  869  870  871  872  873  874  875  876\n",
      "  877  878  879  880  881  882  883  884  885  886  887  888  889  890\n",
      "  891  892  893  894  895  896  897  898  899  900  901  902  903  904\n",
      "  905  906  907  908  909  910  911  912  913  914  915  916  917  918\n",
      "  919  971  972  973  974  975  976  977  978  979  980  981  982  983\n",
      "  984  985  986  987  988  989  990  991  992  993  994  995  996  997\n",
      "  998  999 1000 1001 1002 1003 1004 1005 1006 1007 1008 1009 1010 1011\n",
      " 1012 1013 1014 1015 1016 1017 1018 1019 1020 1021] Validation: [685 687 688 689 691 694 695 697 698 699 700 701 703 704 706 708 710 711\n",
      " 713 714 717 718 721 722 723 725 726 729 731 732 733 734 735 736 737 738\n",
      " 739 740 742 746 747 748 749 752 753 754 755 756 757 760 761 920 921 922\n",
      " 923 924 925 926 927 928 929 930 931 932 933 934 935 936 937 938 939 940\n",
      " 941 942 943 944 945 946 947 948 949 950 951 952 953 954 955 956 957 958\n",
      " 959 960 961 962 963 964 965 966 967 968 969 970]\n",
      "Train: [  0   1   2   3   4   5   6   7   8   9  10  11  12  13  14  15  16  17\n",
      "  18  19  20  21  22  23  24  25  26  27  28  29  30  31  32  33  34  35\n",
      "  36  37  38  39  40  41  42  43  44  45  46  47  48  49  50  51  52  53\n",
      "  54  55  56  57  58  59  60  61  62  63  64  65  66  67  68  69  70  71\n",
      "  72  73  74  75  76  77  78  79  80  81  82  83  84  85  86  87  88  89\n",
      "  90  91  92  93  94  95  96  97  98  99 100 101 102 103 104 105 106 107\n",
      " 108 109 110 111 112 113 114 115 116 117 118 119 120 121 122 123 124 125\n",
      " 126 127 128 129 130 131 132 133 134 135 136 137 138 139 140 141 142 143\n",
      " 144 145 146 147 148 149 150 151 152 153 154 155 156 157 158 159 160 161\n",
      " 162 163 164 165 166 167 168 169 170 171 172 173 174 175 176 177 178 179\n",
      " 180 181 182 183 184 185 186 187 188 189 190 191 192 193 194 195 196 197\n",
      " 198 199 200 201 202 203 204 205 206 207 208 209 210 211 212 213 214 215\n",
      " 216 217 218 219 220 221 222 223 224 225 226 227 228 229 230 231 232 233\n",
      " 234 235 236 237 238 239 240 241 242 243 244 245 246 247 248 249 250 251\n",
      " 252 253 254 255 256 257 258 259 260 261 262 263 264 265 266 267 268 269\n",
      " 270 271 272 273 274 275 276 277 278 279 280 281 282 283 284 285 286 287\n",
      " 288 289 290 291 292 293 294 295 296 297 298 299 300 301 302 303 304 305\n",
      " 306 307 308 309 310 311 312 313 314 315 316 317 318 319 320 321 322 323\n",
      " 324 325 326 327 328 329 330 331 332 333 334 335 336 337 338 339 340 341\n",
      " 342 343 344 345 346 347 348 349 350 351 352 353 354 355 356 357 358 359\n",
      " 360 361 362 363 364 365 366 367 368 369 370 371 372 373 374 375 376 377\n",
      " 378 379 380 381 382 383 384 385 386 387 388 389 390 391 392 393 394 395\n",
      " 396 397 398 399 400 401 402 403 404 405 406 407 408 409 410 411 412 413\n",
      " 414 415 416 417 418 419 420 421 422 423 424 425 426 427 428 429 430 431\n",
      " 432 433 434 435 436 437 438 439 440 441 442 443 444 445 446 447 448 449\n",
      " 450 451 452 453 454 455 456 457 458 459 460 461 462 463 464 465 466 467\n",
      " 468 469 470 471 472 473 474 475 476 477 478 479 480 481 482 483 484 485\n",
      " 486 487 488 489 490 491 492 493 494 495 496 497 498 499 500 501 502 503\n",
      " 504 505 506 507 508 509 510 511 512 513 514 515 516 517 518 519 520 521\n",
      " 522 523 524 525 526 527 528 529 530 531 532 533 534 535 536 537 538 539\n",
      " 540 541 542 543 544 545 546 547 548 549 550 551 552 553 554 555 556 557\n",
      " 558 559 560 561 562 563 564 565 566 567 568 569 570 571 572 573 574 575\n",
      " 576 577 578 579 580 581 582 583 584 585 586 587 588 589 590 591 592 593\n",
      " 594 595 596 597 598 599 600 601 602 603 604 605 606 607 608 609 610 611\n",
      " 612 613 614 615 616 617 618 619 620 621 622 623 624 625 626 627 628 629\n",
      " 630 631 632 633 634 635 636 637 638 639 640 641 642 643 644 645 646 647\n",
      " 648 649 650 651 652 653 654 655 656 657 658 659 660 661 662 663 664 665\n",
      " 666 667 668 669 670 671 672 673 674 675 676 677 678 679 680 681 682 683\n",
      " 684 685 686 687 688 689 690 691 692 693 694 695 696 697 698 699 700 701\n",
      " 702 703 704 705 706 707 708 709 710 711 712 713 714 715 716 717 718 719\n",
      " 720 721 722 723 724 725 726 727 728 729 730 731 732 733 734 735 736 737\n",
      " 738 739 740 741 742 743 744 745 746 747 748 749 750 751 752 753 754 755\n",
      " 756 757 758 759 760 761 763 764 765 766 771 781 782 784 787 788 789 790\n",
      " 791 795 798 799 802 808 811 813 814 815 819 821 822 825 827 830 831 835\n",
      " 836 842 844 846 847 848 849 850 851 852 853 854 855 856 857 858 859 860\n",
      " 861 862 863 864 865 866 867 868 869 870 871 872 873 874 875 876 877 878\n",
      " 879 880 881 882 883 884 885 886 887 888 889 890 891 892 893 894 895 896\n",
      " 897 898 899 900 901 902 903 904 905 906 907 908 909 910 911 912 913 914\n",
      " 915 916 917 918 919 920 921 922 923 924 925 926 927 928 929 930 931 932\n",
      " 933 934 935 936 937 938 939 940 941 942 943 944 945 946 947 948 949 950\n",
      " 951 952 953 954 955 956 957 958 959 960 961 962 963 964 965 966 967 968\n",
      " 969 970] Validation: [ 762  767  768  769  770  772  773  774  775  776  777  778  779  780\n",
      "  783  785  786  792  793  794  796  797  800  801  803  804  805  806\n",
      "  807  809  810  812  816  817  818  820  823  824  826  828  829  832\n",
      "  833  834  837  838  839  840  841  843  845  971  972  973  974  975\n",
      "  976  977  978  979  980  981  982  983  984  985  986  987  988  989\n",
      "  990  991  992  993  994  995  996  997  998  999 1000 1001 1002 1003\n",
      " 1004 1005 1006 1007 1008 1009 1010 1011 1012 1013 1014 1015 1016 1017\n",
      " 1018 1019 1020 1021]\n",
      "[04:37:27] WARNING: ..\\src\\learner.cc:576: \n",
      "Parameters: { \"criterion\", \"max_features\", \"min_samples_split\" } might not be used.\n",
      "\n",
      "  This could be a false alarm, with some parameters getting used by language bindings but\n",
      "  then being mistakenly passed down to XGBoost core, or some parameter actually being used\n",
      "  but getting flagged wrongly here. Please open an issue if you find any such cases.\n",
      "\n",
      "\n",
      "[04:37:27] WARNING: ..\\src\\learner.cc:1115: Starting in XGBoost 1.3.0, the default evaluation metric used with the objective 'binary:logistic' was changed from 'error' to 'logloss'. Explicitly set eval_metric if you'd like to restore the old behavior.\n"
     ]
    }
   ],
   "source": [
    "accuracy= []\n",
    "\n",
    "skf = StratifiedKFold(n_splits=10, random_state = None)\n",
    "skf.get_n_splits(X,Y)\n",
    "\n",
    "#X is the feature set and Y is the target\n",
    "#Putiing train_index and test_index of X and Y\n",
    "\n",
    "for train_index, test_index in skf.split(X,Y):\n",
    "    print('Train:', train_index, 'Validation:', test_index)\n",
    "    X1_train, X1_test = X.iloc[train_index], X.iloc[test_index]\n",
    "    Y1_train, Y1_test = Y.iloc[train_index], Y.iloc[test_index]\n",
    "    \n",
    "rscv.fit(X1_train, Y1_train)\n",
    "pred = rscv.predict(X1_test)\n",
    "score = accuracy_score(pred, Y1_test)\n",
    "accuracy.append(score)"
   ]
  },
  {
   "cell_type": "code",
   "execution_count": 50,
   "id": "1754665a",
   "metadata": {},
   "outputs": [
    {
     "data": {
      "text/plain": [
       "0.8921568627450981"
      ]
     },
     "execution_count": 50,
     "metadata": {},
     "output_type": "execute_result"
    }
   ],
   "source": [
    "np.array(accuracy).mean()"
   ]
  },
  {
   "cell_type": "markdown",
   "id": "d4350600",
   "metadata": {},
   "source": [
    "# 89% accuracy is awesome! 🤩🤩🤩"
   ]
  },
  {
   "cell_type": "markdown",
   "id": "8088a5e2",
   "metadata": {},
   "source": [
    "# Model saving "
   ]
  },
  {
   "cell_type": "code",
   "execution_count": 52,
   "id": "378f001d",
   "metadata": {},
   "outputs": [],
   "source": [
    "import pickle\n",
    "filename = 'Titanic.pkl'\n",
    "pickle.dump(xgb, open(filename, 'wb'))\n",
    "\n",
    "# wb stands for write binary"
   ]
  }
 ],
 "metadata": {
  "kernelspec": {
   "display_name": "Python 3 (ipykernel)",
   "language": "python",
   "name": "python3"
  },
  "language_info": {
   "codemirror_mode": {
    "name": "ipython",
    "version": 3
   },
   "file_extension": ".py",
   "mimetype": "text/x-python",
   "name": "python",
   "nbconvert_exporter": "python",
   "pygments_lexer": "ipython3",
   "version": "3.9.12"
  }
 },
 "nbformat": 4,
 "nbformat_minor": 5
}
