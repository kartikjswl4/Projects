{
 "cells": [
  {
   "cell_type": "markdown",
   "id": "9ba4c2d8",
   "metadata": {},
   "source": [
    "# 1. Pandas Profiling (EDA)"
   ]
  },
  {
   "cell_type": "raw",
   "id": "d084c4cd",
   "metadata": {},
   "source": [
    "!pip install pandas-profiling"
   ]
  },
  {
   "cell_type": "raw",
   "id": "28599975",
   "metadata": {},
   "source": [
    "from panda_profiling import ProfileReport\n",
    "prof = ProfileReport(df)\n",
    "prof.to_file(output_file = 'output.html')"
   ]
  },
  {
   "cell_type": "markdown",
   "id": "880c4557",
   "metadata": {},
   "source": [
    "It will create an object output.html where you will be able to see all the EDA done in a report with numbers and visualizations.\n",
    "\n",
    "Its generates report in 5 parts -\n",
    "1. Overview - it answers basic questions of the dataset\n",
    "- No. of variables and types\n",
    "- No of obervations\n",
    "- Missing values, duplicate rows\n",
    "- Cardinality of a column (high cardinality means categorical data with many categories)\n",
    "\n",
    "2. Variables - univariate analysis in done on each variable with graphs. Histogram is mostly used to check the distribution of the data, then common values, extreme values and outliers.\n",
    "\n",
    "3. Interactions - in this bivariate analysis is done on each varible where we can  choose any 2 variable to see their relationship using a scatterplot.\n",
    "\n",
    "4. Correlation - bivariate analysis shows the correlation of each variable with every other variable.\n",
    "\n",
    "5. Missing values - shows detailed info about the missing values using count, matrix, heatmap, dendogram.\n",
    "\n",
    "6. Sample - it will show the 1st 10 and last 10 rows of the dataset to get an idea of your data."
   ]
  },
  {
   "cell_type": "markdown",
   "id": "00501e1d",
   "metadata": {},
   "source": [
    "# 2. Pandas Visual Analysis (EDA)"
   ]
  },
  {
   "cell_type": "raw",
   "id": "cd8f1480",
   "metadata": {},
   "source": [
    "pip install pandas_visual_analysis"
   ]
  },
  {
   "cell_type": "raw",
   "id": "a9e3f6f7",
   "metadata": {},
   "source": [
    "from pandas_visual_analysis import VisualAnalysis"
   ]
  },
  {
   "cell_type": "raw",
   "id": "400b3ed0",
   "metadata": {},
   "source": [
    "VisualAnalysis(df)"
   ]
  },
  {
   "cell_type": "markdown",
   "id": "0fd7162b",
   "metadata": {},
   "source": [
    "It will do EDA where we have 3 selection types -\n",
    "\n",
    "1. Standard - it will show the statistical values of the dataset same df.describe() where we can check the mean, minimum, 1st quartile , meadian, 3rd quartil and maximum values for each column and we can select from the dropdown menu.\n",
    "\n",
    "2. Additive - It will create bivariate visualizations where can re-add the removed data.\n",
    "\n",
    "3. Subtractive - It will create bivariate visualizations where can remove selected data and the graph will show the visualizations of removed as well but with grey color. It can be used to remove outliers directly by selecting it.\n",
    "\n",
    "- Histogram and scatterplots are used for visualization.\n",
    "- Histograms can also normalize data with a checkbox.\n",
    "- Scatterplot will covert categorical data into numerical data by-default."
   ]
  },
  {
   "cell_type": "markdown",
   "id": "cdb85bda",
   "metadata": {},
   "source": [
    "# 3. D-Tale (advanced)"
   ]
  },
  {
   "cell_type": "markdown",
   "id": "00d23dbb",
   "metadata": {},
   "source": [
    "https://pypi.org/project/dtale/"
   ]
  },
  {
   "cell_type": "raw",
   "id": "f217d9f7",
   "metadata": {},
   "source": [
    "#Go to anaconda prompt and paste the command -\n",
    "pip install dtale"
   ]
  },
  {
   "cell_type": "raw",
   "id": "d1494cf0",
   "metadata": {},
   "source": [
    "import dtale"
   ]
  },
  {
   "cell_type": "raw",
   "id": "26baa424",
   "metadata": {},
   "source": [
    "dtale.show(df)"
   ]
  },
  {
   "cell_type": "raw",
   "id": "fec8f088",
   "metadata": {},
   "source": [
    "In this we can see visualizations directly, make changes to the data like rename columns, remove outliers, etc. The best part is that whatever visualization we make there we can directly copy the code and run it to plot the same visualization in our jupyter notebook.\n",
    "\n",
    "Plots, correlation, statistics, everything is done here."
   ]
  },
  {
   "cell_type": "markdown",
   "id": "b8c988fe",
   "metadata": {},
   "source": [
    "# 4. AutoViz (EDA)"
   ]
  },
  {
   "cell_type": "markdown",
   "id": "163c6e67",
   "metadata": {},
   "source": [
    "https://pypi.org/project/autoviz/0.0.6/"
   ]
  },
  {
   "cell_type": "raw",
   "id": "7e1ed02d",
   "metadata": {},
   "source": [
    "!pip install autoviz"
   ]
  },
  {
   "cell_type": "raw",
   "id": "2c8d1ff8",
   "metadata": {},
   "source": [
    "from autoviz.AutoViz_class import AutoViz_class\n",
    "Av = AutoViz_class()"
   ]
  },
  {
   "cell_type": "raw",
   "id": "33f73f18",
   "metadata": {},
   "source": [
    "filename = 'dataset_name.csv'\n",
    "sep = ','   #Seperator\n",
    "dft = AV.AutoViz(filename,\n",
    "                 sep = ',',\n",
    "                 depVar = '',\n",
    "                 dfte = None,\n",
    "                 header = 0,\n",
    "                 verbose = 0,\n",
    "                 lowess =  False,\n",
    "                 chart_format = 'svg',\n",
    "                 max_rows_analyzed = 1500000,\n",
    "                 max_cols_analyzed = 30)"
   ]
  },
  {
   "cell_type": "markdown",
   "id": "966d6330",
   "metadata": {},
   "source": [
    "# 5. SweetViz (EDA)"
   ]
  },
  {
   "cell_type": "markdown",
   "id": "80383aaa",
   "metadata": {},
   "source": [
    "https://pypi.org/project/sweetviz/"
   ]
  },
  {
   "cell_type": "raw",
   "id": "2a9197c9",
   "metadata": {},
   "source": [
    "!pip install SweetViz"
   ]
  },
  {
   "cell_type": "raw",
   "id": "e40df216",
   "metadata": {},
   "source": [
    "import sweetviz as sv\n",
    "report = sv.analyze(df)\n",
    "report.show_html('filename.html')"
   ]
  },
  {
   "cell_type": "markdown",
   "id": "649fce29",
   "metadata": {},
   "source": [
    "# 6. DataPrep (EDA)"
   ]
  },
  {
   "cell_type": "markdown",
   "id": "d6723edd",
   "metadata": {},
   "source": [
    "https://dataprep.ai/"
   ]
  },
  {
   "cell_type": "raw",
   "id": "74866509",
   "metadata": {},
   "source": [
    "!pip install dataprep"
   ]
  },
  {
   "cell_type": "raw",
   "id": "8d3e460f",
   "metadata": {},
   "source": [
    "from dataprepr.eda import create_report\n",
    "create_report(df)"
   ]
  },
  {
   "cell_type": "markdown",
   "id": "3c255b66",
   "metadata": {},
   "source": [
    "# 7. LUX (EDA)"
   ]
  },
  {
   "cell_type": "markdown",
   "id": "1d518baf",
   "metadata": {},
   "source": [
    "https://lux-api.readthedocs.io/en/latest/"
   ]
  },
  {
   "cell_type": "markdown",
   "id": "26e99e79",
   "metadata": {},
   "source": [
    "import lux"
   ]
  },
  {
   "cell_type": "raw",
   "id": "2eba0bc1",
   "metadata": {},
   "source": [
    "lux.logger"
   ]
  },
  {
   "cell_type": "raw",
   "id": "6bcb4d08",
   "metadata": {},
   "source": [
    "df "
   ]
  },
  {
   "cell_type": "markdown",
   "id": "447d0ff7",
   "metadata": {},
   "source": [
    "This will show us the dataframe +  you'll see a button here Toggle Pandas\\Lux.\n",
    "Clicking on it will help us see the visualizations of \n",
    "- Correlation  :Bivariate Correlation using scatterplots for each numerical colum\n",
    "- Distribution : Histograms for each numerical column\n",
    "- Occurrence   : Frequency of occurence for categorical columns using countplots"
   ]
  },
  {
   "cell_type": "raw",
   "id": "4856bf84",
   "metadata": {},
   "source": [
    "df.intent=['column name']\n",
    "df\n",
    "#Click on Toggle Pandas/Lux"
   ]
  },
  {
   "cell_type": "markdown",
   "id": "e4a76c42",
   "metadata": {},
   "source": [
    "It will will help us show all the visualizations of the above column name."
   ]
  },
  {
   "cell_type": "markdown",
   "id": "5d7d0ec4",
   "metadata": {},
   "source": [
    "# 8. K-lib (for Cleaning, Analyzing, Preprocessing, EDA)"
   ]
  },
  {
   "cell_type": "markdown",
   "id": "8c4d3a10",
   "metadata": {},
   "source": [
    "https://pypi.org/project/klib/\n"
   ]
  },
  {
   "cell_type": "raw",
   "id": "c09f2fec",
   "metadata": {},
   "source": [
    "!pip install klib"
   ]
  },
  {
   "cell_type": "markdown",
   "id": "8ff7936f",
   "metadata": {},
   "source": [
    "import klib"
   ]
  },
  {
   "cell_type": "raw",
   "id": "37ed5195",
   "metadata": {},
   "source": [
    "# Functions for visualizing datasets (klib.describe)\n",
    "\n",
    "\n",
    "klib.cat_plot(df)\n",
    "- returns a visualization of the number and frequency of categorical features\n",
    "\n",
    "klib.corr_mat(df)\n",
    "- returns a color-encoded correlation matrix\n",
    "\n",
    "klib.corr_plot(df)\n",
    "- returns a color-encoded heatmap, ideal for correlations\n",
    "\n",
    "klib.dist_plot(df)\n",
    "- returns a distribution plot for every numeric feature\n",
    "\n",
    "klib.missingval_plot(df)\n",
    "- returns a figure containing infoa about missing values\n",
    "\n",
    "------------------------------------------------------------------------------------------------------------\n",
    "\n",
    "\n",
    "# Functions for cleaning datasets (klib.clean)\n",
    "\n",
    "klib.data_cleaning(df) \n",
    "- performs datacleaning (drop duplicates & empty rows/cols, adjust dtypes,...)\n",
    "\n",
    "klib.clean_column_names(df)\n",
    "- cleans and standardizes column names, also called inside data_cleaning()\n",
    "\n",
    "klib.convert_datatypes(df)\n",
    "- converts existing to more efficient dtypes, also called inside data_cleaning()\n",
    "\n",
    "klib.drop_missing(df)\n",
    "- drops missing values, also called in data_cleaning()\n",
    "\n",
    "klib.mv_col_handling(df)\n",
    "- drops features with high ratio of missing vals based on informational content\n",
    "\n",
    "klib.pool_duplicate_subsets(df)\n",
    "- pools subset of cols based on duplicates with min. loss of information"
   ]
  },
  {
   "cell_type": "markdown",
   "id": "b103b93a",
   "metadata": {},
   "source": [
    "# 9. MITO (EDA and datacleaning)"
   ]
  },
  {
   "cell_type": "markdown",
   "id": "aeaa4f84",
   "metadata": {},
   "source": [
    "https://docs.trymito.io/getting-started/installing-mito"
   ]
  },
  {
   "cell_type": "raw",
   "id": "1d45f2b0",
   "metadata": {},
   "source": [
    "1. First open a terminal, command prompt, or Anaconda Prompt. Then, download the Mito installer:\n",
    "\n",
    "python -m pip install mitoinstaller\n",
    "\n",
    "\n",
    "2. Then, run the installer. This command may take a few moments to run:\n",
    "\n",
    "python -m mitoinstaller install\n",
    "\n",
    "\n",
    "This will install Mito for classic Jupyter Notebooks and JupyterLab 3.0."
   ]
  }
 ],
 "metadata": {
  "kernelspec": {
   "display_name": "Python 3 (ipykernel)",
   "language": "python",
   "name": "python3"
  },
  "language_info": {
   "codemirror_mode": {
    "name": "ipython",
    "version": 3
   },
   "file_extension": ".py",
   "mimetype": "text/x-python",
   "name": "python",
   "nbconvert_exporter": "python",
   "pygments_lexer": "ipython3",
   "version": "3.9.12"
  }
 },
 "nbformat": 4,
 "nbformat_minor": 5
}
