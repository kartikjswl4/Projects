{
 "cells": [
  {
   "cell_type": "markdown",
   "metadata": {},
   "source": [
    "# World Happiness Report"
   ]
  },
  {
   "cell_type": "code",
   "execution_count": 1,
   "metadata": {},
   "outputs": [],
   "source": [
    "import pandas as pd"
   ]
  },
  {
   "cell_type": "code",
   "execution_count": 2,
   "metadata": {},
   "outputs": [],
   "source": [
    "df = pd.read_csv(\"F:\\happiness_score_dataset.csv\")"
   ]
  },
  {
   "cell_type": "code",
   "execution_count": 3,
   "metadata": {},
   "outputs": [
    {
     "data": {
      "text/html": [
       "<div>\n",
       "<style scoped>\n",
       "    .dataframe tbody tr th:only-of-type {\n",
       "        vertical-align: middle;\n",
       "    }\n",
       "\n",
       "    .dataframe tbody tr th {\n",
       "        vertical-align: top;\n",
       "    }\n",
       "\n",
       "    .dataframe thead th {\n",
       "        text-align: right;\n",
       "    }\n",
       "</style>\n",
       "<table border=\"1\" class=\"dataframe\">\n",
       "  <thead>\n",
       "    <tr style=\"text-align: right;\">\n",
       "      <th></th>\n",
       "      <th>Country</th>\n",
       "      <th>Region</th>\n",
       "      <th>Happiness Rank</th>\n",
       "      <th>Happiness Score</th>\n",
       "      <th>Standard Error</th>\n",
       "      <th>Economy (GDP per Capita)</th>\n",
       "      <th>Family</th>\n",
       "      <th>Health (Life Expectancy)</th>\n",
       "      <th>Freedom</th>\n",
       "      <th>Trust (Government Corruption)</th>\n",
       "      <th>Generosity</th>\n",
       "      <th>Dystopia Residual</th>\n",
       "    </tr>\n",
       "  </thead>\n",
       "  <tbody>\n",
       "    <tr>\n",
       "      <th>0</th>\n",
       "      <td>Switzerland</td>\n",
       "      <td>Western Europe</td>\n",
       "      <td>1</td>\n",
       "      <td>7.587</td>\n",
       "      <td>0.03411</td>\n",
       "      <td>1.39651</td>\n",
       "      <td>1.34951</td>\n",
       "      <td>0.94143</td>\n",
       "      <td>0.66557</td>\n",
       "      <td>0.41978</td>\n",
       "      <td>0.29678</td>\n",
       "      <td>2.51738</td>\n",
       "    </tr>\n",
       "    <tr>\n",
       "      <th>1</th>\n",
       "      <td>Iceland</td>\n",
       "      <td>Western Europe</td>\n",
       "      <td>2</td>\n",
       "      <td>7.561</td>\n",
       "      <td>0.04884</td>\n",
       "      <td>1.30232</td>\n",
       "      <td>1.40223</td>\n",
       "      <td>0.94784</td>\n",
       "      <td>0.62877</td>\n",
       "      <td>0.14145</td>\n",
       "      <td>0.43630</td>\n",
       "      <td>2.70201</td>\n",
       "    </tr>\n",
       "    <tr>\n",
       "      <th>2</th>\n",
       "      <td>Denmark</td>\n",
       "      <td>Western Europe</td>\n",
       "      <td>3</td>\n",
       "      <td>7.527</td>\n",
       "      <td>0.03328</td>\n",
       "      <td>1.32548</td>\n",
       "      <td>1.36058</td>\n",
       "      <td>0.87464</td>\n",
       "      <td>0.64938</td>\n",
       "      <td>0.48357</td>\n",
       "      <td>0.34139</td>\n",
       "      <td>2.49204</td>\n",
       "    </tr>\n",
       "    <tr>\n",
       "      <th>3</th>\n",
       "      <td>Norway</td>\n",
       "      <td>Western Europe</td>\n",
       "      <td>4</td>\n",
       "      <td>7.522</td>\n",
       "      <td>0.03880</td>\n",
       "      <td>1.45900</td>\n",
       "      <td>1.33095</td>\n",
       "      <td>0.88521</td>\n",
       "      <td>0.66973</td>\n",
       "      <td>0.36503</td>\n",
       "      <td>0.34699</td>\n",
       "      <td>2.46531</td>\n",
       "    </tr>\n",
       "    <tr>\n",
       "      <th>4</th>\n",
       "      <td>Canada</td>\n",
       "      <td>North America</td>\n",
       "      <td>5</td>\n",
       "      <td>7.427</td>\n",
       "      <td>0.03553</td>\n",
       "      <td>1.32629</td>\n",
       "      <td>1.32261</td>\n",
       "      <td>0.90563</td>\n",
       "      <td>0.63297</td>\n",
       "      <td>0.32957</td>\n",
       "      <td>0.45811</td>\n",
       "      <td>2.45176</td>\n",
       "    </tr>\n",
       "    <tr>\n",
       "      <th>...</th>\n",
       "      <td>...</td>\n",
       "      <td>...</td>\n",
       "      <td>...</td>\n",
       "      <td>...</td>\n",
       "      <td>...</td>\n",
       "      <td>...</td>\n",
       "      <td>...</td>\n",
       "      <td>...</td>\n",
       "      <td>...</td>\n",
       "      <td>...</td>\n",
       "      <td>...</td>\n",
       "      <td>...</td>\n",
       "    </tr>\n",
       "    <tr>\n",
       "      <th>153</th>\n",
       "      <td>Rwanda</td>\n",
       "      <td>Sub-Saharan Africa</td>\n",
       "      <td>154</td>\n",
       "      <td>3.465</td>\n",
       "      <td>0.03464</td>\n",
       "      <td>0.22208</td>\n",
       "      <td>0.77370</td>\n",
       "      <td>0.42864</td>\n",
       "      <td>0.59201</td>\n",
       "      <td>0.55191</td>\n",
       "      <td>0.22628</td>\n",
       "      <td>0.67042</td>\n",
       "    </tr>\n",
       "    <tr>\n",
       "      <th>154</th>\n",
       "      <td>Benin</td>\n",
       "      <td>Sub-Saharan Africa</td>\n",
       "      <td>155</td>\n",
       "      <td>3.340</td>\n",
       "      <td>0.03656</td>\n",
       "      <td>0.28665</td>\n",
       "      <td>0.35386</td>\n",
       "      <td>0.31910</td>\n",
       "      <td>0.48450</td>\n",
       "      <td>0.08010</td>\n",
       "      <td>0.18260</td>\n",
       "      <td>1.63328</td>\n",
       "    </tr>\n",
       "    <tr>\n",
       "      <th>155</th>\n",
       "      <td>Syria</td>\n",
       "      <td>Middle East and Northern Africa</td>\n",
       "      <td>156</td>\n",
       "      <td>3.006</td>\n",
       "      <td>0.05015</td>\n",
       "      <td>0.66320</td>\n",
       "      <td>0.47489</td>\n",
       "      <td>0.72193</td>\n",
       "      <td>0.15684</td>\n",
       "      <td>0.18906</td>\n",
       "      <td>0.47179</td>\n",
       "      <td>0.32858</td>\n",
       "    </tr>\n",
       "    <tr>\n",
       "      <th>156</th>\n",
       "      <td>Burundi</td>\n",
       "      <td>Sub-Saharan Africa</td>\n",
       "      <td>157</td>\n",
       "      <td>2.905</td>\n",
       "      <td>0.08658</td>\n",
       "      <td>0.01530</td>\n",
       "      <td>0.41587</td>\n",
       "      <td>0.22396</td>\n",
       "      <td>0.11850</td>\n",
       "      <td>0.10062</td>\n",
       "      <td>0.19727</td>\n",
       "      <td>1.83302</td>\n",
       "    </tr>\n",
       "    <tr>\n",
       "      <th>157</th>\n",
       "      <td>Togo</td>\n",
       "      <td>Sub-Saharan Africa</td>\n",
       "      <td>158</td>\n",
       "      <td>2.839</td>\n",
       "      <td>0.06727</td>\n",
       "      <td>0.20868</td>\n",
       "      <td>0.13995</td>\n",
       "      <td>0.28443</td>\n",
       "      <td>0.36453</td>\n",
       "      <td>0.10731</td>\n",
       "      <td>0.16681</td>\n",
       "      <td>1.56726</td>\n",
       "    </tr>\n",
       "  </tbody>\n",
       "</table>\n",
       "<p>158 rows × 12 columns</p>\n",
       "</div>"
      ],
      "text/plain": [
       "         Country                           Region  Happiness Rank  \\\n",
       "0    Switzerland                   Western Europe               1   \n",
       "1        Iceland                   Western Europe               2   \n",
       "2        Denmark                   Western Europe               3   \n",
       "3         Norway                   Western Europe               4   \n",
       "4         Canada                    North America               5   \n",
       "..           ...                              ...             ...   \n",
       "153       Rwanda               Sub-Saharan Africa             154   \n",
       "154        Benin               Sub-Saharan Africa             155   \n",
       "155        Syria  Middle East and Northern Africa             156   \n",
       "156      Burundi               Sub-Saharan Africa             157   \n",
       "157         Togo               Sub-Saharan Africa             158   \n",
       "\n",
       "     Happiness Score  Standard Error  Economy (GDP per Capita)   Family  \\\n",
       "0              7.587         0.03411                   1.39651  1.34951   \n",
       "1              7.561         0.04884                   1.30232  1.40223   \n",
       "2              7.527         0.03328                   1.32548  1.36058   \n",
       "3              7.522         0.03880                   1.45900  1.33095   \n",
       "4              7.427         0.03553                   1.32629  1.32261   \n",
       "..               ...             ...                       ...      ...   \n",
       "153            3.465         0.03464                   0.22208  0.77370   \n",
       "154            3.340         0.03656                   0.28665  0.35386   \n",
       "155            3.006         0.05015                   0.66320  0.47489   \n",
       "156            2.905         0.08658                   0.01530  0.41587   \n",
       "157            2.839         0.06727                   0.20868  0.13995   \n",
       "\n",
       "     Health (Life Expectancy)  Freedom  Trust (Government Corruption)  \\\n",
       "0                     0.94143  0.66557                        0.41978   \n",
       "1                     0.94784  0.62877                        0.14145   \n",
       "2                     0.87464  0.64938                        0.48357   \n",
       "3                     0.88521  0.66973                        0.36503   \n",
       "4                     0.90563  0.63297                        0.32957   \n",
       "..                        ...      ...                            ...   \n",
       "153                   0.42864  0.59201                        0.55191   \n",
       "154                   0.31910  0.48450                        0.08010   \n",
       "155                   0.72193  0.15684                        0.18906   \n",
       "156                   0.22396  0.11850                        0.10062   \n",
       "157                   0.28443  0.36453                        0.10731   \n",
       "\n",
       "     Generosity  Dystopia Residual  \n",
       "0       0.29678            2.51738  \n",
       "1       0.43630            2.70201  \n",
       "2       0.34139            2.49204  \n",
       "3       0.34699            2.46531  \n",
       "4       0.45811            2.45176  \n",
       "..          ...                ...  \n",
       "153     0.22628            0.67042  \n",
       "154     0.18260            1.63328  \n",
       "155     0.47179            0.32858  \n",
       "156     0.19727            1.83302  \n",
       "157     0.16681            1.56726  \n",
       "\n",
       "[158 rows x 12 columns]"
      ]
     },
     "execution_count": 3,
     "metadata": {},
     "output_type": "execute_result"
    }
   ],
   "source": [
    "df"
   ]
  },
  {
   "cell_type": "code",
   "execution_count": 4,
   "metadata": {},
   "outputs": [
    {
     "data": {
      "text/plain": [
       "Index(['Country', 'Region', 'Happiness Rank', 'Happiness Score',\n",
       "       'Standard Error', 'Economy (GDP per Capita)', 'Family',\n",
       "       'Health (Life Expectancy)', 'Freedom', 'Trust (Government Corruption)',\n",
       "       'Generosity', 'Dystopia Residual'],\n",
       "      dtype='object')"
      ]
     },
     "execution_count": 4,
     "metadata": {},
     "output_type": "execute_result"
    }
   ],
   "source": [
    " df.columns"
   ]
  },
  {
   "cell_type": "code",
   "execution_count": 5,
   "metadata": {},
   "outputs": [
    {
     "data": {
      "text/plain": [
       "Country                          0\n",
       "Region                           0\n",
       "Happiness Rank                   0\n",
       "Happiness Score                  0\n",
       "Standard Error                   0\n",
       "Economy (GDP per Capita)         0\n",
       "Family                           0\n",
       "Health (Life Expectancy)         0\n",
       "Freedom                          0\n",
       "Trust (Government Corruption)    0\n",
       "Generosity                       0\n",
       "Dystopia Residual                0\n",
       "dtype: int64"
      ]
     },
     "execution_count": 5,
     "metadata": {},
     "output_type": "execute_result"
    }
   ],
   "source": [
    "df.isnull().sum()"
   ]
  },
  {
   "cell_type": "markdown",
   "metadata": {},
   "source": [
    "# EDA"
   ]
  },
  {
   "cell_type": "code",
   "execution_count": 6,
   "metadata": {},
   "outputs": [
    {
     "data": {
      "text/plain": [
       "<AxesSubplot:xlabel='Happiness Rank', ylabel='Dystopia Residual'>"
      ]
     },
     "execution_count": 6,
     "metadata": {},
     "output_type": "execute_result"
    },
    {
     "data": {
      "image/png": "[encoded data removed]",
      "text/plain": [
       "<Figure size 432x288 with 1 Axes>"
      ]
     },
     "metadata": {
      "needs_background": "light"
     },
     "output_type": "display_data"
    }
   ],
   "source": [
    "import seaborn as sns\n",
    "sns.scatterplot(data=df, x='Happiness Rank', y='Dystopia Residual')"
   ]
  },
  {
   "cell_type": "code",
   "execution_count": 7,
   "metadata": {},
   "outputs": [
    {
     "data": {
      "text/plain": [
       "<AxesSubplot:xlabel='Happiness Score', ylabel='Dystopia Residual'>"
      ]
     },
     "execution_count": 7,
     "metadata": {},
     "output_type": "execute_result"
    },
    {
     "data": {
      "image/png": "[encoded data removed]",
      "text/plain": [
       "<Figure size 432x288 with 1 Axes>"
      ]
     },
     "metadata": {
      "needs_background": "light"
     },
     "output_type": "display_data"
    }
   ],
   "source": [
    "sns.scatterplot(data=df, x='Happiness Score', y='Dystopia Residual')"
   ]
  },
  {
   "cell_type": "code",
   "execution_count": 8,
   "metadata": {},
   "outputs": [
    {
     "data": {
      "text/plain": [
       "<AxesSubplot:xlabel='Standard Error', ylabel='Dystopia Residual'>"
      ]
     },
     "execution_count": 8,
     "metadata": {},
     "output_type": "execute_result"
    },
    {
     "data": {
      "image/png": "[encoded data removed]",
      "text/plain": [
       "<Figure size 432x288 with 1 Axes>"
      ]
     },
     "metadata": {
      "needs_background": "light"
     },
     "output_type": "display_data"
    }
   ],
   "source": [
    "sns.scatterplot(data=df, x='Standard Error', y='Dystopia Residual')"
   ]
  },
  {
   "cell_type": "code",
   "execution_count": 9,
   "metadata": {},
   "outputs": [
    {
     "data": {
      "text/plain": [
       "<AxesSubplot:xlabel='Economy (GDP per Capita)', ylabel='Dystopia Residual'>"
      ]
     },
     "execution_count": 9,
     "metadata": {},
     "output_type": "execute_result"
    },
    {
     "data": {
      "image/png": "[encoded data removed]",
      "text/plain": [
       "<Figure size 432x288 with 1 Axes>"
      ]
     },
     "metadata": {
      "needs_background": "light"
     },
     "output_type": "display_data"
    }
   ],
   "source": [
    "sns.scatterplot(data=df, x='Economy (GDP per Capita)', y='Dystopia Residual')"
   ]
  },
  {
   "cell_type": "code",
   "execution_count": 10,
   "metadata": {},
   "outputs": [
    {
     "data": {
      "text/plain": [
       "<AxesSubplot:xlabel='Family', ylabel='Dystopia Residual'>"
      ]
     },
     "execution_count": 10,
     "metadata": {},
     "output_type": "execute_result"
    },
    {
     "data": {
      "image/png": "[encoded data removed]",
      "text/plain": [
       "<Figure size 432x288 with 1 Axes>"
      ]
     },
     "metadata": {
      "needs_background": "light"
     },
     "output_type": "display_data"
    }
   ],
   "source": [
    "sns.scatterplot(data=df, x='Family', y='Dystopia Residual')"
   ]
  },
  {
   "cell_type": "code",
   "execution_count": 11,
   "metadata": {},
   "outputs": [
    {
     "data": {
      "text/plain": [
       "<AxesSubplot:xlabel='Health (Life Expectancy)', ylabel='Dystopia Residual'>"
      ]
     },
     "execution_count": 11,
     "metadata": {},
     "output_type": "execute_result"
    },
    {
     "data": {
      "image/png": "[encoded data removed]",
      "text/plain": [
       "<Figure size 432x288 with 1 Axes>"
      ]
     },
     "metadata": {
      "needs_background": "light"
     },
     "output_type": "display_data"
    }
   ],
   "source": [
    "sns.scatterplot(data=df, x='Health (Life Expectancy)', y='Dystopia Residual')"
   ]
  },
  {
   "cell_type": "code",
   "execution_count": 12,
   "metadata": {},
   "outputs": [
    {
     "data": {
      "text/plain": [
       "<AxesSubplot:xlabel='Trust (Government Corruption)', ylabel='Dystopia Residual'>"
      ]
     },
     "execution_count": 12,
     "metadata": {},
     "output_type": "execute_result"
    },
    {
     "data": {
      "image/png": "[encoded data removed]",
      "text/plain": [
       "<Figure size 432x288 with 1 Axes>"
      ]
     },
     "metadata": {
      "needs_background": "light"
     },
     "output_type": "display_data"
    }
   ],
   "source": [
    "sns.scatterplot(data=df, x='Trust (Government Corruption)', y='Dystopia Residual')"
   ]
  },
  {
   "cell_type": "code",
   "execution_count": 13,
   "metadata": {},
   "outputs": [
    {
     "data": {
      "text/plain": [
       "<AxesSubplot:xlabel='Freedom', ylabel='Dystopia Residual'>"
      ]
     },
     "execution_count": 13,
     "metadata": {},
     "output_type": "execute_result"
    },
    {
     "data": {
      "image/png": "[encoded data removed]",
      "text/plain": [
       "<Figure size 432x288 with 1 Axes>"
      ]
     },
     "metadata": {
      "needs_background": "light"
     },
     "output_type": "display_data"
    }
   ],
   "source": [
    "sns.scatterplot(data=df, x='Freedom', y='Dystopia Residual')"
   ]
  },
  {
   "cell_type": "code",
   "execution_count": 14,
   "metadata": {},
   "outputs": [
    {
     "data": {
      "text/plain": [
       "<AxesSubplot:xlabel='Generosity', ylabel='Dystopia Residual'>"
      ]
     },
     "execution_count": 14,
     "metadata": {},
     "output_type": "execute_result"
    },
    {
     "data": {
      "image/png": "[encoded data removed]",
      "text/plain": [
       "<Figure size 432x288 with 1 Axes>"
      ]
     },
     "metadata": {
      "needs_background": "light"
     },
     "output_type": "display_data"
    }
   ],
   "source": [
    "sns.scatterplot(data=df, x='Generosity', y='Dystopia Residual')"
   ]
  },
  {
   "cell_type": "markdown",
   "metadata": {},
   "source": [
    "# Correlation"
   ]
  },
  {
   "cell_type": "code",
   "execution_count": 15,
   "metadata": {
    "scrolled": false
   },
   "outputs": [
    {
     "data": {
      "text/html": [
       "<div>\n",
       "<style scoped>\n",
       "    .dataframe tbody tr th:only-of-type {\n",
       "        vertical-align: middle;\n",
       "    }\n",
       "\n",
       "    .dataframe tbody tr th {\n",
       "        vertical-align: top;\n",
       "    }\n",
       "\n",
       "    .dataframe thead th {\n",
       "        text-align: right;\n",
       "    }\n",
       "</style>\n",
       "<table border=\"1\" class=\"dataframe\">\n",
       "  <thead>\n",
       "    <tr style=\"text-align: right;\">\n",
       "      <th></th>\n",
       "      <th>Happiness Rank</th>\n",
       "      <th>Happiness Score</th>\n",
       "      <th>Standard Error</th>\n",
       "      <th>Economy (GDP per Capita)</th>\n",
       "      <th>Family</th>\n",
       "      <th>Health (Life Expectancy)</th>\n",
       "      <th>Freedom</th>\n",
       "      <th>Trust (Government Corruption)</th>\n",
       "      <th>Generosity</th>\n",
       "      <th>Dystopia Residual</th>\n",
       "    </tr>\n",
       "  </thead>\n",
       "  <tbody>\n",
       "    <tr>\n",
       "      <th>Happiness Rank</th>\n",
       "      <td>1.000000</td>\n",
       "      <td>-0.992105</td>\n",
       "      <td>0.158516</td>\n",
       "      <td>-0.785267</td>\n",
       "      <td>-0.733644</td>\n",
       "      <td>-0.735613</td>\n",
       "      <td>-0.556886</td>\n",
       "      <td>-0.372315</td>\n",
       "      <td>-0.160142</td>\n",
       "      <td>-0.521999</td>\n",
       "    </tr>\n",
       "    <tr>\n",
       "      <th>Happiness Score</th>\n",
       "      <td>-0.992105</td>\n",
       "      <td>1.000000</td>\n",
       "      <td>-0.177254</td>\n",
       "      <td>0.780966</td>\n",
       "      <td>0.740605</td>\n",
       "      <td>0.724200</td>\n",
       "      <td>0.568211</td>\n",
       "      <td>0.395199</td>\n",
       "      <td>0.180319</td>\n",
       "      <td>0.530474</td>\n",
       "    </tr>\n",
       "    <tr>\n",
       "      <th>Standard Error</th>\n",
       "      <td>0.158516</td>\n",
       "      <td>-0.177254</td>\n",
       "      <td>1.000000</td>\n",
       "      <td>-0.217651</td>\n",
       "      <td>-0.120728</td>\n",
       "      <td>-0.310287</td>\n",
       "      <td>-0.129773</td>\n",
       "      <td>-0.178325</td>\n",
       "      <td>-0.088439</td>\n",
       "      <td>0.083981</td>\n",
       "    </tr>\n",
       "    <tr>\n",
       "      <th>Economy (GDP per Capita)</th>\n",
       "      <td>-0.785267</td>\n",
       "      <td>0.780966</td>\n",
       "      <td>-0.217651</td>\n",
       "      <td>1.000000</td>\n",
       "      <td>0.645299</td>\n",
       "      <td>0.816478</td>\n",
       "      <td>0.370300</td>\n",
       "      <td>0.307885</td>\n",
       "      <td>-0.010465</td>\n",
       "      <td>0.040059</td>\n",
       "    </tr>\n",
       "    <tr>\n",
       "      <th>Family</th>\n",
       "      <td>-0.733644</td>\n",
       "      <td>0.740605</td>\n",
       "      <td>-0.120728</td>\n",
       "      <td>0.645299</td>\n",
       "      <td>1.000000</td>\n",
       "      <td>0.531104</td>\n",
       "      <td>0.441518</td>\n",
       "      <td>0.205605</td>\n",
       "      <td>0.087513</td>\n",
       "      <td>0.148117</td>\n",
       "    </tr>\n",
       "    <tr>\n",
       "      <th>Health (Life Expectancy)</th>\n",
       "      <td>-0.735613</td>\n",
       "      <td>0.724200</td>\n",
       "      <td>-0.310287</td>\n",
       "      <td>0.816478</td>\n",
       "      <td>0.531104</td>\n",
       "      <td>1.000000</td>\n",
       "      <td>0.360477</td>\n",
       "      <td>0.248335</td>\n",
       "      <td>0.108335</td>\n",
       "      <td>0.018979</td>\n",
       "    </tr>\n",
       "    <tr>\n",
       "      <th>Freedom</th>\n",
       "      <td>-0.556886</td>\n",
       "      <td>0.568211</td>\n",
       "      <td>-0.129773</td>\n",
       "      <td>0.370300</td>\n",
       "      <td>0.441518</td>\n",
       "      <td>0.360477</td>\n",
       "      <td>1.000000</td>\n",
       "      <td>0.493524</td>\n",
       "      <td>0.373916</td>\n",
       "      <td>0.062783</td>\n",
       "    </tr>\n",
       "    <tr>\n",
       "      <th>Trust (Government Corruption)</th>\n",
       "      <td>-0.372315</td>\n",
       "      <td>0.395199</td>\n",
       "      <td>-0.178325</td>\n",
       "      <td>0.307885</td>\n",
       "      <td>0.205605</td>\n",
       "      <td>0.248335</td>\n",
       "      <td>0.493524</td>\n",
       "      <td>1.000000</td>\n",
       "      <td>0.276123</td>\n",
       "      <td>-0.033105</td>\n",
       "    </tr>\n",
       "    <tr>\n",
       "      <th>Generosity</th>\n",
       "      <td>-0.160142</td>\n",
       "      <td>0.180319</td>\n",
       "      <td>-0.088439</td>\n",
       "      <td>-0.010465</td>\n",
       "      <td>0.087513</td>\n",
       "      <td>0.108335</td>\n",
       "      <td>0.373916</td>\n",
       "      <td>0.276123</td>\n",
       "      <td>1.000000</td>\n",
       "      <td>-0.101301</td>\n",
       "    </tr>\n",
       "    <tr>\n",
       "      <th>Dystopia Residual</th>\n",
       "      <td>-0.521999</td>\n",
       "      <td>0.530474</td>\n",
       "      <td>0.083981</td>\n",
       "      <td>0.040059</td>\n",
       "      <td>0.148117</td>\n",
       "      <td>0.018979</td>\n",
       "      <td>0.062783</td>\n",
       "      <td>-0.033105</td>\n",
       "      <td>-0.101301</td>\n",
       "      <td>1.000000</td>\n",
       "    </tr>\n",
       "  </tbody>\n",
       "</table>\n",
       "</div>"
      ],
      "text/plain": [
       "                               Happiness Rank  Happiness Score  \\\n",
       "Happiness Rank                       1.000000        -0.992105   \n",
       "Happiness Score                     -0.992105         1.000000   \n",
       "Standard Error                       0.158516        -0.177254   \n",
       "Economy (GDP per Capita)            -0.785267         0.780966   \n",
       "Family                              -0.733644         0.740605   \n",
       "Health (Life Expectancy)            -0.735613         0.724200   \n",
       "Freedom                             -0.556886         0.568211   \n",
       "Trust (Government Corruption)       -0.372315         0.395199   \n",
       "Generosity                          -0.160142         0.180319   \n",
       "Dystopia Residual                   -0.521999         0.530474   \n",
       "\n",
       "                               Standard Error  Economy (GDP per Capita)  \\\n",
       "Happiness Rank                       0.158516                 -0.785267   \n",
       "Happiness Score                     -0.177254                  0.780966   \n",
       "Standard Error                       1.000000                 -0.217651   \n",
       "Economy (GDP per Capita)            -0.217651                  1.000000   \n",
       "Family                              -0.120728                  0.645299   \n",
       "Health (Life Expectancy)            -0.310287                  0.816478   \n",
       "Freedom                             -0.129773                  0.370300   \n",
       "Trust (Government Corruption)       -0.178325                  0.307885   \n",
       "Generosity                          -0.088439                 -0.010465   \n",
       "Dystopia Residual                    0.083981                  0.040059   \n",
       "\n",
       "                                 Family  Health (Life Expectancy)   Freedom  \\\n",
       "Happiness Rank                -0.733644                 -0.735613 -0.556886   \n",
       "Happiness Score                0.740605                  0.724200  0.568211   \n",
       "Standard Error                -0.120728                 -0.310287 -0.129773   \n",
       "Economy (GDP per Capita)       0.645299                  0.816478  0.370300   \n",
       "Family                         1.000000                  0.531104  0.441518   \n",
       "Health (Life Expectancy)       0.531104                  1.000000  0.360477   \n",
       "Freedom                        0.441518                  0.360477  1.000000   \n",
       "Trust (Government Corruption)  0.205605                  0.248335  0.493524   \n",
       "Generosity                     0.087513                  0.108335  0.373916   \n",
       "Dystopia Residual              0.148117                  0.018979  0.062783   \n",
       "\n",
       "                               Trust (Government Corruption)  Generosity  \\\n",
       "Happiness Rank                                     -0.372315   -0.160142   \n",
       "Happiness Score                                     0.395199    0.180319   \n",
       "Standard Error                                     -0.178325   -0.088439   \n",
       "Economy (GDP per Capita)                            0.307885   -0.010465   \n",
       "Family                                              0.205605    0.087513   \n",
       "Health (Life Expectancy)                            0.248335    0.108335   \n",
       "Freedom                                             0.493524    0.373916   \n",
       "Trust (Government Corruption)                       1.000000    0.276123   \n",
       "Generosity                                          0.276123    1.000000   \n",
       "Dystopia Residual                                  -0.033105   -0.101301   \n",
       "\n",
       "                               Dystopia Residual  \n",
       "Happiness Rank                         -0.521999  \n",
       "Happiness Score                         0.530474  \n",
       "Standard Error                          0.083981  \n",
       "Economy (GDP per Capita)                0.040059  \n",
       "Family                                  0.148117  \n",
       "Health (Life Expectancy)                0.018979  \n",
       "Freedom                                 0.062783  \n",
       "Trust (Government Corruption)          -0.033105  \n",
       "Generosity                             -0.101301  \n",
       "Dystopia Residual                       1.000000  "
      ]
     },
     "execution_count": 15,
     "metadata": {},
     "output_type": "execute_result"
    }
   ],
   "source": [
    "df.corr()"
   ]
  },
  {
   "cell_type": "code",
   "execution_count": 16,
   "metadata": {},
   "outputs": [
    {
     "data": {
      "text/plain": [
       "<AxesSubplot:>"
      ]
     },
     "execution_count": 16,
     "metadata": {},
     "output_type": "execute_result"
    },
    {
     "data": {
      "image/png": "[encoded data removed]",
      "text/plain": [
       "<Figure size 1080x504 with 2 Axes>"
      ]
     },
     "metadata": {
      "needs_background": "light"
     },
     "output_type": "display_data"
    }
   ],
   "source": [
    "import matplotlib.pyplot as plt\n",
    "plt.figure(figsize=(15,7))\n",
    "sns.heatmap(df.corr(), annot=True, linewidths=0.5,linecolor=\"black\",fmt='.2f')"
   ]
  },
  {
   "cell_type": "markdown",
   "metadata": {},
   "source": [
    "# Outcome of the correlation"
   ]
  },
  {
   "cell_type": "code",
   "execution_count": null,
   "metadata": {},
   "outputs": [],
   "source": []
  },
  {
   "cell_type": "markdown",
   "metadata": {},
   "source": [
    "# Describing dataset"
   ]
  },
  {
   "cell_type": "code",
   "execution_count": 17,
   "metadata": {},
   "outputs": [
    {
     "data": {
      "text/html": [
       "<div>\n",
       "<style scoped>\n",
       "    .dataframe tbody tr th:only-of-type {\n",
       "        vertical-align: middle;\n",
       "    }\n",
       "\n",
       "    .dataframe tbody tr th {\n",
       "        vertical-align: top;\n",
       "    }\n",
       "\n",
       "    .dataframe thead th {\n",
       "        text-align: right;\n",
       "    }\n",
       "</style>\n",
       "<table border=\"1\" class=\"dataframe\">\n",
       "  <thead>\n",
       "    <tr style=\"text-align: right;\">\n",
       "      <th></th>\n",
       "      <th>Happiness Rank</th>\n",
       "      <th>Happiness Score</th>\n",
       "      <th>Standard Error</th>\n",
       "      <th>Economy (GDP per Capita)</th>\n",
       "      <th>Family</th>\n",
       "      <th>Health (Life Expectancy)</th>\n",
       "      <th>Freedom</th>\n",
       "      <th>Trust (Government Corruption)</th>\n",
       "      <th>Generosity</th>\n",
       "      <th>Dystopia Residual</th>\n",
       "    </tr>\n",
       "  </thead>\n",
       "  <tbody>\n",
       "    <tr>\n",
       "      <th>count</th>\n",
       "      <td>158.000000</td>\n",
       "      <td>158.000000</td>\n",
       "      <td>158.000000</td>\n",
       "      <td>158.000000</td>\n",
       "      <td>158.000000</td>\n",
       "      <td>158.000000</td>\n",
       "      <td>158.000000</td>\n",
       "      <td>158.000000</td>\n",
       "      <td>158.000000</td>\n",
       "      <td>158.000000</td>\n",
       "    </tr>\n",
       "    <tr>\n",
       "      <th>mean</th>\n",
       "      <td>79.493671</td>\n",
       "      <td>5.375734</td>\n",
       "      <td>0.047885</td>\n",
       "      <td>0.846137</td>\n",
       "      <td>0.991046</td>\n",
       "      <td>0.630259</td>\n",
       "      <td>0.428615</td>\n",
       "      <td>0.143422</td>\n",
       "      <td>0.237296</td>\n",
       "      <td>2.098977</td>\n",
       "    </tr>\n",
       "    <tr>\n",
       "      <th>std</th>\n",
       "      <td>45.754363</td>\n",
       "      <td>1.145010</td>\n",
       "      <td>0.017146</td>\n",
       "      <td>0.403121</td>\n",
       "      <td>0.272369</td>\n",
       "      <td>0.247078</td>\n",
       "      <td>0.150693</td>\n",
       "      <td>0.120034</td>\n",
       "      <td>0.126685</td>\n",
       "      <td>0.553550</td>\n",
       "    </tr>\n",
       "    <tr>\n",
       "      <th>min</th>\n",
       "      <td>1.000000</td>\n",
       "      <td>2.839000</td>\n",
       "      <td>0.018480</td>\n",
       "      <td>0.000000</td>\n",
       "      <td>0.000000</td>\n",
       "      <td>0.000000</td>\n",
       "      <td>0.000000</td>\n",
       "      <td>0.000000</td>\n",
       "      <td>0.000000</td>\n",
       "      <td>0.328580</td>\n",
       "    </tr>\n",
       "    <tr>\n",
       "      <th>25%</th>\n",
       "      <td>40.250000</td>\n",
       "      <td>4.526000</td>\n",
       "      <td>0.037268</td>\n",
       "      <td>0.545808</td>\n",
       "      <td>0.856823</td>\n",
       "      <td>0.439185</td>\n",
       "      <td>0.328330</td>\n",
       "      <td>0.061675</td>\n",
       "      <td>0.150553</td>\n",
       "      <td>1.759410</td>\n",
       "    </tr>\n",
       "    <tr>\n",
       "      <th>50%</th>\n",
       "      <td>79.500000</td>\n",
       "      <td>5.232500</td>\n",
       "      <td>0.043940</td>\n",
       "      <td>0.910245</td>\n",
       "      <td>1.029510</td>\n",
       "      <td>0.696705</td>\n",
       "      <td>0.435515</td>\n",
       "      <td>0.107220</td>\n",
       "      <td>0.216130</td>\n",
       "      <td>2.095415</td>\n",
       "    </tr>\n",
       "    <tr>\n",
       "      <th>75%</th>\n",
       "      <td>118.750000</td>\n",
       "      <td>6.243750</td>\n",
       "      <td>0.052300</td>\n",
       "      <td>1.158448</td>\n",
       "      <td>1.214405</td>\n",
       "      <td>0.811013</td>\n",
       "      <td>0.549092</td>\n",
       "      <td>0.180255</td>\n",
       "      <td>0.309883</td>\n",
       "      <td>2.462415</td>\n",
       "    </tr>\n",
       "    <tr>\n",
       "      <th>max</th>\n",
       "      <td>158.000000</td>\n",
       "      <td>7.587000</td>\n",
       "      <td>0.136930</td>\n",
       "      <td>1.690420</td>\n",
       "      <td>1.402230</td>\n",
       "      <td>1.025250</td>\n",
       "      <td>0.669730</td>\n",
       "      <td>0.551910</td>\n",
       "      <td>0.795880</td>\n",
       "      <td>3.602140</td>\n",
       "    </tr>\n",
       "  </tbody>\n",
       "</table>\n",
       "</div>"
      ],
      "text/plain": [
       "       Happiness Rank  Happiness Score  Standard Error  \\\n",
       "count      158.000000       158.000000      158.000000   \n",
       "mean        79.493671         5.375734        0.047885   \n",
       "std         45.754363         1.145010        0.017146   \n",
       "min          1.000000         2.839000        0.018480   \n",
       "25%         40.250000         4.526000        0.037268   \n",
       "50%         79.500000         5.232500        0.043940   \n",
       "75%        118.750000         6.243750        0.052300   \n",
       "max        158.000000         7.587000        0.136930   \n",
       "\n",
       "       Economy (GDP per Capita)      Family  Health (Life Expectancy)  \\\n",
       "count                158.000000  158.000000                158.000000   \n",
       "mean                   0.846137    0.991046                  0.630259   \n",
       "std                    0.403121    0.272369                  0.247078   \n",
       "min                    0.000000    0.000000                  0.000000   \n",
       "25%                    0.545808    0.856823                  0.439185   \n",
       "50%                    0.910245    1.029510                  0.696705   \n",
       "75%                    1.158448    1.214405                  0.811013   \n",
       "max                    1.690420    1.402230                  1.025250   \n",
       "\n",
       "          Freedom  Trust (Government Corruption)  Generosity  \\\n",
       "count  158.000000                     158.000000  158.000000   \n",
       "mean     0.428615                       0.143422    0.237296   \n",
       "std      0.150693                       0.120034    0.126685   \n",
       "min      0.000000                       0.000000    0.000000   \n",
       "25%      0.328330                       0.061675    0.150553   \n",
       "50%      0.435515                       0.107220    0.216130   \n",
       "75%      0.549092                       0.180255    0.309883   \n",
       "max      0.669730                       0.551910    0.795880   \n",
       "\n",
       "       Dystopia Residual  \n",
       "count         158.000000  \n",
       "mean            2.098977  \n",
       "std             0.553550  \n",
       "min             0.328580  \n",
       "25%             1.759410  \n",
       "50%             2.095415  \n",
       "75%             2.462415  \n",
       "max             3.602140  "
      ]
     },
     "execution_count": 17,
     "metadata": {},
     "output_type": "execute_result"
    }
   ],
   "source": [
    "df.describe()"
   ]
  },
  {
   "cell_type": "code",
   "execution_count": 18,
   "metadata": {},
   "outputs": [
    {
     "data": {
      "image/png": "[encoded data removed]",
      "text/plain": [
       "<Figure size 1080x864 with 2 Axes>"
      ]
     },
     "metadata": {
      "needs_background": "light"
     },
     "output_type": "display_data"
    }
   ],
   "source": [
    "plt.figure(figsize=(15,12))\n",
    "sns.heatmap(round(df.describe()[1:].transpose(),2),linewidth=2,annot=True,fmt=\"f\")\n",
    "plt.xticks(fontsize=18)\n",
    "plt.yticks(fontsize=12)\n",
    "plt.title('variables summary')\n",
    "plt.show()"
   ]
  },
  {
   "cell_type": "code",
   "execution_count": 19,
   "metadata": {},
   "outputs": [
    {
     "name": "stdout",
     "output_type": "stream",
     "text": [
      "<class 'pandas.core.frame.DataFrame'>\n",
      "RangeIndex: 158 entries, 0 to 157\n",
      "Data columns (total 12 columns):\n",
      " #   Column                         Non-Null Count  Dtype  \n",
      "---  ------                         --------------  -----  \n",
      " 0   Country                        158 non-null    object \n",
      " 1   Region                         158 non-null    object \n",
      " 2   Happiness Rank                 158 non-null    int64  \n",
      " 3   Happiness Score                158 non-null    float64\n",
      " 4   Standard Error                 158 non-null    float64\n",
      " 5   Economy (GDP per Capita)       158 non-null    float64\n",
      " 6   Family                         158 non-null    float64\n",
      " 7   Health (Life Expectancy)       158 non-null    float64\n",
      " 8   Freedom                        158 non-null    float64\n",
      " 9   Trust (Government Corruption)  158 non-null    float64\n",
      " 10  Generosity                     158 non-null    float64\n",
      " 11  Dystopia Residual              158 non-null    float64\n",
      "dtypes: float64(9), int64(1), object(2)\n",
      "memory usage: 14.9+ KB\n"
     ]
    }
   ],
   "source": [
    "df.info()"
   ]
  },
  {
   "cell_type": "markdown",
   "metadata": {},
   "source": [
    "# Outliers Checking"
   ]
  },
  {
   "cell_type": "code",
   "execution_count": 20,
   "metadata": {},
   "outputs": [],
   "source": [
    "df = pd.read_csv(\"F:\\happiness_score_dataset.csv\")"
   ]
  },
  {
   "cell_type": "code",
   "execution_count": 21,
   "metadata": {},
   "outputs": [
    {
     "data": {
      "text/html": [
       "<div>\n",
       "<style scoped>\n",
       "    .dataframe tbody tr th:only-of-type {\n",
       "        vertical-align: middle;\n",
       "    }\n",
       "\n",
       "    .dataframe tbody tr th {\n",
       "        vertical-align: top;\n",
       "    }\n",
       "\n",
       "    .dataframe thead th {\n",
       "        text-align: right;\n",
       "    }\n",
       "</style>\n",
       "<table border=\"1\" class=\"dataframe\">\n",
       "  <thead>\n",
       "    <tr style=\"text-align: right;\">\n",
       "      <th></th>\n",
       "      <th>Happiness Rank</th>\n",
       "      <th>Happiness Score</th>\n",
       "      <th>Standard Error</th>\n",
       "      <th>Economy (GDP per Capita)</th>\n",
       "      <th>Family</th>\n",
       "      <th>Health (Life Expectancy)</th>\n",
       "      <th>Freedom</th>\n",
       "      <th>Trust (Government Corruption)</th>\n",
       "      <th>Generosity</th>\n",
       "      <th>Dystopia Residual</th>\n",
       "    </tr>\n",
       "  </thead>\n",
       "  <tbody>\n",
       "    <tr>\n",
       "      <th>0</th>\n",
       "      <td>1</td>\n",
       "      <td>7.587</td>\n",
       "      <td>0.03411</td>\n",
       "      <td>1.39651</td>\n",
       "      <td>1.34951</td>\n",
       "      <td>0.94143</td>\n",
       "      <td>0.66557</td>\n",
       "      <td>0.41978</td>\n",
       "      <td>0.29678</td>\n",
       "      <td>2.51738</td>\n",
       "    </tr>\n",
       "    <tr>\n",
       "      <th>1</th>\n",
       "      <td>2</td>\n",
       "      <td>7.561</td>\n",
       "      <td>0.04884</td>\n",
       "      <td>1.30232</td>\n",
       "      <td>1.40223</td>\n",
       "      <td>0.94784</td>\n",
       "      <td>0.62877</td>\n",
       "      <td>0.14145</td>\n",
       "      <td>0.43630</td>\n",
       "      <td>2.70201</td>\n",
       "    </tr>\n",
       "    <tr>\n",
       "      <th>2</th>\n",
       "      <td>3</td>\n",
       "      <td>7.527</td>\n",
       "      <td>0.03328</td>\n",
       "      <td>1.32548</td>\n",
       "      <td>1.36058</td>\n",
       "      <td>0.87464</td>\n",
       "      <td>0.64938</td>\n",
       "      <td>0.48357</td>\n",
       "      <td>0.34139</td>\n",
       "      <td>2.49204</td>\n",
       "    </tr>\n",
       "    <tr>\n",
       "      <th>3</th>\n",
       "      <td>4</td>\n",
       "      <td>7.522</td>\n",
       "      <td>0.03880</td>\n",
       "      <td>1.45900</td>\n",
       "      <td>1.33095</td>\n",
       "      <td>0.88521</td>\n",
       "      <td>0.66973</td>\n",
       "      <td>0.36503</td>\n",
       "      <td>0.34699</td>\n",
       "      <td>2.46531</td>\n",
       "    </tr>\n",
       "    <tr>\n",
       "      <th>4</th>\n",
       "      <td>5</td>\n",
       "      <td>7.427</td>\n",
       "      <td>0.03553</td>\n",
       "      <td>1.32629</td>\n",
       "      <td>1.32261</td>\n",
       "      <td>0.90563</td>\n",
       "      <td>0.63297</td>\n",
       "      <td>0.32957</td>\n",
       "      <td>0.45811</td>\n",
       "      <td>2.45176</td>\n",
       "    </tr>\n",
       "    <tr>\n",
       "      <th>...</th>\n",
       "      <td>...</td>\n",
       "      <td>...</td>\n",
       "      <td>...</td>\n",
       "      <td>...</td>\n",
       "      <td>...</td>\n",
       "      <td>...</td>\n",
       "      <td>...</td>\n",
       "      <td>...</td>\n",
       "      <td>...</td>\n",
       "      <td>...</td>\n",
       "    </tr>\n",
       "    <tr>\n",
       "      <th>153</th>\n",
       "      <td>154</td>\n",
       "      <td>3.465</td>\n",
       "      <td>0.03464</td>\n",
       "      <td>0.22208</td>\n",
       "      <td>0.77370</td>\n",
       "      <td>0.42864</td>\n",
       "      <td>0.59201</td>\n",
       "      <td>0.55191</td>\n",
       "      <td>0.22628</td>\n",
       "      <td>0.67042</td>\n",
       "    </tr>\n",
       "    <tr>\n",
       "      <th>154</th>\n",
       "      <td>155</td>\n",
       "      <td>3.340</td>\n",
       "      <td>0.03656</td>\n",
       "      <td>0.28665</td>\n",
       "      <td>0.35386</td>\n",
       "      <td>0.31910</td>\n",
       "      <td>0.48450</td>\n",
       "      <td>0.08010</td>\n",
       "      <td>0.18260</td>\n",
       "      <td>1.63328</td>\n",
       "    </tr>\n",
       "    <tr>\n",
       "      <th>155</th>\n",
       "      <td>156</td>\n",
       "      <td>3.006</td>\n",
       "      <td>0.05015</td>\n",
       "      <td>0.66320</td>\n",
       "      <td>0.47489</td>\n",
       "      <td>0.72193</td>\n",
       "      <td>0.15684</td>\n",
       "      <td>0.18906</td>\n",
       "      <td>0.47179</td>\n",
       "      <td>0.32858</td>\n",
       "    </tr>\n",
       "    <tr>\n",
       "      <th>156</th>\n",
       "      <td>157</td>\n",
       "      <td>2.905</td>\n",
       "      <td>0.08658</td>\n",
       "      <td>0.01530</td>\n",
       "      <td>0.41587</td>\n",
       "      <td>0.22396</td>\n",
       "      <td>0.11850</td>\n",
       "      <td>0.10062</td>\n",
       "      <td>0.19727</td>\n",
       "      <td>1.83302</td>\n",
       "    </tr>\n",
       "    <tr>\n",
       "      <th>157</th>\n",
       "      <td>158</td>\n",
       "      <td>2.839</td>\n",
       "      <td>0.06727</td>\n",
       "      <td>0.20868</td>\n",
       "      <td>0.13995</td>\n",
       "      <td>0.28443</td>\n",
       "      <td>0.36453</td>\n",
       "      <td>0.10731</td>\n",
       "      <td>0.16681</td>\n",
       "      <td>1.56726</td>\n",
       "    </tr>\n",
       "  </tbody>\n",
       "</table>\n",
       "<p>158 rows × 10 columns</p>\n",
       "</div>"
      ],
      "text/plain": [
       "     Happiness Rank  Happiness Score  Standard Error  \\\n",
       "0                 1            7.587         0.03411   \n",
       "1                 2            7.561         0.04884   \n",
       "2                 3            7.527         0.03328   \n",
       "3                 4            7.522         0.03880   \n",
       "4                 5            7.427         0.03553   \n",
       "..              ...              ...             ...   \n",
       "153             154            3.465         0.03464   \n",
       "154             155            3.340         0.03656   \n",
       "155             156            3.006         0.05015   \n",
       "156             157            2.905         0.08658   \n",
       "157             158            2.839         0.06727   \n",
       "\n",
       "     Economy (GDP per Capita)   Family  Health (Life Expectancy)  Freedom  \\\n",
       "0                     1.39651  1.34951                   0.94143  0.66557   \n",
       "1                     1.30232  1.40223                   0.94784  0.62877   \n",
       "2                     1.32548  1.36058                   0.87464  0.64938   \n",
       "3                     1.45900  1.33095                   0.88521  0.66973   \n",
       "4                     1.32629  1.32261                   0.90563  0.63297   \n",
       "..                        ...      ...                       ...      ...   \n",
       "153                   0.22208  0.77370                   0.42864  0.59201   \n",
       "154                   0.28665  0.35386                   0.31910  0.48450   \n",
       "155                   0.66320  0.47489                   0.72193  0.15684   \n",
       "156                   0.01530  0.41587                   0.22396  0.11850   \n",
       "157                   0.20868  0.13995                   0.28443  0.36453   \n",
       "\n",
       "     Trust (Government Corruption)  Generosity  Dystopia Residual  \n",
       "0                          0.41978     0.29678            2.51738  \n",
       "1                          0.14145     0.43630            2.70201  \n",
       "2                          0.48357     0.34139            2.49204  \n",
       "3                          0.36503     0.34699            2.46531  \n",
       "4                          0.32957     0.45811            2.45176  \n",
       "..                             ...         ...                ...  \n",
       "153                        0.55191     0.22628            0.67042  \n",
       "154                        0.08010     0.18260            1.63328  \n",
       "155                        0.18906     0.47179            0.32858  \n",
       "156                        0.10062     0.19727            1.83302  \n",
       "157                        0.10731     0.16681            1.56726  \n",
       "\n",
       "[158 rows x 10 columns]"
      ]
     },
     "execution_count": 21,
     "metadata": {},
     "output_type": "execute_result"
    }
   ],
   "source": [
    "df1=df.drop(['Region','Country'],axis=1)\n",
    "df1"
   ]
  },
  {
   "cell_type": "code",
   "execution_count": 22,
   "metadata": {},
   "outputs": [
    {
     "name": "stderr",
     "output_type": "stream",
     "text": [
      "C:\\Users\\ASUS\\anaconda3\\lib\\site-packages\\seaborn\\_decorators.py:36: FutureWarning: Pass the following variable as a keyword arg: x. From version 0.12, the only valid positional argument will be `data`, and passing other arguments without an explicit keyword will result in an error or misinterpretation.\n",
      "  warnings.warn(\n",
      "C:\\Users\\ASUS\\anaconda3\\lib\\site-packages\\seaborn\\_core.py:1303: UserWarning: Vertical orientation ignored with only `x` specified.\n",
      "  warnings.warn(single_var_warning.format(\"Vertical\", \"x\"))\n",
      "C:\\Users\\ASUS\\anaconda3\\lib\\site-packages\\seaborn\\_decorators.py:36: FutureWarning: Pass the following variable as a keyword arg: x. From version 0.12, the only valid positional argument will be `data`, and passing other arguments without an explicit keyword will result in an error or misinterpretation.\n",
      "  warnings.warn(\n",
      "C:\\Users\\ASUS\\anaconda3\\lib\\site-packages\\seaborn\\_core.py:1303: UserWarning: Vertical orientation ignored with only `x` specified.\n",
      "  warnings.warn(single_var_warning.format(\"Vertical\", \"x\"))\n",
      "C:\\Users\\ASUS\\anaconda3\\lib\\site-packages\\seaborn\\_decorators.py:36: FutureWarning: Pass the following variable as a keyword arg: x. From version 0.12, the only valid positional argument will be `data`, and passing other arguments without an explicit keyword will result in an error or misinterpretation.\n",
      "  warnings.warn(\n",
      "C:\\Users\\ASUS\\anaconda3\\lib\\site-packages\\seaborn\\_core.py:1303: UserWarning: Vertical orientation ignored with only `x` specified.\n",
      "  warnings.warn(single_var_warning.format(\"Vertical\", \"x\"))\n",
      "C:\\Users\\ASUS\\anaconda3\\lib\\site-packages\\seaborn\\_decorators.py:36: FutureWarning: Pass the following variable as a keyword arg: x. From version 0.12, the only valid positional argument will be `data`, and passing other arguments without an explicit keyword will result in an error or misinterpretation.\n",
      "  warnings.warn(\n",
      "C:\\Users\\ASUS\\anaconda3\\lib\\site-packages\\seaborn\\_core.py:1303: UserWarning: Vertical orientation ignored with only `x` specified.\n",
      "  warnings.warn(single_var_warning.format(\"Vertical\", \"x\"))\n",
      "C:\\Users\\ASUS\\anaconda3\\lib\\site-packages\\seaborn\\_decorators.py:36: FutureWarning: Pass the following variable as a keyword arg: x. From version 0.12, the only valid positional argument will be `data`, and passing other arguments without an explicit keyword will result in an error or misinterpretation.\n",
      "  warnings.warn(\n",
      "C:\\Users\\ASUS\\anaconda3\\lib\\site-packages\\seaborn\\_core.py:1303: UserWarning: Vertical orientation ignored with only `x` specified.\n",
      "  warnings.warn(single_var_warning.format(\"Vertical\", \"x\"))\n",
      "C:\\Users\\ASUS\\anaconda3\\lib\\site-packages\\seaborn\\_decorators.py:36: FutureWarning: Pass the following variable as a keyword arg: x. From version 0.12, the only valid positional argument will be `data`, and passing other arguments without an explicit keyword will result in an error or misinterpretation.\n",
      "  warnings.warn(\n",
      "C:\\Users\\ASUS\\anaconda3\\lib\\site-packages\\seaborn\\_core.py:1303: UserWarning: Vertical orientation ignored with only `x` specified.\n",
      "  warnings.warn(single_var_warning.format(\"Vertical\", \"x\"))\n",
      "C:\\Users\\ASUS\\anaconda3\\lib\\site-packages\\seaborn\\_decorators.py:36: FutureWarning: Pass the following variable as a keyword arg: x. From version 0.12, the only valid positional argument will be `data`, and passing other arguments without an explicit keyword will result in an error or misinterpretation.\n",
      "  warnings.warn(\n",
      "C:\\Users\\ASUS\\anaconda3\\lib\\site-packages\\seaborn\\_core.py:1303: UserWarning: Vertical orientation ignored with only `x` specified.\n",
      "  warnings.warn(single_var_warning.format(\"Vertical\", \"x\"))\n",
      "C:\\Users\\ASUS\\anaconda3\\lib\\site-packages\\seaborn\\_decorators.py:36: FutureWarning: Pass the following variable as a keyword arg: x. From version 0.12, the only valid positional argument will be `data`, and passing other arguments without an explicit keyword will result in an error or misinterpretation.\n",
      "  warnings.warn(\n",
      "C:\\Users\\ASUS\\anaconda3\\lib\\site-packages\\seaborn\\_core.py:1303: UserWarning: Vertical orientation ignored with only `x` specified.\n",
      "  warnings.warn(single_var_warning.format(\"Vertical\", \"x\"))\n",
      "C:\\Users\\ASUS\\anaconda3\\lib\\site-packages\\seaborn\\_decorators.py:36: FutureWarning: Pass the following variable as a keyword arg: x. From version 0.12, the only valid positional argument will be `data`, and passing other arguments without an explicit keyword will result in an error or misinterpretation.\n",
      "  warnings.warn(\n",
      "C:\\Users\\ASUS\\anaconda3\\lib\\site-packages\\seaborn\\_core.py:1303: UserWarning: Vertical orientation ignored with only `x` specified.\n",
      "  warnings.warn(single_var_warning.format(\"Vertical\", \"x\"))\n",
      "C:\\Users\\ASUS\\anaconda3\\lib\\site-packages\\seaborn\\_decorators.py:36: FutureWarning: Pass the following variable as a keyword arg: x. From version 0.12, the only valid positional argument will be `data`, and passing other arguments without an explicit keyword will result in an error or misinterpretation.\n",
      "  warnings.warn(\n",
      "C:\\Users\\ASUS\\anaconda3\\lib\\site-packages\\seaborn\\_core.py:1303: UserWarning: Vertical orientation ignored with only `x` specified.\n",
      "  warnings.warn(single_var_warning.format(\"Vertical\", \"x\"))\n"
     ]
    },
    {
     "data": {
      "image/png": "[encoded data removed]",
      "text/plain": [
       "<Figure size 1440x4320 with 10 Axes>"
      ]
     },
     "metadata": {
      "needs_background": "light"
     },
     "output_type": "display_data"
    }
   ],
   "source": [
    "collist=df1.columns.values\n",
    "ncol=20\n",
    "nrows=15\n",
    "plt.figure(figsize=(ncol,3*ncol))\n",
    "for i in range (0, len(collist)):\n",
    "    plt.subplot(nrows,ncol,i+1)\n",
    "    sns.boxplot(df[collist[i]],color='green',orient='v')\n",
    "    plt.tight_layout()"
   ]
  },
  {
   "cell_type": "code",
   "execution_count": null,
   "metadata": {},
   "outputs": [],
   "source": []
  },
  {
   "cell_type": "markdown",
   "metadata": {},
   "source": [
    "# Skewness"
   ]
  },
  {
   "cell_type": "code",
   "execution_count": 23,
   "metadata": {},
   "outputs": [
    {
     "data": {
      "text/plain": [
       "Happiness Rank                   0.000418\n",
       "Happiness Score                  0.097769\n",
       "Standard Error                   1.983439\n",
       "Economy (GDP per Capita)        -0.317575\n",
       "Family                          -1.006893\n",
       "Health (Life Expectancy)        -0.705328\n",
       "Freedom                         -0.413462\n",
       "Trust (Government Corruption)    1.385463\n",
       "Generosity                       1.001961\n",
       "Dystopia Residual               -0.238911\n",
       "dtype: float64"
      ]
     },
     "execution_count": 23,
     "metadata": {},
     "output_type": "execute_result"
    }
   ],
   "source": [
    "df1.skew()"
   ]
  },
  {
   "cell_type": "markdown",
   "metadata": {},
   "source": [
    "# Normal Distribuiton Curve"
   ]
  },
  {
   "cell_type": "code",
   "execution_count": 24,
   "metadata": {},
   "outputs": [
    {
     "name": "stderr",
     "output_type": "stream",
     "text": [
      "C:\\Users\\ASUS\\anaconda3\\lib\\site-packages\\seaborn\\distributions.py:2551: FutureWarning: `distplot` is a deprecated function and will be removed in a future version. Please adapt your code to use either `displot` (a figure-level function with similar flexibility) or `histplot` (an axes-level function for histograms).\n",
      "  warnings.warn(msg, FutureWarning)\n"
     ]
    },
    {
     "data": {
      "text/plain": [
       "<AxesSubplot:xlabel='Happiness Rank', ylabel='Density'>"
      ]
     },
     "execution_count": 24,
     "metadata": {},
     "output_type": "execute_result"
    },
    {
     "data": {
      "image/png": "[encoded data removed]",
      "text/plain": [
       "<Figure size 432x288 with 1 Axes>"
      ]
     },
     "metadata": {
      "needs_background": "light"
     },
     "output_type": "display_data"
    }
   ],
   "source": [
    "sns.distplot(df1[\"Happiness Rank\"])"
   ]
  },
  {
   "cell_type": "code",
   "execution_count": 25,
   "metadata": {},
   "outputs": [
    {
     "name": "stderr",
     "output_type": "stream",
     "text": [
      "C:\\Users\\ASUS\\anaconda3\\lib\\site-packages\\seaborn\\distributions.py:2551: FutureWarning: `distplot` is a deprecated function and will be removed in a future version. Please adapt your code to use either `displot` (a figure-level function with similar flexibility) or `histplot` (an axes-level function for histograms).\n",
      "  warnings.warn(msg, FutureWarning)\n"
     ]
    },
    {
     "data": {
      "text/plain": [
       "<AxesSubplot:xlabel='Happiness Score', ylabel='Density'>"
      ]
     },
     "execution_count": 25,
     "metadata": {},
     "output_type": "execute_result"
    },
    {
     "data": {
      "image/png": "[encoded data removed]",
      "text/plain": [
       "<Figure size 432x288 with 1 Axes>"
      ]
     },
     "metadata": {
      "needs_background": "light"
     },
     "output_type": "display_data"
    }
   ],
   "source": [
    "sns.distplot(df1[\"Happiness Score\"])"
   ]
  },
  {
   "cell_type": "code",
   "execution_count": 26,
   "metadata": {},
   "outputs": [
    {
     "name": "stderr",
     "output_type": "stream",
     "text": [
      "C:\\Users\\ASUS\\anaconda3\\lib\\site-packages\\seaborn\\distributions.py:2551: FutureWarning: `distplot` is a deprecated function and will be removed in a future version. Please adapt your code to use either `displot` (a figure-level function with similar flexibility) or `histplot` (an axes-level function for histograms).\n",
      "  warnings.warn(msg, FutureWarning)\n"
     ]
    },
    {
     "data": {
      "text/plain": [
       "<AxesSubplot:xlabel='Standard Error', ylabel='Density'>"
      ]
     },
     "execution_count": 26,
     "metadata": {},
     "output_type": "execute_result"
    },
    {
     "data": {
      "image/png": "[encoded data removed]",
      "text/plain": [
       "<Figure size 432x288 with 1 Axes>"
      ]
     },
     "metadata": {
      "needs_background": "light"
     },
     "output_type": "display_data"
    }
   ],
   "source": [
    "sns.distplot(df1[\"Standard Error\"])"
   ]
  },
  {
   "cell_type": "code",
   "execution_count": 27,
   "metadata": {},
   "outputs": [
    {
     "name": "stderr",
     "output_type": "stream",
     "text": [
      "C:\\Users\\ASUS\\anaconda3\\lib\\site-packages\\seaborn\\distributions.py:2551: FutureWarning: `distplot` is a deprecated function and will be removed in a future version. Please adapt your code to use either `displot` (a figure-level function with similar flexibility) or `histplot` (an axes-level function for histograms).\n",
      "  warnings.warn(msg, FutureWarning)\n"
     ]
    },
    {
     "data": {
      "text/plain": [
       "<AxesSubplot:xlabel='Economy (GDP per Capita)', ylabel='Density'>"
      ]
     },
     "execution_count": 27,
     "metadata": {},
     "output_type": "execute_result"
    },
    {
     "data": {
      "image/png": "[encoded data removed]",
      "text/plain": [
       "<Figure size 432x288 with 1 Axes>"
      ]
     },
     "metadata": {
      "needs_background": "light"
     },
     "output_type": "display_data"
    }
   ],
   "source": [
    "sns.distplot(df1[\"Economy (GDP per Capita)\"])"
   ]
  },
  {
   "cell_type": "code",
   "execution_count": 28,
   "metadata": {},
   "outputs": [
    {
     "name": "stderr",
     "output_type": "stream",
     "text": [
      "C:\\Users\\ASUS\\anaconda3\\lib\\site-packages\\seaborn\\distributions.py:2551: FutureWarning: `distplot` is a deprecated function and will be removed in a future version. Please adapt your code to use either `displot` (a figure-level function with similar flexibility) or `histplot` (an axes-level function for histograms).\n",
      "  warnings.warn(msg, FutureWarning)\n"
     ]
    },
    {
     "data": {
      "text/plain": [
       "<AxesSubplot:xlabel='Health (Life Expectancy)', ylabel='Density'>"
      ]
     },
     "execution_count": 28,
     "metadata": {},
     "output_type": "execute_result"
    },
    {
     "data": {
      "image/png": "[encoded data removed]",
      "text/plain": [
       "<Figure size 432x288 with 1 Axes>"
      ]
     },
     "metadata": {
      "needs_background": "light"
     },
     "output_type": "display_data"
    }
   ],
   "source": [
    "sns.distplot(df1[\"Health (Life Expectancy)\"])"
   ]
  },
  {
   "cell_type": "code",
   "execution_count": 29,
   "metadata": {},
   "outputs": [
    {
     "name": "stderr",
     "output_type": "stream",
     "text": [
      "C:\\Users\\ASUS\\anaconda3\\lib\\site-packages\\seaborn\\distributions.py:2551: FutureWarning: `distplot` is a deprecated function and will be removed in a future version. Please adapt your code to use either `displot` (a figure-level function with similar flexibility) or `histplot` (an axes-level function for histograms).\n",
      "  warnings.warn(msg, FutureWarning)\n"
     ]
    },
    {
     "data": {
      "text/plain": [
       "<AxesSubplot:xlabel='Trust (Government Corruption)', ylabel='Density'>"
      ]
     },
     "execution_count": 29,
     "metadata": {},
     "output_type": "execute_result"
    },
    {
     "data": {
      "image/png": "[encoded data removed]",
      "text/plain": [
       "<Figure size 432x288 with 1 Axes>"
      ]
     },
     "metadata": {
      "needs_background": "light"
     },
     "output_type": "display_data"
    }
   ],
   "source": [
    "sns.distplot(df1[\"Trust (Government Corruption)\"])"
   ]
  },
  {
   "cell_type": "code",
   "execution_count": 30,
   "metadata": {},
   "outputs": [
    {
     "name": "stderr",
     "output_type": "stream",
     "text": [
      "C:\\Users\\ASUS\\anaconda3\\lib\\site-packages\\seaborn\\distributions.py:2551: FutureWarning: `distplot` is a deprecated function and will be removed in a future version. Please adapt your code to use either `displot` (a figure-level function with similar flexibility) or `histplot` (an axes-level function for histograms).\n",
      "  warnings.warn(msg, FutureWarning)\n"
     ]
    },
    {
     "data": {
      "text/plain": [
       "<AxesSubplot:xlabel='Freedom', ylabel='Density'>"
      ]
     },
     "execution_count": 30,
     "metadata": {},
     "output_type": "execute_result"
    },
    {
     "data": {
      "image/png": "[encoded data removed]",
      "text/plain": [
       "<Figure size 432x288 with 1 Axes>"
      ]
     },
     "metadata": {
      "needs_background": "light"
     },
     "output_type": "display_data"
    }
   ],
   "source": [
    "sns.distplot(df1[\"Freedom\"])"
   ]
  },
  {
   "cell_type": "code",
   "execution_count": 31,
   "metadata": {},
   "outputs": [
    {
     "name": "stderr",
     "output_type": "stream",
     "text": [
      "C:\\Users\\ASUS\\anaconda3\\lib\\site-packages\\seaborn\\distributions.py:2551: FutureWarning: `distplot` is a deprecated function and will be removed in a future version. Please adapt your code to use either `displot` (a figure-level function with similar flexibility) or `histplot` (an axes-level function for histograms).\n",
      "  warnings.warn(msg, FutureWarning)\n"
     ]
    },
    {
     "data": {
      "text/plain": [
       "<AxesSubplot:xlabel='Generosity', ylabel='Density'>"
      ]
     },
     "execution_count": 31,
     "metadata": {},
     "output_type": "execute_result"
    },
    {
     "data": {
      "image/png": "[encoded data removed]",
      "text/plain": [
       "<Figure size 432x288 with 1 Axes>"
      ]
     },
     "metadata": {
      "needs_background": "light"
     },
     "output_type": "display_data"
    }
   ],
   "source": [
    "sns.distplot(df1[\"Generosity\"])"
   ]
  },
  {
   "cell_type": "markdown",
   "metadata": {},
   "source": [
    "# The normal distritution shows, data is skewed."
   ]
  },
  {
   "cell_type": "markdown",
   "metadata": {},
   "source": [
    "# Data Cleaning :"
   ]
  },
  {
   "cell_type": "code",
   "execution_count": 32,
   "metadata": {},
   "outputs": [],
   "source": [
    "#pip install pandas"
   ]
  },
  {
   "cell_type": "code",
   "execution_count": 33,
   "metadata": {},
   "outputs": [
    {
     "data": {
      "text/html": [
       "<div>\n",
       "<style scoped>\n",
       "    .dataframe tbody tr th:only-of-type {\n",
       "        vertical-align: middle;\n",
       "    }\n",
       "\n",
       "    .dataframe tbody tr th {\n",
       "        vertical-align: top;\n",
       "    }\n",
       "\n",
       "    .dataframe thead th {\n",
       "        text-align: right;\n",
       "    }\n",
       "</style>\n",
       "<table border=\"1\" class=\"dataframe\">\n",
       "  <thead>\n",
       "    <tr style=\"text-align: right;\">\n",
       "      <th></th>\n",
       "      <th>Correlation with Target</th>\n",
       "      <th>Column Name</th>\n",
       "      <th>Normalised</th>\n",
       "      <th>Outliers</th>\n",
       "    </tr>\n",
       "  </thead>\n",
       "  <tbody>\n",
       "    <tr>\n",
       "      <th>0</th>\n",
       "      <td>0.083981</td>\n",
       "      <td>Standard Error</td>\n",
       "      <td>No</td>\n",
       "      <td>Alot</td>\n",
       "    </tr>\n",
       "    <tr>\n",
       "      <th>1</th>\n",
       "      <td>0.040059</td>\n",
       "      <td>Economy (GDP per Capita)</td>\n",
       "      <td>No</td>\n",
       "      <td>Alot</td>\n",
       "    </tr>\n",
       "    <tr>\n",
       "      <th>2</th>\n",
       "      <td>0.018979</td>\n",
       "      <td>Health (Life Expectancy)</td>\n",
       "      <td>No</td>\n",
       "      <td>Alot</td>\n",
       "    </tr>\n",
       "    <tr>\n",
       "      <th>3</th>\n",
       "      <td>0.062783</td>\n",
       "      <td>Freedom</td>\n",
       "      <td>Np</td>\n",
       "      <td>Alot</td>\n",
       "    </tr>\n",
       "    <tr>\n",
       "      <th>4</th>\n",
       "      <td>-0.033105</td>\n",
       "      <td>Trust (Government Corruption)</td>\n",
       "      <td>No</td>\n",
       "      <td>Alot</td>\n",
       "    </tr>\n",
       "  </tbody>\n",
       "</table>\n",
       "</div>"
      ],
      "text/plain": [
       "  Correlation with Target                    Column Name Normalised Outliers\n",
       "0                0.083981                 Standard Error         No     Alot\n",
       "1               0.040059        Economy (GDP per Capita)         No     Alot\n",
       "2               0.018979       Health (Life Expectancy)          No     Alot\n",
       "3                0.062783                       Freedom          Np     Alot\n",
       "4               -0.033105  Trust (Government Corruption)         No     Alot"
      ]
     },
     "execution_count": 33,
     "metadata": {},
     "output_type": "execute_result"
    }
   ],
   "source": [
    "delete=pd.DataFrame([[\"0.083981\", \"Standard Error\", \"No\", \"Alot\"],[\"0.040059 \",\"Economy (GDP per Capita)\",\"No\",\"Alot\"],[\"0.018979 \",\"Health (Life Expectancy) \",\"No\",\"Alot\"],[\"0.062783\",\"Freedom \",\"Np\",\"Alot\"],[\"-0.033105\",\"Trust (Government Corruption)\",\"No\",\"Alot\"]],columns=[\"Correlation with Target\", \"Column Name\", \"Normalised\", \"Outliers\"])\n",
    "delete"
   ]
  },
  {
   "cell_type": "code",
   "execution_count": 34,
   "metadata": {},
   "outputs": [],
   "source": [
    "df2=df1.drop(['Standard Error', 'Economy (GDP per Capita)', 'Health (Life Expectancy)','Freedom', 'Trust (Government Corruption)'],axis=1)"
   ]
  },
  {
   "cell_type": "code",
   "execution_count": 35,
   "metadata": {},
   "outputs": [
    {
     "data": {
      "text/html": [
       "<div>\n",
       "<style scoped>\n",
       "    .dataframe tbody tr th:only-of-type {\n",
       "        vertical-align: middle;\n",
       "    }\n",
       "\n",
       "    .dataframe tbody tr th {\n",
       "        vertical-align: top;\n",
       "    }\n",
       "\n",
       "    .dataframe thead th {\n",
       "        text-align: right;\n",
       "    }\n",
       "</style>\n",
       "<table border=\"1\" class=\"dataframe\">\n",
       "  <thead>\n",
       "    <tr style=\"text-align: right;\">\n",
       "      <th></th>\n",
       "      <th>Happiness Rank</th>\n",
       "      <th>Happiness Score</th>\n",
       "      <th>Family</th>\n",
       "      <th>Generosity</th>\n",
       "      <th>Dystopia Residual</th>\n",
       "    </tr>\n",
       "  </thead>\n",
       "  <tbody>\n",
       "    <tr>\n",
       "      <th>0</th>\n",
       "      <td>1</td>\n",
       "      <td>7.587</td>\n",
       "      <td>1.34951</td>\n",
       "      <td>0.29678</td>\n",
       "      <td>2.51738</td>\n",
       "    </tr>\n",
       "    <tr>\n",
       "      <th>1</th>\n",
       "      <td>2</td>\n",
       "      <td>7.561</td>\n",
       "      <td>1.40223</td>\n",
       "      <td>0.43630</td>\n",
       "      <td>2.70201</td>\n",
       "    </tr>\n",
       "    <tr>\n",
       "      <th>2</th>\n",
       "      <td>3</td>\n",
       "      <td>7.527</td>\n",
       "      <td>1.36058</td>\n",
       "      <td>0.34139</td>\n",
       "      <td>2.49204</td>\n",
       "    </tr>\n",
       "    <tr>\n",
       "      <th>3</th>\n",
       "      <td>4</td>\n",
       "      <td>7.522</td>\n",
       "      <td>1.33095</td>\n",
       "      <td>0.34699</td>\n",
       "      <td>2.46531</td>\n",
       "    </tr>\n",
       "    <tr>\n",
       "      <th>4</th>\n",
       "      <td>5</td>\n",
       "      <td>7.427</td>\n",
       "      <td>1.32261</td>\n",
       "      <td>0.45811</td>\n",
       "      <td>2.45176</td>\n",
       "    </tr>\n",
       "    <tr>\n",
       "      <th>...</th>\n",
       "      <td>...</td>\n",
       "      <td>...</td>\n",
       "      <td>...</td>\n",
       "      <td>...</td>\n",
       "      <td>...</td>\n",
       "    </tr>\n",
       "    <tr>\n",
       "      <th>153</th>\n",
       "      <td>154</td>\n",
       "      <td>3.465</td>\n",
       "      <td>0.77370</td>\n",
       "      <td>0.22628</td>\n",
       "      <td>0.67042</td>\n",
       "    </tr>\n",
       "    <tr>\n",
       "      <th>154</th>\n",
       "      <td>155</td>\n",
       "      <td>3.340</td>\n",
       "      <td>0.35386</td>\n",
       "      <td>0.18260</td>\n",
       "      <td>1.63328</td>\n",
       "    </tr>\n",
       "    <tr>\n",
       "      <th>155</th>\n",
       "      <td>156</td>\n",
       "      <td>3.006</td>\n",
       "      <td>0.47489</td>\n",
       "      <td>0.47179</td>\n",
       "      <td>0.32858</td>\n",
       "    </tr>\n",
       "    <tr>\n",
       "      <th>156</th>\n",
       "      <td>157</td>\n",
       "      <td>2.905</td>\n",
       "      <td>0.41587</td>\n",
       "      <td>0.19727</td>\n",
       "      <td>1.83302</td>\n",
       "    </tr>\n",
       "    <tr>\n",
       "      <th>157</th>\n",
       "      <td>158</td>\n",
       "      <td>2.839</td>\n",
       "      <td>0.13995</td>\n",
       "      <td>0.16681</td>\n",
       "      <td>1.56726</td>\n",
       "    </tr>\n",
       "  </tbody>\n",
       "</table>\n",
       "<p>158 rows × 5 columns</p>\n",
       "</div>"
      ],
      "text/plain": [
       "     Happiness Rank  Happiness Score   Family  Generosity  Dystopia Residual\n",
       "0                 1            7.587  1.34951     0.29678            2.51738\n",
       "1                 2            7.561  1.40223     0.43630            2.70201\n",
       "2                 3            7.527  1.36058     0.34139            2.49204\n",
       "3                 4            7.522  1.33095     0.34699            2.46531\n",
       "4                 5            7.427  1.32261     0.45811            2.45176\n",
       "..              ...              ...      ...         ...                ...\n",
       "153             154            3.465  0.77370     0.22628            0.67042\n",
       "154             155            3.340  0.35386     0.18260            1.63328\n",
       "155             156            3.006  0.47489     0.47179            0.32858\n",
       "156             157            2.905  0.41587     0.19727            1.83302\n",
       "157             158            2.839  0.13995     0.16681            1.56726\n",
       "\n",
       "[158 rows x 5 columns]"
      ]
     },
     "execution_count": 35,
     "metadata": {},
     "output_type": "execute_result"
    }
   ],
   "source": [
    "df2"
   ]
  },
  {
   "cell_type": "markdown",
   "metadata": {},
   "source": [
    "# Removing Outliers"
   ]
  },
  {
   "cell_type": "code",
   "execution_count": 36,
   "metadata": {},
   "outputs": [
    {
     "data": {
      "text/plain": [
       "(158, 10)"
      ]
     },
     "execution_count": 36,
     "metadata": {},
     "output_type": "execute_result"
    }
   ],
   "source": [
    "from scipy.stats import zscore\n",
    "import numpy as np\n",
    "z = np.abs(zscore(df1))\n",
    "z.shape"
   ]
  },
  {
   "cell_type": "code",
   "execution_count": 37,
   "metadata": {},
   "outputs": [
    {
     "name": "stdout",
     "output_type": "stream",
     "text": [
      "(array([  0,   0,   0, ..., 157, 157, 157], dtype=int64), array([0, 1, 2, ..., 7, 8, 9], dtype=int64))\n"
     ]
    }
   ],
   "source": [
    "threshold=3\n",
    "print(np.where(z<3))"
   ]
  },
  {
   "cell_type": "code",
   "execution_count": 38,
   "metadata": {},
   "outputs": [
    {
     "name": "stdout",
     "output_type": "stream",
     "text": [
      "(158, 12)\n",
      "(149, 5)\n"
     ]
    }
   ],
   "source": [
    "df_new=df2[(z<3).all(axis=1)]\n",
    "print(df.shape)\n",
    "print(df_new.shape)"
   ]
  },
  {
   "cell_type": "markdown",
   "metadata": {},
   "source": [
    "# Percentage of Data Loss :"
   ]
  },
  {
   "cell_type": "code",
   "execution_count": 39,
   "metadata": {},
   "outputs": [
    {
     "name": "stdout",
     "output_type": "stream",
     "text": [
      "8.487341772151899\n"
     ]
    }
   ],
   "source": [
    "loss_percent=(158-149)/158*149\n",
    "print(loss_percent)"
   ]
  },
  {
   "cell_type": "code",
   "execution_count": null,
   "metadata": {},
   "outputs": [],
   "source": []
  },
  {
   "cell_type": "markdown",
   "metadata": {},
   "source": [
    "# Model without outliers is df and desired outliers is df_new"
   ]
  },
  {
   "cell_type": "code",
   "execution_count": 40,
   "metadata": {},
   "outputs": [
    {
     "data": {
      "text/html": [
       "<div>\n",
       "<style scoped>\n",
       "    .dataframe tbody tr th:only-of-type {\n",
       "        vertical-align: middle;\n",
       "    }\n",
       "\n",
       "    .dataframe tbody tr th {\n",
       "        vertical-align: top;\n",
       "    }\n",
       "\n",
       "    .dataframe thead th {\n",
       "        text-align: right;\n",
       "    }\n",
       "</style>\n",
       "<table border=\"1\" class=\"dataframe\">\n",
       "  <thead>\n",
       "    <tr style=\"text-align: right;\">\n",
       "      <th></th>\n",
       "      <th>Happiness Rank</th>\n",
       "      <th>Happiness Score</th>\n",
       "      <th>Family</th>\n",
       "      <th>Generosity</th>\n",
       "      <th>Dystopia Residual</th>\n",
       "    </tr>\n",
       "  </thead>\n",
       "  <tbody>\n",
       "    <tr>\n",
       "      <th>0</th>\n",
       "      <td>1</td>\n",
       "      <td>7.587</td>\n",
       "      <td>1.34951</td>\n",
       "      <td>0.29678</td>\n",
       "      <td>2.51738</td>\n",
       "    </tr>\n",
       "    <tr>\n",
       "      <th>1</th>\n",
       "      <td>2</td>\n",
       "      <td>7.561</td>\n",
       "      <td>1.40223</td>\n",
       "      <td>0.43630</td>\n",
       "      <td>2.70201</td>\n",
       "    </tr>\n",
       "    <tr>\n",
       "      <th>2</th>\n",
       "      <td>3</td>\n",
       "      <td>7.527</td>\n",
       "      <td>1.36058</td>\n",
       "      <td>0.34139</td>\n",
       "      <td>2.49204</td>\n",
       "    </tr>\n",
       "    <tr>\n",
       "      <th>3</th>\n",
       "      <td>4</td>\n",
       "      <td>7.522</td>\n",
       "      <td>1.33095</td>\n",
       "      <td>0.34699</td>\n",
       "      <td>2.46531</td>\n",
       "    </tr>\n",
       "    <tr>\n",
       "      <th>4</th>\n",
       "      <td>5</td>\n",
       "      <td>7.427</td>\n",
       "      <td>1.32261</td>\n",
       "      <td>0.45811</td>\n",
       "      <td>2.45176</td>\n",
       "    </tr>\n",
       "    <tr>\n",
       "      <th>...</th>\n",
       "      <td>...</td>\n",
       "      <td>...</td>\n",
       "      <td>...</td>\n",
       "      <td>...</td>\n",
       "      <td>...</td>\n",
       "    </tr>\n",
       "    <tr>\n",
       "      <th>153</th>\n",
       "      <td>154</td>\n",
       "      <td>3.465</td>\n",
       "      <td>0.77370</td>\n",
       "      <td>0.22628</td>\n",
       "      <td>0.67042</td>\n",
       "    </tr>\n",
       "    <tr>\n",
       "      <th>154</th>\n",
       "      <td>155</td>\n",
       "      <td>3.340</td>\n",
       "      <td>0.35386</td>\n",
       "      <td>0.18260</td>\n",
       "      <td>1.63328</td>\n",
       "    </tr>\n",
       "    <tr>\n",
       "      <th>155</th>\n",
       "      <td>156</td>\n",
       "      <td>3.006</td>\n",
       "      <td>0.47489</td>\n",
       "      <td>0.47179</td>\n",
       "      <td>0.32858</td>\n",
       "    </tr>\n",
       "    <tr>\n",
       "      <th>156</th>\n",
       "      <td>157</td>\n",
       "      <td>2.905</td>\n",
       "      <td>0.41587</td>\n",
       "      <td>0.19727</td>\n",
       "      <td>1.83302</td>\n",
       "    </tr>\n",
       "    <tr>\n",
       "      <th>157</th>\n",
       "      <td>158</td>\n",
       "      <td>2.839</td>\n",
       "      <td>0.13995</td>\n",
       "      <td>0.16681</td>\n",
       "      <td>1.56726</td>\n",
       "    </tr>\n",
       "  </tbody>\n",
       "</table>\n",
       "<p>158 rows × 5 columns</p>\n",
       "</div>"
      ],
      "text/plain": [
       "     Happiness Rank  Happiness Score   Family  Generosity  Dystopia Residual\n",
       "0                 1            7.587  1.34951     0.29678            2.51738\n",
       "1                 2            7.561  1.40223     0.43630            2.70201\n",
       "2                 3            7.527  1.36058     0.34139            2.49204\n",
       "3                 4            7.522  1.33095     0.34699            2.46531\n",
       "4                 5            7.427  1.32261     0.45811            2.45176\n",
       "..              ...              ...      ...         ...                ...\n",
       "153             154            3.465  0.77370     0.22628            0.67042\n",
       "154             155            3.340  0.35386     0.18260            1.63328\n",
       "155             156            3.006  0.47489     0.47179            0.32858\n",
       "156             157            2.905  0.41587     0.19727            1.83302\n",
       "157             158            2.839  0.13995     0.16681            1.56726\n",
       "\n",
       "[158 rows x 5 columns]"
      ]
     },
     "execution_count": 40,
     "metadata": {},
     "output_type": "execute_result"
    }
   ],
   "source": [
    "df2"
   ]
  },
  {
   "cell_type": "code",
   "execution_count": 41,
   "metadata": {},
   "outputs": [],
   "source": [
    "x=df2.iloc[:,:-1]\n",
    "y=df2.iloc[:,:-1]"
   ]
  },
  {
   "cell_type": "markdown",
   "metadata": {},
   "source": [
    "# Transforming data to remove skewness"
   ]
  },
  {
   "cell_type": "code",
   "execution_count": 42,
   "metadata": {},
   "outputs": [],
   "source": [
    "from sklearn.preprocessing import power_transform\n",
    "x=power_transform(x,method='yeo-johnson')"
   ]
  },
  {
   "cell_type": "code",
   "execution_count": 43,
   "metadata": {},
   "outputs": [
    {
     "data": {
      "text/plain": [
       "array([[-2.06341393e+00,  1.85703444e+00,  1.66920633e+00,\n",
       "         6.22390514e-01],\n",
       "       [-2.00849761e+00,  1.83666843e+00,  2.01213244e+00,\n",
       "         1.48099498e+00],\n",
       "       [-1.95857395e+00,  1.81000179e+00,  1.73958573e+00,\n",
       "         9.27972764e-01],\n",
       "       [-1.91206206e+00,  1.80607695e+00,  1.55311811e+00,\n",
       "         9.64080261e-01],\n",
       "       [-1.86809991e+00,  1.73134406e+00,  1.50172605e+00,\n",
       "         1.59222419e+00],\n",
       "       [-1.82615075e+00,  1.71478264e+00,  1.47510960e+00,\n",
       "         1.27130120e-01],\n",
       "       [-1.78585120e+00,  1.69267718e+00,  1.24751108e+00,\n",
       "         1.68007190e+00],\n",
       "       [-1.74694050e+00,  1.68161432e+00,  1.29981977e+00,\n",
       "         1.06237761e+00],\n",
       "       [-1.70922335e+00,  1.61985388e+00,  1.48372286e+00,\n",
       "         1.67484595e+00],\n",
       "       [-1.67254860e+00,  1.61826749e+00,  1.42026859e+00,\n",
       "         1.47744045e+00],\n",
       "       [-1.63679617e+00,  1.61350748e+00,  9.28988367e-01,\n",
       "         8.64482885e-01],\n",
       "       [-1.60186859e+00,  1.57220101e+00,  1.00608333e+00,\n",
       "         3.04030189e-01],\n",
       "       [-1.56768538e+00,  1.55151197e+00,  1.34711124e+00,\n",
       "         8.58898427e-01],\n",
       "       [-1.53417905e+00,  1.54115845e+00, -4.83935036e-01,\n",
       "        -7.63598204e-01],\n",
       "       [-1.50129230e+00,  1.48690322e+00,  1.05778139e+00,\n",
       "         1.28944096e+00],\n",
       "       [-1.46897594e+00,  1.37789134e+00,  9.78251861e-01,\n",
       "        -7.09669095e-01],\n",
       "       [-1.43718733e+00,  1.34811642e+00,  9.05475140e-01,\n",
       "         5.01143775e-01],\n",
       "       [-1.40588920e+00,  1.34328328e+00,  1.79679169e+00,\n",
       "         1.59670097e+00],\n",
       "       [-1.37504872e+00,  1.34086621e+00,  1.27971558e+00,\n",
       "         3.25157086e-02],\n",
       "       [-1.34463680e+00,  1.31183524e+00,  4.20800347e-01,\n",
       "         3.77825984e-01],\n",
       "       [-1.31462746e+00,  1.28437263e+00,  1.27865652e+00,\n",
       "         1.87692119e+00],\n",
       "       [-1.28499743e+00,  1.27305188e+00,  2.12197634e-01,\n",
       "        -2.97707399e-02],\n",
       "       [-1.25572571e+00,  1.23823474e+00,  1.10786967e+00,\n",
       "        -1.77167070e+00],\n",
       "       [-1.22679329e+00,  1.22850583e+00, -6.26686061e-02,\n",
       "         7.23743245e-01],\n",
       "       [-1.19818290e+00,  1.21877143e+00,  7.91633557e-01,\n",
       "         2.17616005e-01],\n",
       "       [-1.16987876e+00,  1.18953526e+00,  1.36101718e+00,\n",
       "         5.14660250e-01],\n",
       "       [-1.14186643e+00,  1.12438749e+00,  4.14562012e-01,\n",
       "         8.77139309e-01],\n",
       "       [-1.11413262e+00,  1.07618162e+00,  1.97347857e-01,\n",
       "         8.24414211e-01],\n",
       "       [-1.08666510e+00,  1.04670071e+00,  1.13307664e+00,\n",
       "        -9.57486314e-01],\n",
       "       [-1.05945257e+00,  1.04588107e+00,  1.06409211e+00,\n",
       "        -1.05923227e+00],\n",
       "       [-1.03248453e+00,  9.89229558e-01,  8.34027782e-01,\n",
       "        -1.14967766e+00],\n",
       "       [-1.00575125e+00,  9.72773255e-01,  8.47313326e-01,\n",
       "         1.17712901e-01],\n",
       "       [-9.79243661e-01,  9.66186231e-01,  1.01891436e+00,\n",
       "        -3.20537534e-01],\n",
       "       [-9.52953302e-01,  9.48058605e-01,  1.15979078e+00,\n",
       "         2.11265933e+00],\n",
       "       [-9.26872259e-01,  9.11744529e-01,  2.21960672e-01,\n",
       "        -8.03772421e-01],\n",
       "       [-9.00993117e-01,  8.43857097e-01,  1.44789317e+00,\n",
       "        -3.37366582e-01],\n",
       "       [-8.75308919e-01,  8.21443188e-01,  1.37693726e+00,\n",
       "         1.86991578e+00],\n",
       "       [-8.49813121e-01,  8.18120033e-01,  1.86180683e-01,\n",
       "         2.94311028e-01],\n",
       "       [-8.24499562e-01,  8.15627228e-01,  6.21669402e-01,\n",
       "        -5.36490304e-01],\n",
       "       [-7.99362431e-01,  7.94007192e-01, -2.61605595e-01,\n",
       "        -4.59209955e-01],\n",
       "       [-7.74396239e-01,  7.09751802e-01,  7.12726929e-01,\n",
       "         7.74866773e-01],\n",
       "       [-7.49595793e-01,  6.77939466e-01, -4.09276329e-02,\n",
       "        -1.14896055e+00],\n",
       "       [-7.24956176e-01,  6.72072540e-01,  3.95618363e-02,\n",
       "         4.59848431e-01],\n",
       "       [-7.00472725e-01,  5.71166191e-01,  1.61211555e+00,\n",
       "         8.32948357e-02],\n",
       "       [-6.76141010e-01,  5.64416702e-01,  1.18832355e+00,\n",
       "        -4.69046247e-01],\n",
       "       [-6.51956824e-01,  5.57664388e-01,  1.11447273e+00,\n",
       "        -1.14740722e+00],\n",
       "       [-6.27916160e-01,  5.55131541e-01, -3.18345985e-01,\n",
       "        -3.05516089e-01],\n",
       "       [-6.04015202e-01,  5.47530611e-01, -1.51102828e-01,\n",
       "        -1.04872100e+00],\n",
       "       [-5.80250312e-01,  5.34854416e-01,  8.87020858e-01,\n",
       "        -4.22208641e-01],\n",
       "       [-5.56618016e-01,  5.24706262e-01,  7.87750765e-01,\n",
       "         8.20927173e-02],\n",
       "       [-5.33114996e-01,  4.75566156e-01, -2.35751915e-01,\n",
       "        -1.20282012e-01],\n",
       "       [-5.09738078e-01,  4.74717589e-01, -8.27822250e-02,\n",
       "        -8.26539348e-02],\n",
       "       [-4.86484226e-01,  4.65380371e-01,  1.39338598e+00,\n",
       "         9.34520403e-01],\n",
       "       [-4.63350529e-01,  4.45839425e-01,  4.04542591e-01,\n",
       "        -1.01549673e+00],\n",
       "       [-4.40334200e-01,  4.39887422e-01,  1.21068535e+00,\n",
       "         2.90447230e-01],\n",
       "       [-4.17432561e-01,  4.27125628e-01,  1.11635279e+00,\n",
       "        -2.23472735e+00],\n",
       "       [-3.94643045e-01,  4.22869420e-01,  5.00050790e-01,\n",
       "         4.84617094e-01],\n",
       "       [-3.71963184e-01,  4.19463632e-01, -2.51185387e-01,\n",
       "        -6.66213789e-01],\n",
       "       [-3.49390603e-01,  4.10093948e-01,  9.78362644e-01,\n",
       "        -1.10686849e+00],\n",
       "       [-3.26923020e-01,  3.91337960e-01,  1.24347768e+00,\n",
       "        -4.82538353e-01],\n",
       "       [-3.04558238e-01,  3.73413768e-01,  1.59025167e-01,\n",
       "         8.58033164e-01],\n",
       "       [-2.82294138e-01,  3.64016789e-01, -8.89926764e-01,\n",
       "        -1.82670363e+00],\n",
       "       [-2.60128680e-01,  3.59743586e-01,  3.86174419e-01,\n",
       "        -3.30780349e-01],\n",
       "       [-2.38059896e-01,  3.27229327e-01,  9.96565822e-01,\n",
       "        -2.62020662e+00],\n",
       "       [-2.16085886e-01,  3.21232525e-01,  5.45962058e-01,\n",
       "        -5.75866920e-02],\n",
       "       [-1.94204817e-01,  3.09232049e-01,  1.58342025e-01,\n",
       "         3.57469929e-01],\n",
       "       [-1.72414916e-01,  3.04086178e-01, -5.62155050e-01,\n",
       "         6.90961490e-01],\n",
       "       [-1.50714472e-01,  2.31865695e-01,  1.93299874e-01,\n",
       "        -1.50660618e+00],\n",
       "       [-1.29101828e-01,  2.18071404e-01, -8.39707814e-01,\n",
       "         5.21844417e-01],\n",
       "       [-1.07575383e-01,  1.82667476e-01,  9.44087695e-01,\n",
       "        -4.60412992e-01],\n",
       "       [-8.61335858e-02,  1.21165785e-01, -2.08087311e-01,\n",
       "         1.15232870e+00],\n",
       "       [-6.47749344e-02,  1.18561706e-01,  1.04552971e-01,\n",
       "         1.25374671e+00],\n",
       "       [-4.34979741e-02,  7.94473833e-02,  9.50856848e-01,\n",
       "        -1.39653533e+00],\n",
       "       [-2.23012947e-02,  5.33155098e-02,  2.36583490e-01,\n",
       "         1.86037710e+00],\n",
       "       [-1.18352902e-03,  1.92769663e-02, -4.92293312e-01,\n",
       "        -4.72364368e-01],\n",
       "       [ 1.98566495e-02, -5.20807084e-03, -3.63021621e-01,\n",
       "        -9.66506532e-01],\n",
       "       [ 4.08205281e-02, -4.55196635e-02,  5.46615870e-01,\n",
       "         6.47720048e-01],\n",
       "       [ 6.17093565e-02, -6.13231227e-02, -5.21586040e-01,\n",
       "         4.40256663e-01],\n",
       "       [ 8.25243482e-02, -7.45053590e-02,  3.15873877e-01,\n",
       "         1.69857521e+00],\n",
       "       [ 1.03266682e-01, -1.10595970e-01, -3.95414489e-01,\n",
       "        -1.50959517e+00],\n",
       "       [ 1.23937505e-01, -1.26468144e-01, -1.79979799e+00,\n",
       "         8.97427724e-01],\n",
       "       [ 1.44537931e-01, -1.28232760e-01,  8.54918989e-02,\n",
       "        -1.10604046e+00],\n",
       "       [ 1.44537931e-01, -1.28232760e-01, -5.16995363e-01,\n",
       "        -5.45507293e-01],\n",
       "       [ 1.85531895e-01, -1.74186236e-01, -3.61351673e-01,\n",
       "        -1.45969916e+00],\n",
       "       [ 2.05927514e-01, -1.83925382e-01, -4.77938606e-01,\n",
       "        -2.07519093e-01],\n",
       "       [ 2.26256899e-01, -1.88354381e-01, -5.88406976e-01,\n",
       "        -7.99166433e-01],\n",
       "       [ 2.46521022e-01, -1.89240339e-01, -1.06656986e-01,\n",
       "        -2.41331720e-01],\n",
       "       [ 2.66720831e-01, -2.07857712e-01,  4.87685168e-01,\n",
       "        -8.02346180e-01],\n",
       "       [ 2.86857249e-01, -2.11406534e-01,  2.76515780e-01,\n",
       "        -3.37463528e-01],\n",
       "       [ 3.06931176e-01, -2.33606000e-01,  2.76083305e-03,\n",
       "         2.63187254e-01],\n",
       "       [ 3.26943491e-01, -2.47831205e-01, -3.42762791e-01,\n",
       "         1.80606784e+00],\n",
       "       [ 3.46895048e-01, -2.87021590e-01, -1.32749239e+00,\n",
       "        -1.59186459e+00],\n",
       "       [ 3.66786682e-01, -2.92373850e-01, -1.37385924e-01,\n",
       "         4.20034366e-02],\n",
       "       [ 3.86619208e-01, -3.24528582e-01, -3.58042704e-02,\n",
       "         3.41714670e-02],\n",
       "       [ 4.06393422e-01, -3.35262575e-01, -8.64225050e-01,\n",
       "        -7.42152596e-01],\n",
       "       [ 4.26110098e-01, -3.44213612e-01, -4.66580555e-01,\n",
       "         2.48286269e-01],\n",
       "       [ 4.45769997e-01, -3.89949822e-01,  2.84364350e-02,\n",
       "        -5.20151241e-01],\n",
       "       [ 4.65373856e-01, -4.01631181e-01,  6.52910227e-01,\n",
       "        -1.71858827e-02],\n",
       "       [ 4.84922401e-01, -4.09723806e-01, -1.06598954e+00,\n",
       "         1.40467218e+00],\n",
       "       [ 5.04416339e-01, -4.11522783e-01,  1.36837280e+00,\n",
       "         8.68332293e-01],\n",
       "       [ 5.23856359e-01, -4.17820968e-01,  1.70932346e-01,\n",
       "        -3.34265679e-01],\n",
       "       [ 5.43243137e-01, -4.26823146e-01, -4.28243693e-01,\n",
       "        -2.65294482e+00],\n",
       "       [ 5.62577335e-01, -4.43041249e-01, -8.78001578e-01,\n",
       "        -2.18074300e-03],\n",
       "       [ 5.81859599e-01, -4.78243359e-01,  8.11097612e-01,\n",
       "        -9.04461035e-01],\n",
       "       [ 6.01090560e-01, -4.89092184e-01, -3.35090435e-01,\n",
       "         9.95663494e-02],\n",
       "       [ 6.20270837e-01, -4.90901121e-01, -6.94420535e-01,\n",
       "         9.50354858e-02],\n",
       "       [ 6.39401036e-01, -5.33477237e-01, -1.41640316e+00,\n",
       "        -1.69108520e+00],\n",
       "       [ 6.58481748e-01, -5.55267417e-01, -4.42440738e-01,\n",
       "        -1.08268746e+00],\n",
       "       [ 6.77513556e-01, -5.74361302e-01, -1.77055161e+00,\n",
       "        -5.83029142e-02],\n",
       "       [ 6.96497026e-01, -5.81641937e-01, -1.55060729e+00,\n",
       "         1.17265238e+00],\n",
       "       [ 7.15432715e-01, -5.86194237e-01,  8.14465620e-01,\n",
       "        -6.35307894e-01],\n",
       "       [ 7.34321169e-01, -5.89837132e-01, -8.17301639e-01,\n",
       "        -3.67056389e-01],\n",
       "       [ 7.53162921e-01, -6.21752629e-01,  7.18690879e-01,\n",
       "        -9.98639948e-01],\n",
       "       [ 7.71958497e-01, -6.29971167e-01, -1.22818170e+00,\n",
       "         1.04688150e-01],\n",
       "       [ 7.90708408e-01, -6.50995955e-01, -7.68182991e-03,\n",
       "        -2.64434242e-01],\n",
       "       [ 8.09413157e-01, -6.86718902e-01, -9.10523392e-01,\n",
       "         2.11677901e-01],\n",
       "       [ 8.28073240e-01, -6.92222849e-01, -1.85318381e+00,\n",
       "         3.81505750e-01],\n",
       "       [ 8.46689138e-01, -7.05992224e-01, -8.80461383e-02,\n",
       "        -2.57317041e-01],\n",
       "       [ 8.65261327e-01, -7.35412480e-01, -1.05148039e+00,\n",
       "         1.61086913e+00],\n",
       "       [ 8.83790273e-01, -7.36332868e-01, -1.42062061e-01,\n",
       "         2.50407580e-01],\n",
       "       [ 9.02276432e-01, -7.39094396e-01, -6.63828395e-01,\n",
       "         8.05689706e-01],\n",
       "       [ 9.20720252e-01, -7.40935720e-01, -1.41694467e+00,\n",
       "         2.08622125e-01],\n",
       "       [ 9.39122174e-01, -7.45540100e-01, -3.26336919e-01,\n",
       "        -3.45688020e-02],\n",
       "       [ 9.57482630e-01, -8.11088285e-01, -6.47831242e-01,\n",
       "         1.86804633e-03],\n",
       "       [ 9.75802043e-01, -8.26829299e-01, -1.52225942e-01,\n",
       "         1.14024915e+00],\n",
       "       [ 9.94080830e-01, -8.73231456e-01, -1.44489672e+00,\n",
       "        -3.50380623e-01],\n",
       "       [ 1.01231940e+00, -8.90905691e-01, -9.49447612e-01,\n",
       "        -1.50232117e+00],\n",
       "       [ 1.03051815e+00, -9.07670896e-01,  3.19152170e-01,\n",
       "        -1.17665883e+00],\n",
       "       [ 1.04867749e+00, -9.30990296e-01, -1.14814591e+00,\n",
       "         2.80826369e+00],\n",
       "       [ 1.06679779e+00, -9.40329304e-01, -1.84695267e+00,\n",
       "        -1.81236236e+00],\n",
       "       [ 1.08487944e+00, -9.45001227e-01, -1.80449214e+00,\n",
       "         8.61559089e-01],\n",
       "       [ 1.10292281e+00, -9.64640964e-01, -6.67266870e-02,\n",
       "         1.32997533e+00],\n",
       "       [ 1.12092827e+00, -9.82434931e-01, -5.81994130e-01,\n",
       "        -1.12814444e-01],\n",
       "       [ 1.13889618e+00, -1.01433566e+00,  3.26288494e-01,\n",
       "        -1.00463572e+00],\n",
       "       [ 1.15682690e+00, -1.03689962e+00, -1.03983067e+00,\n",
       "        -1.07798571e+00],\n",
       "       [ 1.17472077e+00, -1.14745015e+00, -1.22449240e+00,\n",
       "        -1.33977662e+00],\n",
       "       [ 1.19257815e+00, -1.18926532e+00, -6.77997354e-01,\n",
       "        -9.56117917e-01],\n",
       "       [ 1.21039936e+00, -1.22548617e+00,  3.19663609e-03,\n",
       "        -2.82432957e-01],\n",
       "       [ 1.22818475e+00, -1.23121445e+00, -1.27173740e+00,\n",
       "        -9.51104434e-01],\n",
       "       [ 1.24593464e+00, -1.26276518e+00, -9.00971465e-01,\n",
       "        -4.14377575e-01],\n",
       "       [ 1.26364934e+00, -1.28671844e+00,  4.56269293e-01,\n",
       "         5.77827850e-01],\n",
       "       [ 1.28132918e+00, -1.31263792e+00, -2.44730497e-01,\n",
       "        -9.24067923e-02],\n",
       "       [ 1.29897448e+00, -1.32032778e+00, -5.18061095e-01,\n",
       "        -1.63845742e+00],\n",
       "       [ 1.31658552e+00, -1.36945920e+00, -9.63088371e-01,\n",
       "        -2.26639803e-01],\n",
       "       [ 1.33416263e+00, -1.39457937e+00, -1.36105904e+00,\n",
       "         1.30375687e+00],\n",
       "       [ 1.35170609e+00, -1.43138285e+00, -1.35881442e-01,\n",
       "         9.43376877e-01],\n",
       "       [ 1.36921619e+00, -1.52874931e+00, -1.25848108e+00,\n",
       "        -4.83787279e-02],\n",
       "       [ 1.38669324e+00, -1.53168200e+00, -2.27629536e+00,\n",
       "         1.67879683e-01],\n",
       "       [ 1.40413750e+00, -1.54244107e+00, -9.99441385e-01,\n",
       "        -3.21985219e-01],\n",
       "       [ 1.42154926e+00, -1.55320943e+00, -1.70970221e+00,\n",
       "         5.47670304e-01],\n",
       "       [ 1.43892879e+00, -1.55418883e+00, -9.67656163e-01,\n",
       "        -1.54270826e-01],\n",
       "       [ 1.45627637e+00, -1.62097000e+00, -7.07255385e-01,\n",
       "        -1.16173898e-02],\n",
       "       [ 1.47359227e+00, -1.63279241e+00, -1.97037456e+00,\n",
       "         1.07764663e+00],\n",
       "       [ 1.49087673e+00, -1.74169857e+00, -9.59884960e-01,\n",
       "         6.53035591e-02],\n",
       "       [ 1.50813003e+00, -1.86665444e+00, -1.89664366e+00,\n",
       "        -3.34168819e-01],\n",
       "       [ 1.52535242e+00, -2.20718029e+00, -1.69066357e+00,\n",
       "         1.65933595e+00],\n",
       "       [ 1.54254416e+00, -2.31217750e+00, -1.79680304e+00,\n",
       "        -1.94829418e-01],\n",
       "       [ 1.55970548e+00, -2.38132668e+00, -2.16039658e+00,\n",
       "        -4.90414648e-01]])"
      ]
     },
     "execution_count": 43,
     "metadata": {},
     "output_type": "execute_result"
    }
   ],
   "source": [
    "x"
   ]
  },
  {
   "cell_type": "code",
   "execution_count": 44,
   "metadata": {},
   "outputs": [
    {
     "data": {
      "text/plain": [
       "array([[-2.06341393e+00,  1.85703444e+00,  1.66920633e+00,\n",
       "         6.22390514e-01],\n",
       "       [-2.00849761e+00,  1.83666843e+00,  2.01213244e+00,\n",
       "         1.48099498e+00],\n",
       "       [-1.95857395e+00,  1.81000179e+00,  1.73958573e+00,\n",
       "         9.27972764e-01],\n",
       "       [-1.91206206e+00,  1.80607695e+00,  1.55311811e+00,\n",
       "         9.64080261e-01],\n",
       "       [-1.86809991e+00,  1.73134406e+00,  1.50172605e+00,\n",
       "         1.59222419e+00],\n",
       "       [-1.82615075e+00,  1.71478264e+00,  1.47510960e+00,\n",
       "         1.27130120e-01],\n",
       "       [-1.78585120e+00,  1.69267718e+00,  1.24751108e+00,\n",
       "         1.68007190e+00],\n",
       "       [-1.74694050e+00,  1.68161432e+00,  1.29981977e+00,\n",
       "         1.06237761e+00],\n",
       "       [-1.70922335e+00,  1.61985388e+00,  1.48372286e+00,\n",
       "         1.67484595e+00],\n",
       "       [-1.67254860e+00,  1.61826749e+00,  1.42026859e+00,\n",
       "         1.47744045e+00],\n",
       "       [-1.63679617e+00,  1.61350748e+00,  9.28988367e-01,\n",
       "         8.64482885e-01],\n",
       "       [-1.60186859e+00,  1.57220101e+00,  1.00608333e+00,\n",
       "         3.04030189e-01],\n",
       "       [-1.56768538e+00,  1.55151197e+00,  1.34711124e+00,\n",
       "         8.58898427e-01],\n",
       "       [-1.53417905e+00,  1.54115845e+00, -4.83935036e-01,\n",
       "        -7.63598204e-01],\n",
       "       [-1.50129230e+00,  1.48690322e+00,  1.05778139e+00,\n",
       "         1.28944096e+00],\n",
       "       [-1.46897594e+00,  1.37789134e+00,  9.78251861e-01,\n",
       "        -7.09669095e-01],\n",
       "       [-1.43718733e+00,  1.34811642e+00,  9.05475140e-01,\n",
       "         5.01143775e-01],\n",
       "       [-1.40588920e+00,  1.34328328e+00,  1.79679169e+00,\n",
       "         1.59670097e+00],\n",
       "       [-1.37504872e+00,  1.34086621e+00,  1.27971558e+00,\n",
       "         3.25157086e-02],\n",
       "       [-1.34463680e+00,  1.31183524e+00,  4.20800347e-01,\n",
       "         3.77825984e-01],\n",
       "       [-1.31462746e+00,  1.28437263e+00,  1.27865652e+00,\n",
       "         1.87692119e+00],\n",
       "       [-1.28499743e+00,  1.27305188e+00,  2.12197634e-01,\n",
       "        -2.97707399e-02],\n",
       "       [-1.25572571e+00,  1.23823474e+00,  1.10786967e+00,\n",
       "        -1.77167070e+00],\n",
       "       [-1.22679329e+00,  1.22850583e+00, -6.26686061e-02,\n",
       "         7.23743245e-01],\n",
       "       [-1.19818290e+00,  1.21877143e+00,  7.91633557e-01,\n",
       "         2.17616005e-01],\n",
       "       [-1.16987876e+00,  1.18953526e+00,  1.36101718e+00,\n",
       "         5.14660250e-01],\n",
       "       [-1.14186643e+00,  1.12438749e+00,  4.14562012e-01,\n",
       "         8.77139309e-01],\n",
       "       [-1.11413262e+00,  1.07618162e+00,  1.97347857e-01,\n",
       "         8.24414211e-01],\n",
       "       [-1.08666510e+00,  1.04670071e+00,  1.13307664e+00,\n",
       "        -9.57486314e-01],\n",
       "       [-1.05945257e+00,  1.04588107e+00,  1.06409211e+00,\n",
       "        -1.05923227e+00],\n",
       "       [-1.03248453e+00,  9.89229558e-01,  8.34027782e-01,\n",
       "        -1.14967766e+00],\n",
       "       [-1.00575125e+00,  9.72773255e-01,  8.47313326e-01,\n",
       "         1.17712901e-01],\n",
       "       [-9.79243661e-01,  9.66186231e-01,  1.01891436e+00,\n",
       "        -3.20537534e-01],\n",
       "       [-9.52953302e-01,  9.48058605e-01,  1.15979078e+00,\n",
       "         2.11265933e+00],\n",
       "       [-9.26872259e-01,  9.11744529e-01,  2.21960672e-01,\n",
       "        -8.03772421e-01],\n",
       "       [-9.00993117e-01,  8.43857097e-01,  1.44789317e+00,\n",
       "        -3.37366582e-01],\n",
       "       [-8.75308919e-01,  8.21443188e-01,  1.37693726e+00,\n",
       "         1.86991578e+00],\n",
       "       [-8.49813121e-01,  8.18120033e-01,  1.86180683e-01,\n",
       "         2.94311028e-01],\n",
       "       [-8.24499562e-01,  8.15627228e-01,  6.21669402e-01,\n",
       "        -5.36490304e-01],\n",
       "       [-7.99362431e-01,  7.94007192e-01, -2.61605595e-01,\n",
       "        -4.59209955e-01],\n",
       "       [-7.74396239e-01,  7.09751802e-01,  7.12726929e-01,\n",
       "         7.74866773e-01],\n",
       "       [-7.49595793e-01,  6.77939466e-01, -4.09276329e-02,\n",
       "        -1.14896055e+00],\n",
       "       [-7.24956176e-01,  6.72072540e-01,  3.95618363e-02,\n",
       "         4.59848431e-01],\n",
       "       [-7.00472725e-01,  5.71166191e-01,  1.61211555e+00,\n",
       "         8.32948357e-02],\n",
       "       [-6.76141010e-01,  5.64416702e-01,  1.18832355e+00,\n",
       "        -4.69046247e-01],\n",
       "       [-6.51956824e-01,  5.57664388e-01,  1.11447273e+00,\n",
       "        -1.14740722e+00],\n",
       "       [-6.27916160e-01,  5.55131541e-01, -3.18345985e-01,\n",
       "        -3.05516089e-01],\n",
       "       [-6.04015202e-01,  5.47530611e-01, -1.51102828e-01,\n",
       "        -1.04872100e+00],\n",
       "       [-5.80250312e-01,  5.34854416e-01,  8.87020858e-01,\n",
       "        -4.22208641e-01],\n",
       "       [-5.56618016e-01,  5.24706262e-01,  7.87750765e-01,\n",
       "         8.20927173e-02],\n",
       "       [-5.33114996e-01,  4.75566156e-01, -2.35751915e-01,\n",
       "        -1.20282012e-01],\n",
       "       [-5.09738078e-01,  4.74717589e-01, -8.27822250e-02,\n",
       "        -8.26539348e-02],\n",
       "       [-4.86484226e-01,  4.65380371e-01,  1.39338598e+00,\n",
       "         9.34520403e-01],\n",
       "       [-4.63350529e-01,  4.45839425e-01,  4.04542591e-01,\n",
       "        -1.01549673e+00],\n",
       "       [-4.40334200e-01,  4.39887422e-01,  1.21068535e+00,\n",
       "         2.90447230e-01],\n",
       "       [-4.17432561e-01,  4.27125628e-01,  1.11635279e+00,\n",
       "        -2.23472735e+00],\n",
       "       [-3.94643045e-01,  4.22869420e-01,  5.00050790e-01,\n",
       "         4.84617094e-01],\n",
       "       [-3.71963184e-01,  4.19463632e-01, -2.51185387e-01,\n",
       "        -6.66213789e-01],\n",
       "       [-3.49390603e-01,  4.10093948e-01,  9.78362644e-01,\n",
       "        -1.10686849e+00],\n",
       "       [-3.26923020e-01,  3.91337960e-01,  1.24347768e+00,\n",
       "        -4.82538353e-01],\n",
       "       [-3.04558238e-01,  3.73413768e-01,  1.59025167e-01,\n",
       "         8.58033164e-01],\n",
       "       [-2.82294138e-01,  3.64016789e-01, -8.89926764e-01,\n",
       "        -1.82670363e+00],\n",
       "       [-2.60128680e-01,  3.59743586e-01,  3.86174419e-01,\n",
       "        -3.30780349e-01],\n",
       "       [-2.38059896e-01,  3.27229327e-01,  9.96565822e-01,\n",
       "        -2.62020662e+00],\n",
       "       [-2.16085886e-01,  3.21232525e-01,  5.45962058e-01,\n",
       "        -5.75866920e-02],\n",
       "       [-1.94204817e-01,  3.09232049e-01,  1.58342025e-01,\n",
       "         3.57469929e-01],\n",
       "       [-1.72414916e-01,  3.04086178e-01, -5.62155050e-01,\n",
       "         6.90961490e-01],\n",
       "       [-1.50714472e-01,  2.31865695e-01,  1.93299874e-01,\n",
       "        -1.50660618e+00],\n",
       "       [-1.29101828e-01,  2.18071404e-01, -8.39707814e-01,\n",
       "         5.21844417e-01],\n",
       "       [-1.07575383e-01,  1.82667476e-01,  9.44087695e-01,\n",
       "        -4.60412992e-01],\n",
       "       [-8.61335858e-02,  1.21165785e-01, -2.08087311e-01,\n",
       "         1.15232870e+00],\n",
       "       [-6.47749344e-02,  1.18561706e-01,  1.04552971e-01,\n",
       "         1.25374671e+00],\n",
       "       [-4.34979741e-02,  7.94473833e-02,  9.50856848e-01,\n",
       "        -1.39653533e+00],\n",
       "       [-2.23012947e-02,  5.33155098e-02,  2.36583490e-01,\n",
       "         1.86037710e+00],\n",
       "       [-1.18352902e-03,  1.92769663e-02, -4.92293312e-01,\n",
       "        -4.72364368e-01],\n",
       "       [ 1.98566495e-02, -5.20807084e-03, -3.63021621e-01,\n",
       "        -9.66506532e-01],\n",
       "       [ 4.08205281e-02, -4.55196635e-02,  5.46615870e-01,\n",
       "         6.47720048e-01],\n",
       "       [ 6.17093565e-02, -6.13231227e-02, -5.21586040e-01,\n",
       "         4.40256663e-01],\n",
       "       [ 8.25243482e-02, -7.45053590e-02,  3.15873877e-01,\n",
       "         1.69857521e+00],\n",
       "       [ 1.03266682e-01, -1.10595970e-01, -3.95414489e-01,\n",
       "        -1.50959517e+00],\n",
       "       [ 1.23937505e-01, -1.26468144e-01, -1.79979799e+00,\n",
       "         8.97427724e-01],\n",
       "       [ 1.44537931e-01, -1.28232760e-01,  8.54918989e-02,\n",
       "        -1.10604046e+00],\n",
       "       [ 1.44537931e-01, -1.28232760e-01, -5.16995363e-01,\n",
       "        -5.45507293e-01],\n",
       "       [ 1.85531895e-01, -1.74186236e-01, -3.61351673e-01,\n",
       "        -1.45969916e+00],\n",
       "       [ 2.05927514e-01, -1.83925382e-01, -4.77938606e-01,\n",
       "        -2.07519093e-01],\n",
       "       [ 2.26256899e-01, -1.88354381e-01, -5.88406976e-01,\n",
       "        -7.99166433e-01],\n",
       "       [ 2.46521022e-01, -1.89240339e-01, -1.06656986e-01,\n",
       "        -2.41331720e-01],\n",
       "       [ 2.66720831e-01, -2.07857712e-01,  4.87685168e-01,\n",
       "        -8.02346180e-01],\n",
       "       [ 2.86857249e-01, -2.11406534e-01,  2.76515780e-01,\n",
       "        -3.37463528e-01],\n",
       "       [ 3.06931176e-01, -2.33606000e-01,  2.76083305e-03,\n",
       "         2.63187254e-01],\n",
       "       [ 3.26943491e-01, -2.47831205e-01, -3.42762791e-01,\n",
       "         1.80606784e+00],\n",
       "       [ 3.46895048e-01, -2.87021590e-01, -1.32749239e+00,\n",
       "        -1.59186459e+00],\n",
       "       [ 3.66786682e-01, -2.92373850e-01, -1.37385924e-01,\n",
       "         4.20034366e-02],\n",
       "       [ 3.86619208e-01, -3.24528582e-01, -3.58042704e-02,\n",
       "         3.41714670e-02],\n",
       "       [ 4.06393422e-01, -3.35262575e-01, -8.64225050e-01,\n",
       "        -7.42152596e-01],\n",
       "       [ 4.26110098e-01, -3.44213612e-01, -4.66580555e-01,\n",
       "         2.48286269e-01],\n",
       "       [ 4.45769997e-01, -3.89949822e-01,  2.84364350e-02,\n",
       "        -5.20151241e-01],\n",
       "       [ 4.65373856e-01, -4.01631181e-01,  6.52910227e-01,\n",
       "        -1.71858827e-02],\n",
       "       [ 4.84922401e-01, -4.09723806e-01, -1.06598954e+00,\n",
       "         1.40467218e+00],\n",
       "       [ 5.04416339e-01, -4.11522783e-01,  1.36837280e+00,\n",
       "         8.68332293e-01],\n",
       "       [ 5.23856359e-01, -4.17820968e-01,  1.70932346e-01,\n",
       "        -3.34265679e-01],\n",
       "       [ 5.43243137e-01, -4.26823146e-01, -4.28243693e-01,\n",
       "        -2.65294482e+00],\n",
       "       [ 5.62577335e-01, -4.43041249e-01, -8.78001578e-01,\n",
       "        -2.18074300e-03],\n",
       "       [ 5.81859599e-01, -4.78243359e-01,  8.11097612e-01,\n",
       "        -9.04461035e-01],\n",
       "       [ 6.01090560e-01, -4.89092184e-01, -3.35090435e-01,\n",
       "         9.95663494e-02],\n",
       "       [ 6.20270837e-01, -4.90901121e-01, -6.94420535e-01,\n",
       "         9.50354858e-02],\n",
       "       [ 6.39401036e-01, -5.33477237e-01, -1.41640316e+00,\n",
       "        -1.69108520e+00],\n",
       "       [ 6.58481748e-01, -5.55267417e-01, -4.42440738e-01,\n",
       "        -1.08268746e+00],\n",
       "       [ 6.77513556e-01, -5.74361302e-01, -1.77055161e+00,\n",
       "        -5.83029142e-02],\n",
       "       [ 6.96497026e-01, -5.81641937e-01, -1.55060729e+00,\n",
       "         1.17265238e+00],\n",
       "       [ 7.15432715e-01, -5.86194237e-01,  8.14465620e-01,\n",
       "        -6.35307894e-01],\n",
       "       [ 7.34321169e-01, -5.89837132e-01, -8.17301639e-01,\n",
       "        -3.67056389e-01],\n",
       "       [ 7.53162921e-01, -6.21752629e-01,  7.18690879e-01,\n",
       "        -9.98639948e-01],\n",
       "       [ 7.71958497e-01, -6.29971167e-01, -1.22818170e+00,\n",
       "         1.04688150e-01],\n",
       "       [ 7.90708408e-01, -6.50995955e-01, -7.68182991e-03,\n",
       "        -2.64434242e-01],\n",
       "       [ 8.09413157e-01, -6.86718902e-01, -9.10523392e-01,\n",
       "         2.11677901e-01],\n",
       "       [ 8.28073240e-01, -6.92222849e-01, -1.85318381e+00,\n",
       "         3.81505750e-01],\n",
       "       [ 8.46689138e-01, -7.05992224e-01, -8.80461383e-02,\n",
       "        -2.57317041e-01],\n",
       "       [ 8.65261327e-01, -7.35412480e-01, -1.05148039e+00,\n",
       "         1.61086913e+00],\n",
       "       [ 8.83790273e-01, -7.36332868e-01, -1.42062061e-01,\n",
       "         2.50407580e-01],\n",
       "       [ 9.02276432e-01, -7.39094396e-01, -6.63828395e-01,\n",
       "         8.05689706e-01],\n",
       "       [ 9.20720252e-01, -7.40935720e-01, -1.41694467e+00,\n",
       "         2.08622125e-01],\n",
       "       [ 9.39122174e-01, -7.45540100e-01, -3.26336919e-01,\n",
       "        -3.45688020e-02],\n",
       "       [ 9.57482630e-01, -8.11088285e-01, -6.47831242e-01,\n",
       "         1.86804633e-03],\n",
       "       [ 9.75802043e-01, -8.26829299e-01, -1.52225942e-01,\n",
       "         1.14024915e+00],\n",
       "       [ 9.94080830e-01, -8.73231456e-01, -1.44489672e+00,\n",
       "        -3.50380623e-01],\n",
       "       [ 1.01231940e+00, -8.90905691e-01, -9.49447612e-01,\n",
       "        -1.50232117e+00],\n",
       "       [ 1.03051815e+00, -9.07670896e-01,  3.19152170e-01,\n",
       "        -1.17665883e+00],\n",
       "       [ 1.04867749e+00, -9.30990296e-01, -1.14814591e+00,\n",
       "         2.80826369e+00],\n",
       "       [ 1.06679779e+00, -9.40329304e-01, -1.84695267e+00,\n",
       "        -1.81236236e+00],\n",
       "       [ 1.08487944e+00, -9.45001227e-01, -1.80449214e+00,\n",
       "         8.61559089e-01],\n",
       "       [ 1.10292281e+00, -9.64640964e-01, -6.67266870e-02,\n",
       "         1.32997533e+00],\n",
       "       [ 1.12092827e+00, -9.82434931e-01, -5.81994130e-01,\n",
       "        -1.12814444e-01],\n",
       "       [ 1.13889618e+00, -1.01433566e+00,  3.26288494e-01,\n",
       "        -1.00463572e+00],\n",
       "       [ 1.15682690e+00, -1.03689962e+00, -1.03983067e+00,\n",
       "        -1.07798571e+00],\n",
       "       [ 1.17472077e+00, -1.14745015e+00, -1.22449240e+00,\n",
       "        -1.33977662e+00],\n",
       "       [ 1.19257815e+00, -1.18926532e+00, -6.77997354e-01,\n",
       "        -9.56117917e-01],\n",
       "       [ 1.21039936e+00, -1.22548617e+00,  3.19663609e-03,\n",
       "        -2.82432957e-01],\n",
       "       [ 1.22818475e+00, -1.23121445e+00, -1.27173740e+00,\n",
       "        -9.51104434e-01],\n",
       "       [ 1.24593464e+00, -1.26276518e+00, -9.00971465e-01,\n",
       "        -4.14377575e-01],\n",
       "       [ 1.26364934e+00, -1.28671844e+00,  4.56269293e-01,\n",
       "         5.77827850e-01],\n",
       "       [ 1.28132918e+00, -1.31263792e+00, -2.44730497e-01,\n",
       "        -9.24067923e-02],\n",
       "       [ 1.29897448e+00, -1.32032778e+00, -5.18061095e-01,\n",
       "        -1.63845742e+00],\n",
       "       [ 1.31658552e+00, -1.36945920e+00, -9.63088371e-01,\n",
       "        -2.26639803e-01],\n",
       "       [ 1.33416263e+00, -1.39457937e+00, -1.36105904e+00,\n",
       "         1.30375687e+00],\n",
       "       [ 1.35170609e+00, -1.43138285e+00, -1.35881442e-01,\n",
       "         9.43376877e-01],\n",
       "       [ 1.36921619e+00, -1.52874931e+00, -1.25848108e+00,\n",
       "        -4.83787279e-02],\n",
       "       [ 1.38669324e+00, -1.53168200e+00, -2.27629536e+00,\n",
       "         1.67879683e-01],\n",
       "       [ 1.40413750e+00, -1.54244107e+00, -9.99441385e-01,\n",
       "        -3.21985219e-01],\n",
       "       [ 1.42154926e+00, -1.55320943e+00, -1.70970221e+00,\n",
       "         5.47670304e-01],\n",
       "       [ 1.43892879e+00, -1.55418883e+00, -9.67656163e-01,\n",
       "        -1.54270826e-01],\n",
       "       [ 1.45627637e+00, -1.62097000e+00, -7.07255385e-01,\n",
       "        -1.16173898e-02],\n",
       "       [ 1.47359227e+00, -1.63279241e+00, -1.97037456e+00,\n",
       "         1.07764663e+00],\n",
       "       [ 1.49087673e+00, -1.74169857e+00, -9.59884960e-01,\n",
       "         6.53035591e-02],\n",
       "       [ 1.50813003e+00, -1.86665444e+00, -1.89664366e+00,\n",
       "        -3.34168819e-01],\n",
       "       [ 1.52535242e+00, -2.20718029e+00, -1.69066357e+00,\n",
       "         1.65933595e+00],\n",
       "       [ 1.54254416e+00, -2.31217750e+00, -1.79680304e+00,\n",
       "        -1.94829418e-01],\n",
       "       [ 1.55970548e+00, -2.38132668e+00, -2.16039658e+00,\n",
       "        -4.90414648e-01]])"
      ]
     },
     "execution_count": 44,
     "metadata": {},
     "output_type": "execute_result"
    }
   ],
   "source": [
    "from sklearn.preprocessing import StandardScaler\n",
    "sc=StandardScaler()\n",
    "x=sc.fit_transform(x)\n",
    "x"
   ]
  },
  {
   "cell_type": "markdown",
   "metadata": {},
   "source": [
    "# Splitting the dataframe "
   ]
  },
  {
   "cell_type": "code",
   "execution_count": 54,
   "metadata": {},
   "outputs": [],
   "source": [
    "from sklearn.model_selection import train_test_split\n",
    "x_train,x_test,y_train,y_test=train_test_split(x,y,test_size=0.3,random_state=0)"
   ]
  },
  {
   "cell_type": "code",
   "execution_count": 55,
   "metadata": {},
   "outputs": [
    {
     "data": {
      "text/plain": [
       "LinearRegression()"
      ]
     },
     "execution_count": 55,
     "metadata": {},
     "output_type": "execute_result"
    }
   ],
   "source": [
    "from sklearn.linear_model import LinearRegression\n",
    "ln=LinearRegression()\n",
    "ln.fit(x_train,y_train)"
   ]
  },
  {
   "cell_type": "code",
   "execution_count": 56,
   "metadata": {},
   "outputs": [
    {
     "name": "stdout",
     "output_type": "stream",
     "text": [
      "[[ 2.71347414e+00  7.32360488e+00  1.30209116e+00  3.72987286e-01]\n",
      " [ 5.00348316e+01  6.04224391e+00  1.28133936e+00  1.72542726e-01]\n",
      " [ 1.12607663e+02  4.62439914e+00  7.07760535e-01  2.56932163e-01]\n",
      " [ 1.19301674e+02  4.49988580e+00  8.56120896e-01  3.46025288e-01]\n",
      " [ 6.40122735e+01  5.70337794e+00  1.30096470e+00 -1.00900988e-01]\n",
      " [ 1.19429368e+02  4.47690985e+00  9.60267561e-01  2.37143097e-01]\n",
      " [ 1.18935345e+02  4.48967833e+00  6.66943720e-01  2.71502609e-01]\n",
      " [ 1.35883406e+02  3.93277379e+00  7.63221096e-01  1.84446591e-01]\n",
      " [ 1.10990462e+02  4.69659523e+00  6.06099429e-01  3.95319328e-01]\n",
      " [ 9.52595216e+01  5.02434906e+00  9.77571140e-01  2.44802708e-01]\n",
      " [ 2.51804958e+01  6.76654096e+00  1.19939198e+00  2.66360954e-01]\n",
      " [ 1.38272739e+02  3.88093456e+00  9.30141531e-01  2.23682227e-01]\n",
      " [ 2.91524265e+01  6.67436420e+00  1.08511402e+00  3.51676359e-01]\n",
      " [ 6.59441299e+01  5.79459583e+00  1.04330569e+00  3.50402237e-01]\n",
      " [ 8.62187053e+01  5.24345935e+00  5.11430234e-01  3.58891032e-01]\n",
      " [ 9.99678611e+01  4.89989042e+00  1.18457090e+00  2.34390962e-01]\n",
      " [ 1.23503686e+02  4.25640049e+00  5.59778023e-01  1.03185319e-02]\n",
      " [ 1.02347016e+02  4.90407453e+00  7.21127281e-01  4.23326698e-01]\n",
      " [ 1.36741728e+02  3.85602497e+00  8.74512393e-01  2.50399382e-02]\n",
      " [ 6.19855821e+01  5.85684648e+00  1.12637288e+00  3.00408804e-01]\n",
      " [ 4.99273432e+01  6.02424531e+00  1.27231988e+00  8.55152338e-02]\n",
      " [ 3.94144782e+01  6.47958679e+00  1.27461094e+00  5.08953967e-01]\n",
      " [ 6.33315168e+01  5.80187981e+00  1.34031766e+00  1.74010826e-01]\n",
      " [ 5.66681700e+00  7.26396975e+00  1.33949355e+00  4.50915364e-01]\n",
      " [ 4.64992381e+01  6.20962849e+00  1.15540056e+00  3.35837847e-01]\n",
      " [ 4.18180223e+01  6.32230706e+00  1.02834763e+00  2.76232777e-01]\n",
      " [ 9.88965617e+01  4.83617917e+00  9.36302869e-01 -1.01709753e-01]\n",
      " [ 1.94530386e+01  6.88793875e+00  1.08646056e+00  2.87201401e-01]\n",
      " [ 1.42839823e+02  3.80896821e+00  6.16319487e-01  4.06526964e-01]\n",
      " [ 1.08556339e+02  4.69679335e+00  5.56290977e-01  2.36781758e-01]\n",
      " [ 5.67876811e+01  5.92711892e+00  9.61899677e-01  2.27653742e-01]\n",
      " [ 6.01869434e+01  5.88010200e+00  1.30844490e+00  2.72656660e-01]\n",
      " [ 1.63260912e+01  6.94315843e+00  1.19915478e+00  3.00575192e-01]\n",
      " [ 1.27835636e+02  4.27237632e+00  5.50120642e-01  3.55759359e-01]\n",
      " [ 1.28861968e+02  4.15274606e+00  7.64984352e-01  1.02443001e-01]\n",
      " [ 2.04269331e+01  6.77903647e+00  1.29132894e+00  7.77565536e-03]\n",
      " [ 9.63522881e+01  4.99023775e+00  1.00158648e+00  2.43172902e-01]\n",
      " [ 7.06748093e+01  5.70001746e+00  8.70411846e-01  3.32156771e-01]\n",
      " [ 1.10731406e+02  4.62266880e+00  1.22867826e+00  1.08471725e-01]\n",
      " [ 9.58967490e+01  4.97014576e+00  7.92353926e-01  1.45550812e-01]\n",
      " [ 3.06060659e+01  6.62399161e+00  1.02352078e+00  3.44995087e-01]\n",
      " [ 1.10277712e+02  4.66465222e+00  8.20808490e-01  1.94920488e-01]\n",
      " [ 1.09564680e+02  4.66705163e+00  1.24992499e+00  1.55125656e-01]\n",
      " [ 8.81530295e+01  5.14518509e+00  8.56635504e-01  1.36942553e-01]\n",
      " [ 1.77648771e+01  6.91676658e+00  1.31566488e+00  2.40085760e-01]\n",
      " [ 6.59099824e+01  5.76025825e+00  1.12162514e+00  1.96831425e-01]\n",
      " [ 3.17871567e+01  6.50643711e+00  1.20851182e+00  8.79132157e-02]\n",
      " [ 7.76263052e+01  5.51027353e+00  1.02306944e+00  4.00881912e-01]]\n"
     ]
    }
   ],
   "source": [
    "y_pred=ln.predict(x_test)\n",
    "print(y_pred)"
   ]
  },
  {
   "cell_type": "code",
   "execution_count": 57,
   "metadata": {},
   "outputs": [
    {
     "data": {
      "text/plain": [
       "0.9722686957248489"
      ]
     },
     "execution_count": 57,
     "metadata": {},
     "output_type": "execute_result"
    }
   ],
   "source": [
    "#Evaluate model\n",
    "from sklearn.metrics import r2_score\n",
    "r2_score(y_test,y_pred)"
   ]
  },
  {
   "cell_type": "code",
   "execution_count": 62,
   "metadata": {},
   "outputs": [
    {
     "name": "stdout",
     "output_type": "stream",
     "text": [
      "Coefficients: \n",
      " [[ 3.08827943e+01 -1.48230957e+01  2.93656344e-01  1.22557202e+00]\n",
      " [-2.37660375e-01  9.05926497e-01 -8.04032909e-04  7.94448744e-03]\n",
      " [ 2.35205642e-01  2.31825284e-01  2.63050648e-01 -8.45160511e-03]\n",
      " [ 1.56224078e-02  1.65344827e-02 -1.08474772e-03  1.27205636e-01]]\n"
     ]
    }
   ],
   "source": [
    "print('Coefficients: \\n', ln.coef_)"
   ]
  },
  {
   "cell_type": "code",
   "execution_count": 69,
   "metadata": {},
   "outputs": [],
   "source": [
    "predictions = ln.predict(x_test)"
   ]
  },
  {
   "cell_type": "code",
   "execution_count": 86,
   "metadata": {},
   "outputs": [
    {
     "data": {
      "text/plain": [
       "Text(0, 0.5, 'Predicted')"
      ]
     },
     "execution_count": 86,
     "metadata": {},
     "output_type": "execute_result"
    },
    {
     "data": {
      "image/png": "[encoded data removed]",
      "text/plain": [
       "<Figure size 432x288 with 1 Axes>"
      ]
     },
     "metadata": {
      "needs_background": "light"
     },
     "output_type": "display_data"
    }
   ],
   "source": [
    "plt.scatter(y_test,predictions)\n",
    "plt.xlabel('Test')\n",
    "plt.ylabel('Predicted')"
   ]
  },
  {
   "cell_type": "code",
   "execution_count": 90,
   "metadata": {},
   "outputs": [
    {
     "data": {
      "text/html": [
       "<div>\n",
       "<style scoped>\n",
       "    .dataframe tbody tr th:only-of-type {\n",
       "        vertical-align: middle;\n",
       "    }\n",
       "\n",
       "    .dataframe tbody tr th {\n",
       "        vertical-align: top;\n",
       "    }\n",
       "\n",
       "    .dataframe thead th {\n",
       "        text-align: right;\n",
       "    }\n",
       "</style>\n",
       "<table border=\"1\" class=\"dataframe\">\n",
       "  <thead>\n",
       "    <tr style=\"text-align: right;\">\n",
       "      <th></th>\n",
       "      <th>Happiness Score</th>\n",
       "    </tr>\n",
       "    <tr>\n",
       "      <th>Region</th>\n",
       "      <th></th>\n",
       "    </tr>\n",
       "  </thead>\n",
       "  <tbody>\n",
       "    <tr>\n",
       "      <th>Australia and New Zealand</th>\n",
       "      <td>7.285000</td>\n",
       "    </tr>\n",
       "    <tr>\n",
       "      <th>Central and Eastern Europe</th>\n",
       "      <td>5.332931</td>\n",
       "    </tr>\n",
       "    <tr>\n",
       "      <th>Eastern Asia</th>\n",
       "      <td>5.626167</td>\n",
       "    </tr>\n",
       "    <tr>\n",
       "      <th>Latin America and Caribbean</th>\n",
       "      <td>6.144682</td>\n",
       "    </tr>\n",
       "    <tr>\n",
       "      <th>Middle East and Northern Africa</th>\n",
       "      <td>5.406900</td>\n",
       "    </tr>\n",
       "    <tr>\n",
       "      <th>North America</th>\n",
       "      <td>7.273000</td>\n",
       "    </tr>\n",
       "    <tr>\n",
       "      <th>Southeastern Asia</th>\n",
       "      <td>5.317444</td>\n",
       "    </tr>\n",
       "    <tr>\n",
       "      <th>Southern Asia</th>\n",
       "      <td>4.580857</td>\n",
       "    </tr>\n",
       "    <tr>\n",
       "      <th>Sub-Saharan Africa</th>\n",
       "      <td>4.202800</td>\n",
       "    </tr>\n",
       "    <tr>\n",
       "      <th>Western Europe</th>\n",
       "      <td>6.689619</td>\n",
       "    </tr>\n",
       "  </tbody>\n",
       "</table>\n",
       "</div>"
      ],
      "text/plain": [
       "                                 Happiness Score\n",
       "Region                                          \n",
       "Australia and New Zealand               7.285000\n",
       "Central and Eastern Europe              5.332931\n",
       "Eastern Asia                            5.626167\n",
       "Latin America and Caribbean             6.144682\n",
       "Middle East and Northern Africa         5.406900\n",
       "North America                           7.273000\n",
       "Southeastern Asia                       5.317444\n",
       "Southern Asia                           4.580857\n",
       "Sub-Saharan Africa                      4.202800\n",
       "Western Europe                          6.689619"
      ]
     },
     "execution_count": 90,
     "metadata": {},
     "output_type": "execute_result"
    }
   ],
   "source": [
    "df.groupby('Region')[['Happiness Score']].mean()"
   ]
  },
  {
   "cell_type": "code",
   "execution_count": 91,
   "metadata": {},
   "outputs": [
    {
     "data": {
      "text/html": [
       "<div>\n",
       "<style scoped>\n",
       "    .dataframe tbody tr th:only-of-type {\n",
       "        vertical-align: middle;\n",
       "    }\n",
       "\n",
       "    .dataframe tbody tr th {\n",
       "        vertical-align: top;\n",
       "    }\n",
       "\n",
       "    .dataframe thead th {\n",
       "        text-align: right;\n",
       "    }\n",
       "</style>\n",
       "<table border=\"1\" class=\"dataframe\">\n",
       "  <thead>\n",
       "    <tr style=\"text-align: right;\">\n",
       "      <th></th>\n",
       "      <th>Happiness Score</th>\n",
       "    </tr>\n",
       "    <tr>\n",
       "      <th>Country</th>\n",
       "      <th></th>\n",
       "    </tr>\n",
       "  </thead>\n",
       "  <tbody>\n",
       "    <tr>\n",
       "      <th>Afghanistan</th>\n",
       "      <td>3.575</td>\n",
       "    </tr>\n",
       "    <tr>\n",
       "      <th>Albania</th>\n",
       "      <td>4.959</td>\n",
       "    </tr>\n",
       "    <tr>\n",
       "      <th>Algeria</th>\n",
       "      <td>5.605</td>\n",
       "    </tr>\n",
       "    <tr>\n",
       "      <th>Angola</th>\n",
       "      <td>4.033</td>\n",
       "    </tr>\n",
       "    <tr>\n",
       "      <th>Argentina</th>\n",
       "      <td>6.574</td>\n",
       "    </tr>\n",
       "    <tr>\n",
       "      <th>...</th>\n",
       "      <td>...</td>\n",
       "    </tr>\n",
       "    <tr>\n",
       "      <th>Venezuela</th>\n",
       "      <td>6.810</td>\n",
       "    </tr>\n",
       "    <tr>\n",
       "      <th>Vietnam</th>\n",
       "      <td>5.360</td>\n",
       "    </tr>\n",
       "    <tr>\n",
       "      <th>Yemen</th>\n",
       "      <td>4.077</td>\n",
       "    </tr>\n",
       "    <tr>\n",
       "      <th>Zambia</th>\n",
       "      <td>5.129</td>\n",
       "    </tr>\n",
       "    <tr>\n",
       "      <th>Zimbabwe</th>\n",
       "      <td>4.610</td>\n",
       "    </tr>\n",
       "  </tbody>\n",
       "</table>\n",
       "<p>158 rows × 1 columns</p>\n",
       "</div>"
      ],
      "text/plain": [
       "             Happiness Score\n",
       "Country                     \n",
       "Afghanistan            3.575\n",
       "Albania                4.959\n",
       "Algeria                5.605\n",
       "Angola                 4.033\n",
       "Argentina              6.574\n",
       "...                      ...\n",
       "Venezuela              6.810\n",
       "Vietnam                5.360\n",
       "Yemen                  4.077\n",
       "Zambia                 5.129\n",
       "Zimbabwe               4.610\n",
       "\n",
       "[158 rows x 1 columns]"
      ]
     },
     "execution_count": 91,
     "metadata": {},
     "output_type": "execute_result"
    }
   ],
   "source": [
    "df.groupby('Country')[['Happiness Score']].mean()"
   ]
  },
  {
   "cell_type": "markdown",
   "metadata": {},
   "source": [
    "# Model Saving :"
   ]
  },
  {
   "cell_type": "code",
   "execution_count": 98,
   "metadata": {},
   "outputs": [],
   "source": [
    "import pickle\n",
    "filename = 'World Happiness Score.pkl'\n",
    "pickle.dump(ln, open(filename, 'wb'))"
   ]
  }
 ],
 "metadata": {
  "kernelspec": {
   "display_name": "Python 3",
   "language": "python",
   "name": "python3"
  },
  "language_info": {
   "codemirror_mode": {
    "name": "ipython",
    "version": 3
   },
   "file_extension": ".py",
   "mimetype": "text/x-python",
   "name": "python",
   "nbconvert_exporter": "python",
   "pygments_lexer": "ipython3",
   "version": "3.8.5"
  }
 },
 "nbformat": 4,
 "nbformat_minor": 4
}
